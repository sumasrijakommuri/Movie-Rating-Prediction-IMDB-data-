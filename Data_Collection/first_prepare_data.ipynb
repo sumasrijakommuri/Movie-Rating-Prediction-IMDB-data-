{
 "cells": [
  {
   "cell_type": "code",
   "execution_count": 5,
   "metadata": {
    "collapsed": false
   },
   "outputs": [
    {
     "name": "stdout",
     "output_type": "stream",
     "text": [
      "Mighty Aphrodite Mighty Aphrodite [u'Comedy', u'Fantasy', u'Romance'] [u'English'] 1995\n"
     ]
    }
   ],
   "source": [
    "from imdb import IMDb\n",
    "#ia = IMDb()\n",
    "ia = IMDb(accessSystem='http')\n",
    "file_name = 'movies.list'\n",
    "movie_names = []\n",
    "delim = '('\n",
    "other_delim = ')'\n",
    "required_kind = 'movie'\n",
    "start = 1990\n",
    "end = 2015\n",
    "language = 'english'\n",
    "braces = '{'\n",
    "tv = '(TV)'\n",
    "video = '(V)'\n",
    "slash = '/'\n",
    "question = '?'\n",
    "hyphen = '-'\n",
    "\n",
    "movie = ia.get_movie('0113819')\n",
    "\n",
    "print movie,movie['canonical title'],movie['genres'],movie['languages'],movie['year']\n",
    "def is_valid(line):\n",
    "    if braces not in line and tv not in line and video not in line and slash not in line and question not in line and hyphen not in line:\n",
    "        return True\n",
    "    else:\n",
    "        return False\n",
    "\n",
    "def get_movie_names(file_name):\n",
    "    movie_names = []\n",
    "    fp = open(file_name,'r')    \n",
    "    for line in fp.readlines():\n",
    "        if is_valid(line):\n",
    "            pos = line.find(delim)\n",
    "            if pos!=-1:\n",
    "                name = line[:pos]\n",
    "                name = name.replace('\"','')\n",
    "                pos2 = line.find(other_delim)\n",
    "                if pos2>pos:\n",
    "                    try:\n",
    "                        year = int(line[pos+1:pos2])\n",
    "                    except:\n",
    "                        pass\n",
    "                    if year >= start and year <=end:\n",
    "                        if name not in movie_names:\n",
    "                            movie_names.append(name)\n",
    "    fp.close()\n",
    "    print 'Done reading the list file',len(movie_names)\n",
    "    return movie_names"
   ]
  },
  {
   "cell_type": "code",
   "execution_count": 2,
   "metadata": {
    "collapsed": false
   },
   "outputs": [],
   "source": [
    "def get_movie_ids(movie_names):\n",
    "    movie_ids = []\n",
    "    cnt = 0\n",
    "    for name in movie_names:\n",
    "        try:\n",
    "            movies = ia.search_movie(name)\n",
    "        except:\n",
    "            pass\n",
    "        for movie in movies:\n",
    "            cnt +=1\n",
    "            movie_id = movie.getID()\n",
    "            movie_year = movie.get('year')\n",
    "            movie_kind = movie.get('kind')\n",
    "            if movie_kind == required_kind and movie_year >= start and movie_year <= end:\n",
    "                movie_ids.append(movie_id)\n",
    "    print 'Done collecting movie_ids ',len(movie_ids)\n",
    "    return movie_ids"
   ]
  },
  {
   "cell_type": "code",
   "execution_count": null,
   "metadata": {
    "collapsed": false
   },
   "outputs": [],
   "source": [
    "print 'Calling'\n",
    "movie_names = get_movie_names(file_name)"
   ]
  },
  {
   "cell_type": "code",
   "execution_count": null,
   "metadata": {
    "collapsed": false
   },
   "outputs": [],
   "source": [
    "movie_ids = get_movie_ids(movie_names)"
   ]
  },
  {
   "cell_type": "code",
   "execution_count": 44,
   "metadata": {
    "collapsed": true
   },
   "outputs": [],
   "source": [
    "ID = ia.get_movie('0435705')"
   ]
  },
  {
   "cell_type": "code",
   "execution_count": 45,
   "metadata": {
    "collapsed": false
   },
   "outputs": [
    {
     "name": "stdout",
     "output_type": "stream",
     "text": [
      "Next\n"
     ]
    }
   ],
   "source": [
    "print ID"
   ]
  },
  {
   "cell_type": "code",
   "execution_count": 46,
   "metadata": {
    "collapsed": false
   },
   "outputs": [
    {
     "name": "stdout",
     "output_type": "stream",
     "text": [
      "<class 'imdb.Movie.Movie'>\n"
     ]
    }
   ],
   "source": [
    "print type(ID)"
   ]
  },
  {
   "cell_type": "code",
   "execution_count": 47,
   "metadata": {
    "collapsed": false
   },
   "outputs": [
    {
     "name": "stdout",
     "output_type": "stream",
     "text": [
      "[u'music department', 'sound crew', 'camera and electrical department', u'distributors', 'rating', 'runtimes', 'costume designer', 'make up', 'year', 'production design', 'miscellaneous crew', 'color info', u'casting department', 'languages', 'votes', 'producer', 'title', 'mpaa', 'assistant director', 'writer', 'casting director', 'visual effects', 'production manager', 'set decoration', 'editor', 'certificates', u'costume department', 'country codes', 'language codes', 'cover url', u'special effects department', 'special effects companies', 'sound mix', 'genres', u'production companies', 'stunt performer', 'miscellaneous companies', 'cinematographer', 'art direction', 'akas', 'aspect ratio', 'director', 'kind', u'art department', 'countries', u'transportation department', 'plot outline', 'plot', 'cast', 'original music', u'editorial department', 'canonical title', 'long imdb title', 'long imdb canonical title', 'smart canonical title', 'smart long imdb canonical title', 'full-size cover url']\n"
     ]
    }
   ],
   "source": [
    "print ID.keys()"
   ]
  },
  {
   "cell_type": "code",
   "execution_count": 48,
   "metadata": {
    "collapsed": false
   },
   "outputs": [
    {
     "name": "stdout",
     "output_type": "stream",
     "text": [
      "2007\n"
     ]
    }
   ],
   "source": [
    "print ID['year']"
   ]
  },
  {
   "cell_type": "code",
   "execution_count": 49,
   "metadata": {
    "collapsed": false
   },
   "outputs": [
    {
     "name": "stdout",
     "output_type": "stream",
     "text": [
      "6.2\n"
     ]
    }
   ],
   "source": [
    "print ID['rating']"
   ]
  },
  {
   "cell_type": "code",
   "execution_count": null,
   "metadata": {
    "collapsed": false
   },
   "outputs": [],
   "source": [
    "print ID['languages']"
   ]
  },
  {
   "cell_type": "code",
   "execution_count": null,
   "metadata": {
    "collapsed": true
   },
   "outputs": [],
   "source": []
  }
 ],
 "metadata": {
  "kernelspec": {
   "display_name": "Python 2",
   "language": "python",
   "name": "python2"
  },
  "language_info": {
   "codemirror_mode": {
    "name": "ipython",
    "version": 2
   },
   "file_extension": ".py",
   "mimetype": "text/x-python",
   "name": "python",
   "nbconvert_exporter": "python",
   "pygments_lexer": "ipython2",
   "version": "2.7.11"
  }
 },
 "nbformat": 4,
 "nbformat_minor": 0
}
