{
 "cells": [
  {
   "cell_type": "code",
   "execution_count": 8,
   "metadata": {
    "collapsed": false
   },
   "outputs": [
    {
     "name": "stdout",
     "output_type": "stream",
     "text": [
      "Done Reading File\n",
      "34208 5000.0 7\n"
     ]
    }
   ],
   "source": [
    "import csv\n",
    "from random import shuffle\n",
    "import math\n",
    "\n",
    "data_file = file('links.csv', 'r')\n",
    "data_file_csv = csv.reader(data_file, delimiter=',')\n",
    "movie_ids = []\n",
    "\n",
    "for row in data_file_csv:\n",
    "    if len(row)>0:\n",
    "        movie_ids.append(row[1])\n",
    "print 'Done Reading File'\n",
    "\n",
    "shuffle(movie_ids)\n",
    "size = len(movie_ids)\n",
    "set_size = 5e3\n",
    "total_sets = int(math.ceil(size / set_size))\n",
    "print size,set_size,total_sets"
   ]
  },
  {
   "cell_type": "code",
   "execution_count": 9,
   "metadata": {
    "collapsed": false
   },
   "outputs": [
    {
     "name": "stdout",
     "output_type": "stream",
     "text": [
      "Done Writing file 1\n",
      "Done Writing file 2\n",
      "Done Writing file 3\n",
      "Done Writing file 4\n",
      "Done Writing file 5\n",
      "Done Writing file 6\n",
      "Done Writing file 7\n"
     ]
    }
   ],
   "source": [
    "for idx in range(int(total_sets)):\n",
    "    fp = open('ids_set_'+str(idx+1),'w')\n",
    "    start = int(idx*set_size)\n",
    "    end = int((idx+1)*set_size)\n",
    "    for value in movie_ids[start:end]:\n",
    "        fp.write(\"%s\\n\" %value)\n",
    "    fp.close()\n",
    "    print 'Done Writing file '+str(idx+1)"
   ]
  },
  {
   "cell_type": "code",
   "execution_count": null,
   "metadata": {
    "collapsed": true
   },
   "outputs": [],
   "source": []
  }
 ],
 "metadata": {
  "kernelspec": {
   "display_name": "Python 2",
   "language": "python",
   "name": "python2"
  },
  "language_info": {
   "codemirror_mode": {
    "name": "ipython",
    "version": 2
   },
   "file_extension": ".py",
   "mimetype": "text/x-python",
   "name": "python",
   "nbconvert_exporter": "python",
   "pygments_lexer": "ipython2",
   "version": "2.7.11"
  }
 },
 "nbformat": 4,
 "nbformat_minor": 0
}
