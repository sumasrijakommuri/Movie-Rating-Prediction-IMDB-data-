{
 "cells": [
  {
   "cell_type": "code",
   "execution_count": 28,
   "metadata": {
    "collapsed": false
   },
   "outputs": [],
   "source": [
    "import csv,timeit\n",
    "from imdb import IMDb\n",
    "ia = IMDb()\n",
    "\n",
    "COMMA = ','\n",
    "NEWLINE = '\\n'\n",
    "\n",
    "movie = ia.get_movie(\"3765892\")\n",
    "data_file = file('movie_data.csv', 'r')\n",
    "data = csv.reader(data_file, delimiter=',')\n",
    "movie_ids= []\n",
    "\n",
    "\n",
    "for row in data:\n",
    "    movie_ids.append(row[0])"
   ]
  },
  {
   "cell_type": "code",
   "execution_count": 29,
   "metadata": {
    "collapsed": false
   },
   "outputs": [
    {
     "name": "stdout",
     "output_type": "stream",
     "text": [
      "11591\n"
     ]
    }
   ],
   "source": [
    "print len(movie_ids)"
   ]
  },
  {
   "cell_type": "code",
   "execution_count": 30,
   "metadata": {
    "collapsed": false
   },
   "outputs": [
    {
     "name": "stdout",
     "output_type": "stream",
     "text": [
      "3000\n",
      "3000\n",
      "3000\n",
      "2591\n"
     ]
    }
   ],
   "source": [
    "for i in range(4):\n",
    "    s = i * 3000\n",
    "    e = (i+1) * 3000\n",
    "    ids = movie_ids[s:e]\n",
    "    print len(ids)\n",
    "    fp = open('ids_'+str(i+1)+'.txt','w')\n",
    "    for mid in ids:\n",
    "        fp.write(mid+NEWLINE)\n",
    "    fp.close()"
   ]
  },
  {
   "cell_type": "code",
   "execution_count": 31,
   "metadata": {
    "collapsed": false
   },
   "outputs": [],
   "source": [
    "def get_persons(persons):\n",
    "    li = []\n",
    "    for person in persons:\n",
    "        li.append(person.personID)\n",
    "        li.append(person['name'].encode('utf-8'))\n",
    "    return li\n",
    "\n",
    "def get_writer():\n",
    "    start_t = timeit.default_timer()\n",
    "    prev_t = start_t\n",
    "    fp = file('writers_1.csv','w')\n",
    "    data_file = file('ids_1.txt', 'r')\n",
    "    data = csv.reader(data_file, delimiter=',')\n",
    "    cnt = 0\n",
    "    print 'Started Writing'\n",
    "    for row in data:\n",
    "        cnt +=1\n",
    "        movie = ia.get_movie(row[0])\n",
    "        if 'writer' in movie.keys():\n",
    "        #print movie['writer'],row[0]\n",
    "            fp.write(row[0]+COMMA)\n",
    "            persons = get_persons(movie['writer'])\n",
    "            fp.write(str(len(persons)/2))\n",
    "            for person in persons:\n",
    "                fp.write(COMMA+'\"'+person+'\"')\n",
    "            fp.write(NEWLINE)\n",
    "            if cnt%100==0:\n",
    "                cur_t = timeit.default_timer()\n",
    "                print 'Time taken:',cur_t-prev_t,'secs'\n",
    "                prev_t = cur_t\n",
    "    stop_t = timeit.default_timer()\n",
    "    print 'Number of writers',cnt,' and time taken', str(stop_t-start_t),' secs'\n",
    "    fp.close()"
   ]
  },
  {
   "cell_type": "code",
   "execution_count": 32,
   "metadata": {
    "collapsed": false
   },
   "outputs": [
    {
     "name": "stdout",
     "output_type": "stream",
     "text": [
      "Started Writing\n",
      "Time taken: 178.064137817 secs\n",
      "Time taken: 175.166495761 secs\n",
      "Time taken: 178.861955663 secs\n",
      "Time taken: 190.94440904 secs\n",
      "Time taken: 203.851139596 secs\n",
      "Time taken: 203.617099406 secs\n",
      "Time taken: 187.908842545 secs\n",
      "Time taken: 184.477764642 secs\n",
      "Time taken: 188.714785969 secs\n",
      "Time taken: 188.964903769 secs\n",
      "Time taken: 198.969475311 secs\n",
      "Time taken: 179.412350862 secs\n",
      "Time taken: 200.797237947 secs\n",
      "Time taken: 183.253433905 secs\n",
      "Time taken: 187.609642833 secs\n",
      "Time taken: 185.512995701 secs\n",
      "Time taken: 197.918723682 secs\n",
      "Time taken: 198.790822672 secs\n",
      "Time taken: 187.740289847 secs\n",
      "Time taken: 187.189555946 secs\n",
      "Time taken: 214.449158797 secs\n",
      "Time taken: 177.769619282 secs\n",
      "Time taken: 180.035528706 secs\n",
      "Time taken: 174.817215292 secs\n",
      "Time taken: 196.47337738 secs\n",
      "Time taken: 181.259056543 secs\n",
      "Time taken: 210.862037772 secs\n",
      "Time taken: 186.238642057 secs\n",
      "Time taken: 207.724686234 secs\n",
      "Time taken: 180.800892288 secs\n",
      "Number of writers 3000  and time taken 5698.19852408  secs\n"
     ]
    }
   ],
   "source": [
    "get_writer()"
   ]
  },
  {
   "cell_type": "code",
   "execution_count": null,
   "metadata": {
    "collapsed": true
   },
   "outputs": [],
   "source": []
  }
 ],
 "metadata": {
  "kernelspec": {
   "display_name": "Python 2",
   "language": "python",
   "name": "python2"
  },
  "language_info": {
   "codemirror_mode": {
    "name": "ipython",
    "version": 2
   },
   "file_extension": ".py",
   "mimetype": "text/x-python",
   "name": "python",
   "nbconvert_exporter": "python",
   "pygments_lexer": "ipython2",
   "version": "2.7.11"
  }
 },
 "nbformat": 4,
 "nbformat_minor": 0
}
