{
 "cells": [
  {
   "cell_type": "code",
   "execution_count": 5,
   "metadata": {
    "collapsed": false
   },
   "outputs": [
    {
     "name": "stdout",
     "output_type": "stream",
     "text": [
      "0\n"
     ]
    }
   ],
   "source": [
    "import csv,math\n",
    "from matplotlib import pyplot\n",
    "import numpy as np\n",
    "\n",
    "\n",
    "COMMA = ','\n",
    "NEWLINE = '\\n'\n",
    "QUOTE = '\"'\n",
    "\n",
    "movie_ratings = {}\n",
    "actor_ratings = {}\n",
    "director_ratings = {}\n",
    "producer_ratings = {}\n",
    "writer_ratings = {}\n",
    "\n",
    "avg_rating = 0\n",
    "\n",
    "print avg_rating\n",
    "def read_movie_ratings():\n",
    "    data_file = file('data/movie_ratings.csv', 'r')\n",
    "    data = csv.reader(data_file, delimiter=',')\n",
    "    cnt = 0\n",
    "    avg_rating = 0\n",
    "    for row in data:\n",
    "        movie_ratings[row[0]] = float(row[2])\n",
    "        avg_rating += float(row[2])\n",
    "        cnt +=1\n",
    "    avg_rating = avg_rating/cnt\n",
    "    print 'Read Movie Ratings',cnt,avg_rating"
   ]
  },
  {
   "cell_type": "code",
   "execution_count": 6,
   "metadata": {
    "collapsed": false
   },
   "outputs": [
    {
     "name": "stdout",
     "output_type": "stream",
     "text": [
      "Read Movie Ratings 11559 6.0309542348\n"
     ]
    }
   ],
   "source": [
    "read_movie_ratings()"
   ]
  },
  {
   "cell_type": "code",
   "execution_count": null,
   "metadata": {
    "collapsed": false
   },
   "outputs": [],
   "source": [
    "def prepare_actor_scores():\n",
    "    data_file = file('data/actor_scores.csv', 'r')\n",
    "    data = csv.reader(data_file, delimiter=',')\n",
    "    cnt = 0\n",
    "    for row in data:\n",
    "        actor_ratings[row[0]] = float(row[2])\n",
    "        cnt +=1\n",
    "    print 'Read Actor Ratings',cnt"
   ]
  },
  {
   "cell_type": "code",
   "execution_count": 88,
   "metadata": {
    "collapsed": true
   },
   "outputs": [],
   "source": [
    "def read_director_scores():\n",
    "    data_file = file('data/director_scores.csv', 'r')\n",
    "    data = csv.reader(data_file, delimiter=',')\n",
    "    cnt = 0\n",
    "    for row in data:\n",
    "        director_ratings[row[0]] = float(row[2])\n",
    "        cnt +=1\n",
    "    print 'Read Director Ratings',cnt"
   ]
  },
  {
   "cell_type": "code",
   "execution_count": 89,
   "metadata": {
    "collapsed": false
   },
   "outputs": [
    {
     "name": "stdout",
     "output_type": "stream",
     "text": [
      "Read Actor Ratings 20350\n"
     ]
    }
   ],
   "source": [
    "read_actor_scores()"
   ]
  },
  {
   "cell_type": "code",
   "execution_count": 90,
   "metadata": {
    "collapsed": true
   },
   "outputs": [],
   "source": [
    "def read_producer_scores():\n",
    "    data_file = file('data/producer_scores.csv', 'r')\n",
    "    data = csv.reader(data_file, delimiter=',')\n",
    "    cnt = 0\n",
    "    for row in data:\n",
    "        producer_ratings[row[0]] = float(row[2])\n",
    "        cnt +=1\n",
    "    print 'Read Producer Ratings',cnt"
   ]
  },
  {
   "cell_type": "code",
   "execution_count": 91,
   "metadata": {
    "collapsed": true
   },
   "outputs": [],
   "source": [
    "def read_writer_scores():\n",
    "    data_file = file('data/writer_scores.csv', 'r')\n",
    "    data = csv.reader(data_file, delimiter=',')\n",
    "    cnt = 0\n",
    "    for row in data:\n",
    "        producer_ratings[row[0]] = float(row[2])\n",
    "        cnt +=1\n",
    "    print 'Read Writer Ratings',cnt"
   ]
  },
  {
   "cell_type": "code",
   "execution_count": 92,
   "metadata": {
    "collapsed": false
   },
   "outputs": [
    {
     "name": "stdout",
     "output_type": "stream",
     "text": [
      "Read Director Ratings 6108\n"
     ]
    }
   ],
   "source": [
    "read_director_scores()"
   ]
  },
  {
   "cell_type": "code",
   "execution_count": 93,
   "metadata": {
    "collapsed": false
   },
   "outputs": [
    {
     "name": "stdout",
     "output_type": "stream",
     "text": [
      "Read Producer Ratings 15267\n",
      "Read Writer Ratings 14571\n"
     ]
    }
   ],
   "source": [
    "read_producer_scores()\n",
    "read_writer_scores()"
   ]
  },
  {
   "cell_type": "code",
   "execution_count": 62,
   "metadata": {
    "collapsed": true
   },
   "outputs": [],
   "source": []
  },
  {
   "cell_type": "code",
   "execution_count": 63,
   "metadata": {
    "collapsed": false
   },
   "outputs": [
    {
     "name": "stdout",
     "output_type": "stream",
     "text": [
      "Movie Rating vs Count\n",
      "Actor_1 Rating vs Count\n",
      "Actor_2 Rating vs Count\n",
      "Actor_3 Rating vs Count\n",
      "Actor_4 Rating vs Count\n"
     ]
    }
   ],
   "source": [
    "show_distribution()\n",
    "\n"
   ]
  },
  {
   "cell_type": "code",
   "execution_count": 98,
   "metadata": {
    "collapsed": true
   },
   "outputs": [],
   "source": [
    "def calc_score(x):\n",
    "    return 1 / (1 + np.exp(-x))\n",
    "\n",
    "def var_distribution():\n",
    "    data_file = file('data/movie_data.csv', 'r')\n",
    "    data = csv.reader(data_file, delimiter=',')\n",
    "    cnt = 0\n",
    "    x=[]\n",
    "    x1=[]\n",
    "    x2=[]\n",
    "    x3=[]\n",
    "    x4=[]\n",
    "    x5=[]\n",
    "    y=[]\n",
    "    d = []\n",
    "    p = []\n",
    "    for row in data:\n",
    "        rating = movie_ratings[row[0]]\n",
    "        x1.append(abs(calc_score(actor_ratings[row[2]])-calc_score(rating)))\n",
    "        x2.append(abs(calc_score(actor_ratings[row[3]])-calc_score(rating)))\n",
    "        x3.append(abs(calc_score(actor_ratings[row[4]])-calc_score(rating)))\n",
    "        x4.append(abs(calc_score(actor_ratings[row[5]])-calc_score(rating)))\n",
    "        d.append(abs(calc_score(director_ratings[row[6]])-calc_score(rating)))\n",
    "        if row[8] in producer_ratings:\n",
    "            p.append(abs(calc_score(producer_ratings[row[8]])-calc_score(rating)))\n",
    "        cnt +=1\n",
    "        y.append(cnt)\n",
    "    print sum(x1)/len(x1),\"X1\"\n",
    "    print sum(x2)/len(x2),\"X2\"\n",
    "    print sum(x3)/len(x3),\"X3\"\n",
    "    print sum(x4)/len(x4),\"X4\"\n",
    "    print sum(d)/len(d),\"D\"\n",
    "    print sum(p)/len(p),\"P\"\n",
    "    "
   ]
  },
  {
   "cell_type": "code",
   "execution_count": 99,
   "metadata": {
    "collapsed": false
   },
   "outputs": [
    {
     "name": "stdout",
     "output_type": "stream",
     "text": [
      "0.00223460244399 X1\n",
      "0.0020444876502 X2\n",
      "0.00183338103553 X3\n",
      "0.00166903028291 X4\n",
      "0.00150972713563 D\n",
      "0.00196606052901 D\n"
     ]
    }
   ],
   "source": [
    "var_distribution()"
   ]
  },
  {
   "cell_type": "code",
   "execution_count": null,
   "metadata": {
    "collapsed": true
   },
   "outputs": [],
   "source": [
    "def graph():\n",
    "    "
   ]
  }
 ],
 "metadata": {
  "kernelspec": {
   "display_name": "Python 2",
   "language": "python",
   "name": "python2"
  },
  "language_info": {
   "codemirror_mode": {
    "name": "ipython",
    "version": 2
   },
   "file_extension": ".py",
   "mimetype": "text/x-python",
   "name": "python",
   "nbconvert_exporter": "python",
   "pygments_lexer": "ipython2",
   "version": "2.7.11"
  }
 },
 "nbformat": 4,
 "nbformat_minor": 0
}
