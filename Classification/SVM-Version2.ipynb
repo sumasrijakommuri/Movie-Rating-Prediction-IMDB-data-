{
 "cells": [
  {
   "cell_type": "code",
   "execution_count": 1,
   "metadata": {
    "collapsed": false
   },
   "outputs": [],
   "source": [
    "import csv\n",
    "\n",
    "from sklearn.svm import SVC\n",
    "from sklearn.naive_bayes import GaussianNB\n",
    "import numpy as np\n",
    "\n",
    "import warnings\n",
    "warnings.filterwarnings('ignore')\n",
    "\n",
    "TEST_DATA_FILE_1 = \"test_data_1.csv\"\n",
    "TEST_DATA_FILE_2 = \"test_data_2.csv\"\n",
    "TRAIN_DATA_FILE_1 = \"train_data_1.csv\"\n",
    "TRAIN_DATA_FILE_2 = \"train_data_2.csv\"\n",
    "PROD_INDEX = 6\n",
    "DIR_INDEX = 5\n",
    "ERROR_THRESHOLD_1 = 0\n",
    "ERROR_THRESHOLD_2 = 0.2\n",
    "ERROR_THRESHOLD_3 = 0.4"
   ]
  },
  {
   "cell_type": "code",
   "execution_count": 2,
   "metadata": {
    "collapsed": false
   },
   "outputs": [],
   "source": [
    "def read_data_file(filename):    \n",
    "    data_file = file(filename, 'r')\n",
    "    data = csv.reader(data_file, delimiter=',')\n",
    "    labels = []\n",
    "    values = []\n",
    "    for row in data:\n",
    "        value = []\n",
    "        prod_value = 0\n",
    "        writer_value = 0\n",
    "        for index in range(1,PROD_INDEX):\n",
    "            value.append(round(float(row[index]),1))\n",
    "        for index in range(PROD_INDEX + 1,PROD_INDEX + int(row[PROD_INDEX]) + 1):\n",
    "            prod_value = max(round(float(row[index]),1),prod_value)\n",
    "        value.append(prod_value)\n",
    "        WRITER_INDEX = PROD_INDEX + int(row[PROD_INDEX]) + 1\n",
    "        for index in range(WRITER_INDEX+1,len(row)):\n",
    "            writer_value = max(round(float(row[index]),1),writer_value)\n",
    "        value.append(writer_value)\n",
    "        labels.append(round(float(row[0]),1))\n",
    "        values.append(value)\n",
    "    print 'Done Reading File',filename\n",
    "    return labels,values"
   ]
  },
  {
   "cell_type": "code",
   "execution_count": 8,
   "metadata": {
    "collapsed": false
   },
   "outputs": [
    {
     "name": "stdout",
     "output_type": "stream",
     "text": [
      "Done Reading File train_data_1.csv\n",
      "Done Reading File train_data_2.csv\n",
      "Done Reading File test_data_1.csv\n",
      "Done Reading File test_data_2.csv\n"
     ]
    }
   ],
   "source": [
    "train_data_1_labels, train_data_1_values = read_data_file(TRAIN_DATA_FILE_1)\n",
    "train_data_2_labels, train_data_2_values = read_data_file(TRAIN_DATA_FILE_2)\n",
    "\n",
    "test_data_1_labels, test_data_1_values = read_data_file(TEST_DATA_FILE_1)\n",
    "test_data_2_labels, test_data_2_values = read_data_file(TEST_DATA_FILE_2)"
   ]
  },
  {
   "cell_type": "code",
   "execution_count": 9,
   "metadata": {
    "collapsed": false
   },
   "outputs": [],
   "source": [
    "def get_error_metric(threshold,actual_labels,predicted_labels):\n",
    "    error_count = 0\n",
    "    errors = np.zeros(len(actual_labels))\n",
    "    for index in range(0,len(actual_labels)):\n",
    "        errors[index] = (abs(float(actual_labels[index])-float(predicted_labels[index])))\n",
    "        if abs(round(float(actual_labels[index]),1)-round(float(predicted_labels[index]),1)) > threshold:\n",
    "            error_count +=1\n",
    "    return error_count*100/len(actual_labels),np.mean(errors),np.std(errors)"
   ]
  },
  {
   "cell_type": "code",
   "execution_count": 10,
   "metadata": {
    "collapsed": false
   },
   "outputs": [],
   "source": [
    "def get_predictions(classifier,val,data):\n",
    "    if val==1:\n",
    "        X = np.asarray(train_data_1_values)\n",
    "        Y = np.asarray(train_data_1_labels,dtype='S6')\n",
    "    else:\n",
    "        X = np.asarray(train_data_2_values)\n",
    "        Y = np.asarray(train_data_2_labels,dtype=\"S6\")\n",
    "    classifier.fit(X,Y)\n",
    "    return classifier.predict(data)\n"
   ]
  },
  {
   "cell_type": "code",
   "execution_count": 11,
   "metadata": {
    "collapsed": false
   },
   "outputs": [],
   "source": [
    "classifier_1 = SVC()\n",
    "obs_labels_1 = get_predictions(classifier_1,1,test_data_1_values)\n",
    "classifier_2 = GaussianNB()\n",
    "obs_labels_2 = get_predictions(classifier_2,1,test_data_1_values)\n"
   ]
  },
  {
   "cell_type": "code",
   "execution_count": 13,
   "metadata": {
    "collapsed": false
   },
   "outputs": [
    {
     "name": "stdout",
     "output_type": "stream",
     "text": [
      "k : 0.1\n",
      "Errors for Mechanism-1: Zero Tolerance: 87 0.289294677629 0.274334843524\n",
      "Errors for Mechanism-1: 0.1 Tolerance: 59 0.289294677629 0.274334843524\n",
      "Errors for Mechanism-1: 0.2 Tolerance: 26 0.289294677629 0.274334843524\n",
      "k : 0.2\n",
      "Errors for Mechanism-1: Zero Tolerance: 87 0.28338381653 0.269275626982\n",
      "Errors for Mechanism-1: 0.1 Tolerance: 57 0.28338381653 0.269275626982\n",
      "Errors for Mechanism-1: 0.2 Tolerance: 25 0.28338381653 0.269275626982\n",
      "k : 0.3\n",
      "Errors for Mechanism-1: Zero Tolerance: 86 0.277758546084 0.265807872095\n",
      "Errors for Mechanism-1: 0.1 Tolerance: 56 0.277758546084 0.265807872095\n",
      "Errors for Mechanism-1: 0.2 Tolerance: 24 0.277758546084 0.265807872095\n",
      "k : 0.4\n",
      "Errors for Mechanism-1: Zero Tolerance: 86 0.272756382518 0.263663848053\n",
      "Errors for Mechanism-1: 0.1 Tolerance: 55 0.272756382518 0.263663848053\n",
      "Errors for Mechanism-1: 0.2 Tolerance: 24 0.272756382518 0.263663848053\n",
      "k : 0.5\n",
      "Errors for Mechanism-1: Zero Tolerance: 85 0.268282128949 0.263008654985\n",
      "Errors for Mechanism-1: 0.1 Tolerance: 56 0.268282128949 0.263008654985\n",
      "Errors for Mechanism-1: 0.2 Tolerance: 23 0.268282128949 0.263008654985\n",
      "k : 0.6\n",
      "Errors for Mechanism-1: Zero Tolerance: 85 0.265590653397 0.262617197886\n",
      "Errors for Mechanism-1: 0.1 Tolerance: 54 0.265590653397 0.262617197886\n",
      "Errors for Mechanism-1: 0.2 Tolerance: 22 0.265590653397 0.262617197886\n",
      "k : 0.7\n",
      "Errors for Mechanism-1: Zero Tolerance: 84 0.263755949805 0.263475751026\n",
      "Errors for Mechanism-1: 0.1 Tolerance: 53 0.263755949805 0.263475751026\n",
      "Errors for Mechanism-1: 0.2 Tolerance: 22 0.263755949805 0.263475751026\n",
      "k : 0.8\n",
      "Errors for Mechanism-1: Zero Tolerance: 84 0.26392903505 0.264446160275\n",
      "Errors for Mechanism-1: 0.1 Tolerance: 52 0.26392903505 0.264446160275\n",
      "Errors for Mechanism-1: 0.2 Tolerance: 22 0.26392903505 0.264446160275\n",
      "k : 0.9\n",
      "Errors for Mechanism-1: Zero Tolerance: 85 0.265296408481 0.266336080573\n",
      "Errors for Mechanism-1: 0.1 Tolerance: 53 0.265296408481 0.266336080573\n",
      "Errors for Mechanism-1: 0.2 Tolerance: 23 0.265296408481 0.266336080573\n"
     ]
    }
   ],
   "source": [
    "for k in np.arange(0.1,1,0.1):\n",
    "    obs_labels = [ k*float(x) + (1-k)*float(y) for x,y in zip(obs_labels_1,obs_labels_2) ]    \n",
    "    print 'k :',k\n",
    "    error_1,mean_1,std_1 = get_error_metric(ERROR_THRESHOLD_1,test_data_1_labels,obs_labels)\n",
    "    error_2,mean_2,std_2 = get_error_metric(ERROR_THRESHOLD_2,test_data_1_labels,obs_labels)\n",
    "    error_3,mean_3,std_3 = get_error_metric(ERROR_THRESHOLD_3,test_data_1_labels,obs_labels)\n",
    "    print 'Errors for Mechanism-1: Zero Tolerance:',error_1,mean_1,std_1\n",
    "    print 'Errors for Mechanism-1: 0.1 Tolerance:',error_2,mean_2,std_2\n",
    "    print 'Errors for Mechanism-1: 0.2 Tolerance:',error_3,mean_3,std_3"
   ]
  },
  {
   "cell_type": "code",
   "execution_count": 14,
   "metadata": {
    "collapsed": false
   },
   "outputs": [],
   "source": [
    "\n",
    "classifier_1 = SVC()\n",
    "obs_labels_1 = get_predictions(classifier_1,2,test_data_2_values)\n",
    "classifier_2 = GaussianNB()\n",
    "obs_labels_2 = get_predictions(classifier_2,2,test_data_2_values)\n"
   ]
  },
  {
   "cell_type": "code",
   "execution_count": 15,
   "metadata": {
    "collapsed": false
   },
   "outputs": [
    {
     "name": "stdout",
     "output_type": "stream",
     "text": [
      "k : 0.1\n",
      "Errors for Mechanism-2: Zero Tolerance: 88 0.601280830809 0.844167047833\n",
      "Errors for Mechanism-2: 0.1 Tolerance: 62 0.601280830809 0.844167047833\n",
      "Errors for Mechanism-2: 0.2 Tolerance: 36 0.601280830809 0.844167047833\n",
      "k : 0.2\n",
      "Errors for Mechanism-2: Zero Tolerance: 88 0.554089138901 0.749165656681\n",
      "Errors for Mechanism-2: 0.1 Tolerance: 62 0.554089138901 0.749165656681\n",
      "Errors for Mechanism-2: 0.2 Tolerance: 35 0.554089138901 0.749165656681\n",
      "k : 0.3\n",
      "Errors for Mechanism-2: Zero Tolerance: 88 0.507719601904 0.656099525141\n",
      "Errors for Mechanism-2: 0.1 Tolerance: 60 0.507719601904 0.656099525141\n",
      "Errors for Mechanism-2: 0.2 Tolerance: 35 0.507719601904 0.656099525141\n",
      "k : 0.4\n",
      "Errors for Mechanism-2: Zero Tolerance: 88 0.46218087408 0.566119209998\n",
      "Errors for Mechanism-2: 0.1 Tolerance: 60 0.46218087408 0.566119209998\n",
      "Errors for Mechanism-2: 0.2 Tolerance: 34 0.46218087408 0.566119209998\n",
      "k : 0.5\n",
      "Errors for Mechanism-2: Zero Tolerance: 87 0.417438338382 0.481225733298\n",
      "Errors for Mechanism-2: 0.1 Tolerance: 60 0.417438338382 0.481225733298\n",
      "Errors for Mechanism-2: 0.2 Tolerance: 32 0.417438338382 0.481225733298\n",
      "k : 0.6\n",
      "Errors for Mechanism-2: Zero Tolerance: 86 0.374928602337 0.403567691387\n",
      "Errors for Mechanism-2: 0.1 Tolerance: 58 0.374928602337 0.403567691387\n",
      "Errors for Mechanism-2: 0.2 Tolerance: 31 0.374928602337 0.403567691387\n",
      "k : 0.7\n",
      "Errors for Mechanism-2: Zero Tolerance: 86 0.334989182172 0.338674571011\n",
      "Errors for Mechanism-2: 0.1 Tolerance: 57 0.334989182172 0.338674571011\n",
      "Errors for Mechanism-2: 0.2 Tolerance: 30 0.334989182172 0.338674571011\n",
      "k : 0.8\n",
      "Errors for Mechanism-2: Zero Tolerance: 86 0.299480744267 0.294251411337\n",
      "Errors for Mechanism-2: 0.1 Tolerance: 55 0.299480744267 0.294251411337\n",
      "Errors for Mechanism-2: 0.2 Tolerance: 27 0.299480744267 0.294251411337\n",
      "k : 0.9\n",
      "Errors for Mechanism-2: Zero Tolerance: 85 0.274063176114 0.276389019308\n",
      "Errors for Mechanism-2: 0.1 Tolerance: 53 0.274063176114 0.276389019308\n",
      "Errors for Mechanism-2: 0.2 Tolerance: 23 0.274063176114 0.276389019308\n"
     ]
    }
   ],
   "source": [
    "for k in np.arange(0.1,1,0.1):\n",
    "    obs_labels = [ k*float(x) + (1-k)*float(y) for x,y in zip(obs_labels_1,obs_labels_2) ]    \n",
    "    print 'k :',k\n",
    "    error_1,mean_1,std_1 = get_error_metric(ERROR_THRESHOLD_1,test_data_2_labels,obs_labels)\n",
    "    error_2,mean_2,std_2 = get_error_metric(ERROR_THRESHOLD_2,test_data_2_labels,obs_labels)\n",
    "    error_3,mean_3,std_3 = get_error_metric(ERROR_THRESHOLD_3,test_data_2_labels,obs_labels)\n",
    "    print 'Errors for Mechanism-2: Zero Tolerance:',error_1,mean_1,std_1\n",
    "    print 'Errors for Mechanism-2: 0.1 Tolerance:',error_2,mean_2,std_2\n",
    "    print 'Errors for Mechanism-2: 0.2 Tolerance:',error_3,mean_3,std_3"
   ]
  },
  {
   "cell_type": "code",
   "execution_count": 16,
   "metadata": {
    "collapsed": false
   },
   "outputs": [],
   "source": [
    "avg_rating = 6.031\n",
    "\n",
    "def read_data_file_2(filename):    \n",
    "    data_file = file(filename, 'r')\n",
    "    data = csv.reader(data_file, delimiter=',')\n",
    "    labels = []\n",
    "    values = []\n",
    "    for row in data:\n",
    "        value = []\n",
    "        prod_value = 0\n",
    "        writer_value = 0\n",
    "        for index in range(1,PROD_INDEX):\n",
    "            value.append(float(row[index]))\n",
    "        for index in range(PROD_INDEX + 1,PROD_INDEX + int(row[PROD_INDEX]) + 1):\n",
    "            prod_value = max(float(row[index]),prod_value)\n",
    "        value.append(prod_value)\n",
    "        WRITER_INDEX = PROD_INDEX + int(row[PROD_INDEX]) + 1\n",
    "        for index in range(WRITER_INDEX+1,len(row)):\n",
    "            writer_value = max(float(row[index]),writer_value)\n",
    "        value.append(writer_value)\n",
    "        labels.append(float(row[0])-avg_rating)\n",
    "        values.append(value)\n",
    "    print 'Done Reading File',filename\n",
    "    return labels,values"
   ]
  },
  {
   "cell_type": "code",
   "execution_count": 17,
   "metadata": {
    "collapsed": false
   },
   "outputs": [
    {
     "name": "stdout",
     "output_type": "stream",
     "text": [
      "Done Reading File train_data_1.csv\n",
      "Done Reading File train_data_2.csv\n",
      "Done Reading File test_data_1.csv\n",
      "Done Reading File test_data_2.csv\n"
     ]
    }
   ],
   "source": [
    "train_data_1_labels, train_data_1_values = read_data_file_2(TRAIN_DATA_FILE_1)\n",
    "train_data_2_labels, train_data_2_values = read_data_file_2(TRAIN_DATA_FILE_2)\n",
    "\n",
    "test_data_1_labels, test_data_1_values = read_data_file_2(TEST_DATA_FILE_1)\n",
    "test_data_2_labels, test_data_2_values = read_data_file_2(TEST_DATA_FILE_2)"
   ]
  },
  {
   "cell_type": "code",
   "execution_count": 18,
   "metadata": {
    "collapsed": false
   },
   "outputs": [
    {
     "name": "stdout",
     "output_type": "stream",
     "text": [
      "k : 0.1\n",
      "Errors(2) for Mechanism-1: Zero Tolerance: 87 0.28832540026 0.273788918384\n",
      "Errors(2) for Mechanism-1: 0.1 Tolerance: 46 0.28832540026 0.273788918384\n",
      "Errors(2) for Mechanism-1: 0.2 Tolerance: 21 0.28832540026 0.273788918384\n",
      "k : 0.2\n",
      "Errors(2) for Mechanism-1: Zero Tolerance: 86 0.282327996538 0.268743792561\n",
      "Errors(2) for Mechanism-1: 0.1 Tolerance: 46 0.282327996538 0.268743792561\n",
      "Errors(2) for Mechanism-1: 0.2 Tolerance: 21 0.282327996538 0.268743792561\n",
      "k : 0.3\n",
      "Errors(2) for Mechanism-1: Zero Tolerance: 86 0.276711380355 0.265297206434\n",
      "Errors(2) for Mechanism-1: 0.1 Tolerance: 44 0.276711380355 0.265297206434\n",
      "Errors(2) for Mechanism-1: 0.2 Tolerance: 20 0.276711380355 0.265297206434\n",
      "k : 0.4\n",
      "Errors(2) for Mechanism-1: Zero Tolerance: 86 0.271648636954 0.263357822318\n",
      "Errors(2) for Mechanism-1: 0.1 Tolerance: 44 0.271648636954 0.263357822318\n",
      "Errors(2) for Mechanism-1: 0.2 Tolerance: 20 0.271648636954 0.263357822318\n",
      "k : 0.5\n",
      "Errors(2) for Mechanism-1: Zero Tolerance: 85 0.267157074859 0.262973396655\n",
      "Errors(2) for Mechanism-1: 0.1 Tolerance: 42 0.267157074859 0.262973396655\n",
      "Errors(2) for Mechanism-1: 0.2 Tolerance: 19 0.267157074859 0.262973396655\n",
      "k : 0.6\n",
      "Errors(2) for Mechanism-1: Zero Tolerance: 85 0.264482907832 0.262932203442\n",
      "Errors(2) for Mechanism-1: 0.1 Tolerance: 43 0.264482907832 0.262932203442\n",
      "Errors(2) for Mechanism-1: 0.2 Tolerance: 19 0.264482907832 0.262932203442\n",
      "k : 0.7\n",
      "Errors(2) for Mechanism-1: Zero Tolerance: 84 0.262829943747 0.264084591833\n",
      "Errors(2) for Mechanism-1: 0.1 Tolerance: 42 0.262829943747 0.264084591833\n",
      "Errors(2) for Mechanism-1: 0.2 Tolerance: 19 0.262829943747 0.264084591833\n",
      "k : 0.8\n",
      "Errors(2) for Mechanism-1: Zero Tolerance: 84 0.263444396365 0.265201916498\n",
      "Errors(2) for Mechanism-1: 0.1 Tolerance: 42 0.263444396365 0.265201916498\n",
      "Errors(2) for Mechanism-1: 0.2 Tolerance: 19 0.263444396365 0.265201916498\n",
      "k : 0.9\n",
      "Errors(2) for Mechanism-1: Zero Tolerance: 84 0.265313717006 0.267277852172\n",
      "Errors(2) for Mechanism-1: 0.1 Tolerance: 43 0.265313717006 0.267277852172\n",
      "Errors(2) for Mechanism-1: 0.2 Tolerance: 20 0.265313717006 0.267277852172\n"
     ]
    }
   ],
   "source": [
    "classifier_1 = SVC()\n",
    "obs_labels_1 = get_predictions(classifier_1,1,test_data_1_values)\n",
    "classifier_2 = GaussianNB()\n",
    "obs_labels_2 = get_predictions(classifier_2,1,test_data_1_values)\n",
    "\n",
    "for k in np.arange(0.1,1,0.1):\n",
    "    obs_labels = [ k*float(x) + (1-k)*float(y) for x,y in zip(obs_labels_1,obs_labels_2) ]    \n",
    "    print 'k :',k\n",
    "    error_1,mean_1,std_1 = get_error_metric(ERROR_THRESHOLD_1,test_data_1_labels,obs_labels)\n",
    "    error_2,mean_2,std_2 = get_error_metric(ERROR_THRESHOLD_2,test_data_1_labels,obs_labels)\n",
    "    error_3,mean_3,std_3 = get_error_metric(ERROR_THRESHOLD_3,test_data_1_labels,obs_labels)\n",
    "    print 'Errors(2) for Mechanism-1: Zero Tolerance:',error_1,mean_1,std_1\n",
    "    print 'Errors(2) for Mechanism-1: 0.1 Tolerance:',error_2,mean_2,std_2\n",
    "    print 'Errors(2) for Mechanism-1: 0.2 Tolerance:',error_3,mean_3,std_3"
   ]
  },
  {
   "cell_type": "code",
   "execution_count": 19,
   "metadata": {
    "collapsed": false
   },
   "outputs": [
    {
     "name": "stdout",
     "output_type": "stream",
     "text": [
      "k : 0.1\n",
      "Errors(2) for Mechanism-2: Zero Tolerance: 88 0.640553872782 0.890678321002\n",
      "Errors(2) for Mechanism-2: 0.1 Tolerance: 54 0.640553872782 0.890678321002\n",
      "Errors(2) for Mechanism-2: 0.2 Tolerance: 34 0.640553872782 0.890678321002\n",
      "k : 0.2\n",
      "Errors(2) for Mechanism-2: Zero Tolerance: 88 0.588109043704 0.788633563623\n",
      "Errors(2) for Mechanism-2: 0.1 Tolerance: 54 0.588109043704 0.788633563623\n",
      "Errors(2) for Mechanism-2: 0.2 Tolerance: 34 0.588109043704 0.788633563623\n",
      "k : 0.3\n",
      "Errors(2) for Mechanism-2: Zero Tolerance: 88 0.536330592817 0.688542721215\n",
      "Errors(2) for Mechanism-2: 0.1 Tolerance: 52 0.536330592817 0.688542721215\n",
      "Errors(2) for Mechanism-2: 0.2 Tolerance: 32 0.536330592817 0.688542721215\n",
      "k : 0.4\n",
      "Errors(2) for Mechanism-2: Zero Tolerance: 88 0.48533102553 0.591481400731\n",
      "Errors(2) for Mechanism-2: 0.1 Tolerance: 52 0.48533102553 0.591481400731\n",
      "Errors(2) for Mechanism-2: 0.2 Tolerance: 32 0.48533102553 0.591481400731\n",
      "k : 0.5\n",
      "Errors(2) for Mechanism-2: Zero Tolerance: 87 0.435395932497 0.499209506111\n",
      "Errors(2) for Mechanism-2: 0.1 Tolerance: 51 0.435395932497 0.499209506111\n",
      "Errors(2) for Mechanism-2: 0.2 Tolerance: 31 0.435395932497 0.499209506111\n",
      "k : 0.6\n",
      "Errors(2) for Mechanism-2: Zero Tolerance: 87 0.387745564691 0.414179734674\n",
      "Errors(2) for Mechanism-2: 0.1 Tolerance: 50 0.387745564691 0.414179734674\n",
      "Errors(2) for Mechanism-2: 0.2 Tolerance: 30 0.387745564691 0.414179734674\n",
      "k : 0.7\n",
      "Errors(2) for Mechanism-2: Zero Tolerance: 87 0.342752055387 0.342421757276\n",
      "Errors(2) for Mechanism-2: 0.1 Tolerance: 50 0.342752055387 0.342421757276\n",
      "Errors(2) for Mechanism-2: 0.2 Tolerance: 29 0.342752055387 0.342421757276\n",
      "k : 0.8\n",
      "Errors(2) for Mechanism-2: Zero Tolerance: 86 0.302691475552 0.292708194256\n",
      "Errors(2) for Mechanism-2: 0.1 Tolerance: 48 0.302691475552 0.292708194256\n",
      "Errors(2) for Mechanism-2: 0.2 Tolerance: 25 0.302691475552 0.292708194256\n",
      "k : 0.9\n",
      "Errors(2) for Mechanism-2: Zero Tolerance: 85 0.274244915621 0.272739723715\n",
      "Errors(2) for Mechanism-2: 0.1 Tolerance: 45 0.274244915621 0.272739723715\n",
      "Errors(2) for Mechanism-2: 0.2 Tolerance: 20 0.274244915621 0.272739723715\n"
     ]
    }
   ],
   "source": [
    "classifier_1 = SVC()\n",
    "obs_labels_1 = get_predictions(classifier_1,2,test_data_2_values)\n",
    "classifier_2 = GaussianNB()\n",
    "obs_labels_2 = get_predictions(classifier_2,2,test_data_2_values)\n",
    "\n",
    "for k in np.arange(0.1,1,0.1):\n",
    "    obs_labels = [ k*float(x) + (1-k)*float(y) for x,y in zip(obs_labels_1,obs_labels_2) ]    \n",
    "    print 'k :',k\n",
    "    error_1,mean_1,std_1 = get_error_metric(ERROR_THRESHOLD_1,test_data_2_labels,obs_labels)\n",
    "    error_2,mean_2,std_2 = get_error_metric(ERROR_THRESHOLD_2,test_data_2_labels,obs_labels)\n",
    "    error_3,mean_3,std_3 = get_error_metric(ERROR_THRESHOLD_3,test_data_2_labels,obs_labels)\n",
    "    print 'Errors(2) for Mechanism-2: Zero Tolerance:',error_1,mean_1,std_1\n",
    "    print 'Errors(2) for Mechanism-2: 0.1 Tolerance:',error_2,mean_2,std_2\n",
    "    print 'Errors(2) for Mechanism-2: 0.2 Tolerance:',error_3,mean_3,std_3"
   ]
  },
  {
   "cell_type": "code",
   "execution_count": null,
   "metadata": {
    "collapsed": false
   },
   "outputs": [],
   "source": [
    "    "
   ]
  },
  {
   "cell_type": "code",
   "execution_count": null,
   "metadata": {
    "collapsed": false
   },
   "outputs": [],
   "source": [
    "    "
   ]
  },
  {
   "cell_type": "code",
   "execution_count": null,
   "metadata": {
    "collapsed": false
   },
   "outputs": [],
   "source": [
    "    "
   ]
  },
  {
   "cell_type": "code",
   "execution_count": null,
   "metadata": {
    "collapsed": false
   },
   "outputs": [],
   "source": []
  },
  {
   "cell_type": "code",
   "execution_count": null,
   "metadata": {
    "collapsed": true
   },
   "outputs": [],
   "source": []
  },
  {
   "cell_type": "code",
   "execution_count": null,
   "metadata": {
    "collapsed": true
   },
   "outputs": [],
   "source": []
  }
 ],
 "metadata": {
  "kernelspec": {
   "display_name": "Python 2",
   "language": "python",
   "name": "python2"
  },
  "language_info": {
   "codemirror_mode": {
    "name": "ipython",
    "version": 2
   },
   "file_extension": ".py",
   "mimetype": "text/x-python",
   "name": "python",
   "nbconvert_exporter": "python",
   "pygments_lexer": "ipython2",
   "version": "2.7.11"
  }
 },
 "nbformat": 4,
 "nbformat_minor": 0
}
