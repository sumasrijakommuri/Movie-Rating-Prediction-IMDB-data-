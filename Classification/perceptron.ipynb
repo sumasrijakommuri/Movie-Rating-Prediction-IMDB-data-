{
 "cells": [
  {
   "cell_type": "code",
   "execution_count": 2,
   "metadata": {
    "collapsed": false
   },
   "outputs": [],
   "source": [
    "import csv\n",
    "\n",
    "from sklearn.linear_model import perceptron,bayes\n",
    "import numpy as np\n",
    "import time\n",
    "\n",
    "import warnings\n",
    "warnings.filterwarnings('ignore')\n",
    "\n",
    "TEST_DATA_FILE_1 = \"test_data_1.csv\"\n",
    "TEST_DATA_FILE_2 = \"test_data_2.csv\"\n",
    "TRAIN_DATA_FILE_1 = \"train_data_1.csv\"\n",
    "TRAIN_DATA_FILE_2 = \"train_data_2.csv\"\n",
    "PROD_INDEX = 6\n",
    "DIR_INDEX = 5\n",
    "ERROR_THRESHOLD_1 = 0\n",
    "ERROR_THRESHOLD_2 = 0.2\n",
    "ERROR_THRESHOLD_3 = 0.4"
   ]
  },
  {
   "cell_type": "code",
   "execution_count": 3,
   "metadata": {
    "collapsed": false
   },
   "outputs": [],
   "source": [
    "def read_data_file(filename):    \n",
    "    data_file = file(filename, 'r')\n",
    "    data = csv.reader(data_file, delimiter=',')\n",
    "    labels = []\n",
    "    values = []\n",
    "    for row in data:\n",
    "        value = []\n",
    "        prod_value = 0\n",
    "        writer_value = 0\n",
    "        for index in range(1,PROD_INDEX):\n",
    "            value.append(float(row[index]))\n",
    "        for index in range(PROD_INDEX + 1,PROD_INDEX + int(row[PROD_INDEX]) + 1):\n",
    "            prod_value = max(float(row[index]),prod_value)\n",
    "        value.append(prod_value)\n",
    "        WRITER_INDEX = PROD_INDEX + int(row[PROD_INDEX]) + 1\n",
    "        for index in range(WRITER_INDEX+1,len(row)):\n",
    "            writer_value = max(float(row[index]),writer_value)\n",
    "        value.append(writer_value)\n",
    "        labels.append(str(row[0]))\n",
    "        values.append(value)\n",
    "    print 'Done Reading File',filename\n",
    "    return labels,values"
   ]
  },
  {
   "cell_type": "code",
   "execution_count": 4,
   "metadata": {
    "collapsed": false
   },
   "outputs": [
    {
     "name": "stdout",
     "output_type": "stream",
     "text": [
      "Done Reading File train_data_1.csv\n",
      "Done Reading File train_data_2.csv\n",
      "Done Reading File test_data_1.csv\n",
      "Done Reading File test_data_2.csv\n"
     ]
    }
   ],
   "source": [
    "train_data_1_labels, train_data_1_values = read_data_file(TRAIN_DATA_FILE_1)\n",
    "train_data_2_labels, train_data_2_values = read_data_file(TRAIN_DATA_FILE_2)\n",
    "\n",
    "test_data_1_labels, test_data_1_values = read_data_file(TEST_DATA_FILE_1)\n",
    "test_data_2_labels, test_data_2_values = read_data_file(TEST_DATA_FILE_2)"
   ]
  },
  {
   "cell_type": "code",
   "execution_count": 5,
   "metadata": {
    "collapsed": true
   },
   "outputs": [],
   "source": [
    "def get_error_metric(threshold,actual_labels,predicted_labels):\n",
    "    error_count = 0\n",
    "    errors = np.zeros(len(actual_labels))\n",
    "    for index in range(0,len(actual_labels)):\n",
    "        errors[index] = (abs(float(actual_labels[index])-float(predicted_labels[index][0])))\n",
    "        if abs(float(actual_labels[index])-float(predicted_labels[index][0])) > threshold:\n",
    "            error_count +=1\n",
    "    return error_count*100/len(actual_labels),np.mean(errors),np.std(errors)"
   ]
  },
  {
   "cell_type": "code",
   "execution_count": 6,
   "metadata": {
    "collapsed": false
   },
   "outputs": [],
   "source": [
    "def get_predictions(classifier,val,data):\n",
    "    if val==1:\n",
    "        X = np.asarray(train_data_1_values)\n",
    "        Y = np.asarray(train_data_1_labels, dtype=\"|S6\")\n",
    "    else:\n",
    "        X = np.asarray(train_data_2_values)\n",
    "        Y = np.asarray(train_data_2_labels, dtype=\"|S6\")\n",
    "    classifier.fit(X,Y)\n",
    "    return classifier.predict(data)"
   ]
  },
  {
   "cell_type": "code",
   "execution_count": 7,
   "metadata": {
    "collapsed": false
   },
   "outputs": [
    {
     "name": "stdout",
     "output_type": "stream",
     "text": [
      "100.490999937\n"
     ]
    }
   ],
   "source": [
    "classifier = perceptron.Perceptron(n_iter=1000, verbose=0, random_state=None, fit_intercept=True, eta0=0.002)\n",
    "t = time.time()\n",
    "obs_labels = get_predictions(classifier,1,test_data_1_values)\n",
    "print time.time() -t"
   ]
  },
  {
   "cell_type": "code",
   "execution_count": 72,
   "metadata": {
    "collapsed": false
   },
   "outputs": [
    {
     "name": "stdout",
     "output_type": "stream",
     "text": [
      " Errors for Mechanism-1: Zero Tolerance: 99 4.20696668109 1.71374137261\n",
      "Errors for Mechanism-1: 0.1 Tolerance: 99 4.20696668109 1.71374137261\n",
      "Errors for Mechanism-1: 0.2 Tolerance: 97 4.20696668109 1.71374137261\n"
     ]
    }
   ],
   "source": [
    "error_1,mean_1,std_1 = get_error_metric(ERROR_THRESHOLD_1,test_data_1_labels,obs_labels)\n",
    "error_2,mean_2,std_2 = get_error_metric(ERROR_THRESHOLD_2,test_data_1_labels,obs_labels)\n",
    "error_3,mean_3,std_3 = get_error_metric(ERROR_THRESHOLD_3,test_data_1_labels,obs_labels)\n",
    "print 'Errors for Mechanism-1: Zero Tolerance:',error_1,mean_1,std_1\n",
    "print 'Errors for Mechanism-1: 0.1 Tolerance:',error_2,mean_2,std_2\n",
    "print 'Errors for Mechanism-1: 0.2 Tolerance:',error_3,mean_3,std_3"
   ]
  },
  {
   "cell_type": "code",
   "execution_count": null,
   "metadata": {
    "collapsed": false
   },
   "outputs": [],
   "source": [
    "classifier = perceptron.Perceptron(n_iter=1000, verbose=0, random_state=None, fit_intercept=True, eta0=0.002)\n",
    "obs_labels = get_predictions(classifier,2,test_data_2_values)"
   ]
  },
  {
   "cell_type": "code",
   "execution_count": 48,
   "metadata": {
    "collapsed": false
   },
   "outputs": [
    {
     "name": "stdout",
     "output_type": "stream",
     "text": [
      "Errors for Mechanism-1: Zero Tolerance: 96 0.742405884898 0.656520146896\n",
      "Errors for Mechanism-1: 0.1 Tolerance: 86 0.742405884898 0.656520146896\n",
      "Errors for Mechanism-1: 0.2 Tolerance: 68 0.742405884898 0.656520146896\n"
     ]
    }
   ],
   "source": [
    "error_1,mean_1,std_1 = get_error_metric(ERROR_THRESHOLD_1,test_data_2_labels,obs_labels)\n",
    "error_2,mean_2,std_2 = get_error_metric(ERROR_THRESHOLD_2,test_data_2_labels,obs_labels)\n",
    "error_3,mean_3,std_3= get_error_metric(ERROR_THRESHOLD_3,test_data_2_labels,obs_labels)\n",
    "print 'Errors for Mechanism-2: Zero Tolerance:',error_1,mean_1,std_1\n",
    "print 'Errors for Mechanism-2: 0.1 Tolerance:',error_2,mean_2,std_2\n",
    "print 'Errors for Mechanism-2: 0.2 Tolerance:',error_3,mean_3,std_3"
   ]
  },
  {
   "cell_type": "code",
   "execution_count": 49,
   "metadata": {
    "collapsed": false
   },
   "outputs": [],
   "source": [
    "classifier = perceptron.Perceptron(n_iter=1000, verbose=0, random_state=None, fit_intercept=True, eta0=0.002)"
   ]
  },
  {
   "cell_type": "code",
   "execution_count": 50,
   "metadata": {
    "collapsed": false
   },
   "outputs": [],
   "source": [
    "from sklearn import metrics\n",
    "classifier.fit(X,Y)\n",
    "l = classifier.predict(X)\n",
    "training_error = 1 - metrics.accuracy_score(l, Y)"
   ]
  },
  {
   "cell_type": "code",
   "execution_count": 52,
   "metadata": {
    "collapsed": false
   },
   "outputs": [
    {
     "name": "stdout",
     "output_type": "stream",
     "text": [
      "0.967546516659\n"
     ]
    }
   ],
   "source": [
    "print training_error\n",
    "avg_rating = 6.031"
   ]
  },
  {
   "cell_type": "code",
   "execution_count": 55,
   "metadata": {
    "collapsed": false
   },
   "outputs": [],
   "source": [
    "def read_data_file_2(filename):    \n",
    "    data_file = file(filename, 'r')\n",
    "    data = csv.reader(data_file, delimiter=',')\n",
    "    labels = []\n",
    "    values = []\n",
    "    for row in data:\n",
    "        value = []\n",
    "        prod_value = 0\n",
    "        writer_value = 0\n",
    "        for index in range(1,PROD_INDEX):\n",
    "            value.append(float(row[index]))\n",
    "        for index in range(PROD_INDEX + 1,PROD_INDEX + int(row[PROD_INDEX]) + 1):\n",
    "            prod_value = max(float(row[index]),prod_value)\n",
    "        value.append(prod_value)\n",
    "        WRITER_INDEX = PROD_INDEX + int(row[PROD_INDEX]) + 1\n",
    "        for index in range(WRITER_INDEX+1,len(row)):\n",
    "            writer_value = max(float(row[index]),writer_value)\n",
    "        value.append(writer_value)\n",
    "        labels.append(str(float(row[0])-avg_rating))\n",
    "        values.append(value)\n",
    "    print 'Done Reading File',filename\n",
    "    return labels,values"
   ]
  },
  {
   "cell_type": "code",
   "execution_count": 56,
   "metadata": {
    "collapsed": false
   },
   "outputs": [
    {
     "name": "stdout",
     "output_type": "stream",
     "text": [
      "Done Reading File train_data_1.csv\n",
      "Done Reading File train_data_2.csv\n",
      "Done Reading File test_data_1.csv\n",
      "Done Reading File test_data_2.csv\n"
     ]
    }
   ],
   "source": [
    "train_data_1_labels, train_data_1_values = read_data_file_2(TRAIN_DATA_FILE_1)\n",
    "train_data_2_labels, train_data_2_values = read_data_file_2(TRAIN_DATA_FILE_2)\n",
    "\n",
    "test_data_1_labels, test_data_1_values = read_data_file_2(TEST_DATA_FILE_1)\n",
    "test_data_2_labels, test_data_2_values = read_data_file_2(TEST_DATA_FILE_2)"
   ]
  },
  {
   "cell_type": "code",
   "execution_count": 57,
   "metadata": {
    "collapsed": true
   },
   "outputs": [],
   "source": [
    "classifier = perceptron.Perceptron(n_iter=1000, verbose=0, random_state=None, fit_intercept=True, eta0=0.002)\n",
    "obs_labels = get_predictions(classifier,1,test_data_1_values)"
   ]
  },
  {
   "cell_type": "code",
   "execution_count": 63,
   "metadata": {
    "collapsed": false
   },
   "outputs": [
    {
     "name": "stdout",
     "output_type": "stream",
     "text": [
      "Errors(2) for Mechanism-1: Zero Tolerance: 96 0.933232366941 0.71997756895\n",
      "Errors(2) for Mechanism-1: 0.1 Tolerance: 87 0.933232366941 0.71997756895\n",
      "Errors(2) for Mechanism-1: 0.2 Tolerance: 72 0.933232366941 0.71997756895\n",
      "Errors(2) for Mechanism-1: Zero Tolerance: 93 0.711856339247 0.738475611967\n",
      "Errors(2) for Mechanism-1: 0.1 Tolerance: 72 0.711856339247 0.738475611967\n",
      "Errors(2) for Mechanism-1: 0.2 Tolerance: 50 0.711856339247 0.738475611967\n"
     ]
    }
   ],
   "source": [
    "def get_error_metric_2(threshold,actual_labels,predicted_labels):\n",
    "    error_count = 0\n",
    "    errors = np.zeros(len(actual_labels))\n",
    "    for index in range(0,len(actual_labels)):\n",
    "        errors[index] = (abs(float(actual_labels[index])-float(predicted_labels[index])))\n",
    "        if abs(float(actual_labels[index])-float(predicted_labels[index])) > threshold:\n",
    "            error_count +=1\n",
    "    return error_count*100/len(actual_labels),np.mean(errors),np.std(errors)\n",
    "\n",
    "error_1,mean_1,std_1 = get_error_metric_2(ERROR_THRESHOLD_1,test_data_1_labels,obs_labels)\n",
    "error_2,mean_2,std_2 = get_error_metric_2(ERROR_THRESHOLD_2,test_data_1_labels,obs_labels)\n",
    "error_3,mean_3,std_3 = get_error_metric_2(ERROR_THRESHOLD_3,test_data_1_labels,obs_labels)\n",
    "print 'Errors(2) for Mechanism-1: Zero Tolerance:',error_1,mean_1,std_1\n",
    "print 'Errors(2) for Mechanism-1: 0.1 Tolerance:',error_2,mean_2,std_2\n",
    "print 'Errors(2) for Mechanism-1: 0.2 Tolerance:',error_3,mean_3,std_3\n",
    "\n",
    "\n",
    "classifier = perceptron.Perceptron(n_iter=1000, verbose=0, random_state=None, fit_intercept=True, eta0=0.002)\n",
    "obs_labels = get_predictions(classifier,2,test_data_2_values)\n",
    "\n",
    "error_1,mean_1,std_1 = get_error_metric_2(ERROR_THRESHOLD_1,test_data_2_labels,obs_labels)\n",
    "error_2,mean_2,std_2 = get_error_metric_2(ERROR_THRESHOLD_2,test_data_2_labels,obs_labels)\n",
    "error_3,mean_3,std_3= get_error_metric_2(ERROR_THRESHOLD_3,test_data_2_labels,obs_labels)\n",
    "print 'Errors(2) for Mechanism-1: Zero Tolerance:',error_1,mean_1,std_1\n",
    "print 'Errors(2) for Mechanism-1: 0.1 Tolerance:',error_2,mean_2,std_2\n",
    "print 'Errors(2) for Mechanism-1: 0.2 Tolerance:',error_3,mean_3,std_3"
   ]
  },
  {
   "cell_type": "code",
   "execution_count": 64,
   "metadata": {
    "collapsed": false
   },
   "outputs": [
    {
     "name": "stdout",
     "output_type": "stream",
     "text": [
      "HERE\n"
     ]
    }
   ],
   "source": [
    "print 'HERE'"
   ]
  },
  {
   "cell_type": "code",
   "execution_count": null,
   "metadata": {
    "collapsed": true
   },
   "outputs": [],
   "source": []
  }
 ],
 "metadata": {
  "kernelspec": {
   "display_name": "Python 2",
   "language": "python",
   "name": "python2"
  },
  "language_info": {
   "codemirror_mode": {
    "name": "ipython",
    "version": 2
   },
   "file_extension": ".py",
   "mimetype": "text/x-python",
   "name": "python",
   "nbconvert_exporter": "python",
   "pygments_lexer": "ipython2",
   "version": "2.7.11"
  }
 },
 "nbformat": 4,
 "nbformat_minor": 0
}
