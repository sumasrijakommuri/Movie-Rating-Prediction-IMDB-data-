{
 "cells": [
  {
   "cell_type": "code",
   "execution_count": 1,
   "metadata": {
    "collapsed": true
   },
   "outputs": [],
   "source": [
    "import csv\n",
    "a=1.2\n",
    "b=2\n"
   ]
  },
  {
   "cell_type": "code",
   "execution_count": 3,
   "metadata": {
    "collapsed": false
   },
   "outputs": [
    {
     "data": {
      "text/plain": [
       "False"
      ]
     },
     "execution_count": 3,
     "metadata": {},
     "output_type": "execute_result"
    }
   ],
   "source": [
    "a.is_integer()"
   ]
  },
  {
   "cell_type": "code",
   "execution_count": 4,
   "metadata": {
    "collapsed": false
   },
   "outputs": [
    {
     "ename": "AttributeError",
     "evalue": "'int' object has no attribute 'is_integer'",
     "output_type": "error",
     "traceback": [
      "\u001b[1;31m---------------------------------------------------------------------------\u001b[0m",
      "\u001b[1;31mAttributeError\u001b[0m                            Traceback (most recent call last)",
      "\u001b[1;32m<ipython-input-4-6486986132c6>\u001b[0m in \u001b[0;36m<module>\u001b[1;34m()\u001b[0m\n\u001b[1;32m----> 1\u001b[1;33m \u001b[0mb\u001b[0m\u001b[1;33m.\u001b[0m\u001b[0mis_integer\u001b[0m\u001b[1;33m(\u001b[0m\u001b[1;33m)\u001b[0m\u001b[1;33m\u001b[0m\u001b[0m\n\u001b[0m",
      "\u001b[1;31mAttributeError\u001b[0m: 'int' object has no attribute 'is_integer'"
     ]
    }
   ],
   "source": [
    "b.is_integer()"
   ]
  },
  {
   "cell_type": "code",
   "execution_count": 5,
   "metadata": {
    "collapsed": true
   },
   "outputs": [],
   "source": [
    "import csv\n",
    "COMMA = ','\n",
    "NEWLINE = '\\n'\n",
    "\n",
    "outliers = [\"0798817\",\"3781762\",\"3465074\",\"0478087\",\"1629439\",\"0450385\",\"1680045\",\"0120577\",\"0126765\",\"0416449\",\"0453562\",\"0116635\",\"1190080\",\"1517177\",\"2395385\",\"0472033\",\"0493101\",\" 0259822\"]\n",
    "\n",
    "def remove_names():\n",
    "    data_file = file('movie_data_with_names.csv','r')\n",
    "    data = csv.reader(data_file,delimiter=',')\n",
    "    fp = open('data.csv','w')\n",
    "    for row in data:\n",
    "        fp.write(row[0])\n",
    "        for i in range(1,len(row)):\n",
    "            try:\n",
    "                val = float(row[i])\n",
    "                if val!=None and val!='':\n",
    "                    if row[0] in outliers:\n",
    "                        if i!=1:\n",
    "                            fp.write(COMMA+row[i])\n",
    "                    else:\n",
    "                        fp.write(COMMA+row[i])\n",
    "            except:\n",
    "                pass\n",
    "        fp.write(NEWLINE)\n",
    "    print 'Done removing names'\n"
   ]
  },
  {
   "cell_type": "code",
   "execution_count": 6,
   "metadata": {
    "collapsed": false
   },
   "outputs": [
    {
     "name": "stdout",
     "output_type": "stream",
     "text": [
      "Done removing names\n"
     ]
    }
   ],
   "source": [
    "remove_names()"
   ]
  },
  {
   "cell_type": "code",
   "execution_count": null,
   "metadata": {
    "collapsed": true
   },
   "outputs": [],
   "source": []
  }
 ],
 "metadata": {
  "kernelspec": {
   "display_name": "Python 2",
   "language": "python",
   "name": "python2"
  },
  "language_info": {
   "codemirror_mode": {
    "name": "ipython",
    "version": 2
   },
   "file_extension": ".py",
   "mimetype": "text/x-python",
   "name": "python",
   "nbconvert_exporter": "python",
   "pygments_lexer": "ipython2",
   "version": "2.7.11"
  }
 },
 "nbformat": 4,
 "nbformat_minor": 0
}
