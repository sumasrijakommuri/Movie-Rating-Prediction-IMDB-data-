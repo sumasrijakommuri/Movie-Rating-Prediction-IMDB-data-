{
 "cells": [
  {
   "cell_type": "code",
   "execution_count": 2,
   "metadata": {
    "collapsed": false
   },
   "outputs": [],
   "source": [
    "import csv\n",
    "\n",
    "from sklearn import svm\n",
    "import numpy as np\n",
    "from sklearn.metrics import mean_squared_error\n",
    "\n",
    "import warnings\n",
    "warnings.filterwarnings('ignore')\n",
    "\n",
    "TEST_DATA_FILE_1 = \"test_data_1.csv\"\n",
    "TEST_DATA_FILE_2 = \"test_data_2.csv\"\n",
    "TRAIN_DATA_FILE_1 = \"train_data_1.csv\"\n",
    "TRAIN_DATA_FILE_2 = \"train_data_2.csv\"\n",
    "PROD_INDEX = 6\n",
    "DIR_INDEX = 5\n",
    "ERROR_THRESHOLD_1 = 0\n",
    "ERROR_THRESHOLD_2 = 0.2\n",
    "ERROR_THRESHOLD_3 = 0.4"
   ]
  },
  {
   "cell_type": "code",
   "execution_count": 3,
   "metadata": {
    "collapsed": false
   },
   "outputs": [],
   "source": [
    "def read_data_file(filename):    \n",
    "    with open(filename, 'r') as data_file:\n",
    "        data = csv.reader(data_file, delimiter=',')\n",
    "        labels = []\n",
    "        values = []\n",
    "        for row in data:\n",
    "            value = []\n",
    "            prod_value = 0\n",
    "            writer_value = 0\n",
    "            for index in range(1,PROD_INDEX):\n",
    "                value.append(float(row[index]))\n",
    "            for index in range(PROD_INDEX + 1,PROD_INDEX + int(row[PROD_INDEX]) + 1):\n",
    "                prod_value = max(float(row[index]),prod_value)\n",
    "            value.append(prod_value)\n",
    "            WRITER_INDEX = PROD_INDEX + int(row[PROD_INDEX]) + 1\n",
    "            for index in range(WRITER_INDEX+1,len(row)):\n",
    "                writer_value = max(float(row[index]),writer_value)\n",
    "            value.append(writer_value)\n",
    "            labels.append(float(row[0]))\n",
    "            values.append(value)\n",
    "    print('Done Reading File',filename)\n",
    "    return labels,values"
   ]
  },
  {
   "cell_type": "code",
   "execution_count": 4,
   "metadata": {
    "collapsed": false
   },
   "outputs": [
    {
     "name": "stdout",
     "output_type": "stream",
     "text": [
      "('Done Reading File', 'train_data_1.csv')\n",
      "('Done Reading File', 'train_data_2.csv')\n",
      "('Done Reading File', 'test_data_1.csv')\n",
      "('Done Reading File', 'test_data_2.csv')\n"
     ]
    }
   ],
   "source": [
    "train_data_1_labels, train_data_1_values = read_data_file(TRAIN_DATA_FILE_1)\n",
    "train_data_2_labels, train_data_2_values = read_data_file(TRAIN_DATA_FILE_2)\n",
    "\n",
    "test_data_1_labels, test_data_1_values = read_data_file(TEST_DATA_FILE_1)\n",
    "test_data_2_labels, test_data_2_values = read_data_file(TEST_DATA_FILE_2)"
   ]
  },
  {
   "cell_type": "code",
   "execution_count": 5,
   "metadata": {
    "collapsed": true
   },
   "outputs": [],
   "source": [
    "def get_error_metric(threshold,actual_labels,predicted_labels):\n",
    "    error_count = 0\n",
    "    errors = np.zeros(len(actual_labels))\n",
    "    for index in range(0,len(actual_labels)):\n",
    "        errors[index] = (abs(float(actual_labels[index])-float(predicted_labels[index])))\n",
    "        if abs(float(actual_labels[index])-float(predicted_labels[index])) > threshold:\n",
    "            error_count +=1\n",
    "    return error_count*100/len(actual_labels),np.mean(errors),np.std(errors)\n",
    "\n",
    "def get_mean_squared_error(actual_labels,predicted_labels):\n",
    "    return mean_squared_error(actual_labels,predicted_labels)"
   ]
  },
  {
   "cell_type": "code",
   "execution_count": 6,
   "metadata": {
    "collapsed": false
   },
   "outputs": [],
   "source": [
    "def get_predictions(classifier,val,data):\n",
    "    if val==1:\n",
    "        X = np.asarray(train_data_1_values)\n",
    "        Y = np.asarray(train_data_1_labels)\n",
    "    else:\n",
    "        X = np.asarray(train_data_2_values)\n",
    "        Y = np.asarray(train_data_2_labels)\n",
    "    classifier.fit(X,Y)\n",
    "    return classifier.predict(data)"
   ]
  },
  {
   "cell_type": "code",
   "execution_count": 7,
   "metadata": {
    "collapsed": false
   },
   "outputs": [],
   "source": [
    "classifier = svm.NuSVR(kernel='linear')\n",
    "obs_labels = get_predictions(classifier,1,test_data_1_values)"
   ]
  },
  {
   "cell_type": "code",
   "execution_count": 8,
   "metadata": {
    "collapsed": false
   },
   "outputs": [
    {
     "name": "stdout",
     "output_type": "stream",
     "text": [
      "('Errors for Mechanism-1: Zero Tolerance:', 100, 0.27688999777514917, 0.27994782688075848)\n",
      "('Errors for Mechanism-1: 0.1 Tolerance:', 47, 0.27688999777514917, 0.27994782688075848)\n",
      "('Errors for Mechanism-1: 0.2 Tolerance:', 24, 0.27688999777514917, 0.27994782688075848)\n",
      "('MSE Mechansim-1:', 0.15503885664318123)\n"
     ]
    }
   ],
   "source": [
    "error_1,mean_1,std_1 = get_error_metric(ERROR_THRESHOLD_1,test_data_1_labels,obs_labels)\n",
    "error_2,mean_2,std_2 = get_error_metric(ERROR_THRESHOLD_2,test_data_1_labels,obs_labels)\n",
    "error_3,mean_3,std_3 = get_error_metric(ERROR_THRESHOLD_3,test_data_1_labels,obs_labels)\n",
    "print('Errors for Mechanism-1: Zero Tolerance:',error_1,mean_1,std_1)\n",
    "print('Errors for Mechanism-1: 0.1 Tolerance:',error_2,mean_2,std_2)\n",
    "print('Errors for Mechanism-1: 0.2 Tolerance:',error_3,mean_3,std_3)\n",
    "print('MSE Mechansim-1:',get_mean_squared_error(test_data_1_labels,obs_labels))"
   ]
  },
  {
   "cell_type": "code",
   "execution_count": 9,
   "metadata": {
    "collapsed": true
   },
   "outputs": [],
   "source": [
    "obs_labels = get_predictions(classifier,2,test_data_2_values)"
   ]
  },
  {
   "cell_type": "code",
   "execution_count": 10,
   "metadata": {
    "collapsed": false
   },
   "outputs": [
    {
     "name": "stdout",
     "output_type": "stream",
     "text": [
      "('Errors for Mechanism-2: Zero Tolerance:', 100, 0.3006647356057327, 0.28008727094358105)\n",
      "('Errors for Mechanism-2: 0.1 Tolerance:', 55, 0.3006647356057327, 0.28008727094358105)\n",
      "('Errors for Mechanism-2: 0.2 Tolerance:', 25, 0.3006647356057327, 0.28008727094358105)\n",
      "('MSE Mechansim-2:', 0.1688481625814881)\n"
     ]
    }
   ],
   "source": [
    "error_1,mean_1,std_1 = get_error_metric(ERROR_THRESHOLD_1,test_data_2_labels,obs_labels)\n",
    "error_2,mean_2,std_2 = get_error_metric(ERROR_THRESHOLD_2,test_data_2_labels,obs_labels)\n",
    "error_3,mean_3,std_3 = get_error_metric(ERROR_THRESHOLD_3,test_data_2_labels,obs_labels)\n",
    "print('Errors for Mechanism-2: Zero Tolerance:',error_1,mean_1,std_1)\n",
    "print('Errors for Mechanism-2: 0.1 Tolerance:',error_2,mean_2,std_2)\n",
    "print('Errors for Mechanism-2: 0.2 Tolerance:',error_3,mean_3,std_3)\n",
    "print('MSE Mechansim-2:',get_mean_squared_error(test_data_2_labels,obs_labels))"
   ]
  },
  {
   "cell_type": "code",
   "execution_count": 32,
   "metadata": {
    "collapsed": true
   },
   "outputs": [],
   "source": [
    "avg_rating = 6.031\n",
    "\n",
    "def read_data_file_2(filename):    \n",
    "    with open(filename, 'r') as data_file:\n",
    "        data = csv.reader(data_file, delimiter=',')\n",
    "        labels = []\n",
    "        values = []\n",
    "        for row in data:\n",
    "            value = []\n",
    "            prod_value = 0\n",
    "            writer_value = 0\n",
    "            for index in range(1,PROD_INDEX):\n",
    "                value.append(float(row[index]))\n",
    "            for index in range(PROD_INDEX + 1,PROD_INDEX + int(row[PROD_INDEX]) + 1):\n",
    "                prod_value = max(float(row[index]),prod_value)\n",
    "            value.append(prod_value)\n",
    "            WRITER_INDEX = PROD_INDEX + int(row[PROD_INDEX]) + 1\n",
    "            for index in range(WRITER_INDEX+1,len(row)):\n",
    "                writer_value = max(float(row[index]),writer_value)\n",
    "            value.append(writer_value)\n",
    "            labels.append(float(row[0])-avg_rating)\n",
    "            values.append(value)\n",
    "    print('Done Reading File',filename)\n",
    "    return labels,values"
   ]
  },
  {
   "cell_type": "code",
   "execution_count": 33,
   "metadata": {
    "collapsed": false
   },
   "outputs": [
    {
     "name": "stdout",
     "output_type": "stream",
     "text": [
      "('Done Reading File', 'train_data_1.csv')\n",
      "('Done Reading File', 'train_data_2.csv')\n",
      "('Done Reading File', 'test_data_1.csv')\n",
      "('Done Reading File', 'test_data_2.csv')\n"
     ]
    }
   ],
   "source": [
    "train_data_1_labels, train_data_1_values = read_data_file_2(TRAIN_DATA_FILE_1)\n",
    "train_data_2_labels, train_data_2_values = read_data_file_2(TRAIN_DATA_FILE_2)\n",
    "\n",
    "test_data_1_labels, test_data_1_values = read_data_file_2(TEST_DATA_FILE_1)\n",
    "test_data_2_labels, test_data_2_values = read_data_file_2(TEST_DATA_FILE_2)"
   ]
  },
  {
   "cell_type": "code",
   "execution_count": 34,
   "metadata": {
    "collapsed": true
   },
   "outputs": [],
   "source": [
    "obs_labels = get_predictions(classifier,1,test_data_1_values)"
   ]
  },
  {
   "cell_type": "code",
   "execution_count": 35,
   "metadata": {
    "collapsed": false
   },
   "outputs": [
    {
     "name": "stdout",
     "output_type": "stream",
     "text": [
      "('Errors(2) for Mechanism-1: Zero Tolerance:', 100, 0.27689831980727486, 0.27990576869086875)\n",
      "('Errors(2) for Mechanism-1: 0.1 Tolerance:', 47, 0.27689831980727486, 0.27990576869086875)\n",
      "('Errors(2) for Mechanism-1: 0.2 Tolerance:', 24, 0.27689831980727486, 0.27990576869086875)\n",
      "('(2) MSE Mechansim-1:', 0.15501991885851799)\n"
     ]
    }
   ],
   "source": [
    "error_1,mean_1,std_1 = get_error_metric(ERROR_THRESHOLD_1,test_data_1_labels,obs_labels)\n",
    "error_2,mean_2,std_2 = get_error_metric(ERROR_THRESHOLD_2,test_data_1_labels,obs_labels)\n",
    "error_3,mean_3,std_3 = get_error_metric(ERROR_THRESHOLD_3,test_data_1_labels,obs_labels)\n",
    "print('Errors(2) for Mechanism-1: Zero Tolerance:',error_1,mean_1,std_1)\n",
    "print('Errors(2) for Mechanism-1: 0.1 Tolerance:',error_2,mean_2,std_2)\n",
    "print('Errors(2) for Mechanism-1: 0.2 Tolerance:',error_3,mean_3,std_3)\n",
    "print('(2) MSE Mechansim-1:',get_mean_squared_error(test_data_1_labels,obs_labels))"
   ]
  },
  {
   "cell_type": "code",
   "execution_count": 36,
   "metadata": {
    "collapsed": true
   },
   "outputs": [],
   "source": [
    "obs_labels = get_predictions(classifier,2,test_data_2_values)"
   ]
  },
  {
   "cell_type": "code",
   "execution_count": 1,
   "metadata": {
    "collapsed": false
   },
   "outputs": [
    {
     "ename": "NameError",
     "evalue": "name 'get_error_metric' is not defined",
     "output_type": "error",
     "traceback": [
      "\u001b[1;31m---------------------------------------------------------------------------\u001b[0m",
      "\u001b[1;31mNameError\u001b[0m                                 Traceback (most recent call last)",
      "\u001b[1;32m<ipython-input-1-7756de9fcdea>\u001b[0m in \u001b[0;36m<module>\u001b[1;34m()\u001b[0m\n\u001b[1;32m----> 1\u001b[1;33m \u001b[0merror_1\u001b[0m\u001b[1;33m,\u001b[0m\u001b[0mmean_1\u001b[0m\u001b[1;33m,\u001b[0m\u001b[0mstd_1\u001b[0m \u001b[1;33m=\u001b[0m \u001b[0mget_error_metric\u001b[0m\u001b[1;33m(\u001b[0m\u001b[0mERROR_THRESHOLD_1\u001b[0m\u001b[1;33m,\u001b[0m\u001b[0mtest_data_2_labels\u001b[0m\u001b[1;33m,\u001b[0m\u001b[0mobs_labels\u001b[0m\u001b[1;33m)\u001b[0m\u001b[1;33m\u001b[0m\u001b[0m\n\u001b[0m\u001b[0;32m      2\u001b[0m \u001b[0merror_2\u001b[0m\u001b[1;33m,\u001b[0m\u001b[0mmean_2\u001b[0m\u001b[1;33m,\u001b[0m\u001b[0mstd_2\u001b[0m \u001b[1;33m=\u001b[0m \u001b[0mget_error_metric\u001b[0m\u001b[1;33m(\u001b[0m\u001b[0mERROR_THRESHOLD_2\u001b[0m\u001b[1;33m,\u001b[0m\u001b[0mtest_data_2_labels\u001b[0m\u001b[1;33m,\u001b[0m\u001b[0mobs_labels\u001b[0m\u001b[1;33m)\u001b[0m\u001b[1;33m\u001b[0m\u001b[0m\n\u001b[0;32m      3\u001b[0m \u001b[0merror_3\u001b[0m\u001b[1;33m,\u001b[0m\u001b[0mmean_3\u001b[0m\u001b[1;33m,\u001b[0m\u001b[0mstd_3\u001b[0m \u001b[1;33m=\u001b[0m \u001b[0mget_error_metric\u001b[0m\u001b[1;33m(\u001b[0m\u001b[0mERROR_THRESHOLD_3\u001b[0m\u001b[1;33m,\u001b[0m\u001b[0mtest_data_2_labels\u001b[0m\u001b[1;33m,\u001b[0m\u001b[0mobs_labels\u001b[0m\u001b[1;33m)\u001b[0m\u001b[1;33m\u001b[0m\u001b[0m\n\u001b[0;32m      4\u001b[0m \u001b[1;32mprint\u001b[0m\u001b[1;33m(\u001b[0m\u001b[1;34m'Errors(2) for Mechanism-2: Zero Tolerance:'\u001b[0m\u001b[1;33m,\u001b[0m\u001b[0merror_1\u001b[0m\u001b[1;33m,\u001b[0m\u001b[0mmean_1\u001b[0m\u001b[1;33m,\u001b[0m\u001b[0mstd_1\u001b[0m\u001b[1;33m)\u001b[0m\u001b[1;33m\u001b[0m\u001b[0m\n\u001b[0;32m      5\u001b[0m \u001b[1;32mprint\u001b[0m\u001b[1;33m(\u001b[0m\u001b[1;34m'Errors(2) for Mechanism-2: 0.1 Tolerance:'\u001b[0m\u001b[1;33m,\u001b[0m\u001b[0merror_2\u001b[0m\u001b[1;33m,\u001b[0m\u001b[0mmean_2\u001b[0m\u001b[1;33m,\u001b[0m\u001b[0mstd_2\u001b[0m\u001b[1;33m)\u001b[0m\u001b[1;33m\u001b[0m\u001b[0m\n",
      "\u001b[1;31mNameError\u001b[0m: name 'get_error_metric' is not defined"
     ]
    }
   ],
   "source": [
    "error_1,mean_1,std_1 = get_error_metric(ERROR_THRESHOLD_1,test_data_2_labels,obs_labels)\n",
    "error_2,mean_2,std_2 = get_error_metric(ERROR_THRESHOLD_2,test_data_2_labels,obs_labels)\n",
    "error_3,mean_3,std_3 = get_error_metric(ERROR_THRESHOLD_3,test_data_2_labels,obs_labels)\n",
    "print('Errors(2) for Mechanism-2: Zero Tolerance:',error_1,mean_1,std_1)\n",
    "print('Errors(2) for Mechanism-2: 0.1 Tolerance:',error_2,mean_2,std_2)\n",
    "print('Errors(2) for Mechanism-2: 0.2 Tolerance:',error_3,mean_3,std_3)\n",
    "print('(2) MSE Mechansim-2:',get_mean_squared_error(test_data_2_labels,obs_labels))"
   ]
  },
  {
   "cell_type": "code",
   "execution_count": null,
   "metadata": {
    "collapsed": true
   },
   "outputs": [],
   "source": []
  },
  {
   "cell_type": "code",
   "execution_count": null,
   "metadata": {
    "collapsed": true
   },
   "outputs": [],
   "source": []
  },
  {
   "cell_type": "code",
   "execution_count": null,
   "metadata": {
    "collapsed": true
   },
   "outputs": [],
   "source": []
  },
  {
   "cell_type": "code",
   "execution_count": null,
   "metadata": {
    "collapsed": true
   },
   "outputs": [],
   "source": []
  }
 ],
 "metadata": {
  "kernelspec": {
   "display_name": "Python 2",
   "language": "python",
   "name": "python2"
  },
  "language_info": {
   "codemirror_mode": {
    "name": "ipython",
    "version": 2
   },
   "file_extension": ".py",
   "mimetype": "text/x-python",
   "name": "python",
   "nbconvert_exporter": "python",
   "pygments_lexer": "ipython2",
   "version": "2.7.11"
  }
 },
 "nbformat": 4,
 "nbformat_minor": 0
}
