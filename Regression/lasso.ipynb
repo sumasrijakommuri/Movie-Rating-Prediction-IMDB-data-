{
 "cells": [
  {
   "cell_type": "code",
   "execution_count": 1,
   "metadata": {
    "collapsed": false
   },
   "outputs": [],
   "source": [
    "import csv\n",
    "\n",
    "from sklearn.linear_model import Lasso\n",
    "import numpy as np\n",
    "from sklearn.metrics import mean_squared_error,mean_absolute_error\n",
    "\n",
    "import warnings\n",
    "warnings.filterwarnings('ignore')\n",
    "\n",
    "TEST_DATA_FILE_1 = \"test_data_1.csv\"\n",
    "TEST_DATA_FILE_2 = \"test_data_2.csv\"\n",
    "TRAIN_DATA_FILE_1 = \"train_data_1.csv\"\n",
    "TRAIN_DATA_FILE_2 = \"train_data_2.csv\"\n",
    "PROD_INDEX = 6\n",
    "DIR_INDEX = 5\n",
    "ERROR_THRESHOLD_1 = 0\n",
    "ERROR_THRESHOLD_2 = 0.2\n",
    "ERROR_THRESHOLD_3 = 0.4"
   ]
  },
  {
   "cell_type": "code",
   "execution_count": 2,
   "metadata": {
    "collapsed": false
   },
   "outputs": [],
   "source": [
    "def read_data_file(filename):    \n",
    "    data_file = file(filename, 'r')\n",
    "    data = csv.reader(data_file, delimiter=',')\n",
    "    labels = []\n",
    "    values = []\n",
    "    for row in data:\n",
    "        value = []\n",
    "        prod_value = 0\n",
    "        writer_value = 0\n",
    "        for index in range(1,PROD_INDEX):\n",
    "            value.append(float(row[index]))\n",
    "        for index in range(PROD_INDEX + 1,PROD_INDEX + int(row[PROD_INDEX]) + 1):\n",
    "            prod_value = max(float(row[index]),prod_value)\n",
    "        value.append(prod_value)\n",
    "        WRITER_INDEX = PROD_INDEX + int(row[PROD_INDEX]) + 1\n",
    "        for index in range(WRITER_INDEX+1,len(row)):\n",
    "            writer_value = max(float(row[index]),writer_value)\n",
    "        value.append(writer_value)\n",
    "        labels.append(float(row[0]))\n",
    "        values.append(value)\n",
    "    print 'Done Reading File',filename\n",
    "    return labels,values"
   ]
  },
  {
   "cell_type": "code",
   "execution_count": 3,
   "metadata": {
    "collapsed": false
   },
   "outputs": [
    {
     "name": "stdout",
     "output_type": "stream",
     "text": [
      "Done Reading File train_data_1.csv\n",
      "Done Reading File train_data_2.csv\n",
      "Done Reading File test_data_1.csv\n",
      "Done Reading File test_data_2.csv\n"
     ]
    }
   ],
   "source": [
    "train_data_1_labels, train_data_1_values = read_data_file(TRAIN_DATA_FILE_1)\n",
    "train_data_2_labels, train_data_2_values = read_data_file(TRAIN_DATA_FILE_2)\n",
    "\n",
    "test_data_1_labels, test_data_1_values = read_data_file(TEST_DATA_FILE_1)\n",
    "test_data_2_labels, test_data_2_values = read_data_file(TEST_DATA_FILE_2)"
   ]
  },
  {
   "cell_type": "code",
   "execution_count": 4,
   "metadata": {
    "collapsed": true
   },
   "outputs": [],
   "source": [
    "def get_error_metric(threshold,actual_labels,predicted_labels):\n",
    "    error_count = 0\n",
    "    errors = np.zeros(len(actual_labels))\n",
    "    for index in range(0,len(actual_labels)):\n",
    "        errors[index] = (abs(float(actual_labels[index])-float(predicted_labels[index])))\n",
    "        if abs(float(actual_labels[index])-float(predicted_labels[index])) > threshold:\n",
    "            error_count +=1\n",
    "    return error_count*100/len(actual_labels),np.mean(errors),np.std(errors)\n",
    "\n",
    "def get_mean_squared_error(actual_labels,predicted_labels):\n",
    "    return mean_squared_error(actual_labels,predicted_labels)\n",
    "\n",
    "def get_mean_absolute_error(actual_labels,predicted_labels):\n",
    "    return mean_absolute_error(actual_labels,predicted_labels)"
   ]
  },
  {
   "cell_type": "code",
   "execution_count": 5,
   "metadata": {
    "collapsed": false
   },
   "outputs": [],
   "source": [
    "def get_predictions(classifier,val,data):\n",
    "    if val==1:\n",
    "        X = np.asarray(train_data_1_values)\n",
    "        Y = np.asarray(train_data_1_labels)\n",
    "    else:\n",
    "        X = np.asarray(train_data_2_values)\n",
    "        Y = np.asarray(train_data_2_labels)\n",
    "    classifier.fit(X,Y)\n",
    "    return classifier.predict(data)"
   ]
  },
  {
   "cell_type": "code",
   "execution_count": 6,
   "metadata": {
    "collapsed": false
   },
   "outputs": [
    {
     "name": "stdout",
     "output_type": "stream",
     "text": [
      "Lambda:1\n",
      "Errors for Mechanism-1: Zero Tolerance: 100 0.850173415149 0.660573005044\n",
      "Errors for Mechanism-1: 0.1 Tolerance: 85 0.850173415149 0.660573005044\n",
      "Errors for Mechanism-1: 0.2 Tolerance: 70 0.850173415149 0.660573005044\n",
      "MSE Mechansim-1: 1.15915153082\n",
      "Mean Absolute Error Mechansim-1: 0.850173415149\n"
     ]
    }
   ],
   "source": [
    "classifier = Lasso()\n",
    "obs_labels = get_predictions(classifier,1,test_data_1_values)\n",
    "\n",
    "print 'Lambda:1'\n",
    "error_1,mean_1,std_1 = get_error_metric(ERROR_THRESHOLD_1,test_data_1_labels,obs_labels)\n",
    "error_2,mean_2,std_2 = get_error_metric(ERROR_THRESHOLD_2,test_data_1_labels,obs_labels)\n",
    "error_3,mean_3,std_3 = get_error_metric(ERROR_THRESHOLD_3,test_data_1_labels,obs_labels)\n",
    "print 'Errors for Mechanism-1: Zero Tolerance:',error_1,mean_1,std_1\n",
    "print 'Errors for Mechanism-1: 0.1 Tolerance:',error_2,mean_2,std_2\n",
    "print 'Errors for Mechanism-1: 0.2 Tolerance:',error_3,mean_3,std_3\n",
    "print 'MSE Mechansim-1:',get_mean_squared_error(test_data_1_labels,obs_labels)\n",
    "print 'Mean Absolute Error Mechansim-1:',get_mean_absolute_error(test_data_1_labels,obs_labels)"
   ]
  },
  {
   "cell_type": "code",
   "execution_count": 7,
   "metadata": {
    "collapsed": false
   },
   "outputs": [
    {
     "name": "stdout",
     "output_type": "stream",
     "text": [
      "Lambda:-1\n",
      "Errors for Mechanism-1: Zero Tolerance: 100 3.96599725137 3.55953396652\n",
      "Errors for Mechanism-1: 0.1 Tolerance: 95 3.96599725137 3.55953396652\n",
      "Errors for Mechanism-1: 0.2 Tolerance: 91 3.96599725137 3.55953396652\n",
      "MSE Mechansim-1: 28.3994162567\n",
      "Mean Absolute Error Mechansim-1: 3.96599725137\n"
     ]
    }
   ],
   "source": [
    "classifier = Lasso(alpha=-1)\n",
    "obs_labels = get_predictions(classifier,1,test_data_1_values)\n",
    "\n",
    "print 'Lambda:-1'\n",
    "error_1,mean_1,std_1 = get_error_metric(ERROR_THRESHOLD_1,test_data_1_labels,obs_labels)\n",
    "error_2,mean_2,std_2 = get_error_metric(ERROR_THRESHOLD_2,test_data_1_labels,obs_labels)\n",
    "error_3,mean_3,std_3 = get_error_metric(ERROR_THRESHOLD_3,test_data_1_labels,obs_labels)\n",
    "print 'Errors for Mechanism-1: Zero Tolerance:',error_1,mean_1,std_1\n",
    "print 'Errors for Mechanism-1: 0.1 Tolerance:',error_2,mean_2,std_2\n",
    "print 'Errors for Mechanism-1: 0.2 Tolerance:',error_3,mean_3,std_3\n",
    "print 'MSE Mechansim-1:',get_mean_squared_error(test_data_1_labels,obs_labels)\n",
    "print 'Mean Absolute Error Mechansim-1:',get_mean_absolute_error(test_data_1_labels,obs_labels)"
   ]
  },
  {
   "cell_type": "code",
   "execution_count": 8,
   "metadata": {
    "collapsed": false
   },
   "outputs": [
    {
     "name": "stdout",
     "output_type": "stream",
     "text": [
      "Lambda:0.1\n",
      "Errors for Mechanism-1: Zero Tolerance: 100 0.284717103478 0.294940771994\n",
      "Errors for Mechanism-1: 0.1 Tolerance: 48 0.284717103478 0.294940771994\n",
      "Errors for Mechanism-1: 0.2 Tolerance: 25 0.284717103478 0.294940771994\n",
      "MSE Mechansim-1: 0.168053887997\n",
      "Mean Absolute Error Mechansim-1: 0.284717103478\n",
      "Lambda:2\n",
      "Errors for Mechanism-1: Zero Tolerance: 100 0.850173415149 0.660573005044\n",
      "Errors for Mechanism-1: 0.1 Tolerance: 85 0.850173415149 0.660573005044\n",
      "Errors for Mechanism-1: 0.2 Tolerance: 70 0.850173415149 0.660573005044\n",
      "MSE Mechansim-1: 1.15915153082\n",
      "Mean Absolute Error Mechansim-1: 0.850173415149\n"
     ]
    }
   ],
   "source": [
    "classifier = Lasso(alpha=0.1)\n",
    "obs_labels = get_predictions(classifier,1,test_data_1_values)\n",
    "\n",
    "print 'Lambda:0.1'\n",
    "error_1,mean_1,std_1 = get_error_metric(ERROR_THRESHOLD_1,test_data_1_labels,obs_labels)\n",
    "error_2,mean_2,std_2 = get_error_metric(ERROR_THRESHOLD_2,test_data_1_labels,obs_labels)\n",
    "error_3,mean_3,std_3 = get_error_metric(ERROR_THRESHOLD_3,test_data_1_labels,obs_labels)\n",
    "print 'Errors for Mechanism-1: Zero Tolerance:',error_1,mean_1,std_1\n",
    "print 'Errors for Mechanism-1: 0.1 Tolerance:',error_2,mean_2,std_2\n",
    "print 'Errors for Mechanism-1: 0.2 Tolerance:',error_3,mean_3,std_3\n",
    "print 'MSE Mechansim-1:',get_mean_squared_error(test_data_1_labels,obs_labels)\n",
    "print 'Mean Absolute Error Mechansim-1:',get_mean_absolute_error(test_data_1_labels,obs_labels)\n",
    "\n",
    "classifier = Lasso(alpha=2)\n",
    "obs_labels = get_predictions(classifier,1,test_data_1_values)\n",
    "\n",
    "print 'Lambda:2'\n",
    "error_1,mean_1,std_1 = get_error_metric(ERROR_THRESHOLD_1,test_data_1_labels,obs_labels)\n",
    "error_2,mean_2,std_2 = get_error_metric(ERROR_THRESHOLD_2,test_data_1_labels,obs_labels)\n",
    "error_3,mean_3,std_3 = get_error_metric(ERROR_THRESHOLD_3,test_data_1_labels,obs_labels)\n",
    "print 'Errors for Mechanism-1: Zero Tolerance:',error_1,mean_1,std_1\n",
    "print 'Errors for Mechanism-1: 0.1 Tolerance:',error_2,mean_2,std_2\n",
    "print 'Errors for Mechanism-1: 0.2 Tolerance:',error_3,mean_3,std_3\n",
    "print 'MSE Mechansim-1:',get_mean_squared_error(test_data_1_labels,obs_labels)\n",
    "print 'Mean Absolute Error Mechansim-1:',get_mean_absolute_error(test_data_1_labels,obs_labels)    "
   ]
  },
  {
   "cell_type": "code",
   "execution_count": 9,
   "metadata": {
    "collapsed": false
   },
   "outputs": [
    {
     "name": "stdout",
     "output_type": "stream",
     "text": [
      "Lambda:-0.1\n",
      "Errors for Mechanism-1: Zero Tolerance: 100 0.529409702179 0.481409912521\n",
      "Errors for Mechanism-1: 0.1 Tolerance: 72 0.529409702179 0.481409912521\n",
      "Errors for Mechanism-1: 0.2 Tolerance: 50 0.529409702179 0.481409912521\n",
      "MSE Mechansim-1: 0.512030136635\n",
      "Mean Absolute Error Mechansim-1: 0.529409702179\n",
      "Lambda:0.2\n",
      "Errors for Mechanism-1: Zero Tolerance: 100 0.331894595629 0.313931364457\n",
      "Errors for Mechanism-1: 0.1 Tolerance: 56 0.331894595629 0.313931364457\n",
      "Errors for Mechanism-1: 0.2 Tolerance: 30 0.331894595629 0.313931364457\n",
      "MSE Mechansim-1: 0.208706924198\n",
      "Mean Absolute Error Mechansim-1: 0.331894595629\n",
      "Lambda:-0.2\n",
      "Errors for Mechanism-1: Zero Tolerance: 100 0.933319905476 0.833047829679\n",
      "Errors for Mechanism-1: 0.1 Tolerance: 83 0.933319905476 0.833047829679\n",
      "Errors for Mechanism-1: 0.2 Tolerance: 69 0.933319905476 0.833047829679\n",
      "MSE Mechansim-1: 1.56505473249\n",
      "Mean Absolute Error Mechansim-1: 0.933319905476\n",
      "Lambda:0.05\n",
      "Errors for Mechanism-1: Zero Tolerance: 100 0.278601447351 0.281889353599\n",
      "Errors for Mechanism-1: 0.1 Tolerance: 47 0.278601447351 0.281889353599\n",
      "Errors for Mechanism-1: 0.2 Tolerance: 24 0.278601447351 0.281889353599\n",
      "MSE Mechansim-1: 0.157080374139\n",
      "Mean Absolute Error Mechansim-1: 0.278601447351\n",
      "Lambda:-0.05\n",
      "Errors for Mechanism-1: Zero Tolerance: 100 0.34614160714 0.315018843285\n",
      "Errors for Mechanism-1: 0.1 Tolerance: 60 0.34614160714 0.315018843285\n",
      "Errors for Mechanism-1: 0.2 Tolerance: 32 0.34614160714 0.315018843285\n",
      "MSE Mechansim-1: 0.219050883818\n",
      "Mean Absolute Error Mechansim-1: 0.34614160714\n"
     ]
    }
   ],
   "source": [
    "classifier = Lasso(alpha=-0.1)\n",
    "obs_labels = get_predictions(classifier,1,test_data_1_values)\n",
    "\n",
    "print 'Lambda:-0.1'\n",
    "error_1,mean_1,std_1 = get_error_metric(ERROR_THRESHOLD_1,test_data_1_labels,obs_labels)\n",
    "error_2,mean_2,std_2 = get_error_metric(ERROR_THRESHOLD_2,test_data_1_labels,obs_labels)\n",
    "error_3,mean_3,std_3 = get_error_metric(ERROR_THRESHOLD_3,test_data_1_labels,obs_labels)\n",
    "print 'Errors for Mechanism-1: Zero Tolerance:',error_1,mean_1,std_1\n",
    "print 'Errors for Mechanism-1: 0.1 Tolerance:',error_2,mean_2,std_2\n",
    "print 'Errors for Mechanism-1: 0.2 Tolerance:',error_3,mean_3,std_3\n",
    "print 'MSE Mechansim-1:',get_mean_squared_error(test_data_1_labels,obs_labels)\n",
    "print 'Mean Absolute Error Mechansim-1:',get_mean_absolute_error(test_data_1_labels,obs_labels)\n",
    "\n",
    "\n",
    "classifier = Lasso(alpha=0.2)\n",
    "obs_labels = get_predictions(classifier,1,test_data_1_values)\n",
    "\n",
    "print 'Lambda:0.2'\n",
    "error_1,mean_1,std_1 = get_error_metric(ERROR_THRESHOLD_1,test_data_1_labels,obs_labels)\n",
    "error_2,mean_2,std_2 = get_error_metric(ERROR_THRESHOLD_2,test_data_1_labels,obs_labels)\n",
    "error_3,mean_3,std_3 = get_error_metric(ERROR_THRESHOLD_3,test_data_1_labels,obs_labels)\n",
    "print 'Errors for Mechanism-1: Zero Tolerance:',error_1,mean_1,std_1\n",
    "print 'Errors for Mechanism-1: 0.1 Tolerance:',error_2,mean_2,std_2\n",
    "print 'Errors for Mechanism-1: 0.2 Tolerance:',error_3,mean_3,std_3\n",
    "print 'MSE Mechansim-1:',get_mean_squared_error(test_data_1_labels,obs_labels)\n",
    "print 'Mean Absolute Error Mechansim-1:',get_mean_absolute_error(test_data_1_labels,obs_labels)\n",
    "\n",
    "\n",
    "classifier = Lasso(alpha=-0.2)\n",
    "obs_labels = get_predictions(classifier,1,test_data_1_values)\n",
    "\n",
    "print 'Lambda:-0.2'\n",
    "error_1,mean_1,std_1 = get_error_metric(ERROR_THRESHOLD_1,test_data_1_labels,obs_labels)\n",
    "error_2,mean_2,std_2 = get_error_metric(ERROR_THRESHOLD_2,test_data_1_labels,obs_labels)\n",
    "error_3,mean_3,std_3 = get_error_metric(ERROR_THRESHOLD_3,test_data_1_labels,obs_labels)\n",
    "print 'Errors for Mechanism-1: Zero Tolerance:',error_1,mean_1,std_1\n",
    "print 'Errors for Mechanism-1: 0.1 Tolerance:',error_2,mean_2,std_2\n",
    "print 'Errors for Mechanism-1: 0.2 Tolerance:',error_3,mean_3,std_3\n",
    "print 'MSE Mechansim-1:',get_mean_squared_error(test_data_1_labels,obs_labels)\n",
    "print 'Mean Absolute Error Mechansim-1:',get_mean_absolute_error(test_data_1_labels,obs_labels)\n",
    "\n",
    "classifier = Lasso(alpha=0.05)\n",
    "obs_labels = get_predictions(classifier,1,test_data_1_values)\n",
    "\n",
    "print 'Lambda:0.05'\n",
    "error_1,mean_1,std_1 = get_error_metric(ERROR_THRESHOLD_1,test_data_1_labels,obs_labels)\n",
    "error_2,mean_2,std_2 = get_error_metric(ERROR_THRESHOLD_2,test_data_1_labels,obs_labels)\n",
    "error_3,mean_3,std_3 = get_error_metric(ERROR_THRESHOLD_3,test_data_1_labels,obs_labels)\n",
    "print 'Errors for Mechanism-1: Zero Tolerance:',error_1,mean_1,std_1\n",
    "print 'Errors for Mechanism-1: 0.1 Tolerance:',error_2,mean_2,std_2\n",
    "print 'Errors for Mechanism-1: 0.2 Tolerance:',error_3,mean_3,std_3\n",
    "print 'MSE Mechansim-1:',get_mean_squared_error(test_data_1_labels,obs_labels)\n",
    "print 'Mean Absolute Error Mechansim-1:',get_mean_absolute_error(test_data_1_labels,obs_labels)\n",
    "\n",
    "classifier = Lasso(alpha=-0.05)\n",
    "obs_labels = get_predictions(classifier,1,test_data_1_values)\n",
    "\n",
    "print 'Lambda:-0.05'\n",
    "error_1,mean_1,std_1 = get_error_metric(ERROR_THRESHOLD_1,test_data_1_labels,obs_labels)\n",
    "error_2,mean_2,std_2 = get_error_metric(ERROR_THRESHOLD_2,test_data_1_labels,obs_labels)\n",
    "error_3,mean_3,std_3 = get_error_metric(ERROR_THRESHOLD_3,test_data_1_labels,obs_labels)\n",
    "print 'Errors for Mechanism-1: Zero Tolerance:',error_1,mean_1,std_1\n",
    "print 'Errors for Mechanism-1: 0.1 Tolerance:',error_2,mean_2,std_2\n",
    "print 'Errors for Mechanism-1: 0.2 Tolerance:',error_3,mean_3,std_3\n",
    "print 'MSE Mechansim-1:',get_mean_squared_error(test_data_1_labels,obs_labels)\n",
    "print 'Mean Absolute Error Mechansim-1:',get_mean_absolute_error(test_data_1_labels,obs_labels)\n"
   ]
  },
  {
   "cell_type": "code",
   "execution_count": 10,
   "metadata": {
    "collapsed": false
   },
   "outputs": [
    {
     "name": "stdout",
     "output_type": "stream",
     "text": [
      "Lambda:1\n",
      "Errors for Mechanism-2: Zero Tolerance: 100 0.867761932636 0.71859028245\n",
      "Errors for Mechanism-2: 0.1 Tolerance: 84 0.867761932636 0.71859028245\n",
      "Errors for Mechanism-2: 0.2 Tolerance: 69 0.867761932636 0.71859028245\n",
      "MSE Mechansim-2: 1.26938276576\n",
      "Mean Absolute Error Mechansim-2: 0.867761932636\n"
     ]
    }
   ],
   "source": [
    "classifier = Lasso()\n",
    "obs_labels = get_predictions(classifier,2,test_data_2_values)\n",
    "\n",
    "print 'Lambda:1'\n",
    "error_1,mean_1,std_1 = get_error_metric(ERROR_THRESHOLD_1,test_data_2_labels,obs_labels)\n",
    "error_2,mean_2,std_2 = get_error_metric(ERROR_THRESHOLD_2,test_data_2_labels,obs_labels)\n",
    "error_3,mean_3,std_3 = get_error_metric(ERROR_THRESHOLD_3,test_data_2_labels,obs_labels)\n",
    "print 'Errors for Mechanism-2: Zero Tolerance:',error_1,mean_1,std_1\n",
    "print 'Errors for Mechanism-2: 0.1 Tolerance:',error_2,mean_2,std_2\n",
    "print 'Errors for Mechanism-2: 0.2 Tolerance:',error_3,mean_3,std_3\n",
    "print 'MSE Mechansim-2:',get_mean_squared_error(test_data_2_labels,obs_labels)\n",
    "print 'Mean Absolute Error Mechansim-2:',get_mean_absolute_error(test_data_2_labels,obs_labels)"
   ]
  },
  {
   "cell_type": "code",
   "execution_count": 11,
   "metadata": {
    "collapsed": false
   },
   "outputs": [
    {
     "name": "stdout",
     "output_type": "stream",
     "text": [
      "Lambda:-1\n",
      "Errors for Mechanism-2: Zero Tolerance: 100 5.7017191692 5.18899827419\n",
      "Errors for Mechanism-2: 0.1 Tolerance: 96 5.7017191692 5.18899827419\n",
      "Errors for Mechanism-2: 0.2 Tolerance: 93 5.7017191692 5.18899827419\n",
      "MSE Mechansim-2: 59.4353045739\n",
      "Mean Absolute Error Mechansim-2: 5.7017191692\n"
     ]
    }
   ],
   "source": [
    "classifier = Lasso(alpha=-1)\n",
    "obs_labels = get_predictions(classifier,2,test_data_2_values)\n",
    "\n",
    "print 'Lambda:-1'\n",
    "error_1,mean_1,std_1 = get_error_metric(ERROR_THRESHOLD_1,test_data_2_labels,obs_labels)\n",
    "error_2,mean_2,std_2 = get_error_metric(ERROR_THRESHOLD_2,test_data_2_labels,obs_labels)\n",
    "error_3,mean_3,std_3 = get_error_metric(ERROR_THRESHOLD_3,test_data_2_labels,obs_labels)\n",
    "print 'Errors for Mechanism-2: Zero Tolerance:',error_1,mean_1,std_1\n",
    "print 'Errors for Mechanism-2: 0.1 Tolerance:',error_2,mean_2,std_2\n",
    "print 'Errors for Mechanism-2: 0.2 Tolerance:',error_3,mean_3,std_3\n",
    "print 'MSE Mechansim-2:',get_mean_squared_error(test_data_2_labels,obs_labels)\n",
    "print 'Mean Absolute Error Mechansim-2:',get_mean_absolute_error(test_data_2_labels,obs_labels)    "
   ]
  },
  {
   "cell_type": "code",
   "execution_count": 10,
   "metadata": {
    "collapsed": false
   },
   "outputs": [
    {
     "name": "stdout",
     "output_type": "stream",
     "text": [
      "Lambda:0.1\n",
      "Errors for Mechanism-2: Zero Tolerance: 100 0.316874468988 0.328446923051\n",
      "Errors for Mechanism-2: 0.1 Tolerance: 51 0.316874468988 0.328446923051\n",
      "Errors for Mechanism-2: 0.2 Tolerance: 29 0.316874468988 0.328446923051\n",
      "MSE Mechansim-2: 0.208286810358\n",
      "Mean Absolute Error Mechansim-2: 0.316874468988\n",
      "Lambda:0.2\n",
      "Errors for Mechanism-2: Zero Tolerance: 100 0.370162028196 0.353439552185\n",
      "Errors for Mechanism-2: 0.1 Tolerance: 58 0.370162028196 0.353439552185\n",
      "Errors for Mechanism-2: 0.2 Tolerance: 35 0.370162028196 0.353439552185\n",
      "MSE Mechansim-2: 0.261939444167\n",
      "Mean Absolute Error Mechansim-2: 0.370162028196\n",
      "Lambda:0.05\n",
      "Errors for Mechanism-2: Zero Tolerance: 100 0.300154792065 0.298871933188\n",
      "Errors for Mechanism-2: 0.1 Tolerance: 50 0.300154792065 0.298871933188\n",
      "Errors for Mechanism-2: 0.2 Tolerance: 26 0.300154792065 0.298871933188\n",
      "MSE Mechansim-2: 0.179417331647\n",
      "Mean Absolute Error Mechansim-2: 0.300154792065\n",
      "Lambda:-0.05\n",
      "Errors for Mechanism-2: Zero Tolerance: 100 0.404499144617 0.372348329121\n",
      "Errors for Mechanism-2: 0.1 Tolerance: 64 0.404499144617 0.372348329121\n",
      "Errors for Mechanism-2: 0.2 Tolerance: 38 0.404499144617 0.372348329121\n",
      "MSE Mechansim-2: 0.302262836195\n",
      "Mean Absolute Error Mechansim-2: 0.404499144617\n",
      "Lambda:-0.2\n",
      "Errors for Mechanism-2: Zero Tolerance: 100 1.18149713114 1.03898837971\n",
      "Errors for Mechanism-2: 0.1 Tolerance: 87 1.18149713114 1.03898837971\n",
      "Errors for Mechanism-2: 0.2 Tolerance: 75 1.18149713114 1.03898837971\n",
      "MSE Mechansim-2: 2.47543232407\n",
      "Mean Absolute Error Mechansim-2: 1.18149713114\n",
      "Lambda:-0.1\n",
      "Errors for Mechanism-2: Zero Tolerance: 100 0.631459956173 0.560248713095\n",
      "Errors for Mechanism-2: 0.1 Tolerance: 77 0.631459956173 0.560248713095\n",
      "Errors for Mechanism-2: 0.2 Tolerance: 57 0.631459956173 0.560248713095\n",
      "MSE Mechansim-2: 0.712620296774\n",
      "Mean Absolute Error Mechansim-2: 0.631459956173\n"
     ]
    }
   ],
   "source": [
    "classifier = Lasso(alpha=0.1)\n",
    "obs_labels = get_predictions(classifier,2,test_data_2_values)\n",
    "\n",
    "print 'Lambda:0.1'\n",
    "error_1,mean_1,std_1 = get_error_metric(ERROR_THRESHOLD_1,test_data_2_labels,obs_labels)\n",
    "error_2,mean_2,std_2 = get_error_metric(ERROR_THRESHOLD_2,test_data_2_labels,obs_labels)\n",
    "error_3,mean_3,std_3 = get_error_metric(ERROR_THRESHOLD_3,test_data_2_labels,obs_labels)\n",
    "print 'Errors for Mechanism-2: Zero Tolerance:',error_1,mean_1,std_1\n",
    "print 'Errors for Mechanism-2: 0.1 Tolerance:',error_2,mean_2,std_2\n",
    "print 'Errors for Mechanism-2: 0.2 Tolerance:',error_3,mean_3,std_3\n",
    "print 'MSE Mechansim-2:',get_mean_squared_error(test_data_2_labels,obs_labels)\n",
    "print 'Mean Absolute Error Mechansim-2:',get_mean_absolute_error(test_data_2_labels,obs_labels)  \n",
    "\n",
    "classifier = Lasso(alpha=0.2)\n",
    "obs_labels = get_predictions(classifier,2,test_data_2_values)\n",
    "\n",
    "print 'Lambda:0.2'\n",
    "error_1,mean_1,std_1 = get_error_metric(ERROR_THRESHOLD_1,test_data_2_labels,obs_labels)\n",
    "error_2,mean_2,std_2 = get_error_metric(ERROR_THRESHOLD_2,test_data_2_labels,obs_labels)\n",
    "error_3,mean_3,std_3 = get_error_metric(ERROR_THRESHOLD_3,test_data_2_labels,obs_labels)\n",
    "print 'Errors for Mechanism-2: Zero Tolerance:',error_1,mean_1,std_1\n",
    "print 'Errors for Mechanism-2: 0.1 Tolerance:',error_2,mean_2,std_2\n",
    "print 'Errors for Mechanism-2: 0.2 Tolerance:',error_3,mean_3,std_3\n",
    "print 'MSE Mechansim-2:',get_mean_squared_error(test_data_2_labels,obs_labels)\n",
    "print 'Mean Absolute Error Mechansim-2:',get_mean_absolute_error(test_data_2_labels,obs_labels) \n",
    "\n",
    "classifier = Lasso(alpha=0.05)\n",
    "obs_labels = get_predictions(classifier,2,test_data_2_values)\n",
    "\n",
    "print 'Lambda:0.05'\n",
    "error_1,mean_1,std_1 = get_error_metric(ERROR_THRESHOLD_1,test_data_2_labels,obs_labels)\n",
    "error_2,mean_2,std_2 = get_error_metric(ERROR_THRESHOLD_2,test_data_2_labels,obs_labels)\n",
    "error_3,mean_3,std_3 = get_error_metric(ERROR_THRESHOLD_3,test_data_2_labels,obs_labels)\n",
    "print 'Errors for Mechanism-2: Zero Tolerance:',error_1,mean_1,std_1\n",
    "print 'Errors for Mechanism-2: 0.1 Tolerance:',error_2,mean_2,std_2\n",
    "print 'Errors for Mechanism-2: 0.2 Tolerance:',error_3,mean_3,std_3\n",
    "print 'MSE Mechansim-2:',get_mean_squared_error(test_data_2_labels,obs_labels)\n",
    "print 'Mean Absolute Error Mechansim-2:',get_mean_absolute_error(test_data_2_labels,obs_labels)  \n",
    "\n",
    "\n",
    "classifier = Lasso(alpha=-0.05)\n",
    "obs_labels = get_predictions(classifier,2,test_data_2_values)\n",
    "\n",
    "print 'Lambda:-0.05'\n",
    "error_1,mean_1,std_1 = get_error_metric(ERROR_THRESHOLD_1,test_data_2_labels,obs_labels)\n",
    "error_2,mean_2,std_2 = get_error_metric(ERROR_THRESHOLD_2,test_data_2_labels,obs_labels)\n",
    "error_3,mean_3,std_3 = get_error_metric(ERROR_THRESHOLD_3,test_data_2_labels,obs_labels)\n",
    "print 'Errors for Mechanism-2: Zero Tolerance:',error_1,mean_1,std_1\n",
    "print 'Errors for Mechanism-2: 0.1 Tolerance:',error_2,mean_2,std_2\n",
    "print 'Errors for Mechanism-2: 0.2 Tolerance:',error_3,mean_3,std_3\n",
    "print 'MSE Mechansim-2:',get_mean_squared_error(test_data_2_labels,obs_labels)\n",
    "print 'Mean Absolute Error Mechansim-2:',get_mean_absolute_error(test_data_2_labels,obs_labels)  \n",
    "\n",
    "\n",
    "classifier = Lasso(alpha=-0.2)\n",
    "obs_labels = get_predictions(classifier,2,test_data_2_values)\n",
    "\n",
    "print 'Lambda:-0.2'\n",
    "error_1,mean_1,std_1 = get_error_metric(ERROR_THRESHOLD_1,test_data_2_labels,obs_labels)\n",
    "error_2,mean_2,std_2 = get_error_metric(ERROR_THRESHOLD_2,test_data_2_labels,obs_labels)\n",
    "error_3,mean_3,std_3 = get_error_metric(ERROR_THRESHOLD_3,test_data_2_labels,obs_labels)\n",
    "print 'Errors for Mechanism-2: Zero Tolerance:',error_1,mean_1,std_1\n",
    "print 'Errors for Mechanism-2: 0.1 Tolerance:',error_2,mean_2,std_2\n",
    "print 'Errors for Mechanism-2: 0.2 Tolerance:',error_3,mean_3,std_3\n",
    "print 'MSE Mechansim-2:',get_mean_squared_error(test_data_2_labels,obs_labels)\n",
    "print 'Mean Absolute Error Mechansim-2:',get_mean_absolute_error(test_data_2_labels,obs_labels) \n",
    "\n",
    "classifier = Lasso(alpha=-0.1)\n",
    "obs_labels = get_predictions(classifier,2,test_data_2_values)\n",
    "\n",
    "print 'Lambda:-0.1'\n",
    "error_1,mean_1,std_1 = get_error_metric(ERROR_THRESHOLD_1,test_data_2_labels,obs_labels)\n",
    "error_2,mean_2,std_2 = get_error_metric(ERROR_THRESHOLD_2,test_data_2_labels,obs_labels)\n",
    "error_3,mean_3,std_3 = get_error_metric(ERROR_THRESHOLD_3,test_data_2_labels,obs_labels)\n",
    "print 'Errors for Mechanism-2: Zero Tolerance:',error_1,mean_1,std_1\n",
    "print 'Errors for Mechanism-2: 0.1 Tolerance:',error_2,mean_2,std_2\n",
    "print 'Errors for Mechanism-2: 0.2 Tolerance:',error_3,mean_3,std_3\n",
    "print 'MSE Mechansim-2:',get_mean_squared_error(test_data_2_labels,obs_labels)\n",
    "print 'Mean Absolute Error Mechansim-2:',get_mean_absolute_error(test_data_2_labels,obs_labels) "
   ]
  },
  {
   "cell_type": "code",
   "execution_count": 11,
   "metadata": {
    "collapsed": false
   },
   "outputs": [
    {
     "name": "stdout",
     "output_type": "stream",
     "text": [
      "Done Reading File train_data_1.csv\n",
      "Done Reading File train_data_2.csv\n",
      "Done Reading File test_data_1.csv\n",
      "Done Reading File test_data_2.csv\n"
     ]
    }
   ],
   "source": [
    "avg_rating = 6.031\n",
    "\n",
    "def read_data_file_2(filename):    \n",
    "    data_file = file(filename, 'r')\n",
    "    data = csv.reader(data_file, delimiter=',')\n",
    "    labels = []\n",
    "    values = []\n",
    "    for row in data:\n",
    "        value = []\n",
    "        prod_value = 0\n",
    "        writer_value = 0\n",
    "        for index in range(1,PROD_INDEX):\n",
    "            value.append(float(row[index]))\n",
    "        for index in range(PROD_INDEX + 1,PROD_INDEX + int(row[PROD_INDEX]) + 1):\n",
    "            prod_value = max(float(row[index]),prod_value)\n",
    "        value.append(prod_value)\n",
    "        WRITER_INDEX = PROD_INDEX + int(row[PROD_INDEX]) + 1\n",
    "        for index in range(WRITER_INDEX+1,len(row)):\n",
    "            writer_value = max(float(row[index]),writer_value)\n",
    "        value.append(writer_value)\n",
    "        labels.append(float(row[0])-avg_rating)\n",
    "        values.append(value)\n",
    "    print 'Done Reading File',filename\n",
    "    return labels,values\n",
    "\n",
    "train_data_1_labels, train_data_1_values = read_data_file_2(TRAIN_DATA_FILE_1)\n",
    "train_data_2_labels, train_data_2_values = read_data_file_2(TRAIN_DATA_FILE_2)\n",
    "\n",
    "test_data_1_labels, test_data_1_values = read_data_file_2(TEST_DATA_FILE_1)\n",
    "test_data_2_labels, test_data_2_values = read_data_file_2(TEST_DATA_FILE_2)"
   ]
  },
  {
   "cell_type": "code",
   "execution_count": 15,
   "metadata": {
    "collapsed": false
   },
   "outputs": [
    {
     "name": "stdout",
     "output_type": "stream",
     "text": [
      "Lambda:1\n",
      "Errors(2) for Mechanism-1: Zero Tolerance: 100 0.850173415149 0.660573005044\n",
      "Errors(2) for Mechanism-1: 0.1 Tolerance: 85 0.850173415149 0.660573005044\n",
      "Errors(2) for Mechanism-1: 0.2 Tolerance: 70 0.850173415149 0.660573005044\n",
      "(2) MSE Mechansim-1: 1.15915153082\n",
      "(2) Mean Absolute Error Mechansim-1: 0.850173415149\n",
      "Lambda:-1\n",
      "Errors(2) for Mechanism-1: Zero Tolerance: 100 3.96599725137 3.55953396652\n",
      "Errors(2) for Mechanism-1: 0.1 Tolerance: 95 3.96599725137 3.55953396652\n",
      "Errors(2) for Mechanism-1: 0.2 Tolerance: 91 3.96599725137 3.55953396652\n",
      "(2) MSE Mechansim-1: 28.3994162567\n",
      "(2) Mean Absolute Error Mechansim-1: 3.96599725137\n"
     ]
    }
   ],
   "source": [
    "classifier = Lasso()\n",
    "obs_labels = get_predictions(classifier,1,test_data_1_values)\n",
    "\n",
    "print 'Lambda:1'\n",
    "error_1,mean_1,std_1 = get_error_metric(ERROR_THRESHOLD_1,test_data_1_labels,obs_labels)\n",
    "error_2,mean_2,std_2 = get_error_metric(ERROR_THRESHOLD_2,test_data_1_labels,obs_labels)\n",
    "error_3,mean_3,std_3 = get_error_metric(ERROR_THRESHOLD_3,test_data_1_labels,obs_labels)\n",
    "print 'Errors(2) for Mechanism-1: Zero Tolerance:',error_1,mean_1,std_1\n",
    "print 'Errors(2) for Mechanism-1: 0.1 Tolerance:',error_2,mean_2,std_2\n",
    "print 'Errors(2) for Mechanism-1: 0.2 Tolerance:',error_3,mean_3,std_3\n",
    "print '(2) MSE Mechansim-1:',get_mean_squared_error(test_data_1_labels,obs_labels)\n",
    "print '(2) Mean Absolute Error Mechansim-1:',get_mean_absolute_error(test_data_1_labels,obs_labels) \n",
    "\n",
    "classifier = Lasso(alpha=-1)\n",
    "obs_labels = get_predictions(classifier,1,test_data_1_values)\n",
    "\n",
    "print 'Lambda:-1'\n",
    "error_1,mean_1,std_1 = get_error_metric(ERROR_THRESHOLD_1,test_data_1_labels,obs_labels)\n",
    "error_2,mean_2,std_2 = get_error_metric(ERROR_THRESHOLD_2,test_data_1_labels,obs_labels)\n",
    "error_3,mean_3,std_3 = get_error_metric(ERROR_THRESHOLD_3,test_data_1_labels,obs_labels)\n",
    "print 'Errors(2) for Mechanism-1: Zero Tolerance:',error_1,mean_1,std_1\n",
    "print 'Errors(2) for Mechanism-1: 0.1 Tolerance:',error_2,mean_2,std_2\n",
    "print 'Errors(2) for Mechanism-1: 0.2 Tolerance:',error_3,mean_3,std_3\n",
    "print '(2) MSE Mechansim-1:',get_mean_squared_error(test_data_1_labels,obs_labels)\n",
    "print '(2) Mean Absolute Error Mechansim-1:',get_mean_absolute_error(test_data_1_labels,obs_labels) "
   ]
  },
  {
   "cell_type": "code",
   "execution_count": 17,
   "metadata": {
    "collapsed": false
   },
   "outputs": [
    {
     "name": "stdout",
     "output_type": "stream",
     "text": [
      "Lambda:-0.1\n",
      "Errors(2) for Mechanism-1: Zero Tolerance: 100 0.529409702179 0.481409912521\n",
      "Errors(2) for Mechanism-1: 0.1 Tolerance: 72 0.529409702179 0.481409912521\n",
      "Errors(2) for Mechanism-1: 0.2 Tolerance: 50 0.529409702179 0.481409912521\n",
      "(2) MSE Mechansim-1: 0.512030136635\n",
      "(2) Mean Absolute Error Mechansim-1: 0.529409702179\n",
      "Lambda:0.1\n",
      "Errors(2) for Mechanism-1: Zero Tolerance: 100 0.284717103478 0.294940771994\n",
      "Errors(2) for Mechanism-1: 0.1 Tolerance: 48 0.284717103478 0.294940771994\n",
      "Errors(2) for Mechanism-1: 0.2 Tolerance: 25 0.284717103478 0.294940771994\n",
      "(2) MSE Mechansim-1: 0.168053887997\n",
      "(2) Mean Absolute Error Mechansim-1: 0.284717103478\n"
     ]
    }
   ],
   "source": [
    "classifier = Lasso(alpha=-0.1)\n",
    "obs_labels = get_predictions(classifier,1,test_data_1_values)\n",
    "\n",
    "print 'Lambda:-0.1'\n",
    "error_1,mean_1,std_1 = get_error_metric(ERROR_THRESHOLD_1,test_data_1_labels,obs_labels)\n",
    "error_2,mean_2,std_2 = get_error_metric(ERROR_THRESHOLD_2,test_data_1_labels,obs_labels)\n",
    "error_3,mean_3,std_3 = get_error_metric(ERROR_THRESHOLD_3,test_data_1_labels,obs_labels)\n",
    "print 'Errors(2) for Mechanism-1: Zero Tolerance:',error_1,mean_1,std_1\n",
    "print 'Errors(2) for Mechanism-1: 0.1 Tolerance:',error_2,mean_2,std_2\n",
    "print 'Errors(2) for Mechanism-1: 0.2 Tolerance:',error_3,mean_3,std_3\n",
    "print '(2) MSE Mechansim-1:',get_mean_squared_error(test_data_1_labels,obs_labels)\n",
    "print '(2) Mean Absolute Error Mechansim-1:',get_mean_absolute_error(test_data_1_labels,obs_labels) \n",
    "\n",
    "classifier = Lasso(alpha=0.1)\n",
    "obs_labels = get_predictions(classifier,1,test_data_1_values)\n",
    "\n",
    "print 'Lambda:0.1'\n",
    "error_1,mean_1,std_1 = get_error_metric(ERROR_THRESHOLD_1,test_data_1_labels,obs_labels)\n",
    "error_2,mean_2,std_2 = get_error_metric(ERROR_THRESHOLD_2,test_data_1_labels,obs_labels)\n",
    "error_3,mean_3,std_3 = get_error_metric(ERROR_THRESHOLD_3,test_data_1_labels,obs_labels)\n",
    "print 'Errors(2) for Mechanism-1: Zero Tolerance:',error_1,mean_1,std_1\n",
    "print 'Errors(2) for Mechanism-1: 0.1 Tolerance:',error_2,mean_2,std_2\n",
    "print 'Errors(2) for Mechanism-1: 0.2 Tolerance:',error_3,mean_3,std_3\n",
    "print '(2) MSE Mechansim-1:',get_mean_squared_error(test_data_1_labels,obs_labels)\n",
    "print '(2) Mean Absolute Error Mechansim-1:',get_mean_absolute_error(test_data_1_labels,obs_labels)"
   ]
  },
  {
   "cell_type": "code",
   "execution_count": 18,
   "metadata": {
    "collapsed": false
   },
   "outputs": [
    {
     "name": "stdout",
     "output_type": "stream",
     "text": [
      "Lambda:-0.01\n",
      "Errors(2) for Mechanism-1: Zero Tolerance: 100 0.28347572494 0.272398138074\n",
      "Errors(2) for Mechanism-1: 0.1 Tolerance: 50 0.28347572494 0.272398138074\n",
      "Errors(2) for Mechanism-1: 0.2 Tolerance: 24 0.28347572494 0.272398138074\n",
      "(2) MSE Mechansim-1: 0.154559232256\n",
      "(2) Mean Absolute Error Mechansim-1: 0.28347572494\n",
      "Lambda:0.01\n",
      "Errors(2) for Mechanism-1: Zero Tolerance: 100 0.279901005736 0.27338792212\n",
      "Errors(2) for Mechanism-1: 0.1 Tolerance: 49 0.279901005736 0.27338792212\n",
      "Errors(2) for Mechanism-1: 0.2 Tolerance: 24 0.279901005736 0.27338792212\n",
      "(2) MSE Mechansim-1: 0.153085528973\n",
      "(2) Mean Absolute Error Mechansim-1: 0.279901005736\n"
     ]
    }
   ],
   "source": [
    "classifier = Lasso(alpha=-0.01)\n",
    "obs_labels = get_predictions(classifier,1,test_data_1_values)\n",
    "\n",
    "print 'Lambda:-0.01'\n",
    "error_1,mean_1,std_1 = get_error_metric(ERROR_THRESHOLD_1,test_data_1_labels,obs_labels)\n",
    "error_2,mean_2,std_2 = get_error_metric(ERROR_THRESHOLD_2,test_data_1_labels,obs_labels)\n",
    "error_3,mean_3,std_3 = get_error_metric(ERROR_THRESHOLD_3,test_data_1_labels,obs_labels)\n",
    "print 'Errors(2) for Mechanism-1: Zero Tolerance:',error_1,mean_1,std_1\n",
    "print 'Errors(2) for Mechanism-1: 0.1 Tolerance:',error_2,mean_2,std_2\n",
    "print 'Errors(2) for Mechanism-1: 0.2 Tolerance:',error_3,mean_3,std_3\n",
    "print '(2) MSE Mechansim-1:',get_mean_squared_error(test_data_1_labels,obs_labels)\n",
    "print '(2) Mean Absolute Error Mechansim-1:',get_mean_absolute_error(test_data_1_labels,obs_labels) \n",
    "\n",
    "classifier = Lasso(alpha=0.01)\n",
    "obs_labels = get_predictions(classifier,1,test_data_1_values)\n",
    "\n",
    "print 'Lambda:0.01'\n",
    "error_1,mean_1,std_1 = get_error_metric(ERROR_THRESHOLD_1,test_data_1_labels,obs_labels)\n",
    "error_2,mean_2,std_2 = get_error_metric(ERROR_THRESHOLD_2,test_data_1_labels,obs_labels)\n",
    "error_3,mean_3,std_3 = get_error_metric(ERROR_THRESHOLD_3,test_data_1_labels,obs_labels)\n",
    "print 'Errors(2) for Mechanism-1: Zero Tolerance:',error_1,mean_1,std_1\n",
    "print 'Errors(2) for Mechanism-1: 0.1 Tolerance:',error_2,mean_2,std_2\n",
    "print 'Errors(2) for Mechanism-1: 0.2 Tolerance:',error_3,mean_3,std_3\n",
    "print '(2) MSE Mechansim-1:',get_mean_squared_error(test_data_1_labels,obs_labels)\n",
    "print '(2) Mean Absolute Error Mechansim-1:',get_mean_absolute_error(test_data_1_labels,obs_labels)"
   ]
  },
  {
   "cell_type": "code",
   "execution_count": 19,
   "metadata": {
    "collapsed": false
   },
   "outputs": [
    {
     "name": "stdout",
     "output_type": "stream",
     "text": [
      "Lambda:-0.02\n",
      "Errors(2) for Mechanism-1: Zero Tolerance: 100 0.290339434498 0.273906491987\n",
      "Errors(2) for Mechanism-1: 0.1 Tolerance: 52 0.290339434498 0.273906491987\n",
      "Errors(2) for Mechanism-1: 0.2 Tolerance: 25 0.290339434498 0.273906491987\n",
      "(2) MSE Mechansim-1: 0.159321753577\n",
      "(2) Mean Absolute Error Mechansim-1: 0.290339434498\n",
      "Lambda:-2\n",
      "Errors(2) for Mechanism-1: Zero Tolerance: 100 7.91423599605 7.11859666035\n",
      "Errors(2) for Mechanism-1: 0.1 Tolerance: 97 7.91423599605 7.11859666035\n",
      "Errors(2) for Mechanism-1: 0.2 Tolerance: 95 7.91423599605 7.11859666035\n",
      "(2) MSE Mechansim-1: 113.309549814\n",
      "(2) Mean Absolute Error Mechansim-1: 7.91423599605\n"
     ]
    }
   ],
   "source": [
    "classifier = Lasso(alpha=-0.02)\n",
    "obs_labels = get_predictions(classifier,1,test_data_1_values)\n",
    "\n",
    "print 'Lambda:-0.02'\n",
    "error_1,mean_1,std_1 = get_error_metric(ERROR_THRESHOLD_1,test_data_1_labels,obs_labels)\n",
    "error_2,mean_2,std_2 = get_error_metric(ERROR_THRESHOLD_2,test_data_1_labels,obs_labels)\n",
    "error_3,mean_3,std_3 = get_error_metric(ERROR_THRESHOLD_3,test_data_1_labels,obs_labels)\n",
    "print 'Errors(2) for Mechanism-1: Zero Tolerance:',error_1,mean_1,std_1\n",
    "print 'Errors(2) for Mechanism-1: 0.1 Tolerance:',error_2,mean_2,std_2\n",
    "print 'Errors(2) for Mechanism-1: 0.2 Tolerance:',error_3,mean_3,std_3\n",
    "print '(2) MSE Mechansim-1:',get_mean_squared_error(test_data_1_labels,obs_labels)\n",
    "print '(2) Mean Absolute Error Mechansim-1:',get_mean_absolute_error(test_data_1_labels,obs_labels) \n",
    "\n",
    "classifier = Lasso(alpha=-2)\n",
    "obs_labels = get_predictions(classifier,1,test_data_1_values)\n",
    "\n",
    "print 'Lambda:-2'\n",
    "error_1,mean_1,std_1 = get_error_metric(ERROR_THRESHOLD_1,test_data_1_labels,obs_labels)\n",
    "error_2,mean_2,std_2 = get_error_metric(ERROR_THRESHOLD_2,test_data_1_labels,obs_labels)\n",
    "error_3,mean_3,std_3 = get_error_metric(ERROR_THRESHOLD_3,test_data_1_labels,obs_labels)\n",
    "print 'Errors(2) for Mechanism-1: Zero Tolerance:',error_1,mean_1,std_1\n",
    "print 'Errors(2) for Mechanism-1: 0.1 Tolerance:',error_2,mean_2,std_2\n",
    "print 'Errors(2) for Mechanism-1: 0.2 Tolerance:',error_3,mean_3,std_3\n",
    "print '(2) MSE Mechansim-1:',get_mean_squared_error(test_data_1_labels,obs_labels)\n",
    "print '(2) Mean Absolute Error Mechansim-2:',get_mean_absolute_error(test_data_1_labels,obs_labels)"
   ]
  },
  {
   "cell_type": "code",
   "execution_count": 20,
   "metadata": {
    "collapsed": false
   },
   "outputs": [
    {
     "name": "stdout",
     "output_type": "stream",
     "text": [
      "Lambda:1\n",
      "Errors(2) for Mechanism-2: Zero Tolerance: 100 0.867761932636 0.71859028245\n",
      "Errors(2) for Mechanism-2: 0.1 Tolerance: 84 0.867761932636 0.71859028245\n",
      "Errors(2) for Mechanism-2: 0.2 Tolerance: 69 0.867761932636 0.71859028245\n",
      "(2) MSE Mechansim-2: 1.26938276576\n",
      "(2) Mean Absolute Error Mechansim-1: 0.867761932636\n",
      "Lambda:-1\n",
      "Errors(2) for Mechanism-2: Zero Tolerance: 100 5.7017191692 5.18899827419\n",
      "Errors(2) for Mechanism-2: 0.1 Tolerance: 96 5.7017191692 5.18899827419\n",
      "Errors(2) for Mechanism-2: 0.2 Tolerance: 93 5.7017191692 5.18899827419\n",
      "(2) MSE Mechansim-2: 59.4353045739\n",
      "(2) Mean Absolute Error Mechansim-1: 5.7017191692\n"
     ]
    }
   ],
   "source": [
    "classifier = Lasso()\n",
    "obs_labels = get_predictions(classifier,2,test_data_2_values)\n",
    "\n",
    "print 'Lambda:1'\n",
    "error_1,mean_1,std_1 = get_error_metric(ERROR_THRESHOLD_1,test_data_2_labels,obs_labels)\n",
    "error_2,mean_2,std_2 = get_error_metric(ERROR_THRESHOLD_2,test_data_2_labels,obs_labels)\n",
    "error_3,mean_3,std_3 = get_error_metric(ERROR_THRESHOLD_3,test_data_2_labels,obs_labels)\n",
    "print 'Errors(2) for Mechanism-2: Zero Tolerance:',error_1,mean_1,std_1\n",
    "print 'Errors(2) for Mechanism-2: 0.1 Tolerance:',error_2,mean_2,std_2\n",
    "print 'Errors(2) for Mechanism-2: 0.2 Tolerance:',error_3,mean_3,std_3\n",
    "print '(2) MSE Mechansim-2:',get_mean_squared_error(test_data_2_labels,obs_labels)\n",
    "print '(2) Mean Absolute Error Mechansim-2:',get_mean_absolute_error(test_data_2_labels,obs_labels)\n",
    "\n",
    "\n",
    "classifier = Lasso(alpha=-1)\n",
    "obs_labels = get_predictions(classifier,2,test_data_2_values)\n",
    "\n",
    "print 'Lambda:-1'\n",
    "error_1,mean_1,std_1 = get_error_metric(ERROR_THRESHOLD_1,test_data_2_labels,obs_labels)\n",
    "error_2,mean_2,std_2 = get_error_metric(ERROR_THRESHOLD_2,test_data_2_labels,obs_labels)\n",
    "error_3,mean_3,std_3 = get_error_metric(ERROR_THRESHOLD_3,test_data_2_labels,obs_labels)\n",
    "print 'Errors(2) for Mechanism-2: Zero Tolerance:',error_1,mean_1,std_1\n",
    "print 'Errors(2) for Mechanism-2: 0.1 Tolerance:',error_2,mean_2,std_2\n",
    "print 'Errors(2) for Mechanism-2: 0.2 Tolerance:',error_3,mean_3,std_3\n",
    "print '(2) MSE Mechansim-2:',get_mean_squared_error(test_data_2_labels,obs_labels)\n",
    "print '(2) Mean Absolute Error Mechansim-2:',get_mean_absolute_error(test_data_2_labels,obs_labels)"
   ]
  },
  {
   "cell_type": "code",
   "execution_count": 21,
   "metadata": {
    "collapsed": false
   },
   "outputs": [
    {
     "name": "stdout",
     "output_type": "stream",
     "text": [
      "Lambda:0.1\n",
      "Errors(2) for Mechanism-2: Zero Tolerance: 100 0.316874468988 0.328446923051\n",
      "Errors(2) for Mechanism-2: 0.1 Tolerance: 51 0.316874468988 0.328446923051\n",
      "Errors(2) for Mechanism-2: 0.2 Tolerance: 29 0.316874468988 0.328446923051\n",
      "(2) MSE Mechansim-2: 0.208286810358\n",
      "(2) Mean Absolute Error Mechansim-2: 0.316874468988\n",
      "Lambda:-0.1\n",
      "Errors(2) for Mechanism-2: Zero Tolerance: 100 0.631459956173 0.560248713095\n",
      "Errors(2) for Mechanism-2: 0.1 Tolerance: 77 0.631459956173 0.560248713095\n",
      "Errors(2) for Mechanism-2: 0.2 Tolerance: 57 0.631459956173 0.560248713095\n",
      "(2) MSE Mechansim-2: 0.712620296774\n",
      "(2) Mean Absolute Error Mechansim-2: 0.631459956173\n"
     ]
    }
   ],
   "source": [
    "classifier = Lasso(alpha=0.1)\n",
    "obs_labels = get_predictions(classifier,2,test_data_2_values)\n",
    "\n",
    "print 'Lambda:0.1'\n",
    "error_1,mean_1,std_1 = get_error_metric(ERROR_THRESHOLD_1,test_data_2_labels,obs_labels)\n",
    "error_2,mean_2,std_2 = get_error_metric(ERROR_THRESHOLD_2,test_data_2_labels,obs_labels)\n",
    "error_3,mean_3,std_3 = get_error_metric(ERROR_THRESHOLD_3,test_data_2_labels,obs_labels)\n",
    "print 'Errors(2) for Mechanism-2: Zero Tolerance:',error_1,mean_1,std_1\n",
    "print 'Errors(2) for Mechanism-2: 0.1 Tolerance:',error_2,mean_2,std_2\n",
    "print 'Errors(2) for Mechanism-2: 0.2 Tolerance:',error_3,mean_3,std_3\n",
    "print '(2) MSE Mechansim-2:',get_mean_squared_error(test_data_2_labels,obs_labels)\n",
    "print '(2) Mean Absolute Error Mechansim-2:',get_mean_absolute_error(test_data_2_labels,obs_labels)\n",
    "\n",
    "classifier = Lasso(alpha=-0.1)\n",
    "obs_labels = get_predictions(classifier,2,test_data_2_values)\n",
    "\n",
    "print 'Lambda:-0.1'\n",
    "error_1,mean_1,std_1 = get_error_metric(ERROR_THRESHOLD_1,test_data_2_labels,obs_labels)\n",
    "error_2,mean_2,std_2 = get_error_metric(ERROR_THRESHOLD_2,test_data_2_labels,obs_labels)\n",
    "error_3,mean_3,std_3 = get_error_metric(ERROR_THRESHOLD_3,test_data_2_labels,obs_labels)\n",
    "print 'Errors(2) for Mechanism-2: Zero Tolerance:',error_1,mean_1,std_1\n",
    "print 'Errors(2) for Mechanism-2: 0.1 Tolerance:',error_2,mean_2,std_2\n",
    "print 'Errors(2) for Mechanism-2: 0.2 Tolerance:',error_3,mean_3,std_3\n",
    "print '(2) MSE Mechansim-2:',get_mean_squared_error(test_data_2_labels,obs_labels)\n",
    "print '(2) Mean Absolute Error Mechansim-2:',get_mean_absolute_error(test_data_2_labels,obs_labels)"
   ]
  },
  {
   "cell_type": "code",
   "execution_count": 22,
   "metadata": {
    "collapsed": false
   },
   "outputs": [
    {
     "name": "stdout",
     "output_type": "stream",
     "text": [
      "Lambda:0.01\n",
      "Errors(2) for Mechanism-2: Zero Tolerance: 100 0.299437555529 0.281101344539\n",
      "Errors(2) for Mechanism-2: 0.1 Tolerance: 54 0.299437555529 0.281101344539\n",
      "Errors(2) for Mechanism-2: 0.2 Tolerance: 25 0.299437555529 0.281101344539\n",
      "(2) MSE Mechansim-2: 0.168680815562\n",
      "(2) Mean Absolute Error Mechansim-2: 0.299437555529\n",
      "Lambda:-0.01\n",
      "Errors(2) for Mechanism-2: Zero Tolerance: 100 0.304193764981 0.277304547179\n",
      "Errors(2) for Mechanism-2: 0.1 Tolerance: 56 0.304193764981 0.277304547179\n",
      "Errors(2) for Mechanism-2: 0.2 Tolerance: 25 0.304193764981 0.277304547179\n",
      "(2) MSE Mechansim-2: 0.16943165854\n",
      "(2) Mean Absolute Error Mechansim-2: 0.304193764981\n"
     ]
    }
   ],
   "source": [
    "classifier = Lasso(alpha=0.01)\n",
    "obs_labels = get_predictions(classifier,2,test_data_2_values)\n",
    "\n",
    "print 'Lambda:0.01'\n",
    "error_1,mean_1,std_1 = get_error_metric(ERROR_THRESHOLD_1,test_data_2_labels,obs_labels)\n",
    "error_2,mean_2,std_2 = get_error_metric(ERROR_THRESHOLD_2,test_data_2_labels,obs_labels)\n",
    "error_3,mean_3,std_3 = get_error_metric(ERROR_THRESHOLD_3,test_data_2_labels,obs_labels)\n",
    "print 'Errors(2) for Mechanism-2: Zero Tolerance:',error_1,mean_1,std_1\n",
    "print 'Errors(2) for Mechanism-2: 0.1 Tolerance:',error_2,mean_2,std_2\n",
    "print 'Errors(2) for Mechanism-2: 0.2 Tolerance:',error_3,mean_3,std_3\n",
    "print '(2) MSE Mechansim-2:',get_mean_squared_error(test_data_2_labels,obs_labels)\n",
    "print '(2) Mean Absolute Error Mechansim-2:',get_mean_absolute_error(test_data_2_labels,obs_labels)\n",
    "\n",
    "classifier = Lasso(alpha=-0.01)\n",
    "obs_labels = get_predictions(classifier,2,test_data_2_values)\n",
    "\n",
    "print 'Lambda:-0.01'\n",
    "error_1,mean_1,std_1 = get_error_metric(ERROR_THRESHOLD_1,test_data_2_labels,obs_labels)\n",
    "error_2,mean_2,std_2 = get_error_metric(ERROR_THRESHOLD_2,test_data_2_labels,obs_labels)\n",
    "error_3,mean_3,std_3 = get_error_metric(ERROR_THRESHOLD_3,test_data_2_labels,obs_labels)\n",
    "print 'Errors(2) for Mechanism-2: Zero Tolerance:',error_1,mean_1,std_1\n",
    "print 'Errors(2) for Mechanism-2: 0.1 Tolerance:',error_2,mean_2,std_2\n",
    "print 'Errors(2) for Mechanism-2: 0.2 Tolerance:',error_3,mean_3,std_3\n",
    "print '(2) MSE Mechansim-2:',get_mean_squared_error(test_data_2_labels,obs_labels)\n",
    "print '(2) Mean Absolute Error Mechansim-2:',get_mean_absolute_error(test_data_2_labels,obs_labels)"
   ]
  },
  {
   "cell_type": "code",
   "execution_count": 24,
   "metadata": {
    "collapsed": false
   },
   "outputs": [
    {
     "name": "stdout",
     "output_type": "stream",
     "text": [
      "Lambda:-2\n",
      "Errors(2) for Mechanism-2: Zero Tolerance: 100 11.4024179163 10.3615843692\n",
      "Errors(2) for Mechanism-2: 0.1 Tolerance: 98 11.4024179163 10.3615843692\n",
      "Errors(2) for Mechanism-2: 0.2 Tolerance: 96 11.4024179163 10.3615843692\n",
      "(2) MSE Mechansim-2: 237.377564979\n",
      "(2) Mean Absolute Error Mechansim-2: 11.4024179163\n"
     ]
    }
   ],
   "source": [
    "classifier = Lasso(alpha=-2)\n",
    "obs_labels = get_predictions(classifier,2,test_data_2_values)\n",
    "\n",
    "print 'Lambda:-2'\n",
    "error_1,mean_1,std_1 = get_error_metric(ERROR_THRESHOLD_1,test_data_2_labels,obs_labels)\n",
    "error_2,mean_2,std_2 = get_error_metric(ERROR_THRESHOLD_2,test_data_2_labels,obs_labels)\n",
    "error_3,mean_3,std_3 = get_error_metric(ERROR_THRESHOLD_3,test_data_2_labels,obs_labels)\n",
    "print 'Errors(2) for Mechanism-2: Zero Tolerance:',error_1,mean_1,std_1\n",
    "print 'Errors(2) for Mechanism-2: 0.1 Tolerance:',error_2,mean_2,std_2\n",
    "print 'Errors(2) for Mechanism-2: 0.2 Tolerance:',error_3,mean_3,std_3\n",
    "print '(2) MSE Mechansim-2:',get_mean_squared_error(test_data_2_labels,obs_labels)\n",
    "print '(2) Mean Absolute Error Mechansim-2:',get_mean_absolute_error(test_data_2_labels,obs_labels)"
   ]
  },
  {
   "cell_type": "code",
   "execution_count": null,
   "metadata": {
    "collapsed": true
   },
   "outputs": [],
   "source": []
  }
 ],
 "metadata": {
  "kernelspec": {
   "display_name": "Python 2",
   "language": "python",
   "name": "python2"
  },
  "language_info": {
   "codemirror_mode": {
    "name": "ipython",
    "version": 2
   },
   "file_extension": ".py",
   "mimetype": "text/x-python",
   "name": "python",
   "nbconvert_exporter": "python",
   "pygments_lexer": "ipython2",
   "version": "2.7.11"
  }
 },
 "nbformat": 4,
 "nbformat_minor": 0
}
