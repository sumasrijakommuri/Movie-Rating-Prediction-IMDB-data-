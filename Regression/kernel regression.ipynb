{
 "cells": [
  {
   "cell_type": "code",
   "execution_count": 28,
   "metadata": {
    "collapsed": false
   },
   "outputs": [],
   "source": [
    "import csv\n",
    "\n",
    "from sklearn.kernel_ridge import KernelRidge\n",
    "import numpy as np\n",
    "from sklearn.metrics import mean_squared_error\n",
    "import time\n",
    "import warnings\n",
    "warnings.filterwarnings('ignore')\n",
    "\n",
    "TEST_DATA_FILE_1 = \"test_data_1.csv\"\n",
    "TEST_DATA_FILE_2 = \"test_data_2.csv\"\n",
    "TRAIN_DATA_FILE_1 = \"train_data_1.csv\"\n",
    "TRAIN_DATA_FILE_2 = \"train_data_2.csv\"\n",
    "PROD_INDEX = 6\n",
    "DIR_INDEX = 5\n",
    "ERROR_THRESHOLD_1 = 0\n",
    "ERROR_THRESHOLD_2 = 0.2\n",
    "ERROR_THRESHOLD_3 = 0.4"
   ]
  },
  {
   "cell_type": "code",
   "execution_count": 29,
   "metadata": {
    "collapsed": false
   },
   "outputs": [],
   "source": [
    "def read_data_file(filename):    \n",
    "    data_file = file(filename, 'r')\n",
    "    data = csv.reader(data_file, delimiter=',')\n",
    "    labels = []\n",
    "    values = []\n",
    "    for row in data:\n",
    "        value = []\n",
    "        prod_value = 0\n",
    "        writer_value = 0\n",
    "        for index in range(1,PROD_INDEX):\n",
    "            value.append(float(row[index]))\n",
    "        for index in range(PROD_INDEX + 1,PROD_INDEX + int(row[PROD_INDEX]) + 1):\n",
    "            prod_value = max(float(row[index]),prod_value)\n",
    "        value.append(prod_value)\n",
    "        WRITER_INDEX = PROD_INDEX + int(row[PROD_INDEX]) + 1\n",
    "        for index in range(WRITER_INDEX+1,len(row)):\n",
    "            writer_value = max(float(row[index]),writer_value)\n",
    "        value.append(writer_value)\n",
    "        labels.append(float(row[0]))\n",
    "        values.append(value)\n",
    "    print 'Done Reading File',filename\n",
    "    return labels,values"
   ]
  },
  {
   "cell_type": "code",
   "execution_count": 30,
   "metadata": {
    "collapsed": false
   },
   "outputs": [
    {
     "name": "stdout",
     "output_type": "stream",
     "text": [
      "Done Reading File train_data_1.csv\n",
      "Done Reading File train_data_2.csv\n",
      "Done Reading File test_data_1.csv\n",
      "Done Reading File test_data_2.csv\n"
     ]
    }
   ],
   "source": [
    "train_data_1_labels, train_data_1_values = read_data_file(TRAIN_DATA_FILE_1)\n",
    "train_data_2_labels, train_data_2_values = read_data_file(TRAIN_DATA_FILE_2)\n",
    "\n",
    "test_data_1_labels, test_data_1_values = read_data_file(TEST_DATA_FILE_1)\n",
    "test_data_2_labels, test_data_2_values = read_data_file(TEST_DATA_FILE_2)"
   ]
  },
  {
   "cell_type": "code",
   "execution_count": 31,
   "metadata": {
    "collapsed": true
   },
   "outputs": [],
   "source": [
    "def get_error_metric(threshold,actual_labels,predicted_labels):\n",
    "    error_count = 0\n",
    "    errors = np.zeros(len(actual_labels))\n",
    "    for index in range(0,len(actual_labels)):\n",
    "        errors[index] = (abs(float(actual_labels[index])-float(predicted_labels[index])))\n",
    "        if abs(float(actual_labels[index])-float(predicted_labels[index])) > threshold:\n",
    "            error_count +=1\n",
    "    return error_count*100/len(actual_labels),np.mean(errors),np.std(errors)\n",
    "\n",
    "def get_mean_squared_error(actual_labels,predicted_labels):\n",
    "    return mean_squared_error(actual_labels,predicted_labels)"
   ]
  },
  {
   "cell_type": "code",
   "execution_count": 32,
   "metadata": {
    "collapsed": false
   },
   "outputs": [],
   "source": [
    "def get_predictions(classifier,val,data):\n",
    "    if val==1:\n",
    "        X = np.asarray(train_data_1_values)\n",
    "        Y = np.asarray(train_data_1_labels)\n",
    "    else:\n",
    "        X = np.asarray(train_data_2_values)\n",
    "        Y = np.asarray(train_data_2_labels)\n",
    "    classifier.fit(X,Y)\n",
    "    return classifier.predict(data)"
   ]
  },
  {
   "cell_type": "code",
   "execution_count": 33,
   "metadata": {
    "collapsed": false
   },
   "outputs": [
    {
     "name": "stdout",
     "output_type": "stream",
     "text": [
      "Lambda:1\n",
      "Errors for Mechanism-1: Zero Tolerance: 100 0.289249321055 0.302990517526\n",
      "Errors for Mechanism-1: 0.1 Tolerance: 49 0.289249321055 0.302990517526\n",
      "Errors for Mechanism-1: 0.2 Tolerance: 26 0.289249321055 0.302990517526\n",
      "MSE Mechansim-1: 0.175468423441\n"
     ]
    }
   ],
   "source": [
    "classifier = KernelRidge()\n",
    "obs_labels = get_predictions(classifier,1,test_data_1_values)\n",
    "\n",
    "print 'Lambda:1'\n",
    "error_1,mean_1,std_1 = get_error_metric(ERROR_THRESHOLD_1,test_data_1_labels,obs_labels)\n",
    "error_2,mean_2,std_2 = get_error_metric(ERROR_THRESHOLD_2,test_data_1_labels,obs_labels)\n",
    "error_3,mean_3,std_3 = get_error_metric(ERROR_THRESHOLD_3,test_data_1_labels,obs_labels)\n",
    "print 'Errors for Mechanism-1: Zero Tolerance:',error_1,mean_1,std_1\n",
    "print 'Errors for Mechanism-1: 0.1 Tolerance:',error_2,mean_2,std_2\n",
    "print 'Errors for Mechanism-1: 0.2 Tolerance:',error_3,mean_3,std_3\n",
    "print 'MSE Mechansim-1:',get_mean_squared_error(test_data_1_labels,obs_labels)"
   ]
  },
  {
   "cell_type": "code",
   "execution_count": 34,
   "metadata": {
    "collapsed": false
   },
   "outputs": [
    {
     "name": "stdout",
     "output_type": "stream",
     "text": [
      "Lambda:0.1\n",
      "Errors for Mechanism-1: Zero Tolerance: 100 0.28924278387 0.302998897057\n",
      "Errors for Mechanism-1: 0.1 Tolerance: 49 0.28924278387 0.302998897057\n",
      "Errors for Mechanism-1: 0.2 Tolerance: 26 0.28924278387 0.302998897057\n",
      "MSE Mechansim-1: 0.175469719639\n",
      "Time: 0.039999961853\n",
      "Lambda:-1\n",
      "Errors for Mechanism-1: Zero Tolerance: 100 0.28923478538 0.303009181934\n",
      "Errors for Mechanism-1: 0.1 Tolerance: 49 0.28923478538 0.303009181934\n",
      "Errors for Mechanism-1: 0.2 Tolerance: 26 0.28923478538 0.303009181934\n",
      "MSE Mechansim-1: 0.17547132541\n",
      "Time: 659.506000042\n"
     ]
    }
   ],
   "source": [
    "classifier = KernelRidge(alpha=0.1)\n",
    "obs_labels = get_predictions(classifier,1,test_data_1_values)\n",
    "\n",
    "t = time.time()\n",
    "print 'Lambda:0.1'\n",
    "error_1,mean_1,std_1 = get_error_metric(ERROR_THRESHOLD_1,test_data_1_labels,obs_labels)\n",
    "error_2,mean_2,std_2 = get_error_metric(ERROR_THRESHOLD_2,test_data_1_labels,obs_labels)\n",
    "error_3,mean_3,std_3 = get_error_metric(ERROR_THRESHOLD_3,test_data_1_labels,obs_labels)\n",
    "print 'Errors for Mechanism-1: Zero Tolerance:',error_1,mean_1,std_1\n",
    "print 'Errors for Mechanism-1: 0.1 Tolerance:',error_2,mean_2,std_2\n",
    "print 'Errors for Mechanism-1: 0.2 Tolerance:',error_3,mean_3,std_3\n",
    "print 'MSE Mechansim-1:',get_mean_squared_error(test_data_1_labels,obs_labels)\n",
    "\n",
    "t2= time.time()\n",
    "print 'Time:',t2-t\n",
    "classifier = KernelRidge(alpha=-1)\n",
    "obs_labels = get_predictions(classifier,1,test_data_1_values)\n",
    "\n",
    "print 'Lambda:-1'\n",
    "error_1,mean_1,std_1 = get_error_metric(ERROR_THRESHOLD_1,test_data_1_labels,obs_labels)\n",
    "error_2,mean_2,std_2 = get_error_metric(ERROR_THRESHOLD_2,test_data_1_labels,obs_labels)\n",
    "error_3,mean_3,std_3 = get_error_metric(ERROR_THRESHOLD_3,test_data_1_labels,obs_labels)\n",
    "print 'Errors for Mechanism-1: Zero Tolerance:',error_1,mean_1,std_1\n",
    "print 'Errors for Mechanism-1: 0.1 Tolerance:',error_2,mean_2,std_2\n",
    "print 'Errors for Mechanism-1: 0.2 Tolerance:',error_3,mean_3,std_3\n",
    "print 'MSE Mechansim-1:',get_mean_squared_error(test_data_1_labels,obs_labels)\n",
    "print 'Time:',time.time()-t2"
   ]
  },
  {
   "cell_type": "code",
   "execution_count": 35,
   "metadata": {
    "collapsed": false
   },
   "outputs": [
    {
     "name": "stdout",
     "output_type": "stream",
     "text": [
      "Lambda:0.01\n",
      "Errors for Mechanism-1: Zero Tolerance: 100 0.289242129917 0.302999736651\n",
      "Errors for Mechanism-1: 0.1 Tolerance: 49 0.289242129917 0.302999736651\n",
      "Errors for Mechanism-1: 0.2 Tolerance: 26 0.289242129917 0.302999736651\n",
      "MSE Mechansim-1: 0.17546985013\n",
      "Time: 0.0279998779297\n",
      "Lambda:2\n",
      "Errors for Mechanism-1: Zero Tolerance: 100 0.289256577184 0.302981244177\n",
      "Errors for Mechanism-1: 0.1 Tolerance: 49 0.289256577184 0.302981244177\n",
      "Errors for Mechanism-1: 0.2 Tolerance: 26 0.289256577184 0.302981244177\n",
      "MSE Mechansim-1: 0.175467001767\n",
      "Time: 13.9330000877\n"
     ]
    }
   ],
   "source": [
    "classifier = KernelRidge(alpha=0.01)\n",
    "obs_labels = get_predictions(classifier,1,test_data_1_values)\n",
    "\n",
    "t= time.time()\n",
    "print 'Lambda:0.01'\n",
    "error_1,mean_1,std_1 = get_error_metric(ERROR_THRESHOLD_1,test_data_1_labels,obs_labels)\n",
    "error_2,mean_2,std_2 = get_error_metric(ERROR_THRESHOLD_2,test_data_1_labels,obs_labels)\n",
    "error_3,mean_3,std_3 = get_error_metric(ERROR_THRESHOLD_3,test_data_1_labels,obs_labels)\n",
    "print 'Errors for Mechanism-1: Zero Tolerance:',error_1,mean_1,std_1\n",
    "print 'Errors for Mechanism-1: 0.1 Tolerance:',error_2,mean_2,std_2\n",
    "print 'Errors for Mechanism-1: 0.2 Tolerance:',error_3,mean_3,std_3\n",
    "print 'MSE Mechansim-1:',get_mean_squared_error(test_data_1_labels,obs_labels)\n",
    "\n",
    "t2= time.time()\n",
    "print 'Time:',t2-t\n",
    "classifier = KernelRidge(alpha=2)\n",
    "obs_labels = get_predictions(classifier,1,test_data_1_values)\n",
    "\n",
    "print 'Lambda:2'\n",
    "error_1,mean_1,std_1 = get_error_metric(ERROR_THRESHOLD_1,test_data_1_labels,obs_labels)\n",
    "error_2,mean_2,std_2 = get_error_metric(ERROR_THRESHOLD_2,test_data_1_labels,obs_labels)\n",
    "error_3,mean_3,std_3 = get_error_metric(ERROR_THRESHOLD_3,test_data_1_labels,obs_labels)\n",
    "print 'Errors for Mechanism-1: Zero Tolerance:',error_1,mean_1,std_1\n",
    "print 'Errors for Mechanism-1: 0.1 Tolerance:',error_2,mean_2,std_2\n",
    "print 'Errors for Mechanism-1: 0.2 Tolerance:',error_3,mean_3,std_3\n",
    "print 'MSE Mechansim-1:',get_mean_squared_error(test_data_1_labels,obs_labels)\n",
    "print 'Time:',time.time()-t2"
   ]
  },
  {
   "cell_type": "code",
   "execution_count": 36,
   "metadata": {
    "collapsed": false
   },
   "outputs": [
    {
     "name": "stdout",
     "output_type": "stream",
     "text": [
      "Lambda:-2\n",
      "Errors for Mechanism-1: Zero Tolerance: 100 0.289227505801 0.303018573192\n",
      "Errors for Mechanism-1: 0.1 Tolerance: 49 0.289227505801 0.303018573192\n",
      "Errors for Mechanism-1: 0.2 Tolerance: 26 0.289227505801 0.303018573192\n",
      "MSE Mechansim-1: 0.175472805811\n",
      "Time taken: 0.0720000267029\n"
     ]
    }
   ],
   "source": [
    "classifier = KernelRidge(alpha=-2)\n",
    "obs_labels = get_predictions(classifier,1,test_data_1_values)\n",
    "\n",
    "t = time.time()\n",
    "print 'Lambda:-2'\n",
    "error_1,mean_1,std_1 = get_error_metric(ERROR_THRESHOLD_1,test_data_1_labels,obs_labels)\n",
    "error_2,mean_2,std_2 = get_error_metric(ERROR_THRESHOLD_2,test_data_1_labels,obs_labels)\n",
    "error_3,mean_3,std_3 = get_error_metric(ERROR_THRESHOLD_3,test_data_1_labels,obs_labels)\n",
    "print 'Errors for Mechanism-1: Zero Tolerance:',error_1,mean_1,std_1\n",
    "print 'Errors for Mechanism-1: 0.1 Tolerance:',error_2,mean_2,std_2\n",
    "print 'Errors for Mechanism-1: 0.2 Tolerance:',error_3,mean_3,std_3\n",
    "print 'MSE Mechansim-1:',get_mean_squared_error(test_data_1_labels,obs_labels)\n",
    "print 'Time taken:',time.time()-t"
   ]
  },
  {
   "cell_type": "code",
   "execution_count": null,
   "metadata": {
    "collapsed": false
   },
   "outputs": [
    {
     "name": "stdout",
     "output_type": "stream",
     "text": [
      "Lambda:1\n",
      "Errors for Mechanism-2: Zero Tolerance: 100 2.82416575643 1.77590259241\n",
      "Errors for Mechanism-2: 0.1 Tolerance: 96 2.82416575643 1.77590259241\n",
      "Errors for Mechanism-2: 0.2 Tolerance: 93 2.82416575643 1.77590259241\n",
      "MSE Mechansim-2: 11.1297422375\n",
      "Time taken: 0.0199999809265\n"
     ]
    }
   ],
   "source": [
    "classifier = KernelRidge()\n",
    "obs_labels = get_predictions(classifier,2,test_data_2_values)\n",
    "\n",
    "t= time.time()\n",
    "print 'Lambda:1'\n",
    "error_1,mean_1,std_1 = get_error_metric(ERROR_THRESHOLD_1,test_data_2_labels,obs_labels)\n",
    "error_2,mean_2,std_2 = get_error_metric(ERROR_THRESHOLD_2,test_data_2_labels,obs_labels)\n",
    "error_3,mean_3,std_3 = get_error_metric(ERROR_THRESHOLD_3,test_data_2_labels,obs_labels)\n",
    "print 'Errors for Mechanism-2: Zero Tolerance:',error_1,mean_1,std_1\n",
    "print 'Errors for Mechanism-2: 0.1 Tolerance:',error_2,mean_2,std_2\n",
    "print 'Errors for Mechanism-2: 0.2 Tolerance:',error_3,mean_3,std_3\n",
    "print 'MSE Mechansim-2:',get_mean_squared_error(test_data_2_labels,obs_labels)\n",
    "print 'Time taken:',time.time()-t"
   ]
  },
  {
   "cell_type": "code",
   "execution_count": null,
   "metadata": {
    "collapsed": false
   },
   "outputs": [],
   "source": [
    "classifier = KernelRidge(alpha=-1)\n",
    "obs_labels = get_predictions(classifier,2,test_data_2_values)\n",
    "t = time.time()\n",
    "print 'Lambda:-1'\n",
    "error_1,mean_1,std_1 = get_error_metric(ERROR_THRESHOLD_1,test_data_2_labels,obs_labels)\n",
    "error_2,mean_2,std_2 = get_error_metric(ERROR_THRESHOLD_2,test_data_2_labels,obs_labels)\n",
    "error_3,mean_3,std_3 = get_error_metric(ERROR_THRESHOLD_3,test_data_2_labels,obs_labels)\n",
    "print 'Errors for Mechanism-2: Zero Tolerance:',error_1,mean_1,std_1\n",
    "print 'Errors for Mechanism-2: 0.1 Tolerance:',error_2,mean_2,std_2\n",
    "print 'Errors for Mechanism-2: 0.2 Tolerance:',error_3,mean_3,std_3\n",
    "print 'MSE Mechansim-2:',get_mean_squared_error(test_data_2_labels,obs_labels)\n",
    "print 'Time taken',time.time()-t"
   ]
  },
  {
   "cell_type": "code",
   "execution_count": 13,
   "metadata": {
    "collapsed": false
   },
   "outputs": [
    {
     "name": "stdout",
     "output_type": "stream",
     "text": [
      "Lambda:2\n",
      "Errors for Mechanism-2: Zero Tolerance: 100 2.82428205474 1.77570205565\n",
      "Errors for Mechanism-2: 0.1 Tolerance: 96 2.82428205474 1.77570205565\n",
      "Errors for Mechanism-2: 0.2 Tolerance: 93 2.82428205474 1.77570205565\n",
      "MSE Mechansim-2: 11.1296869152\n",
      "Time taken 0.0450000762939\n",
      "Lambda:-2\n",
      "Errors for Mechanism-2: Zero Tolerance: 100 2.82381796075 1.77650658334\n",
      "Errors for Mechanism-2: 0.1 Tolerance: 96 2.82381796075 1.77650658334\n",
      "Errors for Mechanism-2: 0.2 Tolerance: 93 2.82381796075 1.77650658334\n",
      "MSE Mechansim-2: 11.1299235161\n"
     ]
    }
   ],
   "source": [
    "classifier = KernelRidge(alpha=2)\n",
    "obs_labels = get_predictions(classifier,2,test_data_2_values)\n",
    "\n",
    "t = time.time()\n",
    "print 'Lambda:2'\n",
    "error_1,mean_1,std_1 = get_error_metric(ERROR_THRESHOLD_1,test_data_2_labels,obs_labels)\n",
    "error_2,mean_2,std_2 = get_error_metric(ERROR_THRESHOLD_2,test_data_2_labels,obs_labels)\n",
    "error_3,mean_3,std_3 = get_error_metric(ERROR_THRESHOLD_3,test_data_2_labels,obs_labels)\n",
    "print 'Errors for Mechanism-2: Zero Tolerance:',error_1,mean_1,std_1\n",
    "print 'Errors for Mechanism-2: 0.1 Tolerance:',error_2,mean_2,std_2\n",
    "print 'Errors for Mechanism-2: 0.2 Tolerance:',error_3,mean_3,std_3\n",
    "print 'MSE Mechansim-2:',get_mean_squared_error(test_data_2_labels,obs_labels) \n",
    "print 'Time taken',time.time() - t\n",
    "\n",
    "classifier = KernelRidge(alpha=-2)\n",
    "obs_labels = get_predictions(classifier,2,test_data_2_values)\n",
    "\n",
    "t2 = time.time()\n",
    "print 'Lambda:-2'\n",
    "error_1,mean_1,std_1 = get_error_metric(ERROR_THRESHOLD_1,test_data_2_labels,obs_labels)\n",
    "error_2,mean_2,std_2 = get_error_metric(ERROR_THRESHOLD_2,test_data_2_labels,obs_labels)\n",
    "error_3,mean_3,std_3 = get_error_metric(ERROR_THRESHOLD_3,test_data_2_labels,obs_labels)\n",
    "print 'Errors for Mechanism-2: Zero Tolerance:',error_1,mean_1,std_1\n",
    "print 'Errors for Mechanism-2: 0.1 Tolerance:',error_2,mean_2,std_2\n",
    "print 'Errors for Mechanism-2: 0.2 Tolerance:',error_3,mean_3,std_3\n",
    "print 'MSE Mechansim-2:',get_mean_squared_error(test_data_2_labels,obs_labels)\n",
    "print 'Time taken:',time.time()-t2"
   ]
  },
  {
   "cell_type": "code",
   "execution_count": 14,
   "metadata": {
    "collapsed": false
   },
   "outputs": [
    {
     "name": "stdout",
     "output_type": "stream",
     "text": [
      "Done Reading File train_data_1.csv\n",
      "Done Reading File train_data_2.csv\n",
      "Done Reading File test_data_1.csv\n",
      "Done Reading File test_data_2.csv\n"
     ]
    }
   ],
   "source": [
    "\n",
    "avg_rating = 6.031\n",
    "\n",
    "def read_data_file_2(filename):    \n",
    "    data_file = file(filename, 'r')\n",
    "    data = csv.reader(data_file, delimiter=',')\n",
    "    labels = []\n",
    "    values = []\n",
    "    for row in data:\n",
    "        value = []\n",
    "        prod_value = 0\n",
    "        writer_value = 0\n",
    "        for index in range(1,PROD_INDEX):\n",
    "            value.append(float(row[index]))\n",
    "        for index in range(PROD_INDEX + 1,PROD_INDEX + int(row[PROD_INDEX]) + 1):\n",
    "            prod_value = max(float(row[index]),prod_value)\n",
    "        value.append(prod_value)\n",
    "        WRITER_INDEX = PROD_INDEX + int(row[PROD_INDEX]) + 1\n",
    "        for index in range(WRITER_INDEX+1,len(row)):\n",
    "            writer_value = max(float(row[index]),writer_value)\n",
    "        value.append(writer_value)\n",
    "        labels.append(float(row[0])-avg_rating)\n",
    "        values.append(value)\n",
    "    print 'Done Reading File',filename\n",
    "    return labels,values\n",
    "\n",
    "train_data_1_labels, train_data_1_values = read_data_file_2(TRAIN_DATA_FILE_1)\n",
    "train_data_2_labels, train_data_2_values = read_data_file_2(TRAIN_DATA_FILE_2)\n",
    "\n",
    "test_data_1_labels, test_data_1_values = read_data_file_2(TEST_DATA_FILE_1)\n",
    "test_data_2_labels, test_data_2_values = read_data_file_2(TEST_DATA_FILE_2)"
   ]
  },
  {
   "cell_type": "code",
   "execution_count": 15,
   "metadata": {
    "collapsed": false
   },
   "outputs": [
    {
     "name": "stdout",
     "output_type": "stream",
     "text": [
      "Lambda:1\n",
      "Errors(2) for Mechanism-1: Zero Tolerance: 100 0.71258363701 0.636740935765\n",
      "Errors(2) for Mechanism-1: 0.1 Tolerance: 80 0.71258363701 0.636740935765\n",
      "Errors(2) for Mechanism-1: 0.2 Tolerance: 62 0.71258363701 0.636740935765\n",
      "(2) MSE Mechansim-1: 0.913214459013\n"
     ]
    }
   ],
   "source": [
    "classifier = KernelRidge()\n",
    "obs_labels = get_predictions(classifier,1,test_data_1_values)\n",
    "\n",
    "print 'Lambda:1'\n",
    "error_1,mean_1,std_1 = get_error_metric(ERROR_THRESHOLD_1,test_data_1_labels,obs_labels)\n",
    "error_2,mean_2,std_2 = get_error_metric(ERROR_THRESHOLD_2,test_data_1_labels,obs_labels)\n",
    "error_3,mean_3,std_3 = get_error_metric(ERROR_THRESHOLD_3,test_data_1_labels,obs_labels)\n",
    "print 'Errors(2) for Mechanism-1: Zero Tolerance:',error_1,mean_1,std_1\n",
    "print 'Errors(2) for Mechanism-1: 0.1 Tolerance:',error_2,mean_2,std_2\n",
    "print 'Errors(2) for Mechanism-1: 0.2 Tolerance:',error_3,mean_3,std_3\n",
    "print '(2) MSE Mechansim-1:',get_mean_squared_error(test_data_1_labels,obs_labels)\n"
   ]
  },
  {
   "cell_type": "code",
   "execution_count": 16,
   "metadata": {
    "collapsed": false
   },
   "outputs": [
    {
     "name": "stdout",
     "output_type": "stream",
     "text": [
      "Lambda:0.01\n",
      "Errors(2) for Mechanism-1: Zero Tolerance: 100 0.712569730374 0.636761129028\n",
      "Errors(2) for Mechanism-1: 0.1 Tolerance: 80 0.712569730374 0.636761129028\n",
      "Errors(2) for Mechanism-1: 0.2 Tolerance: 62 0.712569730374 0.636761129028\n",
      "(2) MSE Mechansim-1: 0.913220356087\n",
      "Lambda:-1\n",
      "Errors(2) for Mechanism-1: Zero Tolerance: 100 0.712555532932 0.636781803319\n",
      "Errors(2) for Mechanism-1: 0.1 Tolerance: 80 0.712555532932 0.636781803319\n",
      "Errors(2) for Mechanism-1: 0.2 Tolerance: 62 0.712555532932 0.636781803319\n",
      "(2) MSE Mechansim-1: 0.91322645255\n"
     ]
    }
   ],
   "source": [
    "classifier = KernelRidge(alpha=0.01)\n",
    "obs_labels = get_predictions(classifier,1,test_data_1_values)\n",
    "\n",
    "print 'Lambda:0.01'\n",
    "error_1,mean_1,std_1 = get_error_metric(ERROR_THRESHOLD_1,test_data_1_labels,obs_labels)\n",
    "error_2,mean_2,std_2 = get_error_metric(ERROR_THRESHOLD_2,test_data_1_labels,obs_labels)\n",
    "error_3,mean_3,std_3 = get_error_metric(ERROR_THRESHOLD_3,test_data_1_labels,obs_labels)\n",
    "print 'Errors(2) for Mechanism-1: Zero Tolerance:',error_1,mean_1,std_1\n",
    "print 'Errors(2) for Mechanism-1: 0.1 Tolerance:',error_2,mean_2,std_2\n",
    "print 'Errors(2) for Mechanism-1: 0.2 Tolerance:',error_3,mean_3,std_3\n",
    "print '(2) MSE Mechansim-1:',get_mean_squared_error(test_data_1_labels,obs_labels)\n",
    "\n",
    "classifier = KernelRidge(alpha=-1)\n",
    "obs_labels = get_predictions(classifier,1,test_data_1_values)\n",
    "\n",
    "print 'Lambda:-1'\n",
    "error_1,mean_1,std_1 = get_error_metric(ERROR_THRESHOLD_1,test_data_1_labels,obs_labels)\n",
    "error_2,mean_2,std_2 = get_error_metric(ERROR_THRESHOLD_2,test_data_1_labels,obs_labels)\n",
    "error_3,mean_3,std_3 = get_error_metric(ERROR_THRESHOLD_3,test_data_1_labels,obs_labels)\n",
    "print 'Errors(2) for Mechanism-1: Zero Tolerance:',error_1,mean_1,std_1\n",
    "print 'Errors(2) for Mechanism-1: 0.1 Tolerance:',error_2,mean_2,std_2\n",
    "print 'Errors(2) for Mechanism-1: 0.2 Tolerance:',error_3,mean_3,std_3\n",
    "print '(2) MSE Mechansim-1:',get_mean_squared_error(test_data_1_labels,obs_labels)"
   ]
  },
  {
   "cell_type": "code",
   "execution_count": 17,
   "metadata": {
    "collapsed": false
   },
   "outputs": [
    {
     "name": "stdout",
     "output_type": "stream",
     "text": [
      "Lambda:0.001\n",
      "Errors(2) for Mechanism-1: Zero Tolerance: 100 0.712569607512 0.636761309748\n",
      "Errors(2) for Mechanism-1: 0.1 Tolerance: 80 0.712569607512 0.636761309748\n",
      "Errors(2) for Mechanism-1: 0.2 Tolerance: 62 0.712569607512 0.636761309748\n",
      "(2) MSE Mechansim-1: 0.913220411142\n",
      "Lambda:2\n",
      "Errors(2) for Mechanism-1: Zero Tolerance: 100 0.712597672814 0.636720611457\n",
      "Errors(2) for Mechanism-1: 0.1 Tolerance: 80 0.712597672814 0.636720611457\n",
      "Errors(2) for Mechanism-1: 0.2 Tolerance: 62 0.712597672814 0.636720611457\n",
      "(2) MSE Mechansim-1: 0.913208580354\n"
     ]
    }
   ],
   "source": [
    "classifier = KernelRidge(alpha=0.001)\n",
    "obs_labels = get_predictions(classifier,1,test_data_1_values)\n",
    "\n",
    "print 'Lambda:0.001'\n",
    "error_1,mean_1,std_1 = get_error_metric(ERROR_THRESHOLD_1,test_data_1_labels,obs_labels)\n",
    "error_2,mean_2,std_2 = get_error_metric(ERROR_THRESHOLD_2,test_data_1_labels,obs_labels)\n",
    "error_3,mean_3,std_3 = get_error_metric(ERROR_THRESHOLD_3,test_data_1_labels,obs_labels)\n",
    "print 'Errors(2) for Mechanism-1: Zero Tolerance:',error_1,mean_1,std_1\n",
    "print 'Errors(2) for Mechanism-1: 0.1 Tolerance:',error_2,mean_2,std_2\n",
    "print 'Errors(2) for Mechanism-1: 0.2 Tolerance:',error_3,mean_3,std_3\n",
    "print '(2) MSE Mechansim-1:',get_mean_squared_error(test_data_1_labels,obs_labels)\n",
    "\n",
    "classifier = KernelRidge(alpha=2)\n",
    "obs_labels = get_predictions(classifier,1,test_data_1_values)\n",
    "\n",
    "print 'Lambda:2'\n",
    "error_1,mean_1,std_1 = get_error_metric(ERROR_THRESHOLD_1,test_data_1_labels,obs_labels)\n",
    "error_2,mean_2,std_2 = get_error_metric(ERROR_THRESHOLD_2,test_data_1_labels,obs_labels)\n",
    "error_3,mean_3,std_3 = get_error_metric(ERROR_THRESHOLD_3,test_data_1_labels,obs_labels)\n",
    "print 'Errors(2) for Mechanism-1: Zero Tolerance:',error_1,mean_1,std_1\n",
    "print 'Errors(2) for Mechanism-1: 0.1 Tolerance:',error_2,mean_2,std_2\n",
    "print 'Errors(2) for Mechanism-1: 0.2 Tolerance:',error_3,mean_3,std_3\n",
    "print '(2) MSE Mechansim-1:',get_mean_squared_error(test_data_1_labels,obs_labels)\n"
   ]
  },
  {
   "cell_type": "code",
   "execution_count": 18,
   "metadata": {
    "collapsed": false
   },
   "outputs": [
    {
     "name": "stdout",
     "output_type": "stream",
     "text": [
      "Lambda:-2\n",
      "Errors(2) for Mechanism-1: Zero Tolerance: 100 0.712541464658 0.636802346856\n",
      "Errors(2) for Mechanism-1: 0.1 Tolerance: 80 0.712541464658 0.636802346856\n",
      "Errors(2) for Mechanism-1: 0.2 Tolerance: 62 0.712541464658 0.636802346856\n",
      "(2) MSE Mechansim-1: 0.913232567818\n"
     ]
    }
   ],
   "source": [
    "classifier = KernelRidge(alpha=-2)\n",
    "obs_labels = get_predictions(classifier,1,test_data_1_values)\n",
    "\n",
    "print 'Lambda:-2'\n",
    "error_1,mean_1,std_1 = get_error_metric(ERROR_THRESHOLD_1,test_data_1_labels,obs_labels)\n",
    "error_2,mean_2,std_2 = get_error_metric(ERROR_THRESHOLD_2,test_data_1_labels,obs_labels)\n",
    "error_3,mean_3,std_3 = get_error_metric(ERROR_THRESHOLD_3,test_data_1_labels,obs_labels)\n",
    "print 'Errors(2) for Mechanism-1: Zero Tolerance:',error_1,mean_1,std_1\n",
    "print 'Errors(2) for Mechanism-1: 0.1 Tolerance:',error_2,mean_2,std_2\n",
    "print 'Errors(2) for Mechanism-1: 0.2 Tolerance:',error_3,mean_3,std_3\n",
    "print '(2) MSE Mechansim-1:',get_mean_squared_error(test_data_1_labels,obs_labels)"
   ]
  },
  {
   "cell_type": "code",
   "execution_count": 19,
   "metadata": {
    "collapsed": false
   },
   "outputs": [
    {
     "name": "stdout",
     "output_type": "stream",
     "text": [
      "Lambda:1\n",
      "Errors(2) for Mechanism-2: Zero Tolerance: 100 0.305070279333 0.288348931849\n",
      "Errors(2) for Mechanism-2: 0.1 Tolerance: 54 0.305070279333 0.288348931849\n",
      "Errors(2) for Mechanism-2: 0.2 Tolerance: 25 0.305070279333 0.288348931849\n",
      "(2) MSE Mechansim-2: 0.176212981831\n"
     ]
    }
   ],
   "source": [
    "classifier = KernelRidge()\n",
    "obs_labels = get_predictions(classifier,2,test_data_2_values)\n",
    "\n",
    "print 'Lambda:1'\n",
    "error_1,mean_1,std_1 = get_error_metric(ERROR_THRESHOLD_1,test_data_2_labels,obs_labels)\n",
    "error_2,mean_2,std_2 = get_error_metric(ERROR_THRESHOLD_2,test_data_2_labels,obs_labels)\n",
    "error_3,mean_3,std_3 = get_error_metric(ERROR_THRESHOLD_3,test_data_2_labels,obs_labels)\n",
    "print 'Errors(2) for Mechanism-2: Zero Tolerance:',error_1,mean_1,std_1\n",
    "print 'Errors(2) for Mechanism-2: 0.1 Tolerance:',error_2,mean_2,std_2\n",
    "print 'Errors(2) for Mechanism-2: 0.2 Tolerance:',error_3,mean_3,std_3\n",
    "print '(2) MSE Mechansim-2:',get_mean_squared_error(test_data_2_labels,obs_labels)"
   ]
  },
  {
   "cell_type": "code",
   "execution_count": 20,
   "metadata": {
    "collapsed": false
   },
   "outputs": [
    {
     "name": "stdout",
     "output_type": "stream",
     "text": [
      "Lambda:0.1\n",
      "Errors(2) for Mechanism-2: Zero Tolerance: 100 0.305070481677 0.288346887045\n",
      "Errors(2) for Mechanism-2: 0.1 Tolerance: 54 0.305070481677 0.288346887045\n",
      "Errors(2) for Mechanism-2: 0.2 Tolerance: 25 0.305070481677 0.288346887045\n",
      "(2) MSE Mechansim-2: 0.17621192606\n",
      "Lambda:-1\n",
      "Errors(2) for Mechanism-2: Zero Tolerance: 100 0.305070724425 0.288344427576\n",
      "Errors(2) for Mechanism-2: 0.1 Tolerance: 54 0.305070724425 0.288344427576\n",
      "Errors(2) for Mechanism-2: 0.2 Tolerance: 25 0.305070724425 0.288344427576\n",
      "(2) MSE Mechansim-2: 0.176210655816\n",
      "Lambda:0.01\n",
      "Errors(2) for Mechanism-2: Zero Tolerance: 100 0.305070501727 0.288346684173\n",
      "Errors(2) for Mechanism-2: 0.1 Tolerance: 54 0.305070501727 0.288346684173\n",
      "Errors(2) for Mechanism-2: 0.2 Tolerance: 25 0.305070501727 0.288346684173\n",
      "(2) MSE Mechansim-2: 0.176211821297\n"
     ]
    }
   ],
   "source": [
    "classifier = KernelRidge(alpha=0.1)\n",
    "obs_labels = get_predictions(classifier,2,test_data_2_values)\n",
    "\n",
    "print 'Lambda:0.1'\n",
    "error_1,mean_1,std_1 = get_error_metric(ERROR_THRESHOLD_1,test_data_2_labels,obs_labels)\n",
    "error_2,mean_2,std_2 = get_error_metric(ERROR_THRESHOLD_2,test_data_2_labels,obs_labels)\n",
    "error_3,mean_3,std_3 = get_error_metric(ERROR_THRESHOLD_3,test_data_2_labels,obs_labels)\n",
    "print 'Errors(2) for Mechanism-2: Zero Tolerance:',error_1,mean_1,std_1\n",
    "print 'Errors(2) for Mechanism-2: 0.1 Tolerance:',error_2,mean_2,std_2\n",
    "print 'Errors(2) for Mechanism-2: 0.2 Tolerance:',error_3,mean_3,std_3\n",
    "print '(2) MSE Mechansim-2:',get_mean_squared_error(test_data_2_labels,obs_labels)\n",
    "\n",
    "classifier = KernelRidge(alpha=-1)\n",
    "obs_labels = get_predictions(classifier,2,test_data_2_values)\n",
    "\n",
    "print 'Lambda:-1'\n",
    "error_1,mean_1,std_1 = get_error_metric(ERROR_THRESHOLD_1,test_data_2_labels,obs_labels)\n",
    "error_2,mean_2,std_2 = get_error_metric(ERROR_THRESHOLD_2,test_data_2_labels,obs_labels)\n",
    "error_3,mean_3,std_3 = get_error_metric(ERROR_THRESHOLD_3,test_data_2_labels,obs_labels)\n",
    "print 'Errors(2) for Mechanism-2: Zero Tolerance:',error_1,mean_1,std_1\n",
    "print 'Errors(2) for Mechanism-2: 0.1 Tolerance:',error_2,mean_2,std_2\n",
    "print 'Errors(2) for Mechanism-2: 0.2 Tolerance:',error_3,mean_3,std_3\n",
    "print '(2) MSE Mechansim-2:',get_mean_squared_error(test_data_2_labels,obs_labels)\n",
    "\n",
    "classifier = KernelRidge(alpha=0.01)\n",
    "obs_labels = get_predictions(classifier,2,test_data_2_values)\n",
    "\n",
    "print 'Lambda:0.01'\n",
    "error_1,mean_1,std_1 = get_error_metric(ERROR_THRESHOLD_1,test_data_2_labels,obs_labels)\n",
    "error_2,mean_2,std_2 = get_error_metric(ERROR_THRESHOLD_2,test_data_2_labels,obs_labels)\n",
    "error_3,mean_3,std_3 = get_error_metric(ERROR_THRESHOLD_3,test_data_2_labels,obs_labels)\n",
    "print 'Errors(2) for Mechanism-2: Zero Tolerance:',error_1,mean_1,std_1\n",
    "print 'Errors(2) for Mechanism-2: 0.1 Tolerance:',error_2,mean_2,std_2\n",
    "print 'Errors(2) for Mechanism-2: 0.2 Tolerance:',error_3,mean_3,std_3\n",
    "print '(2) MSE Mechansim-2:',get_mean_squared_error(test_data_2_labels,obs_labels)\n"
   ]
  },
  {
   "cell_type": "code",
   "execution_count": 21,
   "metadata": {
    "collapsed": false
   },
   "outputs": [
    {
     "name": "stdout",
     "output_type": "stream",
     "text": [
      "Lambda:2\n",
      "Errors(2) for Mechanism-2: Zero Tolerance: 100 0.305070102441 0.288351183118\n",
      "Errors(2) for Mechanism-2: 0.1 Tolerance: 54 0.305070102441 0.288351183118\n",
      "Errors(2) for Mechanism-2: 0.2 Tolerance: 25 0.305070102441 0.288351183118\n",
      "(2) MSE Mechansim-2: 0.176214172209\n",
      "Lambda:2\n",
      "Errors(2) for Mechanism-2: Zero Tolerance: 100 0.305070499502 0.288346706698\n",
      "Errors(2) for Mechanism-2: 0.1 Tolerance: 54 0.305070499502 0.288346706698\n",
      "Errors(2) for Mechanism-2: 0.2 Tolerance: 25 0.305070499502 0.288346706698\n",
      "(2) MSE Mechansim-2: 0.17621183293\n"
     ]
    }
   ],
   "source": [
    "classifier = KernelRidge(alpha=2)\n",
    "obs_labels = get_predictions(classifier,2,test_data_2_values)\n",
    "\n",
    "print 'Lambda:2'\n",
    "error_1,mean_1,std_1 = get_error_metric(ERROR_THRESHOLD_1,test_data_2_labels,obs_labels)\n",
    "error_2,mean_2,std_2 = get_error_metric(ERROR_THRESHOLD_2,test_data_2_labels,obs_labels)\n",
    "error_3,mean_3,std_3 = get_error_metric(ERROR_THRESHOLD_3,test_data_2_labels,obs_labels)\n",
    "print 'Errors(2) for Mechanism-2: Zero Tolerance:',error_1,mean_1,std_1\n",
    "print 'Errors(2) for Mechanism-2: 0.1 Tolerance:',error_2,mean_2,std_2\n",
    "print 'Errors(2) for Mechanism-2: 0.2 Tolerance:',error_3,mean_3,std_3\n",
    "print '(2) MSE Mechansim-2:',get_mean_squared_error(test_data_2_labels,obs_labels)\n",
    "\n",
    "classifier = KernelRidge(alpha=0.02)\n",
    "obs_labels = get_predictions(classifier,2,test_data_2_values)\n",
    "\n",
    "print 'Lambda:2'\n",
    "error_1,mean_1,std_1 = get_error_metric(ERROR_THRESHOLD_1,test_data_2_labels,obs_labels)\n",
    "error_2,mean_2,std_2 = get_error_metric(ERROR_THRESHOLD_2,test_data_2_labels,obs_labels)\n",
    "error_3,mean_3,std_3 = get_error_metric(ERROR_THRESHOLD_3,test_data_2_labels,obs_labels)\n",
    "print 'Errors(2) for Mechanism-2: Zero Tolerance:',error_1,mean_1,std_1\n",
    "print 'Errors(2) for Mechanism-2: 0.1 Tolerance:',error_2,mean_2,std_2\n",
    "print 'Errors(2) for Mechanism-2: 0.2 Tolerance:',error_3,mean_3,std_3\n",
    "print '(2) MSE Mechansim-2:',get_mean_squared_error(test_data_2_labels,obs_labels)\n",
    "\n"
   ]
  },
  {
   "cell_type": "code",
   "execution_count": 22,
   "metadata": {
    "collapsed": false
   },
   "outputs": [
    {
     "name": "stdout",
     "output_type": "stream",
     "text": [
      "Lambda:-2\n",
      "Errors(2) for Mechanism-2: Zero Tolerance: 100 0.305070940733 0.288342229832\n",
      "Errors(2) for Mechanism-2: 0.1 Tolerance: 54 0.305070940733 0.288342229832\n",
      "Errors(2) for Mechanism-2: 0.2 Tolerance: 25 0.305070940733 0.288342229832\n",
      "(2) MSE Mechansim-2: 0.176209520384\n"
     ]
    }
   ],
   "source": [
    "classifier = KernelRidge(alpha=-2)\n",
    "obs_labels = get_predictions(classifier,2,test_data_2_values)\n",
    "\n",
    "print 'Lambda:-2'\n",
    "error_1,mean_1,std_1 = get_error_metric(ERROR_THRESHOLD_1,test_data_2_labels,obs_labels)\n",
    "error_2,mean_2,std_2 = get_error_metric(ERROR_THRESHOLD_2,test_data_2_labels,obs_labels)\n",
    "error_3,mean_3,std_3 = get_error_metric(ERROR_THRESHOLD_3,test_data_2_labels,obs_labels)\n",
    "print 'Errors(2) for Mechanism-2: Zero Tolerance:',error_1,mean_1,std_1\n",
    "print 'Errors(2) for Mechanism-2: 0.1 Tolerance:',error_2,mean_2,std_2\n",
    "print 'Errors(2) for Mechanism-2: 0.2 Tolerance:',error_3,mean_3,std_3\n",
    "print '(2) MSE Mechansim-2:',get_mean_squared_error(test_data_2_labels,obs_labels)"
   ]
  },
  {
   "cell_type": "code",
   "execution_count": 23,
   "metadata": {
    "collapsed": false
   },
   "outputs": [
    {
     "name": "stdout",
     "output_type": "stream",
     "text": [
      "Lambda:0.5\n",
      "Errors(2) for Mechanism-2: Zero Tolerance: 100 0.305070392161 0.288347792244\n",
      "Errors(2) for Mechanism-2: 0.1 Tolerance: 54 0.305070392161 0.288347792244\n",
      "Errors(2) for Mechanism-2: 0.2 Tolerance: 25 0.305070392161 0.288347792244\n",
      "(2) MSE Mechansim-2: 0.176212393465\n"
     ]
    }
   ],
   "source": [
    "classifier = KernelRidge(alpha=0.5)\n",
    "obs_labels = get_predictions(classifier,2,test_data_2_values)\n",
    "\n",
    "print 'Lambda:0.5'\n",
    "error_1,mean_1,std_1 = get_error_metric(ERROR_THRESHOLD_1,test_data_2_labels,obs_labels)\n",
    "error_2,mean_2,std_2 = get_error_metric(ERROR_THRESHOLD_2,test_data_2_labels,obs_labels)\n",
    "error_3,mean_3,std_3 = get_error_metric(ERROR_THRESHOLD_3,test_data_2_labels,obs_labels)\n",
    "print 'Errors(2) for Mechanism-2: Zero Tolerance:',error_1,mean_1,std_1\n",
    "print 'Errors(2) for Mechanism-2: 0.1 Tolerance:',error_2,mean_2,std_2\n",
    "print 'Errors(2) for Mechanism-2: 0.2 Tolerance:',error_3,mean_3,std_3\n",
    "print '(2) MSE Mechansim-2:',get_mean_squared_error(test_data_2_labels,obs_labels)"
   ]
  },
  {
   "cell_type": "code",
   "execution_count": 24,
   "metadata": {
    "collapsed": false
   },
   "outputs": [
    {
     "name": "stdout",
     "output_type": "stream",
     "text": [
      "Lambda:0.2\n",
      "Errors(2) for Mechanism-2: Zero Tolerance: 100 0.30507045936 0.288347112804\n",
      "Errors(2) for Mechanism-2: 0.1 Tolerance: 54 0.30507045936 0.288347112804\n",
      "Errors(2) for Mechanism-2: 0.2 Tolerance: 25 0.30507045936 0.288347112804\n",
      "(2) MSE Mechansim-2: 0.176212042637\n"
     ]
    }
   ],
   "source": [
    "classifier = KernelRidge(alpha=0.2)\n",
    "obs_labels = get_predictions(classifier,2,test_data_2_values)\n",
    "\n",
    "print 'Lambda:0.2'\n",
    "error_1,mean_1,std_1 = get_error_metric(ERROR_THRESHOLD_1,test_data_2_labels,obs_labels)\n",
    "error_2,mean_2,std_2 = get_error_metric(ERROR_THRESHOLD_2,test_data_2_labels,obs_labels)\n",
    "error_3,mean_3,std_3 = get_error_metric(ERROR_THRESHOLD_3,test_data_2_labels,obs_labels)\n",
    "print 'Errors(2) for Mechanism-2: Zero Tolerance:',error_1,mean_1,std_1\n",
    "print 'Errors(2) for Mechanism-2: 0.1 Tolerance:',error_2,mean_2,std_2\n",
    "print 'Errors(2) for Mechanism-2: 0.2 Tolerance:',error_3,mean_3,std_3\n",
    "print '(2) MSE Mechansim-2:',get_mean_squared_error(test_data_2_labels,obs_labels)"
   ]
  },
  {
   "cell_type": "code",
   "execution_count": 25,
   "metadata": {
    "collapsed": false
   },
   "outputs": [
    {
     "name": "stdout",
     "output_type": "stream",
     "text": [
      "Lambda:0.1\n",
      "Errors(2) for Mechanism-2: Zero Tolerance: 100 0.305070481677 0.288346887045\n",
      "Errors(2) for Mechanism-2: 0.1 Tolerance: 54 0.305070481677 0.288346887045\n",
      "Errors(2) for Mechanism-2: 0.2 Tolerance: 25 0.305070481677 0.288346887045\n",
      "(2) MSE Mechansim-2: 0.17621192606\n"
     ]
    }
   ],
   "source": [
    "classifier = KernelRidge(alpha=0.1)\n",
    "obs_labels = get_predictions(classifier,2,test_data_2_values)\n",
    "\n",
    "print 'Lambda:0.1'\n",
    "error_1,mean_1,std_1 = get_error_metric(ERROR_THRESHOLD_1,test_data_2_labels,obs_labels)\n",
    "error_2,mean_2,std_2 = get_error_metric(ERROR_THRESHOLD_2,test_data_2_labels,obs_labels)\n",
    "error_3,mean_3,std_3 = get_error_metric(ERROR_THRESHOLD_3,test_data_2_labels,obs_labels)\n",
    "print 'Errors(2) for Mechanism-2: Zero Tolerance:',error_1,mean_1,std_1\n",
    "print 'Errors(2) for Mechanism-2: 0.1 Tolerance:',error_2,mean_2,std_2\n",
    "print 'Errors(2) for Mechanism-2: 0.2 Tolerance:',error_3,mean_3,std_3\n",
    "print '(2) MSE Mechansim-2:',get_mean_squared_error(test_data_2_labels,obs_labels)"
   ]
  },
  {
   "cell_type": "code",
   "execution_count": 26,
   "metadata": {
    "collapsed": false
   },
   "outputs": [
    {
     "name": "stdout",
     "output_type": "stream",
     "text": [
      "Lambda:0.02\n",
      "Errors(2) for Mechanism-2: Zero Tolerance: 100 0.305070499502 0.288346706698\n",
      "Errors(2) for Mechanism-2: 0.1 Tolerance: 54 0.305070499502 0.288346706698\n",
      "Errors(2) for Mechanism-2: 0.2 Tolerance: 25 0.305070499502 0.288346706698\n",
      "(2) MSE Mechansim-2: 0.17621183293\n"
     ]
    }
   ],
   "source": [
    "classifier = KernelRidge(alpha=0.02)\n",
    "obs_labels = get_predictions(classifier,2,test_data_2_values)\n",
    "\n",
    "print 'Lambda:0.02'\n",
    "error_1,mean_1,std_1 = get_error_metric(ERROR_THRESHOLD_1,test_data_2_labels,obs_labels)\n",
    "error_2,mean_2,std_2 = get_error_metric(ERROR_THRESHOLD_2,test_data_2_labels,obs_labels)\n",
    "error_3,mean_3,std_3 = get_error_metric(ERROR_THRESHOLD_3,test_data_2_labels,obs_labels)\n",
    "print 'Errors(2) for Mechanism-2: Zero Tolerance:',error_1,mean_1,std_1\n",
    "print 'Errors(2) for Mechanism-2: 0.1 Tolerance:',error_2,mean_2,std_2\n",
    "print 'Errors(2) for Mechanism-2: 0.2 Tolerance:',error_3,mean_3,std_3\n",
    "print '(2) MSE Mechansim-2:',get_mean_squared_error(test_data_2_labels,obs_labels)"
   ]
  },
  {
   "cell_type": "code",
   "execution_count": 27,
   "metadata": {
    "collapsed": false
   },
   "outputs": [
    {
     "name": "stdout",
     "output_type": "stream",
     "text": [
      "Lambda:0.002\n",
      "Errors(2) for Mechanism-2: Zero Tolerance: 100 0.305070503498 0.288346666163\n",
      "Errors(2) for Mechanism-2: 0.1 Tolerance: 54 0.305070503498 0.288346666163\n",
      "Errors(2) for Mechanism-2: 0.2 Tolerance: 25 0.305070503498 0.288346666163\n",
      "(2) MSE Mechansim-2: 0.176211811992\n"
     ]
    }
   ],
   "source": [
    "classifier = KernelRidge(alpha=0.002)\n",
    "obs_labels = get_predictions(classifier,2,test_data_2_values)\n",
    "\n",
    "print 'Lambda:0.002'\n",
    "error_1,mean_1,std_1 = get_error_metric(ERROR_THRESHOLD_1,test_data_2_labels,obs_labels)\n",
    "error_2,mean_2,std_2 = get_error_metric(ERROR_THRESHOLD_2,test_data_2_labels,obs_labels)\n",
    "error_3,mean_3,std_3 = get_error_metric(ERROR_THRESHOLD_3,test_data_2_labels,obs_labels)\n",
    "print 'Errors(2) for Mechanism-2: Zero Tolerance:',error_1,mean_1,std_1\n",
    "print 'Errors(2) for Mechanism-2: 0.1 Tolerance:',error_2,mean_2,std_2\n",
    "print 'Errors(2) for Mechanism-2: 0.2 Tolerance:',error_3,mean_3,std_3\n",
    "print '(2) MSE Mechansim-2:',get_mean_squared_error(test_data_2_labels,obs_labels)"
   ]
  },
  {
   "cell_type": "code",
   "execution_count": null,
   "metadata": {
    "collapsed": true
   },
   "outputs": [],
   "source": []
  }
 ],
 "metadata": {
  "kernelspec": {
   "display_name": "Python 2",
   "language": "python",
   "name": "python2"
  },
  "language_info": {
   "codemirror_mode": {
    "name": "ipython",
    "version": 2
   },
   "file_extension": ".py",
   "mimetype": "text/x-python",
   "name": "python",
   "nbconvert_exporter": "python",
   "pygments_lexer": "ipython2",
   "version": "2.7.11"
  }
 },
 "nbformat": 4,
 "nbformat_minor": 0
}
