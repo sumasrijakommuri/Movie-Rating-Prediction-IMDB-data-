{
 "cells": [
  {
   "cell_type": "code",
   "execution_count": 3,
   "metadata": {
    "collapsed": false
   },
   "outputs": [],
   "source": [
    "import csv\n",
    "\n",
    "from sklearn.neighbors import KNeighborsRegressor\n",
    "import numpy as np\n",
    "from sklearn.metrics import mean_squared_error\n",
    "\n",
    "import warnings\n",
    "warnings.filterwarnings('ignore')\n",
    "\n",
    "TEST_DATA_FILE_1 = \"test_data_1.csv\"\n",
    "TEST_DATA_FILE_2 = \"test_data_2.csv\"\n",
    "TRAIN_DATA_FILE_1 = \"train_data_1.csv\"\n",
    "TRAIN_DATA_FILE_2 = \"train_data_2.csv\"\n",
    "PROD_INDEX = 6\n",
    "DIR_INDEX = 5\n",
    "ERROR_THRESHOLD_1 = 0\n",
    "ERROR_THRESHOLD_2 = 0.2\n",
    "ERROR_THRESHOLD_3 = 0.4"
   ]
  },
  {
   "cell_type": "code",
   "execution_count": 4,
   "metadata": {
    "collapsed": false
   },
   "outputs": [],
   "source": [
    "def read_data_file(filename):    \n",
    "    data_file = file(filename, 'r')\n",
    "    data = csv.reader(data_file, delimiter=',')\n",
    "    labels = []\n",
    "    values = []\n",
    "    for row in data:\n",
    "        value = []\n",
    "        prod_value = 0\n",
    "        writer_value = 0\n",
    "        for index in range(1,PROD_INDEX):\n",
    "            value.append(float(row[index]))\n",
    "        for index in range(PROD_INDEX + 1,PROD_INDEX + int(row[PROD_INDEX]) + 1):\n",
    "            prod_value = max(float(row[index]),prod_value)\n",
    "        value.append(prod_value)\n",
    "        WRITER_INDEX = PROD_INDEX + int(row[PROD_INDEX]) + 1\n",
    "        for index in range(WRITER_INDEX+1,len(row)):\n",
    "            writer_value = max(float(row[index]),writer_value)\n",
    "        value.append(writer_value)\n",
    "        labels.append(float(row[0]))\n",
    "        values.append(value)\n",
    "    print 'Done Reading File',filename\n",
    "    return labels,values"
   ]
  },
  {
   "cell_type": "code",
   "execution_count": 5,
   "metadata": {
    "collapsed": false
   },
   "outputs": [
    {
     "name": "stdout",
     "output_type": "stream",
     "text": [
      "Done Reading File train_data_1.csv\n",
      "Done Reading File train_data_2.csv\n",
      "Done Reading File test_data_1.csv\n",
      "Done Reading File test_data_2.csv\n"
     ]
    }
   ],
   "source": [
    "train_data_1_labels, train_data_1_values = read_data_file(TRAIN_DATA_FILE_1)\n",
    "train_data_2_labels, train_data_2_values = read_data_file(TRAIN_DATA_FILE_2)\n",
    "\n",
    "test_data_1_labels, test_data_1_values = read_data_file(TEST_DATA_FILE_1)\n",
    "test_data_2_labels, test_data_2_values = read_data_file(TEST_DATA_FILE_2)"
   ]
  },
  {
   "cell_type": "code",
   "execution_count": 6,
   "metadata": {
    "collapsed": false
   },
   "outputs": [],
   "source": [
    "def get_error_metric(threshold,actual_labels,predicted_labels):\n",
    "    error_count = 0\n",
    "    errors = np.zeros(len(actual_labels))\n",
    "    for index in range(0,len(actual_labels)):\n",
    "        errors[index] = (abs(float(actual_labels[index])-float(predicted_labels[index])))\n",
    "        if abs(float(actual_labels[index])-float(predicted_labels[index])) > threshold:\n",
    "            error_count +=1\n",
    "    return error_count*100/len(actual_labels),np.mean(errors),np.std(errors)"
   ]
  },
  {
   "cell_type": "code",
   "execution_count": 9,
   "metadata": {
    "collapsed": false
   },
   "outputs": [],
   "source": [
    "def get_predictions(classifier,val,data):\n",
    "    if val==1:\n",
    "        X = np.asarray(train_data_1_values)\n",
    "        Y = np.asarray(train_data_1_labels)\n",
    "    else:\n",
    "        X = np.asarray(train_data_2_values)\n",
    "        Y = np.asarray(train_data_2_labels)\n",
    "    classifier.fit(X,Y)\n",
    "    return classifier.predict(data)\n",
    "\n",
    "def get_mean_squared_error(actual_labels,predicted_labels):\n",
    "    return mean_squared_error(actual_labels,predicted_labels)"
   ]
  },
  {
   "cell_type": "code",
   "execution_count": 1,
   "metadata": {
    "collapsed": false
   },
   "outputs": [
    {
     "ename": "NameError",
     "evalue": "name 'KNeighborsRegressor' is not defined",
     "output_type": "error",
     "traceback": [
      "\u001b[1;31m---------------------------------------------------------------------------\u001b[0m",
      "\u001b[1;31mNameError\u001b[0m                                 Traceback (most recent call last)",
      "\u001b[1;32m<ipython-input-1-b6b284802764>\u001b[0m in \u001b[0;36m<module>\u001b[1;34m()\u001b[0m\n\u001b[1;32m----> 1\u001b[1;33m \u001b[0mclassifier\u001b[0m \u001b[1;33m=\u001b[0m \u001b[0mKNeighborsRegressor\u001b[0m\u001b[1;33m(\u001b[0m\u001b[1;33m)\u001b[0m\u001b[1;33m\u001b[0m\u001b[0m\n\u001b[0m\u001b[0;32m      2\u001b[0m \u001b[0mobs_labels\u001b[0m \u001b[1;33m=\u001b[0m \u001b[0mget_predictions\u001b[0m\u001b[1;33m(\u001b[0m\u001b[0mclassifier\u001b[0m\u001b[1;33m,\u001b[0m\u001b[1;36m1\u001b[0m\u001b[1;33m,\u001b[0m\u001b[0mtest_data_1_values\u001b[0m\u001b[1;33m)\u001b[0m\u001b[1;33m\u001b[0m\u001b[0m\n",
      "\u001b[1;31mNameError\u001b[0m: name 'KNeighborsRegressor' is not defined"
     ]
    }
   ],
   "source": [
    "classifier = KNeighborsRegressor()\n",
    "obs_labels = get_predictions(classifier,1,test_data_1_values)"
   ]
  },
  {
   "cell_type": "code",
   "execution_count": 22,
   "metadata": {
    "collapsed": false
   },
   "outputs": [
    {
     "name": "stdout",
     "output_type": "stream",
     "text": [
      "Errors for Mechanism-1: Zero Tolerance: 95 0.256763305928 0.281355276583\n",
      "Errors for Mechanism-1: 0.1 Tolerance: 42 0.256763305928 0.281355276583\n",
      "Errors for Mechanism-1: 0.2 Tolerance: 22 0.256763305928 0.281355276583\n",
      "MSE Mechansim-1: 0.145088186932\n"
     ]
    }
   ],
   "source": [
    "error_1,mean_1,std_1 = get_error_metric(ERROR_THRESHOLD_1,test_data_1_labels,obs_labels)\n",
    "error_2,mean_2,std_2 = get_error_metric(ERROR_THRESHOLD_2,test_data_1_labels,obs_labels)\n",
    "error_3,mean_3,std_3 = get_error_metric(ERROR_THRESHOLD_3,test_data_1_labels,obs_labels)\n",
    "print 'Errors for Mechanism-1: Zero Tolerance:',error_1,mean_1,std_1\n",
    "print 'Errors for Mechanism-1: 0.1 Tolerance:',error_2,mean_2,std_2\n",
    "print 'Errors for Mechanism-1: 0.2 Tolerance:',error_3,mean_3,std_3\n",
    "print 'MSE Mechansim-1:',get_mean_squared_error(test_data_1_labels,obs_labels)"
   ]
  },
  {
   "cell_type": "code",
   "execution_count": 27,
   "metadata": {
    "collapsed": false
   },
   "outputs": [],
   "source": [
    "classifier = KNeighborsRegressor()\n",
    "obs_labels = get_predictions(classifier,2,test_data_2_values)"
   ]
  },
  {
   "cell_type": "code",
   "execution_count": 28,
   "metadata": {
    "collapsed": false
   },
   "outputs": [
    {
     "name": "stdout",
     "output_type": "stream",
     "text": [
      "Errors for Mechanism-2: Zero Tolerance: 93 0.260112505409 0.292811592365\n",
      "Errors for Mechanism-2: 0.1 Tolerance: 43 0.260112505409 0.292811592365\n",
      "Errors for Mechanism-2: 0.2 Tolerance: 23 0.260112505409 0.292811592365\n",
      "MSE Mechansim-2: 0.153397144093\n"
     ]
    }
   ],
   "source": [
    "error_1,mean_1,std_1 = get_error_metric(ERROR_THRESHOLD_1,test_data_2_labels,obs_labels)\n",
    "error_2,mean_2,std_2 = get_error_metric(ERROR_THRESHOLD_2,test_data_2_labels,obs_labels)\n",
    "error_3,mean_3,std_3 = get_error_metric(ERROR_THRESHOLD_3,test_data_2_labels,obs_labels)\n",
    "print 'Errors for Mechanism-2: Zero Tolerance:',error_1,mean_1,std_1\n",
    "print 'Errors for Mechanism-2: 0.1 Tolerance:',error_2,mean_2,std_2\n",
    "print 'Errors for Mechanism-2: 0.2 Tolerance:',error_3,mean_3,std_3\n",
    "print 'MSE Mechansim-2:',get_mean_squared_error(test_data_2_labels,obs_labels)"
   ]
  },
  {
   "cell_type": "code",
   "execution_count": 26,
   "metadata": {
    "collapsed": false
   },
   "outputs": [
    {
     "name": "stdout",
     "output_type": "stream",
     "text": [
      "n_neighbors:10\n",
      "Errors for Mechanism-1: Zero Tolerance: 97 0.24894850714 0.273577311917\n",
      "Errors for Mechanism-1: 0.1 Tolerance: 42 0.24894850714 0.273577311917\n",
      "Errors for Mechanism-1: 0.2 Tolerance: 21 0.24894850714 0.273577311917\n",
      "MSE Mechansim-1: 0.136819904803\n",
      "n_neighbors:15\n",
      "Errors for Mechanism-1: Zero Tolerance: 98 0.250690898601 0.27032600048\n",
      "Errors for Mechanism-1: 0.1 Tolerance: 42 0.250690898601 0.27032600048\n",
      "Errors for Mechanism-1: 0.2 Tolerance: 21 0.250690898601 0.27032600048\n",
      "MSE Mechansim-1: 0.135922073177\n",
      "n_neighbors:20\n",
      "Errors for Mechanism-1: Zero Tolerance: 99 0.2528580701 0.270250014418\n",
      "Errors for Mechanism-1: 0.1 Tolerance: 43 0.2528580701 0.270250014418\n",
      "Errors for Mechanism-1: 0.2 Tolerance: 21 0.2528580701 0.270250014418\n",
      "MSE Mechansim-1: 0.136972273907\n"
     ]
    }
   ],
   "source": [
    "print 'n_neighbors:10'\n",
    "classifier = KNeighborsRegressor(n_neighbors=10)\n",
    "obs_labels = get_predictions(classifier,1,test_data_1_values)\n",
    "\n",
    "error_1,mean_1,std_1 = get_error_metric(ERROR_THRESHOLD_1,test_data_1_labels,obs_labels)\n",
    "error_2,mean_2,std_2 = get_error_metric(ERROR_THRESHOLD_2,test_data_1_labels,obs_labels)\n",
    "error_3,mean_3,std_3 = get_error_metric(ERROR_THRESHOLD_3,test_data_1_labels,obs_labels)\n",
    "print 'Errors for Mechanism-1: Zero Tolerance:',error_1,mean_1,std_1\n",
    "print 'Errors for Mechanism-1: 0.1 Tolerance:',error_2,mean_2,std_2\n",
    "print 'Errors for Mechanism-1: 0.2 Tolerance:',error_3,mean_3,std_3\n",
    "print 'MSE Mechansim-1:',get_mean_squared_error(test_data_1_labels,obs_labels)  \n",
    "\n",
    "print 'n_neighbors:15'\n",
    "classifier = KNeighborsRegressor(n_neighbors=15)\n",
    "obs_labels = get_predictions(classifier,1,test_data_1_values)\n",
    "\n",
    "error_1,mean_1,std_1 = get_error_metric(ERROR_THRESHOLD_1,test_data_1_labels,obs_labels)\n",
    "error_2,mean_2,std_2 = get_error_metric(ERROR_THRESHOLD_2,test_data_1_labels,obs_labels)\n",
    "error_3,mean_3,std_3 = get_error_metric(ERROR_THRESHOLD_3,test_data_1_labels,obs_labels)\n",
    "print 'Errors for Mechanism-1: Zero Tolerance:',error_1,mean_1,std_1\n",
    "print 'Errors for Mechanism-1: 0.1 Tolerance:',error_2,mean_2,std_2\n",
    "print 'Errors for Mechanism-1: 0.2 Tolerance:',error_3,mean_3,std_3\n",
    "print 'MSE Mechansim-1:',get_mean_squared_error(test_data_1_labels,obs_labels)\n",
    "\n",
    "print 'n_neighbors:20'\n",
    "classifier = KNeighborsRegressor(n_neighbors=20)\n",
    "obs_labels = get_predictions(classifier,1,test_data_1_values)\n",
    "\n",
    "error_1,mean_1,std_1 = get_error_metric(ERROR_THRESHOLD_1,test_data_1_labels,obs_labels)\n",
    "error_2,mean_2,std_2 = get_error_metric(ERROR_THRESHOLD_2,test_data_1_labels,obs_labels)\n",
    "error_3,mean_3,std_3 = get_error_metric(ERROR_THRESHOLD_3,test_data_1_labels,obs_labels)\n",
    "print 'Errors for Mechanism-1: Zero Tolerance:',error_1,mean_1,std_1\n",
    "print 'Errors for Mechanism-1: 0.1 Tolerance:',error_2,mean_2,std_2\n",
    "print 'Errors for Mechanism-1: 0.2 Tolerance:',error_3,mean_3,std_3\n",
    "print 'MSE Mechansim-1:',get_mean_squared_error(test_data_1_labels,obs_labels)"
   ]
  },
  {
   "cell_type": "code",
   "execution_count": 29,
   "metadata": {
    "collapsed": false
   },
   "outputs": [
    {
     "name": "stdout",
     "output_type": "stream",
     "text": [
      "n_neighbors:10\n",
      "Errors for Mechanism-2: Zero Tolerance: 96 0.256144526179 0.280658454724\n",
      "Errors for Mechanism-2: 0.1 Tolerance: 43 0.256144526179 0.280658454724\n",
      "Errors for Mechanism-2: 0.2 Tolerance: 21 0.256144526179 0.280658454724\n",
      "MSE Mechansim-2: 0.144379186499\n",
      "n_neighbors:15\n",
      "Errors for Mechanism-2: Zero Tolerance: 98 0.257507572479 0.280745711207\n",
      "Errors for Mechanism-2: 0.1 Tolerance: 43 0.257507572479 0.280745711207\n",
      "Errors for Mechanism-2: 0.2 Tolerance: 22 0.257507572479 0.280745711207\n",
      "MSE Mechansim-2: 0.145128304245\n",
      "n_neighbors:20\n",
      "Errors for Mechanism-2: Zero Tolerance: 99 0.259292514063 0.279465876677\n",
      "Errors for Mechanism-2: 0.1 Tolerance: 44 0.259292514063 0.279465876677\n",
      "Errors for Mechanism-2: 0.2 Tolerance: 22 0.259292514063 0.279465876677\n",
      "MSE Mechansim-2: 0.145333784076\n"
     ]
    }
   ],
   "source": [
    "print 'n_neighbors:10'\n",
    "classifier = KNeighborsRegressor(n_neighbors=10)\n",
    "obs_labels = get_predictions(classifier,2,test_data_2_values)\n",
    "\n",
    "error_1,mean_1,std_1 = get_error_metric(ERROR_THRESHOLD_1,test_data_2_labels,obs_labels)\n",
    "error_2,mean_2,std_2 = get_error_metric(ERROR_THRESHOLD_2,test_data_2_labels,obs_labels)\n",
    "error_3,mean_3,std_3 = get_error_metric(ERROR_THRESHOLD_3,test_data_2_labels,obs_labels)\n",
    "print 'Errors for Mechanism-2: Zero Tolerance:',error_1,mean_1,std_1\n",
    "print 'Errors for Mechanism-2: 0.1 Tolerance:',error_2,mean_2,std_2\n",
    "print 'Errors for Mechanism-2: 0.2 Tolerance:',error_3,mean_3,std_3\n",
    "print 'MSE Mechansim-2:',get_mean_squared_error(test_data_2_labels,obs_labels)  \n",
    "\n",
    "print 'n_neighbors:15'\n",
    "classifier = KNeighborsRegressor(n_neighbors=15)\n",
    "obs_labels = get_predictions(classifier,2,test_data_2_values)\n",
    "\n",
    "error_1,mean_1,std_1 = get_error_metric(ERROR_THRESHOLD_1,test_data_2_labels,obs_labels)\n",
    "error_2,mean_2,std_2 = get_error_metric(ERROR_THRESHOLD_2,test_data_2_labels,obs_labels)\n",
    "error_3,mean_3,std_3 = get_error_metric(ERROR_THRESHOLD_3,test_data_2_labels,obs_labels)\n",
    "print 'Errors for Mechanism-2: Zero Tolerance:',error_1,mean_1,std_1\n",
    "print 'Errors for Mechanism-2: 0.1 Tolerance:',error_2,mean_2,std_2\n",
    "print 'Errors for Mechanism-2: 0.2 Tolerance:',error_3,mean_3,std_3\n",
    "print 'MSE Mechansim-2:',get_mean_squared_error(test_data_2_labels,obs_labels)\n",
    "\n",
    "print 'n_neighbors:20'\n",
    "classifier = KNeighborsRegressor(n_neighbors=20)\n",
    "obs_labels = get_predictions(classifier,2,test_data_2_values)\n",
    "\n",
    "error_1,mean_1,std_1 = get_error_metric(ERROR_THRESHOLD_1,test_data_2_labels,obs_labels)\n",
    "error_2,mean_2,std_2 = get_error_metric(ERROR_THRESHOLD_2,test_data_2_labels,obs_labels)\n",
    "error_3,mean_3,std_3 = get_error_metric(ERROR_THRESHOLD_3,test_data_2_labels,obs_labels)\n",
    "print 'Errors for Mechanism-2: Zero Tolerance:',error_1,mean_1,std_1\n",
    "print 'Errors for Mechanism-2: 0.1 Tolerance:',error_2,mean_2,std_2\n",
    "print 'Errors for Mechanism-2: 0.2 Tolerance:',error_3,mean_3,std_3\n",
    "print 'MSE Mechansim-2:',get_mean_squared_error(test_data_2_labels,obs_labels)"
   ]
  },
  {
   "cell_type": "code",
   "execution_count": 30,
   "metadata": {
    "collapsed": false
   },
   "outputs": [
    {
     "name": "stdout",
     "output_type": "stream",
     "text": [
      "Done Reading File train_data_1.csv\n",
      "Done Reading File train_data_2.csv\n",
      "Done Reading File test_data_1.csv\n",
      "Done Reading File test_data_2.csv\n"
     ]
    }
   ],
   "source": [
    "avg_rating = 6.031\n",
    "\n",
    "def read_data_file_2(filename):    \n",
    "    data_file = file(filename, 'r')\n",
    "    data = csv.reader(data_file, delimiter=',')\n",
    "    labels = []\n",
    "    values = []\n",
    "    for row in data:\n",
    "        value = []\n",
    "        prod_value = 0\n",
    "        writer_value = 0\n",
    "        for index in range(1,PROD_INDEX):\n",
    "            value.append(float(row[index]))\n",
    "        for index in range(PROD_INDEX + 1,PROD_INDEX + int(row[PROD_INDEX]) + 1):\n",
    "            prod_value = max(float(row[index]),prod_value)\n",
    "        value.append(prod_value)\n",
    "        WRITER_INDEX = PROD_INDEX + int(row[PROD_INDEX]) + 1\n",
    "        for index in range(WRITER_INDEX+1,len(row)):\n",
    "            writer_value = max(float(row[index]),writer_value)\n",
    "        value.append(writer_value)\n",
    "        labels.append(float(row[0])-avg_rating)\n",
    "        values.append(value)\n",
    "    print 'Done Reading File',filename\n",
    "    return labels,values\n",
    "\n",
    "train_data_1_labels, train_data_1_values = read_data_file_2(TRAIN_DATA_FILE_1)\n",
    "train_data_2_labels, train_data_2_values = read_data_file_2(TRAIN_DATA_FILE_2)\n",
    "\n",
    "test_data_1_labels, test_data_1_values = read_data_file_2(TEST_DATA_FILE_1)\n",
    "test_data_2_labels, test_data_2_values = read_data_file_2(TEST_DATA_FILE_2)"
   ]
  },
  {
   "cell_type": "code",
   "execution_count": 31,
   "metadata": {
    "collapsed": false
   },
   "outputs": [
    {
     "name": "stdout",
     "output_type": "stream",
     "text": [
      "n_neighbors:5\n",
      "Errors(2) for Mechanism-1: Zero Tolerance: 95 0.256763305928 0.281355276583\n",
      "Errors(2) for Mechanism-1: 0.1 Tolerance: 42 0.256763305928 0.281355276583\n",
      "Errors(2) for Mechanism-1: 0.2 Tolerance: 22 0.256763305928 0.281355276583\n",
      "MSE Mechansim-1: 0.145088186932\n"
     ]
    }
   ],
   "source": [
    "print 'n_neighbors:5'\n",
    "classifier = KNeighborsRegressor()\n",
    "obs_labels = get_predictions(classifier,1,test_data_1_values)\n",
    "\n",
    "error_1,mean_1,std_1 = get_error_metric(ERROR_THRESHOLD_1,test_data_1_labels,obs_labels)\n",
    "error_2,mean_2,std_2 = get_error_metric(ERROR_THRESHOLD_2,test_data_1_labels,obs_labels)\n",
    "error_3,mean_3,std_3 = get_error_metric(ERROR_THRESHOLD_3,test_data_1_labels,obs_labels)\n",
    "print 'Errors(2) for Mechanism-1: Zero Tolerance:',error_1,mean_1,std_1\n",
    "print 'Errors(2) for Mechanism-1: 0.1 Tolerance:',error_2,mean_2,std_2\n",
    "print 'Errors(2) for Mechanism-1: 0.2 Tolerance:',error_3,mean_3,std_3\n",
    "print 'MSE Mechansim-1:',get_mean_squared_error(test_data_1_labels,obs_labels)"
   ]
  },
  {
   "cell_type": "code",
   "execution_count": 33,
   "metadata": {
    "collapsed": false
   },
   "outputs": [
    {
     "name": "stdout",
     "output_type": "stream",
     "text": [
      "n_neighbors:5\n"
     ]
    }
   ],
   "source": [
    "print 'n_neighbors:5'\n",
    "classifier = KNeighborsRegressor()\n",
    "obs_labels = get_predictions(classifier,2,test_data_2_values)"
   ]
  },
  {
   "cell_type": "code",
   "execution_count": 34,
   "metadata": {
    "collapsed": false
   },
   "outputs": [
    {
     "name": "stdout",
     "output_type": "stream",
     "text": [
      "Errors(2) for Mechanism-2: Zero Tolerance: 93 0.260112505409 0.292811592365\n",
      "Errors(2) for Mechanism-2: 0.1 Tolerance: 43 0.260112505409 0.292811592365\n",
      "Errors(2) for Mechanism-2: 0.2 Tolerance: 23 0.260112505409 0.292811592365\n",
      "MSE Mechansim-1: 0.153397144093\n"
     ]
    }
   ],
   "source": [
    "error_1,mean_1,std_1 = get_error_metric(ERROR_THRESHOLD_1,test_data_2_labels,obs_labels)\n",
    "error_2,mean_2,std_2 = get_error_metric(ERROR_THRESHOLD_2,test_data_2_labels,obs_labels)\n",
    "error_3,mean_3,std_3 = get_error_metric(ERROR_THRESHOLD_3,test_data_2_labels,obs_labels)\n",
    "print 'Errors(2) for Mechanism-2: Zero Tolerance:',error_1,mean_1,std_1\n",
    "print 'Errors(2) for Mechanism-2: 0.1 Tolerance:',error_2,mean_2,std_2\n",
    "print 'Errors(2) for Mechanism-2: 0.2 Tolerance:',error_3,mean_3,std_3\n",
    "print 'MSE Mechansim-1:',get_mean_squared_error(test_data_2_labels,obs_labels)"
   ]
  },
  {
   "cell_type": "code",
   "execution_count": 36,
   "metadata": {
    "collapsed": false
   },
   "outputs": [
    {
     "name": "stdout",
     "output_type": "stream",
     "text": [
      "n_neighbors:10\n",
      "Errors(2) for Mechanism-1: Zero Tolerance: 97 0.24894850714 0.273577311917\n",
      "Errors(2) for Mechanism-1: 0.1 Tolerance: 42 0.24894850714 0.273577311917\n",
      "Errors(2) for Mechanism-1: 0.2 Tolerance: 21 0.24894850714 0.273577311917\n",
      "MSE Mechansim-1: 0.136819904803\n",
      "n_neighbors:15\n",
      "Errors(2) for Mechanism-1: Zero Tolerance: 98 0.250690898601 0.27032600048\n",
      "Errors(2) for Mechanism-1: 0.1 Tolerance: 42 0.250690898601 0.27032600048\n",
      "Errors(2) for Mechanism-1: 0.2 Tolerance: 21 0.250690898601 0.27032600048\n",
      "MSE Mechansim-1: 0.135922073177\n",
      "n_neighbors:20\n",
      "Errors(2) for Mechanism-1: Zero Tolerance: 99 0.2528580701 0.270250014418\n",
      "Errors(2) for Mechanism-1: 0.1 Tolerance: 43 0.2528580701 0.270250014418\n",
      "Errors(2) for Mechanism-1: 0.2 Tolerance: 21 0.2528580701 0.270250014418\n",
      "MSE Mechansim-1: 0.136972273907\n"
     ]
    }
   ],
   "source": [
    "print 'n_neighbors:10'\n",
    "classifier = KNeighborsRegressor(n_neighbors=10)\n",
    "obs_labels = get_predictions(classifier,1,test_data_1_values)\n",
    "\n",
    "error_1,mean_1,std_1 = get_error_metric(ERROR_THRESHOLD_1,test_data_1_labels,obs_labels)\n",
    "error_2,mean_2,std_2 = get_error_metric(ERROR_THRESHOLD_2,test_data_1_labels,obs_labels)\n",
    "error_3,mean_3,std_3 = get_error_metric(ERROR_THRESHOLD_3,test_data_1_labels,obs_labels)\n",
    "print 'Errors(2) for Mechanism-1: Zero Tolerance:',error_1,mean_1,std_1\n",
    "print 'Errors(2) for Mechanism-1: 0.1 Tolerance:',error_2,mean_2,std_2\n",
    "print 'Errors(2) for Mechanism-1: 0.2 Tolerance:',error_3,mean_3,std_3\n",
    "print 'MSE Mechansim-1:',get_mean_squared_error(test_data_1_labels,obs_labels)  \n",
    "\n",
    "print 'n_neighbors:15'\n",
    "classifier = KNeighborsRegressor(n_neighbors=15)\n",
    "obs_labels = get_predictions(classifier,1,test_data_1_values)\n",
    "\n",
    "error_1,mean_1,std_1 = get_error_metric(ERROR_THRESHOLD_1,test_data_1_labels,obs_labels)\n",
    "error_2,mean_2,std_2 = get_error_metric(ERROR_THRESHOLD_2,test_data_1_labels,obs_labels)\n",
    "error_3,mean_3,std_3 = get_error_metric(ERROR_THRESHOLD_3,test_data_1_labels,obs_labels)\n",
    "print 'Errors(2) for Mechanism-1: Zero Tolerance:',error_1,mean_1,std_1\n",
    "print 'Errors(2) for Mechanism-1: 0.1 Tolerance:',error_2,mean_2,std_2\n",
    "print 'Errors(2) for Mechanism-1: 0.2 Tolerance:',error_3,mean_3,std_3\n",
    "print 'MSE Mechansim-1:',get_mean_squared_error(test_data_1_labels,obs_labels)\n",
    "\n",
    "print 'n_neighbors:20'\n",
    "classifier = KNeighborsRegressor(n_neighbors=20)\n",
    "obs_labels = get_predictions(classifier,1,test_data_1_values)\n",
    "\n",
    "error_1,mean_1,std_1 = get_error_metric(ERROR_THRESHOLD_1,test_data_1_labels,obs_labels)\n",
    "error_2,mean_2,std_2 = get_error_metric(ERROR_THRESHOLD_2,test_data_1_labels,obs_labels)\n",
    "error_3,mean_3,std_3 = get_error_metric(ERROR_THRESHOLD_3,test_data_1_labels,obs_labels)\n",
    "print 'Errors(2) for Mechanism-1: Zero Tolerance:',error_1,mean_1,std_1\n",
    "print 'Errors(2) for Mechanism-1: 0.1 Tolerance:',error_2,mean_2,std_2\n",
    "print 'Errors(2) for Mechanism-1: 0.2 Tolerance:',error_3,mean_3,std_3\n",
    "print 'MSE Mechansim-1:',get_mean_squared_error(test_data_1_labels,obs_labels)"
   ]
  },
  {
   "cell_type": "code",
   "execution_count": 37,
   "metadata": {
    "collapsed": false
   },
   "outputs": [
    {
     "name": "stdout",
     "output_type": "stream",
     "text": [
      "n_neighbors:10\n",
      "Errors(2) for Mechanism-2: Zero Tolerance: 96 0.256144526179 0.280658454724\n",
      "Errors(2) for Mechanism-2: 0.1 Tolerance: 43 0.256144526179 0.280658454724\n",
      "Errors(2) for Mechanism-2: 0.2 Tolerance: 21 0.256144526179 0.280658454724\n",
      "MSE Mechansim-1: 0.144379186499\n",
      "n_neighbors:15\n",
      "Errors(2) for Mechanism-2: Zero Tolerance: 98 0.257507572479 0.280745711207\n",
      "Errors(2) for Mechanism-2: 0.1 Tolerance: 43 0.257507572479 0.280745711207\n",
      "Errors(2) for Mechanism-2: 0.2 Tolerance: 22 0.257507572479 0.280745711207\n",
      "MSE Mechansim-1: 0.145128304245\n",
      "n_neighbors:20\n",
      "Errors(2) for Mechanism-2: Zero Tolerance: 99 0.259292514063 0.279465876677\n",
      "Errors(2) for Mechanism-2: 0.1 Tolerance: 44 0.259292514063 0.279465876677\n",
      "Errors(2) for Mechanism-2: 0.2 Tolerance: 22 0.259292514063 0.279465876677\n",
      "MSE Mechansim-1: 0.145333784076\n"
     ]
    }
   ],
   "source": [
    "print 'n_neighbors:10'\n",
    "classifier = KNeighborsRegressor(n_neighbors=10)\n",
    "obs_labels = get_predictions(classifier,2,test_data_2_values)\n",
    "\n",
    "error_1,mean_1,std_1 = get_error_metric(ERROR_THRESHOLD_1,test_data_2_labels,obs_labels)\n",
    "error_2,mean_2,std_2 = get_error_metric(ERROR_THRESHOLD_2,test_data_2_labels,obs_labels)\n",
    "error_3,mean_3,std_3 = get_error_metric(ERROR_THRESHOLD_3,test_data_2_labels,obs_labels)\n",
    "print 'Errors(2) for Mechanism-2: Zero Tolerance:',error_1,mean_1,std_1\n",
    "print 'Errors(2) for Mechanism-2: 0.1 Tolerance:',error_2,mean_2,std_2\n",
    "print 'Errors(2) for Mechanism-2: 0.2 Tolerance:',error_3,mean_3,std_3\n",
    "print 'MSE Mechansim-1:',get_mean_squared_error(test_data_2_labels,obs_labels)  \n",
    "\n",
    "print 'n_neighbors:15'\n",
    "classifier = KNeighborsRegressor(n_neighbors=15)\n",
    "obs_labels = get_predictions(classifier,2,test_data_2_values)\n",
    "\n",
    "error_1,mean_1,std_1 = get_error_metric(ERROR_THRESHOLD_1,test_data_2_labels,obs_labels)\n",
    "error_2,mean_2,std_2 = get_error_metric(ERROR_THRESHOLD_2,test_data_2_labels,obs_labels)\n",
    "error_3,mean_3,std_3 = get_error_metric(ERROR_THRESHOLD_3,test_data_2_labels,obs_labels)\n",
    "print 'Errors(2) for Mechanism-2: Zero Tolerance:',error_1,mean_1,std_1\n",
    "print 'Errors(2) for Mechanism-2: 0.1 Tolerance:',error_2,mean_2,std_2\n",
    "print 'Errors(2) for Mechanism-2: 0.2 Tolerance:',error_3,mean_3,std_3\n",
    "print 'MSE Mechansim-1:',get_mean_squared_error(test_data_2_labels,obs_labels)\n",
    "\n",
    "print 'n_neighbors:20'\n",
    "classifier = KNeighborsRegressor(n_neighbors=20)\n",
    "obs_labels = get_predictions(classifier,2,test_data_2_values)\n",
    "\n",
    "error_1,mean_1,std_1 = get_error_metric(ERROR_THRESHOLD_1,test_data_2_labels,obs_labels)\n",
    "error_2,mean_2,std_2 = get_error_metric(ERROR_THRESHOLD_2,test_data_2_labels,obs_labels)\n",
    "error_3,mean_3,std_3 = get_error_metric(ERROR_THRESHOLD_3,test_data_2_labels,obs_labels)\n",
    "print 'Errors(2) for Mechanism-2: Zero Tolerance:',error_1,mean_1,std_1\n",
    "print 'Errors(2) for Mechanism-2: 0.1 Tolerance:',error_2,mean_2,std_2\n",
    "print 'Errors(2) for Mechanism-2: 0.2 Tolerance:',error_3,mean_3,std_3\n",
    "print 'MSE Mechansim-1:',get_mean_squared_error(test_data_2_labels,obs_labels)"
   ]
  },
  {
   "cell_type": "code",
   "execution_count": null,
   "metadata": {
    "collapsed": true
   },
   "outputs": [],
   "source": []
  }
 ],
 "metadata": {
  "kernelspec": {
   "display_name": "Python 2",
   "language": "python",
   "name": "python2"
  },
  "language_info": {
   "codemirror_mode": {
    "name": "ipython",
    "version": 2
   },
   "file_extension": ".py",
   "mimetype": "text/x-python",
   "name": "python",
   "nbconvert_exporter": "python",
   "pygments_lexer": "ipython2",
   "version": "2.7.11"
  }
 },
 "nbformat": 4,
 "nbformat_minor": 0
}
