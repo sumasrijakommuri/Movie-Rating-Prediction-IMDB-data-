{
 "cells": [
  {
   "cell_type": "code",
   "execution_count": 7,
   "metadata": {
    "collapsed": false
   },
   "outputs": [],
   "source": [
    "import csv\n",
    "\n",
    "from sklearn import svm\n",
    "import numpy as np\n",
    "from sklearn.metrics import mean_squared_error\n",
    "\n",
    "import warnings\n",
    "warnings.filterwarnings('ignore')\n",
    "\n",
    "TEST_DATA_FILE_1 = \"test_data_1.csv\"\n",
    "TEST_DATA_FILE_2 = \"test_data_2.csv\"\n",
    "TRAIN_DATA_FILE_1 = \"train_data_1.csv\"\n",
    "TRAIN_DATA_FILE_2 = \"train_data_2.csv\"\n",
    "PROD_INDEX = 6\n",
    "DIR_INDEX = 5\n",
    "ERROR_THRESHOLD_1 = 0\n",
    "ERROR_THRESHOLD_2 = 0.2\n",
    "ERROR_THRESHOLD_3 = 0.4"
   ]
  },
  {
   "cell_type": "code",
   "execution_count": 8,
   "metadata": {
    "collapsed": false
   },
   "outputs": [],
   "source": [
    "def read_data_file(filename):    \n",
    "    with open(filename, 'r') as data_file:\n",
    "        data = csv.reader(data_file, delimiter=',')\n",
    "        labels = []\n",
    "        values = []\n",
    "        for row in data:\n",
    "            value = []\n",
    "            prod_value = 0\n",
    "            writer_value = 0\n",
    "            for index in range(1,PROD_INDEX):\n",
    "                value.append(float(row[index]))\n",
    "            for index in range(PROD_INDEX + 1,PROD_INDEX + int(row[PROD_INDEX]) + 1):\n",
    "                prod_value = max(float(row[index]),prod_value)\n",
    "            value.append(prod_value)\n",
    "            WRITER_INDEX = PROD_INDEX + int(row[PROD_INDEX]) + 1\n",
    "            for index in range(WRITER_INDEX+1,len(row)):\n",
    "                writer_value = max(float(row[index]),writer_value)\n",
    "            value.append(writer_value)\n",
    "            labels.append(float(row[0]))\n",
    "            values.append(value)\n",
    "    print('Done Reading File',filename)\n",
    "    return labels,values"
   ]
  },
  {
   "cell_type": "code",
   "execution_count": 9,
   "metadata": {
    "collapsed": false
   },
   "outputs": [
    {
     "name": "stdout",
     "output_type": "stream",
     "text": [
      "Done Reading File train_data_1.csv\n",
      "Done Reading File train_data_2.csv\n",
      "Done Reading File test_data_1.csv\n",
      "Done Reading File test_data_2.csv\n"
     ]
    }
   ],
   "source": [
    "train_data_1_labels, train_data_1_values = read_data_file(TRAIN_DATA_FILE_1)\n",
    "train_data_2_labels, train_data_2_values = read_data_file(TRAIN_DATA_FILE_2)\n",
    "\n",
    "test_data_1_labels, test_data_1_values = read_data_file(TEST_DATA_FILE_1)\n",
    "test_data_2_labels, test_data_2_values = read_data_file(TEST_DATA_FILE_2)"
   ]
  },
  {
   "cell_type": "code",
   "execution_count": 10,
   "metadata": {
    "collapsed": true
   },
   "outputs": [],
   "source": [
    "def get_error_metric(threshold,actual_labels,predicted_labels):\n",
    "    error_count = 0\n",
    "    errors = np.zeros(len(actual_labels))\n",
    "    for index in range(0,len(actual_labels)):\n",
    "        errors[index] = (abs(float(actual_labels[index])-float(predicted_labels[index])))\n",
    "        if abs(float(actual_labels[index])-float(predicted_labels[index])) > threshold:\n",
    "            error_count +=1\n",
    "    return error_count*100/len(actual_labels),np.mean(errors),np.std(errors)\n",
    "\n",
    "def get_mean_squared_error(actual_labels,predicted_labels):\n",
    "    return mean_squared_error(actual_labels,predicted_labels)"
   ]
  },
  {
   "cell_type": "code",
   "execution_count": 11,
   "metadata": {
    "collapsed": false
   },
   "outputs": [],
   "source": [
    "def get_predictions(classifier,val,data):\n",
    "    if val==1:\n",
    "        X = np.asarray(train_data_1_values)\n",
    "        Y = np.asarray(train_data_1_labels)\n",
    "    else:\n",
    "        X = np.asarray(train_data_2_values)\n",
    "        Y = np.asarray(train_data_2_labels)\n",
    "    classifier.fit(X,Y)\n",
    "    return classifier.predict(data)"
   ]
  },
  {
   "cell_type": "code",
   "execution_count": 12,
   "metadata": {
    "collapsed": false
   },
   "outputs": [],
   "source": [
    "classifier = svm.LinearSVR()\n",
    "obs_labels = get_predictions(classifier,1,test_data_1_values)"
   ]
  },
  {
   "cell_type": "code",
   "execution_count": 13,
   "metadata": {
    "collapsed": false
   },
   "outputs": [
    {
     "name": "stdout",
     "output_type": "stream",
     "text": [
      "Errors for Mechanism-1: Zero Tolerance: 100.0 0.308001523136 0.316611579681\n",
      "Errors for Mechanism-1: 0.1 Tolerance: 50.151449588922546 0.308001523136 0.316611579681\n",
      "Errors for Mechanism-1: 0.2 Tolerance: 26.482042405884897 0.308001523136 0.316611579681\n",
      "MSE Mechansim-1: 0.195107830642\n"
     ]
    }
   ],
   "source": [
    "error_1,mean_1,std_1 = get_error_metric(ERROR_THRESHOLD_1,test_data_1_labels,obs_labels)\n",
    "error_2,mean_2,std_2 = get_error_metric(ERROR_THRESHOLD_2,test_data_1_labels,obs_labels)\n",
    "error_3,mean_3,std_3 = get_error_metric(ERROR_THRESHOLD_3,test_data_1_labels,obs_labels)\n",
    "print('Errors for Mechanism-1: Zero Tolerance:',error_1,mean_1,std_1)\n",
    "print('Errors for Mechanism-1: 0.1 Tolerance:',error_2,mean_2,std_2)\n",
    "print('Errors for Mechanism-1: 0.2 Tolerance:',error_3,mean_3,std_3)\n",
    "print('MSE Mechansim-1:',get_mean_squared_error(test_data_1_labels,obs_labels))"
   ]
  },
  {
   "cell_type": "code",
   "execution_count": 14,
   "metadata": {
    "collapsed": true
   },
   "outputs": [],
   "source": [
    "obs_labels = get_predictions(classifier,2,test_data_2_values)"
   ]
  },
  {
   "cell_type": "code",
   "execution_count": 15,
   "metadata": {
    "collapsed": false
   },
   "outputs": [
    {
     "name": "stdout",
     "output_type": "stream",
     "text": [
      "Errors for Mechanism-2: Zero Tolerance: 100.0 0.297547564835 0.293475439123\n",
      "Errors for Mechanism-2: 0.1 Tolerance: 50.8870618779749 0.297547564835 0.293475439123\n",
      "Errors for Mechanism-2: 0.2 Tolerance: 25.530073561228907 0.297547564835 0.293475439123\n",
      "MSE Mechansim-2: 0.174662386708\n"
     ]
    }
   ],
   "source": [
    "error_1,mean_1,std_1 = get_error_metric(ERROR_THRESHOLD_1,test_data_2_labels,obs_labels)\n",
    "error_2,mean_2,std_2 = get_error_metric(ERROR_THRESHOLD_2,test_data_2_labels,obs_labels)\n",
    "error_3,mean_3,std_3 = get_error_metric(ERROR_THRESHOLD_3,test_data_2_labels,obs_labels)\n",
    "print('Errors for Mechanism-2: Zero Tolerance:',error_1,mean_1,std_1)\n",
    "print('Errors for Mechanism-2: 0.1 Tolerance:',error_2,mean_2,std_2)\n",
    "print('Errors for Mechanism-2: 0.2 Tolerance:',error_3,mean_3,std_3)\n",
    "print('MSE Mechansim-2:',get_mean_squared_error(test_data_2_labels,obs_labels))"
   ]
  },
  {
   "cell_type": "code",
   "execution_count": 16,
   "metadata": {
    "collapsed": true
   },
   "outputs": [],
   "source": [
    "avg_rating = 6.031\n",
    "\n",
    "def read_data_file_2(filename):    \n",
    "    with open(filename, 'r') as data_file:\n",
    "        data = csv.reader(data_file, delimiter=',')\n",
    "        labels = []\n",
    "        values = []\n",
    "        for row in data:\n",
    "            value = []\n",
    "            prod_value = 0\n",
    "            writer_value = 0\n",
    "            for index in range(1,PROD_INDEX):\n",
    "                value.append(float(row[index]))\n",
    "            for index in range(PROD_INDEX + 1,PROD_INDEX + int(row[PROD_INDEX]) + 1):\n",
    "                prod_value = max(float(row[index]),prod_value)\n",
    "            value.append(prod_value)\n",
    "            WRITER_INDEX = PROD_INDEX + int(row[PROD_INDEX]) + 1\n",
    "            for index in range(WRITER_INDEX+1,len(row)):\n",
    "                writer_value = max(float(row[index]),writer_value)\n",
    "            value.append(writer_value)\n",
    "            labels.append(float(row[0])-avg_rating)\n",
    "            values.append(value)\n",
    "    print('Done Reading File',filename)\n",
    "    return labels,values"
   ]
  },
  {
   "cell_type": "code",
   "execution_count": 17,
   "metadata": {
    "collapsed": false
   },
   "outputs": [
    {
     "name": "stdout",
     "output_type": "stream",
     "text": [
      "Done Reading File train_data_1.csv\n",
      "Done Reading File train_data_2.csv\n",
      "Done Reading File test_data_1.csv\n",
      "Done Reading File test_data_2.csv\n"
     ]
    }
   ],
   "source": [
    "train_data_1_labels, train_data_1_values = read_data_file_2(TRAIN_DATA_FILE_1)\n",
    "train_data_2_labels, train_data_2_values = read_data_file_2(TRAIN_DATA_FILE_2)\n",
    "\n",
    "test_data_1_labels, test_data_1_values = read_data_file_2(TEST_DATA_FILE_1)\n",
    "test_data_2_labels, test_data_2_values = read_data_file_2(TEST_DATA_FILE_2)"
   ]
  },
  {
   "cell_type": "code",
   "execution_count": 18,
   "metadata": {
    "collapsed": true
   },
   "outputs": [],
   "source": [
    "obs_labels = get_predictions(classifier,1,test_data_1_values)"
   ]
  },
  {
   "cell_type": "code",
   "execution_count": 19,
   "metadata": {
    "collapsed": false
   },
   "outputs": [
    {
     "name": "stdout",
     "output_type": "stream",
     "text": [
      "Errors(2) for Mechanism-1: Zero Tolerance: 100.0 0.328581686102 0.287132809214\n",
      "Errors(2) for Mechanism-1: 0.1 Tolerance: 61.272176546949375 0.328581686102 0.287132809214\n",
      "Errors(2) for Mechanism-1: 0.2 Tolerance: 25.87624405019472 0.328581686102 0.287132809214\n",
      "(2) MSE Mechansim-1: 0.190411174569\n"
     ]
    }
   ],
   "source": [
    "error_1,mean_1,std_1 = get_error_metric(ERROR_THRESHOLD_1,test_data_1_labels,obs_labels)\n",
    "error_2,mean_2,std_2 = get_error_metric(ERROR_THRESHOLD_2,test_data_1_labels,obs_labels)\n",
    "error_3,mean_3,std_3 = get_error_metric(ERROR_THRESHOLD_3,test_data_1_labels,obs_labels)\n",
    "print('Errors(2) for Mechanism-1: Zero Tolerance:',error_1,mean_1,std_1)\n",
    "print('Errors(2) for Mechanism-1: 0.1 Tolerance:',error_2,mean_2,std_2)\n",
    "print('Errors(2) for Mechanism-1: 0.2 Tolerance:',error_3,mean_3,std_3)\n",
    "print('(2) MSE Mechansim-1:',get_mean_squared_error(test_data_1_labels,obs_labels))"
   ]
  },
  {
   "cell_type": "code",
   "execution_count": 20,
   "metadata": {
    "collapsed": true
   },
   "outputs": [],
   "source": [
    "obs_labels = get_predictions(classifier,2,test_data_2_values)"
   ]
  },
  {
   "cell_type": "code",
   "execution_count": 21,
   "metadata": {
    "collapsed": false
   },
   "outputs": [
    {
     "name": "stdout",
     "output_type": "stream",
     "text": [
      "Errors(2) for Mechanism-2: Zero Tolerance: 100.0 1.13809126878 0.900685606254\n",
      "Errors(2) for Mechanism-2: 0.1 Tolerance: 87.84076157507573 1.13809126878 0.900685606254\n",
      "Errors(2) for Mechanism-2: 0.2 Tolerance: 77.75854608394634 1.13809126878 0.900685606254\n",
      "(2) MSE Mechansim-2: 0.175938034804\n"
     ]
    }
   ],
   "source": [
    "error_1,mean_1,std_1 = get_error_metric(ERROR_THRESHOLD_1,test_data_1_labels,obs_labels)\n",
    "error_2,mean_2,std_2 = get_error_metric(ERROR_THRESHOLD_2,test_data_1_labels,obs_labels)\n",
    "error_3,mean_3,std_3 = get_error_metric(ERROR_THRESHOLD_3,test_data_1_labels,obs_labels)\n",
    "print('Errors(2) for Mechanism-2: Zero Tolerance:',error_1,mean_1,std_1)\n",
    "print('Errors(2) for Mechanism-2: 0.1 Tolerance:',error_2,mean_2,std_2)\n",
    "print('Errors(2) for Mechanism-2: 0.2 Tolerance:',error_3,mean_3,std_3)\n",
    "print('(2) MSE Mechansim-2:',get_mean_squared_error(test_data_2_labels,obs_labels))"
   ]
  },
  {
   "cell_type": "code",
   "execution_count": null,
   "metadata": {
    "collapsed": true
   },
   "outputs": [],
   "source": []
  }
 ],
 "metadata": {
  "kernelspec": {
   "display_name": "Python 2",
   "language": "python",
   "name": "python2"
  },
  "language_info": {
   "codemirror_mode": {
    "name": "ipython",
    "version": 2
   },
   "file_extension": ".py",
   "mimetype": "text/x-python",
   "name": "python",
   "nbconvert_exporter": "python",
   "pygments_lexer": "ipython2",
   "version": "2.7.11"
  }
 },
 "nbformat": 4,
 "nbformat_minor": 0
}
