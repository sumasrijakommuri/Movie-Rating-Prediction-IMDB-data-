{
 "cells": [
  {
   "cell_type": "code",
   "execution_count": 11,
   "metadata": {
    "collapsed": false
   },
   "outputs": [],
   "source": [
    "import csv\n",
    "\n",
    "from sklearn.kernel_ridge import KernelRidge\n",
    "import numpy as np\n",
    "from sklearn.metrics import mean_squared_error\n",
    "import time\n",
    "import warnings\n",
    "warnings.filterwarnings('ignore')\n",
    "\n",
    "TEST_DATA_FILE_1 = \"test_data_1.csv\"\n",
    "TEST_DATA_FILE_2 = \"test_data_2.csv\"\n",
    "TRAIN_DATA_FILE_1 = \"train_data_1.csv\"\n",
    "TRAIN_DATA_FILE_2 = \"train_data_2.csv\"\n",
    "PROD_INDEX = 6\n",
    "DIR_INDEX = 5\n",
    "ERROR_THRESHOLD_1 = 0\n",
    "ERROR_THRESHOLD_2 = 0.2\n",
    "ERROR_THRESHOLD_3 = 0.4"
   ]
  },
  {
   "cell_type": "code",
   "execution_count": 2,
   "metadata": {
    "collapsed": false
   },
   "outputs": [],
   "source": [
    "def read_data_file(filename):    \n",
    "    data_file = file(filename, 'r')\n",
    "    data = csv.reader(data_file, delimiter=',')\n",
    "    labels = []\n",
    "    values = []\n",
    "    for row in data:\n",
    "        value = []\n",
    "        prod_value = 0\n",
    "        writer_value = 0\n",
    "        for index in range(1,PROD_INDEX):\n",
    "            value.append(float(row[index]))\n",
    "        for index in range(PROD_INDEX + 1,PROD_INDEX + int(row[PROD_INDEX]) + 1):\n",
    "            prod_value = max(float(row[index]),prod_value)\n",
    "        value.append(prod_value)\n",
    "        WRITER_INDEX = PROD_INDEX + int(row[PROD_INDEX]) + 1\n",
    "        for index in range(WRITER_INDEX+1,len(row)):\n",
    "            writer_value = max(float(row[index]),writer_value)\n",
    "        value.append(writer_value)\n",
    "        labels.append(float(row[0]))\n",
    "        values.append(value)\n",
    "    print 'Done Reading File',filename\n",
    "    return labels,values"
   ]
  },
  {
   "cell_type": "code",
   "execution_count": 3,
   "metadata": {
    "collapsed": false
   },
   "outputs": [
    {
     "name": "stdout",
     "output_type": "stream",
     "text": [
      "Done Reading File train_data_1.csv\n",
      "Done Reading File train_data_2.csv\n",
      "Done Reading File test_data_1.csv\n",
      "Done Reading File test_data_2.csv\n"
     ]
    }
   ],
   "source": [
    "train_data_1_labels, train_data_1_values = read_data_file(TRAIN_DATA_FILE_1)\n",
    "train_data_2_labels, train_data_2_values = read_data_file(TRAIN_DATA_FILE_2)\n",
    "\n",
    "test_data_1_labels, test_data_1_values = read_data_file(TEST_DATA_FILE_1)\n",
    "test_data_2_labels, test_data_2_values = read_data_file(TEST_DATA_FILE_2)"
   ]
  },
  {
   "cell_type": "code",
   "execution_count": 4,
   "metadata": {
    "collapsed": true
   },
   "outputs": [],
   "source": [
    "def get_error_metric(threshold,actual_labels,predicted_labels):\n",
    "    error_count = 0\n",
    "    errors = np.zeros(len(actual_labels))\n",
    "    for index in range(0,len(actual_labels)):\n",
    "        errors[index] = (abs(float(actual_labels[index])-float(predicted_labels[index])))\n",
    "        if abs(float(actual_labels[index])-float(predicted_labels[index])) > threshold:\n",
    "            error_count +=1\n",
    "    return error_count*100/len(actual_labels),np.mean(errors),np.std(errors)\n",
    "\n",
    "def get_mean_squared_error(actual_labels,predicted_labels):\n",
    "    return mean_squared_error(actual_labels,predicted_labels)"
   ]
  },
  {
   "cell_type": "code",
   "execution_count": 5,
   "metadata": {
    "collapsed": false
   },
   "outputs": [],
   "source": [
    "def get_predictions(classifier,val,data):\n",
    "    if val==1:\n",
    "        X = np.asarray(train_data_1_values)\n",
    "        Y = np.asarray(train_data_1_labels)\n",
    "    else:\n",
    "        X = np.asarray(train_data_2_values)\n",
    "        Y = np.asarray(train_data_2_labels)\n",
    "    classifier.fit(X,Y)\n",
    "    return classifier.predict(data)"
   ]
  },
  {
   "cell_type": "code",
   "execution_count": 6,
   "metadata": {
    "collapsed": false
   },
   "outputs": [
    {
     "name": "stdout",
     "output_type": "stream",
     "text": [
      "Lambda:1\n",
      "Errors for Mechanism-1: Zero Tolerance: 100 0.289249321055 0.302990517526\n",
      "Errors for Mechanism-1: 0.1 Tolerance: 49 0.289249321055 0.302990517526\n",
      "Errors for Mechanism-1: 0.2 Tolerance: 26 0.289249321055 0.302990517526\n",
      "MSE Mechansim-1: 0.175468423441\n"
     ]
    }
   ],
   "source": [
    "classifier = KernelRidge()\n",
    "obs_labels = get_predictions(classifier,1,test_data_1_values)\n",
    "\n",
    "print 'Lambda:1'\n",
    "error_1,mean_1,std_1 = get_error_metric(ERROR_THRESHOLD_1,test_data_1_labels,obs_labels)\n",
    "error_2,mean_2,std_2 = get_error_metric(ERROR_THRESHOLD_2,test_data_1_labels,obs_labels)\n",
    "error_3,mean_3,std_3 = get_error_metric(ERROR_THRESHOLD_3,test_data_1_labels,obs_labels)\n",
    "print 'Errors for Mechanism-1: Zero Tolerance:',error_1,mean_1,std_1\n",
    "print 'Errors for Mechanism-1: 0.1 Tolerance:',error_2,mean_2,std_2\n",
    "print 'Errors for Mechanism-1: 0.2 Tolerance:',error_3,mean_3,std_3\n",
    "print 'MSE Mechansim-1:',get_mean_squared_error(test_data_1_labels,obs_labels)"
   ]
  },
  {
   "cell_type": "code",
   "execution_count": 7,
   "metadata": {
    "collapsed": false
   },
   "outputs": [
    {
     "name": "stdout",
     "output_type": "stream",
     "text": [
      "Lambda:0.1\n",
      "Errors for Mechanism-1: Zero Tolerance: 100 0.28924278387 0.302998897057\n",
      "Errors for Mechanism-1: 0.1 Tolerance: 49 0.28924278387 0.302998897057\n",
      "Errors for Mechanism-1: 0.2 Tolerance: 26 0.28924278387 0.302998897057\n",
      "MSE Mechansim-1: 0.175469719639\n",
      "Lambda:-1\n",
      "Errors for Mechanism-1: Zero Tolerance: 100 0.28923478538 0.303009181934\n",
      "Errors for Mechanism-1: 0.1 Tolerance: 49 0.28923478538 0.303009181934\n",
      "Errors for Mechanism-1: 0.2 Tolerance: 26 0.28923478538 0.303009181934\n",
      "MSE Mechansim-1: 0.17547132541\n"
     ]
    }
   ],
   "source": [
    "classifier = KernelRidge(alpha=0.1)\n",
    "obs_labels = get_predictions(classifier,1,test_data_1_values)\n",
    "\n",
    "print 'Lambda:0.1'\n",
    "error_1,mean_1,std_1 = get_error_metric(ERROR_THRESHOLD_1,test_data_1_labels,obs_labels)\n",
    "error_2,mean_2,std_2 = get_error_metric(ERROR_THRESHOLD_2,test_data_1_labels,obs_labels)\n",
    "error_3,mean_3,std_3 = get_error_metric(ERROR_THRESHOLD_3,test_data_1_labels,obs_labels)\n",
    "print 'Errors for Mechanism-1: Zero Tolerance:',error_1,mean_1,std_1\n",
    "print 'Errors for Mechanism-1: 0.1 Tolerance:',error_2,mean_2,std_2\n",
    "print 'Errors for Mechanism-1: 0.2 Tolerance:',error_3,mean_3,std_3\n",
    "print 'MSE Mechansim-1:',get_mean_squared_error(test_data_1_labels,obs_labels)\n",
    "\n",
    "classifier = KernelRidge(alpha=-1)\n",
    "obs_labels = get_predictions(classifier,1,test_data_1_values)\n",
    "\n",
    "print 'Lambda:-1'\n",
    "error_1,mean_1,std_1 = get_error_metric(ERROR_THRESHOLD_1,test_data_1_labels,obs_labels)\n",
    "error_2,mean_2,std_2 = get_error_metric(ERROR_THRESHOLD_2,test_data_1_labels,obs_labels)\n",
    "error_3,mean_3,std_3 = get_error_metric(ERROR_THRESHOLD_3,test_data_1_labels,obs_labels)\n",
    "print 'Errors for Mechanism-1: Zero Tolerance:',error_1,mean_1,std_1\n",
    "print 'Errors for Mechanism-1: 0.1 Tolerance:',error_2,mean_2,std_2\n",
    "print 'Errors for Mechanism-1: 0.2 Tolerance:',error_3,mean_3,std_3\n",
    "print 'MSE Mechansim-1:',get_mean_squared_error(test_data_1_labels,obs_labels)"
   ]
  },
  {
   "cell_type": "code",
   "execution_count": 8,
   "metadata": {
    "collapsed": false
   },
   "outputs": [
    {
     "name": "stdout",
     "output_type": "stream",
     "text": [
      "Lambda:0.01\n",
      "Errors for Mechanism-1: Zero Tolerance: 100 0.289242129917 0.302999736651\n",
      "Errors for Mechanism-1: 0.1 Tolerance: 49 0.289242129917 0.302999736651\n",
      "Errors for Mechanism-1: 0.2 Tolerance: 26 0.289242129917 0.302999736651\n",
      "MSE Mechansim-1: 0.17546985013\n",
      "Lambda:2\n",
      "Errors for Mechanism-1: Zero Tolerance: 100 0.289256577184 0.302981244177\n",
      "Errors for Mechanism-1: 0.1 Tolerance: 49 0.289256577184 0.302981244177\n",
      "Errors for Mechanism-1: 0.2 Tolerance: 26 0.289256577184 0.302981244177\n",
      "MSE Mechansim-1: 0.175467001767\n"
     ]
    }
   ],
   "source": [
    "classifier = KernelRidge(alpha=0.01)\n",
    "obs_labels = get_predictions(classifier,1,test_data_1_values)\n",
    "\n",
    "print 'Lambda:0.01'\n",
    "error_1,mean_1,std_1 = get_error_metric(ERROR_THRESHOLD_1,test_data_1_labels,obs_labels)\n",
    "error_2,mean_2,std_2 = get_error_metric(ERROR_THRESHOLD_2,test_data_1_labels,obs_labels)\n",
    "error_3,mean_3,std_3 = get_error_metric(ERROR_THRESHOLD_3,test_data_1_labels,obs_labels)\n",
    "print 'Errors for Mechanism-1: Zero Tolerance:',error_1,mean_1,std_1\n",
    "print 'Errors for Mechanism-1: 0.1 Tolerance:',error_2,mean_2,std_2\n",
    "print 'Errors for Mechanism-1: 0.2 Tolerance:',error_3,mean_3,std_3\n",
    "print 'MSE Mechansim-1:',get_mean_squared_error(test_data_1_labels,obs_labels)\n",
    "\n",
    "classifier = KernelRidge(alpha=2)\n",
    "obs_labels = get_predictions(classifier,1,test_data_1_values)\n",
    "\n",
    "print 'Lambda:2'\n",
    "error_1,mean_1,std_1 = get_error_metric(ERROR_THRESHOLD_1,test_data_1_labels,obs_labels)\n",
    "error_2,mean_2,std_2 = get_error_metric(ERROR_THRESHOLD_2,test_data_1_labels,obs_labels)\n",
    "error_3,mean_3,std_3 = get_error_metric(ERROR_THRESHOLD_3,test_data_1_labels,obs_labels)\n",
    "print 'Errors for Mechanism-1: Zero Tolerance:',error_1,mean_1,std_1\n",
    "print 'Errors for Mechanism-1: 0.1 Tolerance:',error_2,mean_2,std_2\n",
    "print 'Errors for Mechanism-1: 0.2 Tolerance:',error_3,mean_3,std_3\n",
    "print 'MSE Mechansim-1:',get_mean_squared_error(test_data_1_labels,obs_labels)    "
   ]
  },
  {
   "cell_type": "code",
   "execution_count": 9,
   "metadata": {
    "collapsed": false
   },
   "outputs": [
    {
     "name": "stdout",
     "output_type": "stream",
     "text": [
      "Lambda:-2\n",
      "Errors for Mechanism-1: Zero Tolerance: 100 0.289227505801 0.303018573192\n",
      "Errors for Mechanism-1: 0.1 Tolerance: 49 0.289227505801 0.303018573192\n",
      "Errors for Mechanism-1: 0.2 Tolerance: 26 0.289227505801 0.303018573192\n",
      "MSE Mechansim-1: 0.175472805811\n"
     ]
    }
   ],
   "source": [
    "classifier = KernelRidge(alpha=-2)\n",
    "obs_labels = get_predictions(classifier,1,test_data_1_values)\n",
    "\n",
    "print 'Lambda:-2'\n",
    "error_1,mean_1,std_1 = get_error_metric(ERROR_THRESHOLD_1,test_data_1_labels,obs_labels)\n",
    "error_2,mean_2,std_2 = get_error_metric(ERROR_THRESHOLD_2,test_data_1_labels,obs_labels)\n",
    "error_3,mean_3,std_3 = get_error_metric(ERROR_THRESHOLD_3,test_data_1_labels,obs_labels)\n",
    "print 'Errors for Mechanism-1: Zero Tolerance:',error_1,mean_1,std_1\n",
    "print 'Errors for Mechanism-1: 0.1 Tolerance:',error_2,mean_2,std_2\n",
    "print 'Errors for Mechanism-1: 0.2 Tolerance:',error_3,mean_3,std_3\n",
    "print 'MSE Mechansim-1:',get_mean_squared_error(test_data_1_labels,obs_labels)"
   ]
  },
  {
   "cell_type": "code",
   "execution_count": 10,
   "metadata": {
    "collapsed": false
   },
   "outputs": [
    {
     "name": "stdout",
     "output_type": "stream",
     "text": [
      "Lambda:1\n",
      "Errors for Mechanism-2: Zero Tolerance: 100 2.82416575643 1.77590259241\n",
      "Errors for Mechanism-2: 0.1 Tolerance: 96 2.82416575643 1.77590259241\n",
      "Errors for Mechanism-2: 0.2 Tolerance: 93 2.82416575643 1.77590259241\n",
      "MSE Mechansim-2: 11.1297422375\n"
     ]
    }
   ],
   "source": [
    "classifier = KernelRidge()\n",
    "obs_labels = get_predictions(classifier,2,test_data_2_values)\n",
    "\n",
    "print 'Lambda:1'\n",
    "error_1,mean_1,std_1 = get_error_metric(ERROR_THRESHOLD_1,test_data_2_labels,obs_labels)\n",
    "error_2,mean_2,std_2 = get_error_metric(ERROR_THRESHOLD_2,test_data_2_labels,obs_labels)\n",
    "error_3,mean_3,std_3 = get_error_metric(ERROR_THRESHOLD_3,test_data_2_labels,obs_labels)\n",
    "print 'Errors for Mechanism-2: Zero Tolerance:',error_1,mean_1,std_1\n",
    "print 'Errors for Mechanism-2: 0.1 Tolerance:',error_2,mean_2,std_2\n",
    "print 'Errors for Mechanism-2: 0.2 Tolerance:',error_3,mean_3,std_3\n",
    "print 'MSE Mechansim-2:',get_mean_squared_error(test_data_2_labels,obs_labels)"
   ]
  },
  {
   "cell_type": "code",
   "execution_count": 12,
   "metadata": {
    "collapsed": false
   },
   "outputs": [
    {
     "name": "stdout",
     "output_type": "stream",
     "text": [
      "Lambda:-1\n",
      "Errors for Mechanism-2: Zero Tolerance: 100 2.82393395122 1.77630446997\n",
      "Errors for Mechanism-2: 0.1 Tolerance: 96 2.82393395122 1.77630446997\n",
      "Errors for Mechanism-2: 0.2 Tolerance: 93 2.82393395122 1.77630446997\n",
      "MSE Mechansim-2: 11.1298605309\n",
      "Time taken 0.0899999141693\n"
     ]
    }
   ],
   "source": [
    "classifier = KernelRidge(alpha=-1)\n",
    "obs_labels = get_predictions(classifier,2,test_data_2_values)\n",
    "t = time.time()\n",
    "print 'Lambda:-1'\n",
    "error_1,mean_1,std_1 = get_error_metric(ERROR_THRESHOLD_1,test_data_2_labels,obs_labels)\n",
    "error_2,mean_2,std_2 = get_error_metric(ERROR_THRESHOLD_2,test_data_2_labels,obs_labels)\n",
    "error_3,mean_3,std_3 = get_error_metric(ERROR_THRESHOLD_3,test_data_2_labels,obs_labels)\n",
    "print 'Errors for Mechanism-2: Zero Tolerance:',error_1,mean_1,std_1\n",
    "print 'Errors for Mechanism-2: 0.1 Tolerance:',error_2,mean_2,std_2\n",
    "print 'Errors for Mechanism-2: 0.2 Tolerance:',error_3,mean_3,std_3\n",
    "print 'MSE Mechansim-2:',get_mean_squared_error(test_data_2_labels,obs_labels)\n",
    "print 'Time taken',time.time()-t"
   ]
  },
  {
   "cell_type": "code",
   "execution_count": 63,
   "metadata": {
    "collapsed": false
   },
   "outputs": [
    {
     "name": "stdout",
     "output_type": "stream",
     "text": [
      "Lambda:2\n",
      "Errors for Mechanism-2: Zero Tolerance: 100 0.301311460564 0.278801155793\n",
      "Errors for Mechanism-2: 0.1 Tolerance: 55 0.301311460564 0.278801155793\n",
      "Errors for Mechanism-2: 0.2 Tolerance: 25 0.301311460564 0.278801155793\n",
      "MSE Mechansim-2: 0.168518680738\n",
      "Lambda:-2\n",
      "Errors for Mechanism-2: Zero Tolerance: 100 0.301326285283 0.278790827912\n",
      "Errors for Mechanism-2: 0.1 Tolerance: 55 0.301326285283 0.278790827912\n",
      "Errors for Mechanism-2: 0.2 Tolerance: 25 0.301326285283 0.278790827912\n",
      "MSE Mechansim-2: 0.16852185593\n"
     ]
    }
   ],
   "source": [
    "classifier = KernelRidge(alpha=2)\n",
    "obs_labels = get_predictions(classifier,2,test_data_2_values)\n",
    "\n",
    "t = time.time()\n",
    "print 'Lambda:2'\n",
    "error_1,mean_1,std_1 = get_error_metric(ERROR_THRESHOLD_1,test_data_2_labels,obs_labels)\n",
    "error_2,mean_2,std_2 = get_error_metric(ERROR_THRESHOLD_2,test_data_2_labels,obs_labels)\n",
    "error_3,mean_3,std_3 = get_error_metric(ERROR_THRESHOLD_3,test_data_2_labels,obs_labels)\n",
    "print 'Errors for Mechanism-2: Zero Tolerance:',error_1,mean_1,std_1\n",
    "print 'Errors for Mechanism-2: 0.1 Tolerance:',error_2,mean_2,std_2\n",
    "print 'Errors for Mechanism-2: 0.2 Tolerance:',error_3,mean_3,std_3\n",
    "print 'MSE Mechansim-2:',get_mean_squared_error(test_data_2_labels,obs_labels) \n",
    "print 'Time taken',time.time() - t\n",
    "\n",
    "classifier = KernelRidge(alpha=-2)\n",
    "obs_labels = get_predictions(classifier,2,test_data_2_values)\n",
    "\n",
    "print 'Lambda:-2'\n",
    "error_1,mean_1,std_1 = get_error_metric(ERROR_THRESHOLD_1,test_data_2_labels,obs_labels)\n",
    "error_2,mean_2,std_2 = get_error_metric(ERROR_THRESHOLD_2,test_data_2_labels,obs_labels)\n",
    "error_3,mean_3,std_3 = get_error_metric(ERROR_THRESHOLD_3,test_data_2_labels,obs_labels)\n",
    "print 'Errors for Mechanism-2: Zero Tolerance:',error_1,mean_1,std_1\n",
    "print 'Errors for Mechanism-2: 0.1 Tolerance:',error_2,mean_2,std_2\n",
    "print 'Errors for Mechanism-2: 0.2 Tolerance:',error_3,mean_3,std_3\n",
    "print 'MSE Mechansim-2:',get_mean_squared_error(test_data_2_labels,obs_labels)\n"
   ]
  },
  {
   "cell_type": "code",
   "execution_count": 64,
   "metadata": {
    "collapsed": false
   },
   "outputs": [
    {
     "name": "stdout",
     "output_type": "stream",
     "text": [
      "Done Reading File train_data_1.csv\n",
      "Done Reading File train_data_2.csv\n",
      "Done Reading File test_data_1.csv\n",
      "Done Reading File test_data_2.csv\n"
     ]
    }
   ],
   "source": [
    "\n",
    "avg_rating = 6.031\n",
    "\n",
    "def read_data_file_2(filename):    \n",
    "    data_file = file(filename, 'r')\n",
    "    data = csv.reader(data_file, delimiter=',')\n",
    "    labels = []\n",
    "    values = []\n",
    "    for row in data:\n",
    "        value = []\n",
    "        prod_value = 0\n",
    "        writer_value = 0\n",
    "        for index in range(1,PROD_INDEX):\n",
    "            value.append(float(row[index]))\n",
    "        for index in range(PROD_INDEX + 1,PROD_INDEX + int(row[PROD_INDEX]) + 1):\n",
    "            prod_value = max(float(row[index]),prod_value)\n",
    "        value.append(prod_value)\n",
    "        WRITER_INDEX = PROD_INDEX + int(row[PROD_INDEX]) + 1\n",
    "        for index in range(WRITER_INDEX+1,len(row)):\n",
    "            writer_value = max(float(row[index]),writer_value)\n",
    "        value.append(writer_value)\n",
    "        labels.append(float(row[0])-avg_rating)\n",
    "        values.append(value)\n",
    "    print 'Done Reading File',filename\n",
    "    return labels,values\n",
    "\n",
    "train_data_1_labels, train_data_1_values = read_data_file_2(TRAIN_DATA_FILE_1)\n",
    "train_data_2_labels, train_data_2_values = read_data_file_2(TRAIN_DATA_FILE_2)\n",
    "\n",
    "test_data_1_labels, test_data_1_values = read_data_file_2(TEST_DATA_FILE_1)\n",
    "test_data_2_labels, test_data_2_values = read_data_file_2(TEST_DATA_FILE_2)"
   ]
  },
  {
   "cell_type": "code",
   "execution_count": 65,
   "metadata": {
    "collapsed": false
   },
   "outputs": [
    {
     "name": "stdout",
     "output_type": "stream",
     "text": [
      "Lambda:1\n",
      "Errors(2) for Mechanism-1: Zero Tolerance: 100 0.280960538054 0.27189243952\n",
      "Errors(2) for Mechanism-1: 0.1 Tolerance: 50 0.280960538054 0.27189243952\n",
      "Errors(2) for Mechanism-1: 0.2 Tolerance: 24 0.280960538054 0.27189243952\n",
      "(2) MSE Mechansim-1: 0.152864322612\n"
     ]
    }
   ],
   "source": [
    "classifier = KernelRidge()\n",
    "obs_labels = get_predictions(classifier,1,test_data_1_values)\n",
    "\n",
    "print 'Lambda:1'\n",
    "error_1,mean_1,std_1 = get_error_metric(ERROR_THRESHOLD_1,test_data_1_labels,obs_labels)\n",
    "error_2,mean_2,std_2 = get_error_metric(ERROR_THRESHOLD_2,test_data_1_labels,obs_labels)\n",
    "error_3,mean_3,std_3 = get_error_metric(ERROR_THRESHOLD_3,test_data_1_labels,obs_labels)\n",
    "print 'Errors(2) for Mechanism-1: Zero Tolerance:',error_1,mean_1,std_1\n",
    "print 'Errors(2) for Mechanism-1: 0.1 Tolerance:',error_2,mean_2,std_2\n",
    "print 'Errors(2) for Mechanism-1: 0.2 Tolerance:',error_3,mean_3,std_3\n",
    "print '(2) MSE Mechansim-1:',get_mean_squared_error(test_data_1_labels,obs_labels)\n"
   ]
  },
  {
   "cell_type": "code",
   "execution_count": 66,
   "metadata": {
    "collapsed": false
   },
   "outputs": [
    {
     "name": "stdout",
     "output_type": "stream",
     "text": [
      "Lambda:0.01\n",
      "Errors(2) for Mechanism-1: Zero Tolerance: 100 0.280957835354 0.271896926108\n",
      "Errors(2) for Mechanism-1: 0.1 Tolerance: 50 0.280957835354 0.271896926108\n",
      "Errors(2) for Mechanism-1: 0.2 Tolerance: 24 0.280957835354 0.271896926108\n",
      "(2) MSE Mechansim-1: 0.152865243674\n",
      "Lambda:-1\n",
      "Errors(2) for Mechanism-1: Zero Tolerance: 100 0.280955072324 0.271901533729\n",
      "Errors(2) for Mechanism-1: 0.1 Tolerance: 50 0.280955072324 0.271901533729\n",
      "Errors(2) for Mechanism-1: 0.2 Tolerance: 24 0.280955072324 0.271901533729\n",
      "(2) MSE Mechansim-1: 0.152866196709\n"
     ]
    }
   ],
   "source": [
    "classifier = KernelRidge(alpha=0.01)\n",
    "obs_labels = get_predictions(classifier,1,test_data_1_values)\n",
    "\n",
    "print 'Lambda:0.01'\n",
    "error_1,mean_1,std_1 = get_error_metric(ERROR_THRESHOLD_1,test_data_1_labels,obs_labels)\n",
    "error_2,mean_2,std_2 = get_error_metric(ERROR_THRESHOLD_2,test_data_1_labels,obs_labels)\n",
    "error_3,mean_3,std_3 = get_error_metric(ERROR_THRESHOLD_3,test_data_1_labels,obs_labels)\n",
    "print 'Errors(2) for Mechanism-1: Zero Tolerance:',error_1,mean_1,std_1\n",
    "print 'Errors(2) for Mechanism-1: 0.1 Tolerance:',error_2,mean_2,std_2\n",
    "print 'Errors(2) for Mechanism-1: 0.2 Tolerance:',error_3,mean_3,std_3\n",
    "print '(2) MSE Mechansim-1:',get_mean_squared_error(test_data_1_labels,obs_labels)\n",
    "\n",
    "classifier = KernelRidge(alpha=-1)\n",
    "obs_labels = get_predictions(classifier,1,test_data_1_values)\n",
    "\n",
    "print 'Lambda:-1'\n",
    "error_1,mean_1,std_1 = get_error_metric(ERROR_THRESHOLD_1,test_data_1_labels,obs_labels)\n",
    "error_2,mean_2,std_2 = get_error_metric(ERROR_THRESHOLD_2,test_data_1_labels,obs_labels)\n",
    "error_3,mean_3,std_3 = get_error_metric(ERROR_THRESHOLD_3,test_data_1_labels,obs_labels)\n",
    "print 'Errors(2) for Mechanism-1: Zero Tolerance:',error_1,mean_1,std_1\n",
    "print 'Errors(2) for Mechanism-1: 0.1 Tolerance:',error_2,mean_2,std_2\n",
    "print 'Errors(2) for Mechanism-1: 0.2 Tolerance:',error_3,mean_3,std_3\n",
    "print '(2) MSE Mechansim-1:',get_mean_squared_error(test_data_1_labels,obs_labels)"
   ]
  },
  {
   "cell_type": "code",
   "execution_count": 67,
   "metadata": {
    "collapsed": false
   },
   "outputs": [
    {
     "name": "stdout",
     "output_type": "stream",
     "text": [
      "Lambda:0.001\n",
      "Errors(2) for Mechanism-1: Zero Tolerance: 100 0.280957810759 0.271896967031\n",
      "Errors(2) for Mechanism-1: 0.1 Tolerance: 50 0.280957810759 0.271896967031\n",
      "Errors(2) for Mechanism-1: 0.2 Tolerance: 24 0.280957810759 0.271896967031\n",
      "(2) MSE Mechansim-1: 0.152865252107\n",
      "Lambda:2\n",
      "Errors(2) for Mechanism-1: Zero Tolerance: 100 0.280963262421 0.271887937475\n",
      "Errors(2) for Mechanism-1: 0.1 Tolerance: 50 0.280963262421 0.271887937475\n",
      "Errors(2) for Mechanism-1: 0.2 Tolerance: 24 0.280963262421 0.271887937475\n",
      "(2) MSE Mechansim-1: 0.152863405374\n"
     ]
    }
   ],
   "source": [
    "classifier = KernelRidge(alpha=0.001)\n",
    "obs_labels = get_predictions(classifier,1,test_data_1_values)\n",
    "\n",
    "print 'Lambda:0.001'\n",
    "error_1,mean_1,std_1 = get_error_metric(ERROR_THRESHOLD_1,test_data_1_labels,obs_labels)\n",
    "error_2,mean_2,std_2 = get_error_metric(ERROR_THRESHOLD_2,test_data_1_labels,obs_labels)\n",
    "error_3,mean_3,std_3 = get_error_metric(ERROR_THRESHOLD_3,test_data_1_labels,obs_labels)\n",
    "print 'Errors(2) for Mechanism-1: Zero Tolerance:',error_1,mean_1,std_1\n",
    "print 'Errors(2) for Mechanism-1: 0.1 Tolerance:',error_2,mean_2,std_2\n",
    "print 'Errors(2) for Mechanism-1: 0.2 Tolerance:',error_3,mean_3,std_3\n",
    "print '(2) MSE Mechansim-1:',get_mean_squared_error(test_data_1_labels,obs_labels)\n",
    "\n",
    "classifier = KernelRidge(alpha=2)\n",
    "obs_labels = get_predictions(classifier,1,test_data_1_values)\n",
    "\n",
    "print 'Lambda:2'\n",
    "error_1,mean_1,std_1 = get_error_metric(ERROR_THRESHOLD_1,test_data_1_labels,obs_labels)\n",
    "error_2,mean_2,std_2 = get_error_metric(ERROR_THRESHOLD_2,test_data_1_labels,obs_labels)\n",
    "error_3,mean_3,std_3 = get_error_metric(ERROR_THRESHOLD_3,test_data_1_labels,obs_labels)\n",
    "print 'Errors(2) for Mechanism-1: Zero Tolerance:',error_1,mean_1,std_1\n",
    "print 'Errors(2) for Mechanism-1: 0.1 Tolerance:',error_2,mean_2,std_2\n",
    "print 'Errors(2) for Mechanism-1: 0.2 Tolerance:',error_3,mean_3,std_3\n",
    "print '(2) MSE Mechansim-1:',get_mean_squared_error(test_data_1_labels,obs_labels)\n"
   ]
  },
  {
   "cell_type": "code",
   "execution_count": 68,
   "metadata": {
    "collapsed": false
   },
   "outputs": [
    {
     "name": "stdout",
     "output_type": "stream",
     "text": [
      "Lambda:-2\n",
      "Errors(2) for Mechanism-1: Zero Tolerance: 100 0.280952330935 0.271906126053\n",
      "Errors(2) for Mechanism-1: 0.1 Tolerance: 50 0.280952330935 0.271906126053\n",
      "Errors(2) for Mechanism-1: 0.2 Tolerance: 24 0.280952330935 0.271906126053\n",
      "(2) MSE Mechansim-1: 0.152867153643\n"
     ]
    }
   ],
   "source": [
    "classifier = KernelRidge(alpha=-2)\n",
    "obs_labels = get_predictions(classifier,1,test_data_1_values)\n",
    "\n",
    "print 'Lambda:-2'\n",
    "error_1,mean_1,std_1 = get_error_metric(ERROR_THRESHOLD_1,test_data_1_labels,obs_labels)\n",
    "error_2,mean_2,std_2 = get_error_metric(ERROR_THRESHOLD_2,test_data_1_labels,obs_labels)\n",
    "error_3,mean_3,std_3 = get_error_metric(ERROR_THRESHOLD_3,test_data_1_labels,obs_labels)\n",
    "print 'Errors(2) for Mechanism-1: Zero Tolerance:',error_1,mean_1,std_1\n",
    "print 'Errors(2) for Mechanism-1: 0.1 Tolerance:',error_2,mean_2,std_2\n",
    "print 'Errors(2) for Mechanism-1: 0.2 Tolerance:',error_3,mean_3,std_3\n",
    "print '(2) MSE Mechansim-1:',get_mean_squared_error(test_data_1_labels,obs_labels)"
   ]
  },
  {
   "cell_type": "code",
   "execution_count": 37,
   "metadata": {
    "collapsed": false
   },
   "outputs": [
    {
     "name": "stdout",
     "output_type": "stream",
     "text": [
      "Lambda:1\n",
      "Errors(2) for Mechanism-2: Zero Tolerance: 100 0.301315148788 0.278798553132\n",
      "Errors(2) for Mechanism-2: 0.1 Tolerance: 55 0.301315148788 0.278798553132\n",
      "Errors(2) for Mechanism-2: 0.2 Tolerance: 25 0.301315148788 0.278798553132\n",
      "(2) MSE Mechansim-2: 0.168519452117\n"
     ]
    }
   ],
   "source": [
    "classifier = KernelRidge()\n",
    "obs_labels = get_predictions(classifier,2,test_data_2_values)\n",
    "\n",
    "print 'Lambda:1'\n",
    "error_1,mean_1,std_1 = get_error_metric(ERROR_THRESHOLD_1,test_data_2_labels,obs_labels)\n",
    "error_2,mean_2,std_2 = get_error_metric(ERROR_THRESHOLD_2,test_data_2_labels,obs_labels)\n",
    "error_3,mean_3,std_3 = get_error_metric(ERROR_THRESHOLD_3,test_data_2_labels,obs_labels)\n",
    "print 'Errors(2) for Mechanism-2: Zero Tolerance:',error_1,mean_1,std_1\n",
    "print 'Errors(2) for Mechanism-2: 0.1 Tolerance:',error_2,mean_2,std_2\n",
    "print 'Errors(2) for Mechanism-2: 0.2 Tolerance:',error_3,mean_3,std_3\n",
    "print '(2) MSE Mechansim-2:',get_mean_squared_error(test_data_2_labels,obs_labels)"
   ]
  },
  {
   "cell_type": "code",
   "execution_count": 69,
   "metadata": {
    "collapsed": false
   },
   "outputs": [
    {
     "name": "stdout",
     "output_type": "stream",
     "text": [
      "Lambda:0.1\n",
      "Errors(2) for Mechanism-2: Zero Tolerance: 100 0.301318467946 0.278796233798\n",
      "Errors(2) for Mechanism-2: 0.1 Tolerance: 55 0.301318467946 0.278796233798\n",
      "Errors(2) for Mechanism-2: 0.2 Tolerance: 25 0.301318467946 0.278796233798\n",
      "(2) MSE Mechansim-2: 0.168520159106\n",
      "Lambda:-1\n",
      "Errors(2) for Mechanism-2: Zero Tolerance: 100 0.301322532979 0.278793419541\n",
      "Errors(2) for Mechanism-2: 0.1 Tolerance: 55 0.301322532979 0.278793419541\n",
      "Errors(2) for Mechanism-2: 0.2 Tolerance: 25 0.301322532979 0.278793419541\n",
      "(2) MSE Mechansim-2: 0.16852103966\n",
      "Lambda:0.01\n",
      "Errors(2) for Mechanism-2: Zero Tolerance: 100 0.301318799849 0.278796003069\n",
      "Errors(2) for Mechanism-2: 0.1 Tolerance: 55 0.301318799849 0.278796003069\n",
      "Errors(2) for Mechanism-2: 0.2 Tolerance: 25 0.301318799849 0.278796003069\n",
      "(2) MSE Mechansim-2: 0.16852023047\n"
     ]
    }
   ],
   "source": [
    "classifier = KernelRidge(alpha=0.1)\n",
    "obs_labels = get_predictions(classifier,2,test_data_2_values)\n",
    "\n",
    "print 'Lambda:0.1'\n",
    "error_1,mean_1,std_1 = get_error_metric(ERROR_THRESHOLD_1,test_data_2_labels,obs_labels)\n",
    "error_2,mean_2,std_2 = get_error_metric(ERROR_THRESHOLD_2,test_data_2_labels,obs_labels)\n",
    "error_3,mean_3,std_3 = get_error_metric(ERROR_THRESHOLD_3,test_data_2_labels,obs_labels)\n",
    "print 'Errors(2) for Mechanism-2: Zero Tolerance:',error_1,mean_1,std_1\n",
    "print 'Errors(2) for Mechanism-2: 0.1 Tolerance:',error_2,mean_2,std_2\n",
    "print 'Errors(2) for Mechanism-2: 0.2 Tolerance:',error_3,mean_3,std_3\n",
    "print '(2) MSE Mechansim-2:',get_mean_squared_error(test_data_2_labels,obs_labels)\n",
    "\n",
    "classifier = KernelRidge(alpha=-1)\n",
    "obs_labels = get_predictions(classifier,2,test_data_2_values)\n",
    "\n",
    "print 'Lambda:-1'\n",
    "error_1,mean_1,std_1 = get_error_metric(ERROR_THRESHOLD_1,test_data_2_labels,obs_labels)\n",
    "error_2,mean_2,std_2 = get_error_metric(ERROR_THRESHOLD_2,test_data_2_labels,obs_labels)\n",
    "error_3,mean_3,std_3 = get_error_metric(ERROR_THRESHOLD_3,test_data_2_labels,obs_labels)\n",
    "print 'Errors(2) for Mechanism-2: Zero Tolerance:',error_1,mean_1,std_1\n",
    "print 'Errors(2) for Mechanism-2: 0.1 Tolerance:',error_2,mean_2,std_2\n",
    "print 'Errors(2) for Mechanism-2: 0.2 Tolerance:',error_3,mean_3,std_3\n",
    "print '(2) MSE Mechansim-2:',get_mean_squared_error(test_data_2_labels,obs_labels)\n",
    "\n",
    "classifier = KernelRidge(alpha=0.01)\n",
    "obs_labels = get_predictions(classifier,2,test_data_2_values)\n",
    "\n",
    "print 'Lambda:0.01'\n",
    "error_1,mean_1,std_1 = get_error_metric(ERROR_THRESHOLD_1,test_data_2_labels,obs_labels)\n",
    "error_2,mean_2,std_2 = get_error_metric(ERROR_THRESHOLD_2,test_data_2_labels,obs_labels)\n",
    "error_3,mean_3,std_3 = get_error_metric(ERROR_THRESHOLD_3,test_data_2_labels,obs_labels)\n",
    "print 'Errors(2) for Mechanism-2: Zero Tolerance:',error_1,mean_1,std_1\n",
    "print 'Errors(2) for Mechanism-2: 0.1 Tolerance:',error_2,mean_2,std_2\n",
    "print 'Errors(2) for Mechanism-2: 0.2 Tolerance:',error_3,mean_3,std_3\n",
    "print '(2) MSE Mechansim-2:',get_mean_squared_error(test_data_2_labels,obs_labels)\n"
   ]
  },
  {
   "cell_type": "code",
   "execution_count": 70,
   "metadata": {
    "collapsed": false
   },
   "outputs": [
    {
     "name": "stdout",
     "output_type": "stream",
     "text": [
      "Lambda:2\n",
      "Errors(2) for Mechanism-2: Zero Tolerance: 100 0.301311460564 0.278801155793\n",
      "Errors(2) for Mechanism-2: 0.1 Tolerance: 55 0.301311460564 0.278801155793\n",
      "Errors(2) for Mechanism-2: 0.2 Tolerance: 25 0.301311460564 0.278801155793\n",
      "(2) MSE Mechansim-2: 0.168518680738\n",
      "Lambda:2\n",
      "Errors(2) for Mechanism-2: Zero Tolerance: 100 0.301318762971 0.278796028695\n",
      "Errors(2) for Mechanism-2: 0.1 Tolerance: 55 0.301318762971 0.278796028695\n",
      "Errors(2) for Mechanism-2: 0.2 Tolerance: 25 0.301318762971 0.278796028695\n",
      "(2) MSE Mechansim-2: 0.168520222535\n"
     ]
    }
   ],
   "source": [
    "classifier = KernelRidge(alpha=2)\n",
    "obs_labels = get_predictions(classifier,2,test_data_2_values)\n",
    "\n",
    "print 'Lambda:2'\n",
    "error_1,mean_1,std_1 = get_error_metric(ERROR_THRESHOLD_1,test_data_2_labels,obs_labels)\n",
    "error_2,mean_2,std_2 = get_error_metric(ERROR_THRESHOLD_2,test_data_2_labels,obs_labels)\n",
    "error_3,mean_3,std_3 = get_error_metric(ERROR_THRESHOLD_3,test_data_2_labels,obs_labels)\n",
    "print 'Errors(2) for Mechanism-2: Zero Tolerance:',error_1,mean_1,std_1\n",
    "print 'Errors(2) for Mechanism-2: 0.1 Tolerance:',error_2,mean_2,std_2\n",
    "print 'Errors(2) for Mechanism-2: 0.2 Tolerance:',error_3,mean_3,std_3\n",
    "print '(2) MSE Mechansim-2:',get_mean_squared_error(test_data_2_labels,obs_labels)\n",
    "\n",
    "classifier = KernelRidge(alpha=0.02)\n",
    "obs_labels = get_predictions(classifier,2,test_data_2_values)\n",
    "\n",
    "print 'Lambda:2'\n",
    "error_1,mean_1,std_1 = get_error_metric(ERROR_THRESHOLD_1,test_data_2_labels,obs_labels)\n",
    "error_2,mean_2,std_2 = get_error_metric(ERROR_THRESHOLD_2,test_data_2_labels,obs_labels)\n",
    "error_3,mean_3,std_3 = get_error_metric(ERROR_THRESHOLD_3,test_data_2_labels,obs_labels)\n",
    "print 'Errors(2) for Mechanism-2: Zero Tolerance:',error_1,mean_1,std_1\n",
    "print 'Errors(2) for Mechanism-2: 0.1 Tolerance:',error_2,mean_2,std_2\n",
    "print 'Errors(2) for Mechanism-2: 0.2 Tolerance:',error_3,mean_3,std_3\n",
    "print '(2) MSE Mechansim-2:',get_mean_squared_error(test_data_2_labels,obs_labels)\n",
    "\n"
   ]
  },
  {
   "cell_type": "code",
   "execution_count": 71,
   "metadata": {
    "collapsed": false
   },
   "outputs": [
    {
     "name": "stdout",
     "output_type": "stream",
     "text": [
      "Lambda:-2\n",
      "Errors(2) for Mechanism-2: Zero Tolerance: 100 0.301326285283 0.278790827912\n",
      "Errors(2) for Mechanism-2: 0.1 Tolerance: 55 0.301326285283 0.278790827912\n",
      "Errors(2) for Mechanism-2: 0.2 Tolerance: 25 0.301326285283 0.278790827912\n",
      "(2) MSE Mechansim-2: 0.16852185593\n"
     ]
    }
   ],
   "source": [
    "classifier = KernelRidge(alpha=-2)\n",
    "obs_labels = get_predictions(classifier,2,test_data_2_values)\n",
    "\n",
    "print 'Lambda:-2'\n",
    "error_1,mean_1,std_1 = get_error_metric(ERROR_THRESHOLD_1,test_data_2_labels,obs_labels)\n",
    "error_2,mean_2,std_2 = get_error_metric(ERROR_THRESHOLD_2,test_data_2_labels,obs_labels)\n",
    "error_3,mean_3,std_3 = get_error_metric(ERROR_THRESHOLD_3,test_data_2_labels,obs_labels)\n",
    "print 'Errors(2) for Mechanism-2: Zero Tolerance:',error_1,mean_1,std_1\n",
    "print 'Errors(2) for Mechanism-2: 0.1 Tolerance:',error_2,mean_2,std_2\n",
    "print 'Errors(2) for Mechanism-2: 0.2 Tolerance:',error_3,mean_3,std_3\n",
    "print '(2) MSE Mechansim-2:',get_mean_squared_error(test_data_2_labels,obs_labels)"
   ]
  },
  {
   "cell_type": "code",
   "execution_count": 72,
   "metadata": {
    "collapsed": false
   },
   "outputs": [
    {
     "name": "stdout",
     "output_type": "stream",
     "text": [
      "Lambda:0.5\n",
      "Errors(2) for Mechanism-2: Zero Tolerance: 100 0.301316992794 0.27879726191\n",
      "Errors(2) for Mechanism-2: 0.1 Tolerance: 55 0.301316992794 0.27879726191\n",
      "Errors(2) for Mechanism-2: 0.2 Tolerance: 25 0.301316992794 0.27879726191\n",
      "(2) MSE Mechansim-2: 0.168519843395\n"
     ]
    }
   ],
   "source": [
    "classifier = KernelRidge(alpha=0.5)\n",
    "obs_labels = get_predictions(classifier,2,test_data_2_values)\n",
    "\n",
    "print 'Lambda:0.5'\n",
    "error_1,mean_1,std_1 = get_error_metric(ERROR_THRESHOLD_1,test_data_2_labels,obs_labels)\n",
    "error_2,mean_2,std_2 = get_error_metric(ERROR_THRESHOLD_2,test_data_2_labels,obs_labels)\n",
    "error_3,mean_3,std_3 = get_error_metric(ERROR_THRESHOLD_3,test_data_2_labels,obs_labels)\n",
    "print 'Errors(2) for Mechanism-2: Zero Tolerance:',error_1,mean_1,std_1\n",
    "print 'Errors(2) for Mechanism-2: 0.1 Tolerance:',error_2,mean_2,std_2\n",
    "print 'Errors(2) for Mechanism-2: 0.2 Tolerance:',error_3,mean_3,std_3\n",
    "print '(2) MSE Mechansim-2:',get_mean_squared_error(test_data_2_labels,obs_labels)"
   ]
  },
  {
   "cell_type": "code",
   "execution_count": 73,
   "metadata": {
    "collapsed": false
   },
   "outputs": [
    {
     "name": "stdout",
     "output_type": "stream",
     "text": [
      "Lambda:0.2\n",
      "Errors(2) for Mechanism-2: Zero Tolerance: 100 0.301318099163 0.27879649042\n",
      "Errors(2) for Mechanism-2: 0.1 Tolerance: 55 0.301318099163 0.27879649042\n",
      "Errors(2) for Mechanism-2: 0.2 Tolerance: 25 0.301318099163 0.27879649042\n",
      "(2) MSE Mechansim-2: 0.168520079954\n"
     ]
    }
   ],
   "source": [
    "classifier = KernelRidge(alpha=0.2)\n",
    "obs_labels = get_predictions(classifier,2,test_data_2_values)\n",
    "\n",
    "print 'Lambda:0.2'\n",
    "error_1,mean_1,std_1 = get_error_metric(ERROR_THRESHOLD_1,test_data_2_labels,obs_labels)\n",
    "error_2,mean_2,std_2 = get_error_metric(ERROR_THRESHOLD_2,test_data_2_labels,obs_labels)\n",
    "error_3,mean_3,std_3 = get_error_metric(ERROR_THRESHOLD_3,test_data_2_labels,obs_labels)\n",
    "print 'Errors(2) for Mechanism-2: Zero Tolerance:',error_1,mean_1,std_1\n",
    "print 'Errors(2) for Mechanism-2: 0.1 Tolerance:',error_2,mean_2,std_2\n",
    "print 'Errors(2) for Mechanism-2: 0.2 Tolerance:',error_3,mean_3,std_3\n",
    "print '(2) MSE Mechansim-2:',get_mean_squared_error(test_data_2_labels,obs_labels)"
   ]
  },
  {
   "cell_type": "code",
   "execution_count": 74,
   "metadata": {
    "collapsed": false
   },
   "outputs": [
    {
     "name": "stdout",
     "output_type": "stream",
     "text": [
      "Lambda:0.1\n",
      "Errors(2) for Mechanism-2: Zero Tolerance: 100 0.301318467946 0.278796233798\n",
      "Errors(2) for Mechanism-2: 0.1 Tolerance: 55 0.301318467946 0.278796233798\n",
      "Errors(2) for Mechanism-2: 0.2 Tolerance: 25 0.301318467946 0.278796233798\n",
      "(2) MSE Mechansim-2: 0.168520159106\n"
     ]
    }
   ],
   "source": [
    "classifier = KernelRidge(alpha=0.1)\n",
    "obs_labels = get_predictions(classifier,2,test_data_2_values)\n",
    "\n",
    "print 'Lambda:0.1'\n",
    "error_1,mean_1,std_1 = get_error_metric(ERROR_THRESHOLD_1,test_data_2_labels,obs_labels)\n",
    "error_2,mean_2,std_2 = get_error_metric(ERROR_THRESHOLD_2,test_data_2_labels,obs_labels)\n",
    "error_3,mean_3,std_3 = get_error_metric(ERROR_THRESHOLD_3,test_data_2_labels,obs_labels)\n",
    "print 'Errors(2) for Mechanism-2: Zero Tolerance:',error_1,mean_1,std_1\n",
    "print 'Errors(2) for Mechanism-2: 0.1 Tolerance:',error_2,mean_2,std_2\n",
    "print 'Errors(2) for Mechanism-2: 0.2 Tolerance:',error_3,mean_3,std_3\n",
    "print '(2) MSE Mechansim-2:',get_mean_squared_error(test_data_2_labels,obs_labels)"
   ]
  },
  {
   "cell_type": "code",
   "execution_count": 75,
   "metadata": {
    "collapsed": false
   },
   "outputs": [
    {
     "name": "stdout",
     "output_type": "stream",
     "text": [
      "Lambda:0.02\n",
      "Errors(2) for Mechanism-2: Zero Tolerance: 100 0.301318762971 0.278796028695\n",
      "Errors(2) for Mechanism-2: 0.1 Tolerance: 55 0.301318762971 0.278796028695\n",
      "Errors(2) for Mechanism-2: 0.2 Tolerance: 25 0.301318762971 0.278796028695\n",
      "(2) MSE Mechansim-2: 0.168520222535\n"
     ]
    }
   ],
   "source": [
    "classifier = KernelRidge(alpha=0.02)\n",
    "obs_labels = get_predictions(classifier,2,test_data_2_values)\n",
    "\n",
    "print 'Lambda:0.02'\n",
    "error_1,mean_1,std_1 = get_error_metric(ERROR_THRESHOLD_1,test_data_2_labels,obs_labels)\n",
    "error_2,mean_2,std_2 = get_error_metric(ERROR_THRESHOLD_2,test_data_2_labels,obs_labels)\n",
    "error_3,mean_3,std_3 = get_error_metric(ERROR_THRESHOLD_3,test_data_2_labels,obs_labels)\n",
    "print 'Errors(2) for Mechanism-2: Zero Tolerance:',error_1,mean_1,std_1\n",
    "print 'Errors(2) for Mechanism-2: 0.1 Tolerance:',error_2,mean_2,std_2\n",
    "print 'Errors(2) for Mechanism-2: 0.2 Tolerance:',error_3,mean_3,std_3\n",
    "print '(2) MSE Mechansim-2:',get_mean_squared_error(test_data_2_labels,obs_labels)"
   ]
  },
  {
   "cell_type": "code",
   "execution_count": 76,
   "metadata": {
    "collapsed": false
   },
   "outputs": [
    {
     "name": "stdout",
     "output_type": "stream",
     "text": [
      "Lambda:0.002\n",
      "Errors(2) for Mechanism-2: Zero Tolerance: 100 0.301318829352 0.278795982571\n",
      "Errors(2) for Mechanism-2: 0.1 Tolerance: 55 0.301318829352 0.278795982571\n",
      "Errors(2) for Mechanism-2: 0.2 Tolerance: 25 0.301318829352 0.278795982571\n",
      "(2) MSE Mechansim-2: 0.168520236819\n"
     ]
    }
   ],
   "source": [
    "classifier = KernelRidge(alpha=0.002)\n",
    "obs_labels = get_predictions(classifier,2,test_data_2_values)\n",
    "\n",
    "print 'Lambda:0.002'\n",
    "error_1,mean_1,std_1 = get_error_metric(ERROR_THRESHOLD_1,test_data_2_labels,obs_labels)\n",
    "error_2,mean_2,std_2 = get_error_metric(ERROR_THRESHOLD_2,test_data_2_labels,obs_labels)\n",
    "error_3,mean_3,std_3 = get_error_metric(ERROR_THRESHOLD_3,test_data_2_labels,obs_labels)\n",
    "print 'Errors(2) for Mechanism-2: Zero Tolerance:',error_1,mean_1,std_1\n",
    "print 'Errors(2) for Mechanism-2: 0.1 Tolerance:',error_2,mean_2,std_2\n",
    "print 'Errors(2) for Mechanism-2: 0.2 Tolerance:',error_3,mean_3,std_3\n",
    "print '(2) MSE Mechansim-2:',get_mean_squared_error(test_data_2_labels,obs_labels)"
   ]
  },
  {
   "cell_type": "code",
   "execution_count": null,
   "metadata": {
    "collapsed": true
   },
   "outputs": [],
   "source": []
  }
 ],
 "metadata": {
  "kernelspec": {
   "display_name": "Python 2",
   "language": "python",
   "name": "python2"
  },
  "language_info": {
   "codemirror_mode": {
    "name": "ipython",
    "version": 2
   },
   "file_extension": ".py",
   "mimetype": "text/x-python",
   "name": "python",
   "nbconvert_exporter": "python",
   "pygments_lexer": "ipython2",
   "version": "2.7.11"
  }
 },
 "nbformat": 4,
 "nbformat_minor": 0
}
