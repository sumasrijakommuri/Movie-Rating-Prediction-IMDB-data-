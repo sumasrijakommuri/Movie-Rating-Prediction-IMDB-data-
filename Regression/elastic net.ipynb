{
 "cells": [
  {
   "cell_type": "code",
   "execution_count": 1,
   "metadata": {
    "collapsed": false
   },
   "outputs": [],
   "source": [
    "import csv\n",
    "\n",
    "from sklearn.linear_model import ElasticNet\n",
    "import numpy as np\n",
    "from sklearn.metrics import mean_squared_error\n",
    "\n",
    "import warnings\n",
    "warnings.filterwarnings('ignore')\n",
    "\n",
    "TEST_DATA_FILE_1 = \"test_data_1.csv\"\n",
    "TEST_DATA_FILE_2 = \"test_data_2.csv\"\n",
    "TRAIN_DATA_FILE_1 = \"train_data_1.csv\"\n",
    "TRAIN_DATA_FILE_2 = \"train_data_2.csv\"\n",
    "PROD_INDEX = 6\n",
    "DIR_INDEX = 5\n",
    "ERROR_THRESHOLD_1 = 0\n",
    "ERROR_THRESHOLD_2 = 0.2\n",
    "ERROR_THRESHOLD_3 = 0.4"
   ]
  },
  {
   "cell_type": "code",
   "execution_count": 2,
   "metadata": {
    "collapsed": false
   },
   "outputs": [],
   "source": [
    "def read_data_file(filename):    \n",
    "    data_file = file(filename, 'r')\n",
    "    data = csv.reader(data_file, delimiter=',')\n",
    "    labels = []\n",
    "    values = []\n",
    "    for row in data:\n",
    "        value = []\n",
    "        prod_value = 0\n",
    "        writer_value = 0\n",
    "        for index in range(1,PROD_INDEX):\n",
    "            value.append(float(row[index]))\n",
    "        for index in range(PROD_INDEX + 1,PROD_INDEX + int(row[PROD_INDEX]) + 1):\n",
    "            prod_value = max(float(row[index]),prod_value)\n",
    "        value.append(prod_value)\n",
    "        WRITER_INDEX = PROD_INDEX + int(row[PROD_INDEX]) + 1\n",
    "        for index in range(WRITER_INDEX+1,len(row)):\n",
    "            writer_value = max(float(row[index]),writer_value)\n",
    "        value.append(writer_value)\n",
    "        labels.append(float(row[0]))\n",
    "        values.append(value)\n",
    "    print 'Done Reading File',filename\n",
    "    return labels,values"
   ]
  },
  {
   "cell_type": "code",
   "execution_count": 3,
   "metadata": {
    "collapsed": false
   },
   "outputs": [
    {
     "name": "stdout",
     "output_type": "stream",
     "text": [
      "Done Reading File train_data_1.csv\n",
      "Done Reading File train_data_2.csv\n",
      "Done Reading File test_data_1.csv\n",
      "Done Reading File test_data_2.csv\n"
     ]
    }
   ],
   "source": [
    "train_data_1_labels, train_data_1_values = read_data_file(TRAIN_DATA_FILE_1)\n",
    "train_data_2_labels, train_data_2_values = read_data_file(TRAIN_DATA_FILE_2)\n",
    "\n",
    "test_data_1_labels, test_data_1_values = read_data_file(TEST_DATA_FILE_1)\n",
    "test_data_2_labels, test_data_2_values = read_data_file(TEST_DATA_FILE_2)"
   ]
  },
  {
   "cell_type": "code",
   "execution_count": 4,
   "metadata": {
    "collapsed": true
   },
   "outputs": [],
   "source": [
    "def get_error_metric(threshold,actual_labels,predicted_labels):\n",
    "    error_count = 0\n",
    "    errors = np.zeros(len(actual_labels))\n",
    "    for index in range(0,len(actual_labels)):\n",
    "        errors[index] = (abs(float(actual_labels[index])-float(predicted_labels[index])))\n",
    "        if abs(float(actual_labels[index])-float(predicted_labels[index])) > threshold:\n",
    "            error_count +=1\n",
    "    return error_count*100/len(actual_labels),np.mean(errors),np.std(errors)\n",
    "\n",
    "def get_mean_squared_error(actual_labels,predicted_labels):\n",
    "    return mean_squared_error(actual_labels,predicted_labels)"
   ]
  },
  {
   "cell_type": "code",
   "execution_count": 5,
   "metadata": {
    "collapsed": false
   },
   "outputs": [],
   "source": [
    "def get_predictions(classifier,val,data):\n",
    "    if val==1:\n",
    "        X = np.asarray(train_data_1_values)\n",
    "        Y = np.asarray(train_data_1_labels)\n",
    "    else:\n",
    "        X = np.asarray(train_data_2_values)\n",
    "        Y = np.asarray(train_data_2_labels)\n",
    "    classifier.fit(X,Y)\n",
    "    return classifier.predict(data)"
   ]
  },
  {
   "cell_type": "code",
   "execution_count": 6,
   "metadata": {
    "collapsed": false
   },
   "outputs": [
    {
     "name": "stdout",
     "output_type": "stream",
     "text": [
      "Lambda:1\n",
      "Errors for Mechanism-1: Zero Tolerance: 100 0.578906615082 0.453356999044\n",
      "Errors for Mechanism-1: 0.1 Tolerance: 78 0.578906615082 0.453356999044\n",
      "Errors for Mechanism-1: 0.2 Tolerance: 58 0.578906615082 0.453356999044\n",
      "MSE Mechansim-1: 0.540665437567\n"
     ]
    }
   ],
   "source": [
    "classifier = ElasticNet()\n",
    "obs_labels = get_predictions(classifier,1,test_data_1_values)\n",
    "\n",
    "print 'Lambda:1'\n",
    "error_1,mean_1,std_1 = get_error_metric(ERROR_THRESHOLD_1,test_data_1_labels,obs_labels)\n",
    "error_2,mean_2,std_2 = get_error_metric(ERROR_THRESHOLD_2,test_data_1_labels,obs_labels)\n",
    "error_3,mean_3,std_3 = get_error_metric(ERROR_THRESHOLD_3,test_data_1_labels,obs_labels)\n",
    "print 'Errors for Mechanism-1: Zero Tolerance:',error_1,mean_1,std_1\n",
    "print 'Errors for Mechanism-1: 0.1 Tolerance:',error_2,mean_2,std_2\n",
    "print 'Errors for Mechanism-1: 0.2 Tolerance:',error_3,mean_3,std_3\n",
    "print 'MSE Mechansim-1:',get_mean_squared_error(test_data_1_labels,obs_labels)"
   ]
  },
  {
   "cell_type": "code",
   "execution_count": 7,
   "metadata": {
    "collapsed": false
   },
   "outputs": [
    {
     "name": "stdout",
     "output_type": "stream",
     "text": [
      "Lambda:0.1\n",
      "Errors for Mechanism-1: Zero Tolerance: 100 0.28135262735 0.280544236485\n",
      "Errors for Mechanism-1: 0.1 Tolerance: 49 0.28135262735 0.280544236485\n",
      "Errors for Mechanism-1: 0.2 Tolerance: 24 0.28135262735 0.280544236485\n",
      "MSE Mechansim-1: 0.157864369542\n",
      "Lambda:-1\n",
      "Errors for Mechanism-1: Zero Tolerance: 100 0.850173415149 0.660573005044\n",
      "Errors for Mechanism-1: 0.1 Tolerance: 85 0.850173415149 0.660573005044\n",
      "Errors for Mechanism-1: 0.2 Tolerance: 70 0.850173415149 0.660573005044\n",
      "MSE Mechansim-1: 1.15915153082\n"
     ]
    }
   ],
   "source": [
    "classifier = ElasticNet(alpha=0.1)\n",
    "obs_labels = get_predictions(classifier,1,test_data_1_values)\n",
    "\n",
    "print 'Lambda:0.1'\n",
    "error_1,mean_1,std_1 = get_error_metric(ERROR_THRESHOLD_1,test_data_1_labels,obs_labels)\n",
    "error_2,mean_2,std_2 = get_error_metric(ERROR_THRESHOLD_2,test_data_1_labels,obs_labels)\n",
    "error_3,mean_3,std_3 = get_error_metric(ERROR_THRESHOLD_3,test_data_1_labels,obs_labels)\n",
    "print 'Errors for Mechanism-1: Zero Tolerance:',error_1,mean_1,std_1\n",
    "print 'Errors for Mechanism-1: 0.1 Tolerance:',error_2,mean_2,std_2\n",
    "print 'Errors for Mechanism-1: 0.2 Tolerance:',error_3,mean_3,std_3\n",
    "print 'MSE Mechansim-1:',get_mean_squared_error(test_data_1_labels,obs_labels)\n",
    "\n",
    "classifier = ElasticNet(alpha=-1)\n",
    "obs_labels = get_predictions(classifier,1,test_data_1_values)\n",
    "\n",
    "print 'Lambda:-1'\n",
    "error_1,mean_1,std_1 = get_error_metric(ERROR_THRESHOLD_1,test_data_1_labels,obs_labels)\n",
    "error_2,mean_2,std_2 = get_error_metric(ERROR_THRESHOLD_2,test_data_1_labels,obs_labels)\n",
    "error_3,mean_3,std_3 = get_error_metric(ERROR_THRESHOLD_3,test_data_1_labels,obs_labels)\n",
    "print 'Errors for Mechanism-1: Zero Tolerance:',error_1,mean_1,std_1\n",
    "print 'Errors for Mechanism-1: 0.1 Tolerance:',error_2,mean_2,std_2\n",
    "print 'Errors for Mechanism-1: 0.2 Tolerance:',error_3,mean_3,std_3\n",
    "print 'MSE Mechansim-1:',get_mean_squared_error(test_data_1_labels,obs_labels)"
   ]
  },
  {
   "cell_type": "code",
   "execution_count": 8,
   "metadata": {
    "collapsed": false
   },
   "outputs": [
    {
     "name": "stdout",
     "output_type": "stream",
     "text": [
      "Lambda:0.01\n",
      "Errors for Mechanism-1: Zero Tolerance: 100 0.280528879312 0.272417264479\n",
      "Errors for Mechanism-1: 0.1 Tolerance: 49 0.280528879312 0.272417264479\n",
      "Errors for Mechanism-1: 0.2 Tolerance: 24 0.280528879312 0.272417264479\n",
      "MSE Mechansim-1: 0.152907618114\n",
      "Lambda:2\n",
      "Errors for Mechanism-1: Zero Tolerance: 100 0.850173415149 0.660573005044\n",
      "Errors for Mechanism-1: 0.1 Tolerance: 85 0.850173415149 0.660573005044\n",
      "Errors for Mechanism-1: 0.2 Tolerance: 70 0.850173415149 0.660573005044\n",
      "MSE Mechansim-1: 1.15915153082\n"
     ]
    }
   ],
   "source": [
    "classifier = ElasticNet(alpha=0.01)\n",
    "obs_labels = get_predictions(classifier,1,test_data_1_values)\n",
    "\n",
    "print 'Lambda:0.01'\n",
    "error_1,mean_1,std_1 = get_error_metric(ERROR_THRESHOLD_1,test_data_1_labels,obs_labels)\n",
    "error_2,mean_2,std_2 = get_error_metric(ERROR_THRESHOLD_2,test_data_1_labels,obs_labels)\n",
    "error_3,mean_3,std_3 = get_error_metric(ERROR_THRESHOLD_3,test_data_1_labels,obs_labels)\n",
    "print 'Errors for Mechanism-1: Zero Tolerance:',error_1,mean_1,std_1\n",
    "print 'Errors for Mechanism-1: 0.1 Tolerance:',error_2,mean_2,std_2\n",
    "print 'Errors for Mechanism-1: 0.2 Tolerance:',error_3,mean_3,std_3\n",
    "print 'MSE Mechansim-1:',get_mean_squared_error(test_data_1_labels,obs_labels)\n",
    "\n",
    "classifier = ElasticNet(alpha=2)\n",
    "obs_labels = get_predictions(classifier,1,test_data_1_values)\n",
    "\n",
    "print 'Lambda:2'\n",
    "error_1,mean_1,std_1 = get_error_metric(ERROR_THRESHOLD_1,test_data_1_labels,obs_labels)\n",
    "error_2,mean_2,std_2 = get_error_metric(ERROR_THRESHOLD_2,test_data_1_labels,obs_labels)\n",
    "error_3,mean_3,std_3 = get_error_metric(ERROR_THRESHOLD_3,test_data_1_labels,obs_labels)\n",
    "print 'Errors for Mechanism-1: Zero Tolerance:',error_1,mean_1,std_1\n",
    "print 'Errors for Mechanism-1: 0.1 Tolerance:',error_2,mean_2,std_2\n",
    "print 'Errors for Mechanism-1: 0.2 Tolerance:',error_3,mean_3,std_3\n",
    "print 'MSE Mechansim-1:',get_mean_squared_error(test_data_1_labels,obs_labels)    "
   ]
  },
  {
   "cell_type": "code",
   "execution_count": 9,
   "metadata": {
    "collapsed": false
   },
   "outputs": [
    {
     "name": "stdout",
     "output_type": "stream",
     "text": [
      "Lambda:-2\n",
      "Errors for Mechanism-1: Zero Tolerance: 100 0.850173415149 0.660573005044\n",
      "Errors for Mechanism-1: 0.1 Tolerance: 85 0.850173415149 0.660573005044\n",
      "Errors for Mechanism-1: 0.2 Tolerance: 70 0.850173415149 0.660573005044\n",
      "MSE Mechansim-1: 1.15915153082\n"
     ]
    }
   ],
   "source": [
    "classifier = ElasticNet(alpha=-2)\n",
    "obs_labels = get_predictions(classifier,1,test_data_1_values)\n",
    "\n",
    "print 'Lambda:-2'\n",
    "error_1,mean_1,std_1 = get_error_metric(ERROR_THRESHOLD_1,test_data_1_labels,obs_labels)\n",
    "error_2,mean_2,std_2 = get_error_metric(ERROR_THRESHOLD_2,test_data_1_labels,obs_labels)\n",
    "error_3,mean_3,std_3 = get_error_metric(ERROR_THRESHOLD_3,test_data_1_labels,obs_labels)\n",
    "print 'Errors for Mechanism-1: Zero Tolerance:',error_1,mean_1,std_1\n",
    "print 'Errors for Mechanism-1: 0.1 Tolerance:',error_2,mean_2,std_2\n",
    "print 'Errors for Mechanism-1: 0.2 Tolerance:',error_3,mean_3,std_3\n",
    "print 'MSE Mechansim-1:',get_mean_squared_error(test_data_1_labels,obs_labels)"
   ]
  },
  {
   "cell_type": "code",
   "execution_count": 10,
   "metadata": {
    "collapsed": false
   },
   "outputs": [
    {
     "name": "stdout",
     "output_type": "stream",
     "text": [
      "Lambda:1\n",
      "Errors for Mechanism-2: Zero Tolerance: 100 0.639909654312 0.529049980337\n",
      "Errors for Mechanism-2: 0.1 Tolerance: 79 0.639909654312 0.529049980337\n",
      "Errors for Mechanism-2: 0.2 Tolerance: 60 0.639909654312 0.529049980337\n",
      "MSE Mechansim-2: 0.689378247377\n"
     ]
    }
   ],
   "source": [
    "classifier = ElasticNet()\n",
    "obs_labels = get_predictions(classifier,2,test_data_2_values)\n",
    "\n",
    "print 'Lambda:1'\n",
    "error_1,mean_1,std_1 = get_error_metric(ERROR_THRESHOLD_1,test_data_2_labels,obs_labels)\n",
    "error_2,mean_2,std_2 = get_error_metric(ERROR_THRESHOLD_2,test_data_2_labels,obs_labels)\n",
    "error_3,mean_3,std_3 = get_error_metric(ERROR_THRESHOLD_3,test_data_2_labels,obs_labels)\n",
    "print 'Errors for Mechanism-2: Zero Tolerance:',error_1,mean_1,std_1\n",
    "print 'Errors for Mechanism-2: 0.1 Tolerance:',error_2,mean_2,std_2\n",
    "print 'Errors for Mechanism-2: 0.2 Tolerance:',error_3,mean_3,std_3\n",
    "print 'MSE Mechansim-2:',get_mean_squared_error(test_data_2_labels,obs_labels)"
   ]
  },
  {
   "cell_type": "code",
   "execution_count": 11,
   "metadata": {
    "collapsed": false
   },
   "outputs": [
    {
     "name": "stdout",
     "output_type": "stream",
     "text": [
      "Lambda:-1\n",
      "Errors for Mechanism-2: Zero Tolerance: 100 0.867761932636 0.71859028245\n",
      "Errors for Mechanism-2: 0.1 Tolerance: 84 0.867761932636 0.71859028245\n",
      "Errors for Mechanism-2: 0.2 Tolerance: 69 0.867761932636 0.71859028245\n",
      "MSE Mechansim-2: 1.26938276576\n"
     ]
    }
   ],
   "source": [
    "classifier = ElasticNet(alpha=-1)\n",
    "obs_labels = get_predictions(classifier,2,test_data_2_values)\n",
    "\n",
    "print 'Lambda:-1'\n",
    "error_1,mean_1,std_1 = get_error_metric(ERROR_THRESHOLD_1,test_data_2_labels,obs_labels)\n",
    "error_2,mean_2,std_2 = get_error_metric(ERROR_THRESHOLD_2,test_data_2_labels,obs_labels)\n",
    "error_3,mean_3,std_3 = get_error_metric(ERROR_THRESHOLD_3,test_data_2_labels,obs_labels)\n",
    "print 'Errors for Mechanism-2: Zero Tolerance:',error_1,mean_1,std_1\n",
    "print 'Errors for Mechanism-2: 0.1 Tolerance:',error_2,mean_2,std_2\n",
    "print 'Errors for Mechanism-2: 0.2 Tolerance:',error_3,mean_3,std_3\n",
    "print 'MSE Mechansim-2:',get_mean_squared_error(test_data_2_labels,obs_labels)       "
   ]
  },
  {
   "cell_type": "code",
   "execution_count": 12,
   "metadata": {
    "collapsed": false
   },
   "outputs": [
    {
     "name": "stdout",
     "output_type": "stream",
     "text": [
      "Lambda:2\n",
      "Errors for Mechanism-2: Zero Tolerance: 100 0.867761932636 0.71859028245\n",
      "Errors for Mechanism-2: 0.1 Tolerance: 84 0.867761932636 0.71859028245\n",
      "Errors for Mechanism-2: 0.2 Tolerance: 69 0.867761932636 0.71859028245\n",
      "MSE Mechansim-2: 1.26938276576\n",
      "Lambda:-2\n",
      "Errors for Mechanism-2: Zero Tolerance: 100 0.867761932636 0.71859028245\n",
      "Errors for Mechanism-2: 0.1 Tolerance: 84 0.867761932636 0.71859028245\n",
      "Errors for Mechanism-2: 0.2 Tolerance: 69 0.867761932636 0.71859028245\n",
      "MSE Mechansim-2: 1.26938276576\n"
     ]
    }
   ],
   "source": [
    "classifier = ElasticNet(alpha=2)\n",
    "obs_labels = get_predictions(classifier,2,test_data_2_values)\n",
    "\n",
    "print 'Lambda:2'\n",
    "error_1,mean_1,std_1 = get_error_metric(ERROR_THRESHOLD_1,test_data_2_labels,obs_labels)\n",
    "error_2,mean_2,std_2 = get_error_metric(ERROR_THRESHOLD_2,test_data_2_labels,obs_labels)\n",
    "error_3,mean_3,std_3 = get_error_metric(ERROR_THRESHOLD_3,test_data_2_labels,obs_labels)\n",
    "print 'Errors for Mechanism-2: Zero Tolerance:',error_1,mean_1,std_1\n",
    "print 'Errors for Mechanism-2: 0.1 Tolerance:',error_2,mean_2,std_2\n",
    "print 'Errors for Mechanism-2: 0.2 Tolerance:',error_3,mean_3,std_3\n",
    "print 'MSE Mechansim-2:',get_mean_squared_error(test_data_2_labels,obs_labels)  \n",
    "\n",
    "classifier = ElasticNet(alpha=-2)\n",
    "obs_labels = get_predictions(classifier,2,test_data_2_values)\n",
    "\n",
    "print 'Lambda:-2'\n",
    "error_1,mean_1,std_1 = get_error_metric(ERROR_THRESHOLD_1,test_data_2_labels,obs_labels)\n",
    "error_2,mean_2,std_2 = get_error_metric(ERROR_THRESHOLD_2,test_data_2_labels,obs_labels)\n",
    "error_3,mean_3,std_3 = get_error_metric(ERROR_THRESHOLD_3,test_data_2_labels,obs_labels)\n",
    "print 'Errors for Mechanism-2: Zero Tolerance:',error_1,mean_1,std_1\n",
    "print 'Errors for Mechanism-2: 0.1 Tolerance:',error_2,mean_2,std_2\n",
    "print 'Errors for Mechanism-2: 0.2 Tolerance:',error_3,mean_3,std_3\n",
    "print 'MSE Mechansim-2:',get_mean_squared_error(test_data_2_labels,obs_labels)\n"
   ]
  },
  {
   "cell_type": "code",
   "execution_count": 13,
   "metadata": {
    "collapsed": false
   },
   "outputs": [
    {
     "name": "stdout",
     "output_type": "stream",
     "text": [
      "Done Reading File train_data_1.csv\n",
      "Done Reading File train_data_2.csv\n",
      "Done Reading File test_data_1.csv\n",
      "Done Reading File test_data_2.csv\n"
     ]
    }
   ],
   "source": [
    "\n",
    "avg_rating = 6.031\n",
    "\n",
    "def read_data_file_2(filename):    \n",
    "    data_file = file(filename, 'r')\n",
    "    data = csv.reader(data_file, delimiter=',')\n",
    "    labels = []\n",
    "    values = []\n",
    "    for row in data:\n",
    "        value = []\n",
    "        prod_value = 0\n",
    "        writer_value = 0\n",
    "        for index in range(1,PROD_INDEX):\n",
    "            value.append(float(row[index]))\n",
    "        for index in range(PROD_INDEX + 1,PROD_INDEX + int(row[PROD_INDEX]) + 1):\n",
    "            prod_value = max(float(row[index]),prod_value)\n",
    "        value.append(prod_value)\n",
    "        WRITER_INDEX = PROD_INDEX + int(row[PROD_INDEX]) + 1\n",
    "        for index in range(WRITER_INDEX+1,len(row)):\n",
    "            writer_value = max(float(row[index]),writer_value)\n",
    "        value.append(writer_value)\n",
    "        labels.append(float(row[0])-avg_rating)\n",
    "        values.append(value)\n",
    "    print 'Done Reading File',filename\n",
    "    return labels,values\n",
    "\n",
    "train_data_1_labels, train_data_1_values = read_data_file_2(TRAIN_DATA_FILE_1)\n",
    "train_data_2_labels, train_data_2_values = read_data_file_2(TRAIN_DATA_FILE_2)\n",
    "\n",
    "test_data_1_labels, test_data_1_values = read_data_file_2(TEST_DATA_FILE_1)\n",
    "test_data_2_labels, test_data_2_values = read_data_file_2(TEST_DATA_FILE_2)"
   ]
  },
  {
   "cell_type": "code",
   "execution_count": 14,
   "metadata": {
    "collapsed": false
   },
   "outputs": [
    {
     "name": "stdout",
     "output_type": "stream",
     "text": [
      "Lambda:1\n",
      "Errors(2) for Mechanism-1: Zero Tolerance: 100 0.578906615082 0.453356999044\n",
      "Errors(2) for Mechanism-1: 0.1 Tolerance: 78 0.578906615082 0.453356999044\n",
      "Errors(2) for Mechanism-1: 0.2 Tolerance: 58 0.578906615082 0.453356999044\n",
      "(2) MSE Mechansim-1: 0.540665437567\n"
     ]
    }
   ],
   "source": [
    "classifier = ElasticNet()\n",
    "obs_labels = get_predictions(classifier,1,test_data_1_values)\n",
    "\n",
    "print 'Lambda:1'\n",
    "error_1,mean_1,std_1 = get_error_metric(ERROR_THRESHOLD_1,test_data_1_labels,obs_labels)\n",
    "error_2,mean_2,std_2 = get_error_metric(ERROR_THRESHOLD_2,test_data_1_labels,obs_labels)\n",
    "error_3,mean_3,std_3 = get_error_metric(ERROR_THRESHOLD_3,test_data_1_labels,obs_labels)\n",
    "print 'Errors(2) for Mechanism-1: Zero Tolerance:',error_1,mean_1,std_1\n",
    "print 'Errors(2) for Mechanism-1: 0.1 Tolerance:',error_2,mean_2,std_2\n",
    "print 'Errors(2) for Mechanism-1: 0.2 Tolerance:',error_3,mean_3,std_3\n",
    "print '(2) MSE Mechansim-1:',get_mean_squared_error(test_data_1_labels,obs_labels)\n"
   ]
  },
  {
   "cell_type": "code",
   "execution_count": 15,
   "metadata": {
    "collapsed": false
   },
   "outputs": [
    {
     "name": "stdout",
     "output_type": "stream",
     "text": [
      "Lambda:0.01\n",
      "Errors(2) for Mechanism-1: Zero Tolerance: 100 0.280528879312 0.272417264479\n",
      "Errors(2) for Mechanism-1: 0.1 Tolerance: 49 0.280528879312 0.272417264479\n",
      "Errors(2) for Mechanism-1: 0.2 Tolerance: 24 0.280528879312 0.272417264479\n",
      "(2) MSE Mechansim-1: 0.152907618114\n",
      "Lambda:-1\n",
      "Errors(2) for Mechanism-1: Zero Tolerance: 100 0.850173415149 0.660573005044\n",
      "Errors(2) for Mechanism-1: 0.1 Tolerance: 85 0.850173415149 0.660573005044\n",
      "Errors(2) for Mechanism-1: 0.2 Tolerance: 70 0.850173415149 0.660573005044\n",
      "(2) MSE Mechansim-1: 1.15915153082\n"
     ]
    }
   ],
   "source": [
    "classifier = ElasticNet(alpha=0.01)\n",
    "obs_labels = get_predictions(classifier,1,test_data_1_values)\n",
    "\n",
    "print 'Lambda:0.01'\n",
    "error_1,mean_1,std_1 = get_error_metric(ERROR_THRESHOLD_1,test_data_1_labels,obs_labels)\n",
    "error_2,mean_2,std_2 = get_error_metric(ERROR_THRESHOLD_2,test_data_1_labels,obs_labels)\n",
    "error_3,mean_3,std_3 = get_error_metric(ERROR_THRESHOLD_3,test_data_1_labels,obs_labels)\n",
    "print 'Errors(2) for Mechanism-1: Zero Tolerance:',error_1,mean_1,std_1\n",
    "print 'Errors(2) for Mechanism-1: 0.1 Tolerance:',error_2,mean_2,std_2\n",
    "print 'Errors(2) for Mechanism-1: 0.2 Tolerance:',error_3,mean_3,std_3\n",
    "print '(2) MSE Mechansim-1:',get_mean_squared_error(test_data_1_labels,obs_labels)\n",
    "\n",
    "classifier = ElasticNet(alpha=-1)\n",
    "obs_labels = get_predictions(classifier,1,test_data_1_values)\n",
    "\n",
    "print 'Lambda:-1'\n",
    "error_1,mean_1,std_1 = get_error_metric(ERROR_THRESHOLD_1,test_data_1_labels,obs_labels)\n",
    "error_2,mean_2,std_2 = get_error_metric(ERROR_THRESHOLD_2,test_data_1_labels,obs_labels)\n",
    "error_3,mean_3,std_3 = get_error_metric(ERROR_THRESHOLD_3,test_data_1_labels,obs_labels)\n",
    "print 'Errors(2) for Mechanism-1: Zero Tolerance:',error_1,mean_1,std_1\n",
    "print 'Errors(2) for Mechanism-1: 0.1 Tolerance:',error_2,mean_2,std_2\n",
    "print 'Errors(2) for Mechanism-1: 0.2 Tolerance:',error_3,mean_3,std_3\n",
    "print '(2) MSE Mechansim-1:',get_mean_squared_error(test_data_1_labels,obs_labels)"
   ]
  },
  {
   "cell_type": "code",
   "execution_count": 16,
   "metadata": {
    "collapsed": false
   },
   "outputs": [
    {
     "name": "stdout",
     "output_type": "stream",
     "text": [
      "Lambda:0.001\n",
      "Errors(2) for Mechanism-1: Zero Tolerance: 100 0.280909486191 0.271944778358\n",
      "Errors(2) for Mechanism-1: 0.1 Tolerance: 50 0.280909486191 0.271944778358\n",
      "Errors(2) for Mechanism-1: 0.2 Tolerance: 24 0.280909486191 0.271944778358\n",
      "(2) MSE Mechansim-1: 0.152864101908\n",
      "Lambda:2\n",
      "Errors(2) for Mechanism-1: Zero Tolerance: 100 0.850173415149 0.660573005044\n",
      "Errors(2) for Mechanism-1: 0.1 Tolerance: 85 0.850173415149 0.660573005044\n",
      "Errors(2) for Mechanism-1: 0.2 Tolerance: 70 0.850173415149 0.660573005044\n",
      "(2) MSE Mechansim-1: 1.15915153082\n"
     ]
    }
   ],
   "source": [
    "classifier = ElasticNet(alpha=0.001)\n",
    "obs_labels = get_predictions(classifier,1,test_data_1_values)\n",
    "\n",
    "print 'Lambda:0.001'\n",
    "error_1,mean_1,std_1 = get_error_metric(ERROR_THRESHOLD_1,test_data_1_labels,obs_labels)\n",
    "error_2,mean_2,std_2 = get_error_metric(ERROR_THRESHOLD_2,test_data_1_labels,obs_labels)\n",
    "error_3,mean_3,std_3 = get_error_metric(ERROR_THRESHOLD_3,test_data_1_labels,obs_labels)\n",
    "print 'Errors(2) for Mechanism-1: Zero Tolerance:',error_1,mean_1,std_1\n",
    "print 'Errors(2) for Mechanism-1: 0.1 Tolerance:',error_2,mean_2,std_2\n",
    "print 'Errors(2) for Mechanism-1: 0.2 Tolerance:',error_3,mean_3,std_3\n",
    "print '(2) MSE Mechansim-1:',get_mean_squared_error(test_data_1_labels,obs_labels)\n",
    "\n",
    "classifier = ElasticNet(alpha=2)\n",
    "obs_labels = get_predictions(classifier,1,test_data_1_values)\n",
    "\n",
    "print 'Lambda:2'\n",
    "error_1,mean_1,std_1 = get_error_metric(ERROR_THRESHOLD_1,test_data_1_labels,obs_labels)\n",
    "error_2,mean_2,std_2 = get_error_metric(ERROR_THRESHOLD_2,test_data_1_labels,obs_labels)\n",
    "error_3,mean_3,std_3 = get_error_metric(ERROR_THRESHOLD_3,test_data_1_labels,obs_labels)\n",
    "print 'Errors(2) for Mechanism-1: Zero Tolerance:',error_1,mean_1,std_1\n",
    "print 'Errors(2) for Mechanism-1: 0.1 Tolerance:',error_2,mean_2,std_2\n",
    "print 'Errors(2) for Mechanism-1: 0.2 Tolerance:',error_3,mean_3,std_3\n",
    "print '(2) MSE Mechansim-1:',get_mean_squared_error(test_data_1_labels,obs_labels)\n"
   ]
  },
  {
   "cell_type": "code",
   "execution_count": 17,
   "metadata": {
    "collapsed": false
   },
   "outputs": [
    {
     "name": "stdout",
     "output_type": "stream",
     "text": [
      "Lambda:-2\n",
      "Errors(2) for Mechanism-1: Zero Tolerance: 100 0.850173415149 0.660573005044\n",
      "Errors(2) for Mechanism-1: 0.1 Tolerance: 85 0.850173415149 0.660573005044\n",
      "Errors(2) for Mechanism-1: 0.2 Tolerance: 70 0.850173415149 0.660573005044\n",
      "(2) MSE Mechansim-1: 1.15915153082\n"
     ]
    }
   ],
   "source": [
    "classifier = ElasticNet(alpha=-2)\n",
    "obs_labels = get_predictions(classifier,1,test_data_1_values)\n",
    "\n",
    "print 'Lambda:-2'\n",
    "error_1,mean_1,std_1 = get_error_metric(ERROR_THRESHOLD_1,test_data_1_labels,obs_labels)\n",
    "error_2,mean_2,std_2 = get_error_metric(ERROR_THRESHOLD_2,test_data_1_labels,obs_labels)\n",
    "error_3,mean_3,std_3 = get_error_metric(ERROR_THRESHOLD_3,test_data_1_labels,obs_labels)\n",
    "print 'Errors(2) for Mechanism-1: Zero Tolerance:',error_1,mean_1,std_1\n",
    "print 'Errors(2) for Mechanism-1: 0.1 Tolerance:',error_2,mean_2,std_2\n",
    "print 'Errors(2) for Mechanism-1: 0.2 Tolerance:',error_3,mean_3,std_3\n",
    "print '(2) MSE Mechansim-1:',get_mean_squared_error(test_data_1_labels,obs_labels)"
   ]
  },
  {
   "cell_type": "code",
   "execution_count": 18,
   "metadata": {
    "collapsed": false
   },
   "outputs": [
    {
     "name": "stdout",
     "output_type": "stream",
     "text": [
      "Lambda:1\n",
      "Errors(2) for Mechanism-2: Zero Tolerance: 100 0.639909654312 0.529049980337\n",
      "Errors(2) for Mechanism-2: 0.1 Tolerance: 79 0.639909654312 0.529049980337\n",
      "Errors(2) for Mechanism-2: 0.2 Tolerance: 60 0.639909654312 0.529049980337\n",
      "(2) MSE Mechansim-2: 0.689378247377\n"
     ]
    }
   ],
   "source": [
    "classifier = ElasticNet()\n",
    "obs_labels = get_predictions(classifier,2,test_data_2_values)\n",
    "\n",
    "print 'Lambda:1'\n",
    "error_1,mean_1,std_1 = get_error_metric(ERROR_THRESHOLD_1,test_data_2_labels,obs_labels)\n",
    "error_2,mean_2,std_2 = get_error_metric(ERROR_THRESHOLD_2,test_data_2_labels,obs_labels)\n",
    "error_3,mean_3,std_3 = get_error_metric(ERROR_THRESHOLD_3,test_data_2_labels,obs_labels)\n",
    "print 'Errors(2) for Mechanism-2: Zero Tolerance:',error_1,mean_1,std_1\n",
    "print 'Errors(2) for Mechanism-2: 0.1 Tolerance:',error_2,mean_2,std_2\n",
    "print 'Errors(2) for Mechanism-2: 0.2 Tolerance:',error_3,mean_3,std_3\n",
    "print '(2) MSE Mechansim-2:',get_mean_squared_error(test_data_2_labels,obs_labels)"
   ]
  },
  {
   "cell_type": "code",
   "execution_count": 19,
   "metadata": {
    "collapsed": false
   },
   "outputs": [
    {
     "name": "stdout",
     "output_type": "stream",
     "text": [
      "Lambda:0.1\n",
      "Errors(2) for Mechanism-2: Zero Tolerance: 100 0.302415530563 0.300053606614\n",
      "Errors(2) for Mechanism-2: 0.1 Tolerance: 51 0.302415530563 0.300053606614\n",
      "Errors(2) for Mechanism-2: 0.2 Tolerance: 26 0.302415530563 0.300053606614\n",
      "(2) MSE Mechansim-2: 0.181487319968\n",
      "Lambda:-1\n",
      "Errors(2) for Mechanism-2: Zero Tolerance: 100 0.867761932636 0.71859028245\n",
      "Errors(2) for Mechanism-2: 0.1 Tolerance: 84 0.867761932636 0.71859028245\n",
      "Errors(2) for Mechanism-2: 0.2 Tolerance: 69 0.867761932636 0.71859028245\n",
      "(2) MSE Mechansim-2: 1.26938276576\n",
      "Lambda:0.01\n",
      "Errors(2) for Mechanism-2: Zero Tolerance: 100 0.300192184168 0.279964672727\n",
      "Errors(2) for Mechanism-2: 0.1 Tolerance: 55 0.300192184168 0.279964672727\n",
      "Errors(2) for Mechanism-2: 0.2 Tolerance: 25 0.300192184168 0.279964672727\n",
      "(2) MSE Mechansim-2: 0.16849556541\n"
     ]
    }
   ],
   "source": [
    "classifier = ElasticNet(alpha=0.1)\n",
    "obs_labels = get_predictions(classifier,2,test_data_2_values)\n",
    "\n",
    "print 'Lambda:0.1'\n",
    "error_1,mean_1,std_1 = get_error_metric(ERROR_THRESHOLD_1,test_data_2_labels,obs_labels)\n",
    "error_2,mean_2,std_2 = get_error_metric(ERROR_THRESHOLD_2,test_data_2_labels,obs_labels)\n",
    "error_3,mean_3,std_3 = get_error_metric(ERROR_THRESHOLD_3,test_data_2_labels,obs_labels)\n",
    "print 'Errors(2) for Mechanism-2: Zero Tolerance:',error_1,mean_1,std_1\n",
    "print 'Errors(2) for Mechanism-2: 0.1 Tolerance:',error_2,mean_2,std_2\n",
    "print 'Errors(2) for Mechanism-2: 0.2 Tolerance:',error_3,mean_3,std_3\n",
    "print '(2) MSE Mechansim-2:',get_mean_squared_error(test_data_2_labels,obs_labels)\n",
    "\n",
    "classifier = ElasticNet(alpha=-1)\n",
    "obs_labels = get_predictions(classifier,2,test_data_2_values)\n",
    "\n",
    "print 'Lambda:-1'\n",
    "error_1,mean_1,std_1 = get_error_metric(ERROR_THRESHOLD_1,test_data_2_labels,obs_labels)\n",
    "error_2,mean_2,std_2 = get_error_metric(ERROR_THRESHOLD_2,test_data_2_labels,obs_labels)\n",
    "error_3,mean_3,std_3 = get_error_metric(ERROR_THRESHOLD_3,test_data_2_labels,obs_labels)\n",
    "print 'Errors(2) for Mechanism-2: Zero Tolerance:',error_1,mean_1,std_1\n",
    "print 'Errors(2) for Mechanism-2: 0.1 Tolerance:',error_2,mean_2,std_2\n",
    "print 'Errors(2) for Mechanism-2: 0.2 Tolerance:',error_3,mean_3,std_3\n",
    "print '(2) MSE Mechansim-2:',get_mean_squared_error(test_data_2_labels,obs_labels)\n",
    "\n",
    "classifier = ElasticNet(alpha=0.01)\n",
    "obs_labels = get_predictions(classifier,2,test_data_2_values)\n",
    "\n",
    "print 'Lambda:0.01'\n",
    "error_1,mean_1,std_1 = get_error_metric(ERROR_THRESHOLD_1,test_data_2_labels,obs_labels)\n",
    "error_2,mean_2,std_2 = get_error_metric(ERROR_THRESHOLD_2,test_data_2_labels,obs_labels)\n",
    "error_3,mean_3,std_3 = get_error_metric(ERROR_THRESHOLD_3,test_data_2_labels,obs_labels)\n",
    "print 'Errors(2) for Mechanism-2: Zero Tolerance:',error_1,mean_1,std_1\n",
    "print 'Errors(2) for Mechanism-2: 0.1 Tolerance:',error_2,mean_2,std_2\n",
    "print 'Errors(2) for Mechanism-2: 0.2 Tolerance:',error_3,mean_3,std_3\n",
    "print '(2) MSE Mechansim-2:',get_mean_squared_error(test_data_2_labels,obs_labels)\n"
   ]
  },
  {
   "cell_type": "code",
   "execution_count": 27,
   "metadata": {
    "collapsed": false
   },
   "outputs": [
    {
     "name": "stdout",
     "output_type": "stream",
     "text": [
      "Lambda:2\n",
      "Errors(2) for Mechanism-2: Zero Tolerance: 100 0.867761932636 0.71859028245\n",
      "Errors(2) for Mechanism-2: 0.1 Tolerance: 84 0.867761932636 0.71859028245\n",
      "Errors(2) for Mechanism-2: 0.2 Tolerance: 69 0.867761932636 0.71859028245\n",
      "(2) MSE Mechansim-2: 1.26938276576\n",
      "Lambda:0.02\n",
      "Errors(2) for Mechanism-2: Zero Tolerance: 100 0.299361615553 0.28145764266\n",
      "Errors(2) for Mechanism-2: 0.1 Tolerance: 54 0.299361615553 0.28145764266\n",
      "Errors(2) for Mechanism-2: 0.2 Tolerance: 25 0.299361615553 0.28145764266\n",
      "(2) MSE Mechansim-2: 0.168835781478\n"
     ]
    }
   ],
   "source": [
    "classifier = ElasticNet(alpha=2)\n",
    "obs_labels = get_predictions(classifier,2,test_data_2_values)\n",
    "\n",
    "print 'Lambda:2'\n",
    "error_1,mean_1,std_1 = get_error_metric(ERROR_THRESHOLD_1,test_data_2_labels,obs_labels)\n",
    "error_2,mean_2,std_2 = get_error_metric(ERROR_THRESHOLD_2,test_data_2_labels,obs_labels)\n",
    "error_3,mean_3,std_3 = get_error_metric(ERROR_THRESHOLD_3,test_data_2_labels,obs_labels)\n",
    "print 'Errors(2) for Mechanism-2: Zero Tolerance:',error_1,mean_1,std_1\n",
    "print 'Errors(2) for Mechanism-2: 0.1 Tolerance:',error_2,mean_2,std_2\n",
    "print 'Errors(2) for Mechanism-2: 0.2 Tolerance:',error_3,mean_3,std_3\n",
    "print '(2) MSE Mechansim-2:',get_mean_squared_error(test_data_2_labels,obs_labels)\n",
    "\n",
    "classifier = ElasticNet(alpha=0.02)\n",
    "obs_labels = get_predictions(classifier,2,test_data_2_values)\n",
    "\n",
    "print 'Lambda:0.02'\n",
    "error_1,mean_1,std_1 = get_error_metric(ERROR_THRESHOLD_1,test_data_2_labels,obs_labels)\n",
    "error_2,mean_2,std_2 = get_error_metric(ERROR_THRESHOLD_2,test_data_2_labels,obs_labels)\n",
    "error_3,mean_3,std_3 = get_error_metric(ERROR_THRESHOLD_3,test_data_2_labels,obs_labels)\n",
    "print 'Errors(2) for Mechanism-2: Zero Tolerance:',error_1,mean_1,std_1\n",
    "print 'Errors(2) for Mechanism-2: 0.1 Tolerance:',error_2,mean_2,std_2\n",
    "print 'Errors(2) for Mechanism-2: 0.2 Tolerance:',error_3,mean_3,std_3\n",
    "print '(2) MSE Mechansim-2:',get_mean_squared_error(test_data_2_labels,obs_labels)\n",
    "\n"
   ]
  },
  {
   "cell_type": "code",
   "execution_count": 21,
   "metadata": {
    "collapsed": false
   },
   "outputs": [
    {
     "name": "stdout",
     "output_type": "stream",
     "text": [
      "Lambda:-2\n",
      "Errors(2) for Mechanism-2: Zero Tolerance: 100 0.867761932636 0.71859028245\n",
      "Errors(2) for Mechanism-2: 0.1 Tolerance: 84 0.867761932636 0.71859028245\n",
      "Errors(2) for Mechanism-2: 0.2 Tolerance: 69 0.867761932636 0.71859028245\n",
      "(2) MSE Mechansim-2: 1.26938276576\n"
     ]
    }
   ],
   "source": [
    "classifier = ElasticNet(alpha=-2)\n",
    "obs_labels = get_predictions(classifier,2,test_data_2_values)\n",
    "\n",
    "print 'Lambda:-2'\n",
    "error_1,mean_1,std_1 = get_error_metric(ERROR_THRESHOLD_1,test_data_2_labels,obs_labels)\n",
    "error_2,mean_2,std_2 = get_error_metric(ERROR_THRESHOLD_2,test_data_2_labels,obs_labels)\n",
    "error_3,mean_3,std_3 = get_error_metric(ERROR_THRESHOLD_3,test_data_2_labels,obs_labels)\n",
    "print 'Errors(2) for Mechanism-2: Zero Tolerance:',error_1,mean_1,std_1\n",
    "print 'Errors(2) for Mechanism-2: 0.1 Tolerance:',error_2,mean_2,std_2\n",
    "print 'Errors(2) for Mechanism-2: 0.2 Tolerance:',error_3,mean_3,std_3\n",
    "print '(2) MSE Mechansim-2:',get_mean_squared_error(test_data_2_labels,obs_labels)"
   ]
  },
  {
   "cell_type": "code",
   "execution_count": 22,
   "metadata": {
    "collapsed": false
   },
   "outputs": [
    {
     "name": "stdout",
     "output_type": "stream",
     "text": [
      "Lambda:0.5\n",
      "Errors(2) for Mechanism-2: Zero Tolerance: 100 0.438760950643 0.383199740054\n",
      "Errors(2) for Mechanism-2: 0.1 Tolerance: 68 0.438760950643 0.383199740054\n",
      "Errors(2) for Mechanism-2: 0.2 Tolerance: 43 0.438760950643 0.383199740054\n",
      "(2) MSE Mechansim-2: 0.339353212586\n"
     ]
    }
   ],
   "source": [
    "classifier = ElasticNet(alpha=0.5)\n",
    "obs_labels = get_predictions(classifier,2,test_data_2_values)\n",
    "\n",
    "print 'Lambda:0.5'\n",
    "error_1,mean_1,std_1 = get_error_metric(ERROR_THRESHOLD_1,test_data_2_labels,obs_labels)\n",
    "error_2,mean_2,std_2 = get_error_metric(ERROR_THRESHOLD_2,test_data_2_labels,obs_labels)\n",
    "error_3,mean_3,std_3 = get_error_metric(ERROR_THRESHOLD_3,test_data_2_labels,obs_labels)\n",
    "print 'Errors(2) for Mechanism-2: Zero Tolerance:',error_1,mean_1,std_1\n",
    "print 'Errors(2) for Mechanism-2: 0.1 Tolerance:',error_2,mean_2,std_2\n",
    "print 'Errors(2) for Mechanism-2: 0.2 Tolerance:',error_3,mean_3,std_3\n",
    "print '(2) MSE Mechansim-2:',get_mean_squared_error(test_data_2_labels,obs_labels)"
   ]
  },
  {
   "cell_type": "code",
   "execution_count": 23,
   "metadata": {
    "collapsed": false
   },
   "outputs": [
    {
     "name": "stdout",
     "output_type": "stream",
     "text": [
      "Lambda:0.2\n",
      "Errors(2) for Mechanism-2: Zero Tolerance: 100 0.323581175132 0.326828732321\n",
      "Errors(2) for Mechanism-2: 0.1 Tolerance: 53 0.323581175132 0.326828732321\n",
      "Errors(2) for Mechanism-2: 0.2 Tolerance: 29 0.323581175132 0.326828732321\n",
      "(2) MSE Mechansim-2: 0.21152179717\n"
     ]
    }
   ],
   "source": [
    "classifier = ElasticNet(alpha=0.2)\n",
    "obs_labels = get_predictions(classifier,2,test_data_2_values)\n",
    "\n",
    "print 'Lambda:0.2'\n",
    "error_1,mean_1,std_1 = get_error_metric(ERROR_THRESHOLD_1,test_data_2_labels,obs_labels)\n",
    "error_2,mean_2,std_2 = get_error_metric(ERROR_THRESHOLD_2,test_data_2_labels,obs_labels)\n",
    "error_3,mean_3,std_3 = get_error_metric(ERROR_THRESHOLD_3,test_data_2_labels,obs_labels)\n",
    "print 'Errors(2) for Mechanism-2: Zero Tolerance:',error_1,mean_1,std_1\n",
    "print 'Errors(2) for Mechanism-2: 0.1 Tolerance:',error_2,mean_2,std_2\n",
    "print 'Errors(2) for Mechanism-2: 0.2 Tolerance:',error_3,mean_3,std_3\n",
    "print '(2) MSE Mechansim-2:',get_mean_squared_error(test_data_2_labels,obs_labels)"
   ]
  },
  {
   "cell_type": "code",
   "execution_count": 24,
   "metadata": {
    "collapsed": false
   },
   "outputs": [
    {
     "name": "stdout",
     "output_type": "stream",
     "text": [
      "Lambda:0.1\n",
      "Errors(2) for Mechanism-2: Zero Tolerance: 100 0.302415530563 0.300053606614\n",
      "Errors(2) for Mechanism-2: 0.1 Tolerance: 51 0.302415530563 0.300053606614\n",
      "Errors(2) for Mechanism-2: 0.2 Tolerance: 26 0.302415530563 0.300053606614\n",
      "(2) MSE Mechansim-2: 0.181487319968\n"
     ]
    }
   ],
   "source": [
    "classifier = ElasticNet(alpha=0.1)\n",
    "obs_labels = get_predictions(classifier,2,test_data_2_values)\n",
    "\n",
    "print 'Lambda:0.1'\n",
    "error_1,mean_1,std_1 = get_error_metric(ERROR_THRESHOLD_1,test_data_2_labels,obs_labels)\n",
    "error_2,mean_2,std_2 = get_error_metric(ERROR_THRESHOLD_2,test_data_2_labels,obs_labels)\n",
    "error_3,mean_3,std_3 = get_error_metric(ERROR_THRESHOLD_3,test_data_2_labels,obs_labels)\n",
    "print 'Errors(2) for Mechanism-2: Zero Tolerance:',error_1,mean_1,std_1\n",
    "print 'Errors(2) for Mechanism-2: 0.1 Tolerance:',error_2,mean_2,std_2\n",
    "print 'Errors(2) for Mechanism-2: 0.2 Tolerance:',error_3,mean_3,std_3\n",
    "print '(2) MSE Mechansim-2:',get_mean_squared_error(test_data_2_labels,obs_labels)"
   ]
  },
  {
   "cell_type": "code",
   "execution_count": 25,
   "metadata": {
    "collapsed": false
   },
   "outputs": [
    {
     "name": "stdout",
     "output_type": "stream",
     "text": [
      "Lambda:0.02\n",
      "Errors(2) for Mechanism-2: Zero Tolerance: 100 0.299361615553 0.28145764266\n",
      "Errors(2) for Mechanism-2: 0.1 Tolerance: 54 0.299361615553 0.28145764266\n",
      "Errors(2) for Mechanism-2: 0.2 Tolerance: 25 0.299361615553 0.28145764266\n",
      "(2) MSE Mechansim-2: 0.168835781478\n"
     ]
    }
   ],
   "source": [
    "classifier = ElasticNet(alpha=0.02)\n",
    "obs_labels = get_predictions(classifier,2,test_data_2_values)\n",
    "\n",
    "print 'Lambda:0.02'\n",
    "error_1,mean_1,std_1 = get_error_metric(ERROR_THRESHOLD_1,test_data_2_labels,obs_labels)\n",
    "error_2,mean_2,std_2 = get_error_metric(ERROR_THRESHOLD_2,test_data_2_labels,obs_labels)\n",
    "error_3,mean_3,std_3 = get_error_metric(ERROR_THRESHOLD_3,test_data_2_labels,obs_labels)\n",
    "print 'Errors(2) for Mechanism-2: Zero Tolerance:',error_1,mean_1,std_1\n",
    "print 'Errors(2) for Mechanism-2: 0.1 Tolerance:',error_2,mean_2,std_2\n",
    "print 'Errors(2) for Mechanism-2: 0.2 Tolerance:',error_3,mean_3,std_3\n",
    "print '(2) MSE Mechansim-2:',get_mean_squared_error(test_data_2_labels,obs_labels)"
   ]
  },
  {
   "cell_type": "code",
   "execution_count": 26,
   "metadata": {
    "collapsed": false
   },
   "outputs": [
    {
     "name": "stdout",
     "output_type": "stream",
     "text": [
      "Lambda:0.002\n",
      "Errors(2) for Mechanism-2: Zero Tolerance: 100 0.301064252219 0.279012186783\n",
      "Errors(2) for Mechanism-2: 0.1 Tolerance: 55 0.301064252219 0.279012186783\n",
      "Errors(2) for Mechanism-2: 0.2 Tolerance: 25 0.301064252219 0.279012186783\n",
      "(2) MSE Mechansim-2: 0.168487484338\n"
     ]
    }
   ],
   "source": [
    "classifier = ElasticNet(alpha=0.002)\n",
    "obs_labels = get_predictions(classifier,2,test_data_2_values)\n",
    "\n",
    "print 'Lambda:0.002'\n",
    "error_1,mean_1,std_1 = get_error_metric(ERROR_THRESHOLD_1,test_data_2_labels,obs_labels)\n",
    "error_2,mean_2,std_2 = get_error_metric(ERROR_THRESHOLD_2,test_data_2_labels,obs_labels)\n",
    "error_3,mean_3,std_3 = get_error_metric(ERROR_THRESHOLD_3,test_data_2_labels,obs_labels)\n",
    "print 'Errors(2) for Mechanism-2: Zero Tolerance:',error_1,mean_1,std_1\n",
    "print 'Errors(2) for Mechanism-2: 0.1 Tolerance:',error_2,mean_2,std_2\n",
    "print 'Errors(2) for Mechanism-2: 0.2 Tolerance:',error_3,mean_3,std_3\n",
    "print '(2) MSE Mechansim-2:',get_mean_squared_error(test_data_2_labels,obs_labels)"
   ]
  },
  {
   "cell_type": "code",
   "execution_count": null,
   "metadata": {
    "collapsed": true
   },
   "outputs": [],
   "source": []
  },
  {
   "cell_type": "code",
   "execution_count": null,
   "metadata": {
    "collapsed": true
   },
   "outputs": [],
   "source": []
  }
 ],
 "metadata": {
  "kernelspec": {
   "display_name": "Python 2",
   "language": "python",
   "name": "python2"
  },
  "language_info": {
   "codemirror_mode": {
    "name": "ipython",
    "version": 2
   },
   "file_extension": ".py",
   "mimetype": "text/x-python",
   "name": "python",
   "nbconvert_exporter": "python",
   "pygments_lexer": "ipython2",
   "version": "2.7.11"
  }
 },
 "nbformat": 4,
 "nbformat_minor": 0
}
