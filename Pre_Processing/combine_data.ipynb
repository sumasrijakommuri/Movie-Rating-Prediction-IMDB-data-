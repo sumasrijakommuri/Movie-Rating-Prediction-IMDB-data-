{
 "cells": [
  {
   "cell_type": "code",
   "execution_count": 6,
   "metadata": {
    "collapsed": true
   },
   "outputs": [],
   "source": [
    "import csv\n",
    "\n",
    "COMMA = ','\n",
    "NEWLINE = '\\n'\n",
    "doc = 'Documentary'\n",
    "short = 'Short'\n",
    "\n",
    "def prep_data():\n",
    "    fp = open('movie_data.csv','w')\n",
    "    for i in range(1,8):\n",
    "        print i\n",
    "        data_file = file('movie_set_'+str(i)+'.csv', 'r')\n",
    "        data = csv.reader(data_file, delimiter=',')\n",
    "        for row in data:\n",
    "            if len(row) > 0 and doc not in row and short not in row:\n",
    "                for i in range(0,len(row)-1):\n",
    "                    fp.write(row[i]+COMMA)\n",
    "                fp.write(row[len(row)-1]+NEWLINE)\n",
    "    fp.close()\n",
    "    print 'Prepared Director ratings'"
   ]
  },
  {
   "cell_type": "code",
   "execution_count": 7,
   "metadata": {
    "collapsed": false
   },
   "outputs": [
    {
     "name": "stdout",
     "output_type": "stream",
     "text": [
      "1\n",
      "2\n",
      "3\n",
      "4\n",
      "5\n",
      "6\n",
      "7\n",
      "Prepared Director ratings\n"
     ]
    }
   ],
   "source": [
    "prep_data()"
   ]
  },
  {
   "cell_type": "code",
   "execution_count": null,
   "metadata": {
    "collapsed": true
   },
   "outputs": [],
   "source": []
  }
 ],
 "metadata": {
  "kernelspec": {
   "display_name": "Python 2",
   "language": "python",
   "name": "python2"
  },
  "language_info": {
   "codemirror_mode": {
    "name": "ipython",
    "version": 2
   },
   "file_extension": ".py",
   "mimetype": "text/x-python",
   "name": "python",
   "nbconvert_exporter": "python",
   "pygments_lexer": "ipython2",
   "version": "2.7.11"
  }
 },
 "nbformat": 4,
 "nbformat_minor": 0
}
