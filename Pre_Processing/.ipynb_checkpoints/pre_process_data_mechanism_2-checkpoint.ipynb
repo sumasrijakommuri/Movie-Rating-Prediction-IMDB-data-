{
 "cells": [
  {
   "cell_type": "code",
   "execution_count": 1,
   "metadata": {
    "collapsed": false
   },
   "outputs": [
    {
     "name": "stdout",
     "output_type": "stream",
     "text": [
      "Prepared Movie Ids 11559\n"
     ]
    }
   ],
   "source": [
    "import csv\n",
    "\n",
    "COMMA = ','\n",
    "NEWLINE = '\\n'\n",
    "QUOTE = '\"'\n",
    "def prep_movie():\n",
    "    fp = open('movie_ratings.csv','w')    \n",
    "    data_file = file('movie_data.csv', 'r')\n",
    "    data = csv.reader(data_file, delimiter=',')\n",
    "    cnt = 0\n",
    "    for row in data:\n",
    "        if len(row) > 0:\n",
    "            rating = float(row[2])\n",
    "            name = row[1]\n",
    "        fp.write(row[0]+COMMA+QUOTE+name+QUOTE+COMMA+str(rating)+NEWLINE)\n",
    "        cnt +=1\n",
    "    fp.close()\n",
    "    print 'Prepared Movie Ids',cnt\n",
    "prep_movie()"
   ]
  },
  {
   "cell_type": "code",
   "execution_count": 2,
   "metadata": {
    "collapsed": true
   },
   "outputs": [],
   "source": [
    "\n",
    "# In[5]:\n",
    "\n",
    "def prep_actors():\n",
    "    fp = open('actor_scores.csv','w')\n",
    "    actor_ratings = {}\n",
    "    data_file = file('movie_data.csv', 'r')\n",
    "    data = csv.reader(data_file, delimiter=',')\n",
    "    for row in data:\n",
    "        if len(row) > 0:\n",
    "            rating = float(row[2])\n",
    "            start_actor_index = 3\n",
    "            for index in range(start_actor_index,start_actor_index+8,2):\n",
    "                if row[index] in actor_ratings:\n",
    "                    actor_ratings[row[index]] =  (actor_ratings[row[index]][0], actor_ratings[row[index]][1] + rating, actor_ratings[row[index]][2] + 1)  \n",
    "                else:\n",
    "                    actor_ratings[row[index]] = (row[index+1], rating, 1)\n",
    "    print len(actor_ratings.keys())\n",
    "    for key in actor_ratings.keys():\n",
    "        fp.write(key+COMMA+QUOTE+actor_ratings[key][0]+QUOTE+COMMA+ str(float(actor_ratings[key][1])/int(actor_ratings[key][2]))+NEWLINE)\n",
    "    fp.close()\n",
    "    print 'Prepared Actor Ids'"
   ]
  },
  {
   "cell_type": "code",
   "execution_count": 3,
   "metadata": {
    "collapsed": false
   },
   "outputs": [
    {
     "name": "stdout",
     "output_type": "stream",
     "text": [
      "20350\n",
      "Prepared Actor Ids\n"
     ]
    }
   ],
   "source": [
    "prep_actors()"
   ]
  },
  {
   "cell_type": "code",
   "execution_count": 4,
   "metadata": {
    "collapsed": true
   },
   "outputs": [],
   "source": [
    "def prep_directors():\n",
    "    fp = open('director_score.csv','w')\n",
    "    director_ratings = {}\n",
    "    data_file = file('movie_data.csv', 'r')\n",
    "    data = csv.reader(data_file, delimiter=',')\n",
    "    for row in data:\n",
    "        if len(row) > 0:\n",
    "            rating = float(row[2])\n",
    "            director_index = 11            \n",
    "            if row[director_index] in director_ratings:\n",
    "                director_ratings[row[director_index]] =  (director_ratings[row[director_index]][0], director_ratings[row[director_index]][1] + rating, director_ratings[row[director_index]][2] + 1)  \n",
    "            else:\n",
    "                director_ratings[row[director_index]] = (row[director_index+1], rating, 1)\n",
    "    print len(director_ratings.keys())\n",
    "    for key in director_ratings.keys():\n",
    "        fp.write(key+COMMA+QUOTE+director_ratings[key][0]+QUOTE+COMMA+ str(float(director_ratings[key][1])/int(director_ratings[key][2]))+NEWLINE)\n",
    "    fp.close()\n",
    "    print 'Prepared Director ratings'"
   ]
  },
  {
   "cell_type": "code",
   "execution_count": 5,
   "metadata": {
    "collapsed": false
   },
   "outputs": [
    {
     "name": "stdout",
     "output_type": "stream",
     "text": [
      "6108\n",
      "Prepared Director ratings\n"
     ]
    }
   ],
   "source": [
    "prep_directors()"
   ]
  },
  {
   "cell_type": "code",
   "execution_count": 21,
   "metadata": {
    "collapsed": true
   },
   "outputs": [],
   "source": [
    "def prep_producers():\n",
    "    fp = open('producer_score.csv','w')\n",
    "    producer_ratings = {}\n",
    "    data_file = file('movie_data.csv', 'r')\n",
    "    data = csv.reader(data_file, delimiter=',')\n",
    "    cnt = 0\n",
    "    for row in data:\n",
    "        if len(row) > 0:\n",
    "            rating = float(row[2])\n",
    "            n_prod = 13\n",
    "            try:\n",
    "                for index in range(int(row[n_prod])):\n",
    "                    prod_index = 2*index + n_prod + 1\n",
    "                    if row[prod_index] in producer_ratings:\n",
    "                        producer_ratings[row[prod_index]] =  (producer_ratings[row[prod_index]][0], producer_ratings[row[prod_index]][1] + rating, producer_ratings[row[prod_index]][2] + 1)  \n",
    "                    else:\n",
    "                        producer_ratings[row[prod_index]] = (row[prod_index+1], rating, 1)\n",
    "                    if cnt < 10:\n",
    "                        print '#',row[0],'#',prod_index,'#',row[n_prod],'#',row[prod_index],'#',row[prod_index+1]\n",
    "                        cnt += 1\n",
    "            except:\n",
    "                print row[0],len(row),prod_index,row\n",
    "    print len(producer_ratings.keys())\n",
    "    for key in producer_ratings.keys():\n",
    "        fp.write(key+COMMA+QUOTE+producer_ratings[key][0]+QUOTE+COMMA+ str(float(producer_ratings[key][1])/int(producer_ratings[key][2]))+NEWLINE)\n",
    "    fp.close()\n",
    "    print 'Prepared Producer ratings'"
   ]
  },
  {
   "cell_type": "code",
   "execution_count": 22,
   "metadata": {
    "collapsed": false
   },
   "outputs": [
    {
     "name": "stdout",
     "output_type": "stream",
     "text": [
      "# 0817538 # 14 # 2 # 0023400 # Paramount Pictures\n",
      "# 0817538 # 16 # 2 # 0073081 # Apatow Productions\n",
      "# 2274570 # 14 # 3 # 0237280 # New Artists Alliance\n",
      "# 2274570 # 16 # 3 # 0287709 # Floren Shieh Productions\n",
      "# 2274570 # 18 # 3 # 0152336 # Duplass Brothers Productions\n",
      "# 3687186 # 14 # 2 # 0575375 # Hardstyle\n",
      "# 3687186 # 16 # 2 # 0378259 # Iconoclast\n",
      "# 1756479 # 14 # 1 # 0328159 # Sphärentor Filmproduktionen\n",
      "# 0386669 # 14 # 13 # 0580785 # Lions Gate Entertainment\n",
      "# 0386669 # 16 # 13 # 0077842 # Melenny Productions\n",
      "15270\n",
      "Prepared Producer ratings\n"
     ]
    }
   ],
   "source": [
    "prep_producers()"
   ]
  },
  {
   "cell_type": "code",
   "execution_count": 23,
   "metadata": {
    "collapsed": true
   },
   "outputs": [],
   "source": [
    "def prep_writers():\n",
    "    fp = open('writers_score.csv','w')\n",
    "    writer_ratings = {}\n",
    "    data_file = file('movie_data.csv', 'r')\n",
    "    data = csv.reader(data_file, delimiter=',')\n",
    "    for row in data:\n",
    "        if len(row) > 0:\n",
    "            rating = float(row[2])\n",
    "            n_writer = 13 + 2*int(row[13]) + 1\n",
    "            try:\n",
    "                for index in range(int(row[n_writer])):\n",
    "                    writer_index = 2*index + n_writer + 1\n",
    "                    if row[writer_index] in writer_ratings:\n",
    "                        writer_ratings[row[writer_index]] =  (writer_ratings[row[writer_index]][0], writer_ratings[row[writer_index]][1] + rating, writer_ratings[row[writer_index]][2] + 1)  \n",
    "                    else:\n",
    "                        writer_ratings[row[writer_index]] = (row[writer_index+1], rating, 1)\n",
    "            except:\n",
    "                print row[0],len(row),writer_index,row\n",
    "    print len(writer_ratings.keys())\n",
    "    for key in writer_ratings.keys():\n",
    "        fp.write(key+COMMA+QUOTE+writer_ratings[key][0]+QUOTE+COMMA+ str(float(writer_ratings[key][1])/int(writer_ratings[key][2]))+NEWLINE)\n",
    "    fp.close()\n",
    "    print 'Prepared Writer ratings'"
   ]
  },
  {
   "cell_type": "code",
   "execution_count": 24,
   "metadata": {
    "collapsed": false
   },
   "outputs": [
    {
     "name": "stdout",
     "output_type": "stream",
     "text": [
      "14571\n",
      "Prepared Writer ratings\n"
     ]
    }
   ],
   "source": [
    "prep_writers()"
   ]
  },
  {
   "cell_type": "code",
   "execution_count": null,
   "metadata": {
    "collapsed": false
   },
   "outputs": [],
   "source": []
  },
  {
   "cell_type": "code",
   "execution_count": null,
   "metadata": {
    "collapsed": true
   },
   "outputs": [],
   "source": []
  }
 ],
 "metadata": {
  "kernelspec": {
   "display_name": "Python 2",
   "language": "python",
   "name": "python2"
  },
  "language_info": {
   "codemirror_mode": {
    "name": "ipython",
    "version": 2
   },
   "file_extension": ".py",
   "mimetype": "text/x-python",
   "name": "python",
   "nbconvert_exporter": "python",
   "pygments_lexer": "ipython2",
   "version": "2.7.11"
  }
 },
 "nbformat": 4,
 "nbformat_minor": 0
}
