{
 "cells": [
  {
   "cell_type": "code",
   "execution_count": 1,
   "metadata": {
    "collapsed": true
   },
   "outputs": [],
   "source": [
    "import csv\n",
    "\n",
    "def read_movie_ratings():\n",
    "    movie_ratings = {}\n",
    "    data_file = file('data/movie_ratings.csv', 'r')\n",
    "    data = csv.reader(data_file, delimiter=',')\n",
    "    for row in data:\n",
    "        movie_ratings[row[0]] = float(row[1])\n",
    "    return movie_ratings\n",
    "\n",
    "def read_actor_ratings(val):\n",
    "    actor_ratings = {}\n",
    "    data_file = file('data/mechanism_'+str(val)+'/actor_scores.csv', 'r')\n",
    "    data = csv.reader(data_file, delimiter=',')\n",
    "    for row in data:\n",
    "        actor_ratings[row[0]] = float(row[1])\n",
    "    return actor_ratings\n",
    "\n",
    "def read_director_ratings(val):\n",
    "    director_ratings = {}\n",
    "    data_file = file('data/mechanism_'+str(val)+'/director_scores.csv', 'r')\n",
    "    data = csv.reader(data_file, delimiter=',')\n",
    "    for row in data:\n",
    "        director_ratings[row[0]] = float(row[1])\n",
    "    return director_ratings\n",
    "\n",
    "\n",
    "def read_producer_ratings(val):\n",
    "    producer_ratings = {}\n",
    "    data_file = file('data/mechanism_'+str(val)+'/producer_scores.csv', 'r')\n",
    "    data = csv.reader(data_file, delimiter=',')\n",
    "    for row in data:\n",
    "        producer_ratings[row[0]] = float(row[1])\n",
    "    return producer_ratings\n",
    "\n",
    "\n",
    "def read_writer_ratings(val):\n",
    "    writer_ratings = {}\n",
    "    data_file = file('data/mechanism_'+str(val)+'/writer_scores.csv', 'r')\n",
    "    data = csv.reader(data_file, delimiter=',')\n",
    "    for row in data:\n",
    "        writer_ratings[row[0]] = float(row[1])\n",
    "    return writer_ratings\n"
   ]
  },
  {
   "cell_type": "code",
   "execution_count": 2,
   "metadata": {
    "collapsed": true
   },
   "outputs": [],
   "source": [
    "movie_ratings = read_movie_ratings()"
   ]
  },
  {
   "cell_type": "code",
   "execution_count": 12,
   "metadata": {
    "collapsed": false
   },
   "outputs": [],
   "source": [
    "COMMA = ','\n",
    "NEWLINE = '\\n'\n",
    "\n",
    "def prep_data(val):\n",
    "    actor_ratings = read_actor_ratings(val)\n",
    "    director_ratings = read_director_ratings(val)\n",
    "    producer_ratings = read_producer_ratings(val)\n",
    "    writer_ratings = read_writer_ratings(val)\n",
    "    fp = open('input_mechanism_'+str(val)+'.csv','w')\n",
    "    data_file = file('data/movie_data.csv', 'r')\n",
    "    data = csv.reader(data_file, delimiter=',')\n",
    "    for row in data:\n",
    "        fp.write(str(movie_ratings[row[0]]))\n",
    "        start_actor_index = 2\n",
    "        for index in range(start_actor_index,start_actor_index+4):\n",
    "            fp.write(COMMA+str(actor_ratings[row[index]]))\n",
    "        director_index = 6\n",
    "        fp.write(COMMA+str(director_ratings[row[director_index]]))\n",
    "        start_prod_index = 7\n",
    "        fp.write(COMMA+str(row[start_prod_index]))\n",
    "        for index in range(start_prod_index + 1, start_prod_index + int(row[start_prod_index]) + 1):\n",
    "            fp.write(COMMA+str(producer_ratings[row[index]]))\n",
    "        start_writer_index = start_prod_index + int(row[start_prod_index]) + 1\n",
    "        fp.write(COMMA+str(row[start_prod_index]))\n",
    "        for index in range(start_writer_index + 1, start_writer_index + int(row[start_writer_index]) + 1):\n",
    "            fp.write(COMMA+str(writer_ratings[row[index]]))\n",
    "        fp.write(NEWLINE)\n",
    "    fp.close()\n",
    "    print 'Prepared Data for Mechanism',val"
   ]
  },
  {
   "cell_type": "code",
   "execution_count": 16,
   "metadata": {
    "collapsed": false
   },
   "outputs": [
    {
     "name": "stdout",
     "output_type": "stream",
     "text": [
      "Prepared Data for Mechanism 1\n",
      "Prepared Data for Mechanism 2\n"
     ]
    }
   ],
   "source": [
    "prep_data(1)\n",
    "prep_data(2)"
   ]
  },
  {
   "cell_type": "code",
   "execution_count": 23,
   "metadata": {
    "collapsed": false
   },
   "outputs": [
    {
     "name": "stdout",
     "output_type": "stream",
     "text": [
      "Done shuffling 1\n",
      "11559 9247 2311\n",
      "Done writing Train Data 1\n",
      "11559 9247 2311\n",
      "Done writing Test Data 1\n",
      "Done shuffling 2\n",
      "11559 9247 2311\n",
      "Done writing Train Data 2\n",
      "11559 9247 2311\n",
      "Done writing Test Data 2\n"
     ]
    }
   ],
   "source": [
    "from random import shuffle\n",
    "def split_data():\n",
    "    for i in range(1,3):\n",
    "        data_file = file('input_mechanism_'+str(i)+'.csv', 'r')\n",
    "        data = csv.reader(data_file, delimiter=',')\n",
    "        rows = []\n",
    "        for row in data:\n",
    "            rows.append(row)\n",
    "        shuffle(rows)\n",
    "        print 'Done shuffling',i\n",
    "        cnt = int(0.8*len(rows))\n",
    "        train_data = rows[:cnt]\n",
    "        test_data = rows[cnt:-1]\n",
    "        print len(rows),len(train_data),len(test_data)\n",
    "        fp = open('train_data_'+str(i)+'.csv','w')\n",
    "        for row in train_data:\n",
    "            fp.write(row[0])\n",
    "            for index in range(1,len(row)):\n",
    "                fp.write(COMMA+row[index])\n",
    "            fp.write(NEWLINE)\n",
    "        fp.close()\n",
    "        print 'Done writing Train Data',i\n",
    "        fp = open('test_data_'+str(i)+'.csv','w')\n",
    "        print len(rows),len(train_data),len(test_data)\n",
    "        for row in test_data:\n",
    "            fp.write(row[0])\n",
    "            for index in range(1,len(row)):\n",
    "                fp.write(COMMA+row[index])\n",
    "            fp.write(NEWLINE)\n",
    "        fp.close()\n",
    "        print 'Done writing Test Data',i\n",
    "split_data()"
   ]
  },
  {
   "cell_type": "code",
   "execution_count": null,
   "metadata": {
    "collapsed": true
   },
   "outputs": [],
   "source": []
  }
 ],
 "metadata": {
  "kernelspec": {
   "display_name": "Python 2",
   "language": "python",
   "name": "python2"
  },
  "language_info": {
   "codemirror_mode": {
    "name": "ipython",
    "version": 2
   },
   "file_extension": ".py",
   "mimetype": "text/x-python",
   "name": "python",
   "nbconvert_exporter": "python",
   "pygments_lexer": "ipython2",
   "version": "2.7.11"
  }
 },
 "nbformat": 4,
 "nbformat_minor": 0
}
