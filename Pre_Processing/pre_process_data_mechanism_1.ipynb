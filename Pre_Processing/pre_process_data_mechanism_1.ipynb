{
 "cells": [
  {
   "cell_type": "code",
   "execution_count": 1,
   "metadata": {
    "collapsed": false
   },
   "outputs": [],
   "source": [
    "import csv\n",
    "\n",
    "COMMA = ','\n",
    "NEWLINE = '\\n'\n",
    "QUOTE = '\"'\n",
    "avg_rating = 0\n",
    "def get_average_rating():\n",
    "    fp = open('data/movie_ratings.csv','w')    \n",
    "    data_file = file('data/movie_data.csv', 'r')\n",
    "    data = csv.reader(data_file, delimiter=',')\n",
    "    cnt = 0\n",
    "    avg_rating = 0\n",
    "    for row in data:\n",
    "        if len(row) > 0:\n",
    "            rating = float(row[1])\n",
    "            fp.write(row[0]+COMMA+str(rating)+NEWLINE)\n",
    "            cnt +=1\n",
    "            avg_rating +=rating\n",
    "    avg_rating = avg_rating/cnt\n",
    "    fp.close()\n",
    "    print 'Prepared Movie Ids',cnt,avg_rating\n",
    "    return avg_rating\n",
    "#prep_movie()"
   ]
  },
  {
   "cell_type": "code",
   "execution_count": 20,
   "metadata": {
    "collapsed": false
   },
   "outputs": [
    {
     "name": "stdout",
     "output_type": "stream",
     "text": [
      "Prepared Movie Ids 11559 6.0309542348\n",
      "6.0309542348\n"
     ]
    }
   ],
   "source": []
  },
  {
   "cell_type": "code",
   "execution_count": 2,
   "metadata": {
    "collapsed": false
   },
   "outputs": [
    {
     "name": "stdout",
     "output_type": "stream",
     "text": [
      "20350\n",
      "Prepared Actor Scores\n",
      "<type 'dict'>\n"
     ]
    }
   ],
   "source": [
    "def prep_actors():\n",
    "    fp = open('data/mechanism_1/actor_scores.csv','w')\n",
    "    actor_ratings_with_count = {}\n",
    "    actor_ratings = {}\n",
    "    data_file = file('data/movie_data.csv', 'r')\n",
    "    data = csv.reader(data_file, delimiter=',')\n",
    "    for row in data:\n",
    "        if len(row) > 0:\n",
    "            rating = float(row[1])\n",
    "            start_actor_index = 2\n",
    "            for index in range(start_actor_index,start_actor_index+4):\n",
    "                if row[index] in actor_ratings_with_count:\n",
    "                    actor_ratings_with_count[row[index]] =  (actor_ratings_with_count[row[index]][0] + rating, actor_ratings_with_count[row[index]][1] + 1)  \n",
    "                else:\n",
    "                    actor_ratings_with_count[row[index]] = (rating  , 1)\n",
    "    print len(actor_ratings_with_count.keys())\n",
    "    for key in actor_ratings_with_count.keys():\n",
    "        fp.write(key+COMMA+ str(float(actor_ratings_with_count[key][0])/int(actor_ratings_with_count[key][1]))+NEWLINE)\n",
    "        actor_ratings[key] = float(actor_ratings_with_count[key][0])/int(actor_ratings_with_count[key][1])\n",
    "    fp.close()\n",
    "    print 'Prepared Actor Scores'\n",
    "    return actor_ratings_with_count,actor_ratings\n",
    "\n",
    "actor_ratings_with_count,actor_ratings = prep_actors()\n",
    "print type(actor_ratings)"
   ]
  },
  {
   "cell_type": "code",
   "execution_count": 3,
   "metadata": {
    "collapsed": false
   },
   "outputs": [
    {
     "name": "stdout",
     "output_type": "stream",
     "text": [
      "Got Top Actors- 20 Threshold 15\n"
     ]
    }
   ],
   "source": [
    "# Top actors with atleast thresh movies\n",
    "def get_top_actors(thresh=15):\n",
    "    top_actors=[]\n",
    "    fp = open('data/mechanism_1/top_actors_'+str(thresh)+'.csv','w')\n",
    "    desc_ratings = sorted(actor_ratings.items(),key=lambda x:x[1],reverse=True)\n",
    "    cnt=0\n",
    "    for tup in desc_ratings:\n",
    "        if actor_ratings_with_count[tup[0]][1] >=thresh:\n",
    "            top_actors.append(tup[0])\n",
    "            fp.write(tup[0]+COMMA+str(tup[1])+COMMA+str(actor_ratings_with_count[tup[0]][1])+NEWLINE)\n",
    "            cnt +=1\n",
    "        if cnt>=20:\n",
    "            break\n",
    "    print 'Got Top Actors-',len(top_actors),'Threshold',thresh\n",
    "    fp.close()\n",
    "    return top_actors\n",
    "top_actors = get_top_actors()"
   ]
  },
  {
   "cell_type": "code",
   "execution_count": 4,
   "metadata": {
    "collapsed": false
   },
   "outputs": [
    {
     "name": "stdout",
     "output_type": "stream",
     "text": [
      "Got Top Actors- 20 Threshold 10\n",
      "Got Top Actors- 20 Threshold 15\n",
      "Got Top Actors- 20 Threshold 20\n",
      "Got Top Actors- 20 Threshold 25\n"
     ]
    }
   ],
   "source": [
    "top_actors_10 = get_top_actors(10)\n",
    "top_actors_15 = get_top_actors()\n",
    "top_actors_20 = get_top_actors(20)\n",
    "top_actors_25 = get_top_actors(25)"
   ]
  },
  {
   "cell_type": "code",
   "execution_count": 5,
   "metadata": {
    "collapsed": false
   },
   "outputs": [
    {
     "name": "stdout",
     "output_type": "stream",
     "text": [
      "6108\n",
      "Prepared Director ratings\n"
     ]
    }
   ],
   "source": [
    "def prep_directors():\n",
    "    fp = open('data/mechanism_1/director_scores.csv','w')\n",
    "    director_ratings = {}\n",
    "    director_ratings_with_count = {}\n",
    "    data_file = file('data/movie_data.csv', 'r')\n",
    "    data = csv.reader(data_file, delimiter=',')\n",
    "    for row in data:\n",
    "        if len(row) > 0:\n",
    "            rating = float(row[1])\n",
    "            director_index = 6           \n",
    "            if row[director_index] in director_ratings_with_count:\n",
    "                director_ratings_with_count[row[director_index]] =  (director_ratings_with_count[row[director_index]][0] + rating, director_ratings_with_count[row[director_index]][1] + 1)  \n",
    "            else:\n",
    "                director_ratings_with_count[row[director_index]] = (rating , 1)\n",
    "    print len(director_ratings_with_count.keys())\n",
    "    for key in director_ratings_with_count.keys():\n",
    "        fp.write(key+COMMA+ str(float(director_ratings_with_count[key][0])/int(director_ratings_with_count[key][1]))+NEWLINE)\n",
    "        director_ratings[key] = float(director_ratings_with_count[key][0])/int(director_ratings_with_count[key][1])\n",
    "    fp.close()\n",
    "    print 'Prepared Director ratings'\n",
    "    return director_ratings_with_count,director_ratings\n",
    "director_ratings_with_count,director_ratings = prep_directors()"
   ]
  },
  {
   "cell_type": "code",
   "execution_count": 9,
   "metadata": {
    "collapsed": false
   },
   "outputs": [
    {
     "name": "stdout",
     "output_type": "stream",
     "text": [
      "6108 6108\n"
     ]
    }
   ],
   "source": [
    "print len(director_ratings_with_count),len(director_ratings)\n",
    "def top_directors(thresh=15):\n",
    "    top_directors=[]\n",
    "    fp = open('data/mechanism_1/top_persons/top_directors_'+str(thresh)+'.csv','w')\n",
    "    desc_ratings = sorted(director_ratings.items(),key=lambda x:x[1],reverse=True)\n",
    "    print len(desc_ratings)\n",
    "    cnt=0\n",
    "    m=1\n",
    "    for tup in desc_ratings:\n",
    "        m= max(director_ratings_with_count[tup[0]][1],m)\n",
    "        if director_ratings_with_count[tup[0]][1] >=thresh:\n",
    "            top_directors.append(tup[0])\n",
    "            fp.write(tup[0]+COMMA+str(tup[1])+COMMA+str(director_ratings_with_count[tup[0]][1])+NEWLINE)\n",
    "            cnt +=1\n",
    "        if cnt>=20:\n",
    "            break\n",
    "    print 'Got Top Directors-',len(top_directors),'Threshold',thresh,'Max',m\n",
    "    fp.close()\n",
    "    return top_directors"
   ]
  },
  {
   "cell_type": "code",
   "execution_count": 10,
   "metadata": {
    "collapsed": false
   },
   "outputs": [
    {
     "name": "stdout",
     "output_type": "stream",
     "text": [
      "6108\n",
      "Got Top Directors- 20 Threshold 5 Max 15\n",
      "6108\n",
      "Got Top Directors- 20 Threshold 10 Max 26\n",
      "6108\n",
      "Got Top Directors- 15 Threshold 15 Max 26\n",
      "6108\n",
      "Got Top Directors- 4 Threshold 20 Max 26\n",
      "6108\n",
      "Got Top Directors- 1 Threshold 25 Max 26\n"
     ]
    }
   ],
   "source": [
    "top_directors_5 = top_directors(5)\n",
    "top_directors_10 = top_directors(10)\n",
    "top_directors_15 = top_directors()\n",
    "top_directors_20 = top_directors(20)\n",
    "top_directors_25 = top_directors(25)"
   ]
  },
  {
   "cell_type": "code",
   "execution_count": 12,
   "metadata": {
    "collapsed": false
   },
   "outputs": [
    {
     "name": "stdout",
     "output_type": "stream",
     "text": [
      "11297\n",
      "Prepared Producer ratings 11297\n"
     ]
    }
   ],
   "source": [
    "def prep_producers():\n",
    "    fp = open('data/mechanism_1/producer_score.csv','w')\n",
    "    producer_ratings_with_count = {}\n",
    "    producer_ratings = {}\n",
    "    data_file = file('data/movie_data.csv', 'r')\n",
    "    data = csv.reader(data_file, delimiter=',')\n",
    "    cnt = 0\n",
    "    for row in data:\n",
    "        if len(row) > 0:\n",
    "            rating = float(row[1])\n",
    "            n_prod = 7\n",
    "            try:\n",
    "                for index in range(int(row[n_prod])):\n",
    "                    prod_index = index + n_prod + 1\n",
    "                    if row[prod_index] in producer_ratings_with_count:\n",
    "                        producer_ratings_with_count[row[prod_index]] =  (producer_ratings_with_count[row[prod_index]][0] + rating , producer_ratings_with_count[row[prod_index]][1] + 1)  \n",
    "                    else:\n",
    "                        producer_ratings_with_count[row[prod_index]] = (rating , 1)\n",
    "            except:\n",
    "                print row[0],len(row),prod_index,row\n",
    "    print len(producer_ratings_with_count.keys())\n",
    "    for key in producer_ratings_with_count.keys():\n",
    "        fp.write(key+COMMA+ str(float(producer_ratings_with_count[key][0])/int(producer_ratings_with_count[key][1]))+NEWLINE)\n",
    "        producer_ratings[key]=float(producer_ratings_with_count[key][0])/int(producer_ratings_with_count[key][1])\n",
    "    fp.close()\n",
    "    print 'Prepared Producer ratings',len(producer_ratings_with_count)\n",
    "    return producer_ratings_with_count,producer_ratings\n",
    "\n",
    "producer_ratings_with_count,producer_ratings = prep_producers()"
   ]
  },
  {
   "cell_type": "code",
   "execution_count": 13,
   "metadata": {
    "collapsed": false
   },
   "outputs": [
    {
     "name": "stdout",
     "output_type": "stream",
     "text": [
      "11297 11297\n"
     ]
    }
   ],
   "source": [
    "print len(producer_ratings_with_count),len(producer_ratings)\n",
    "def top_producers(thresh=15):\n",
    "    top_producers=[]\n",
    "    fp = open('data/mechanism_1/top_persons/top_producers_'+str(thresh)+'.csv','w')\n",
    "    desc_ratings = sorted(producer_ratings.items(),key=lambda x:x[1],reverse=True)\n",
    "    print len(desc_ratings)\n",
    "    cnt=0\n",
    "    m=1\n",
    "    for tup in desc_ratings:\n",
    "        m= max(producer_ratings_with_count[tup[0]][1],m)\n",
    "        if producer_ratings_with_count[tup[0]][1] >=thresh:\n",
    "            top_producers.append(tup[0])\n",
    "            fp.write(tup[0]+COMMA+str(tup[1])+COMMA+str(producer_ratings_with_count[tup[0]][1])+NEWLINE)\n",
    "            cnt +=1\n",
    "        if cnt>=20:\n",
    "            break\n",
    "    print 'Got Top Producers-',len(top_producers),'Threshold',thresh,'Max',m\n",
    "    fp.close()\n",
    "    return top_producers"
   ]
  },
  {
   "cell_type": "code",
   "execution_count": 14,
   "metadata": {
    "collapsed": false
   },
   "outputs": [
    {
     "name": "stdout",
     "output_type": "stream",
     "text": [
      "11297\n",
      "Got Top Producers- 20 Threshold 5 Max 16\n",
      "11297\n",
      "Got Top Producers- 20 Threshold 10 Max 73\n",
      "11297\n",
      "Got Top Producers- 20 Threshold 15 Max 73\n",
      "11297\n",
      "Got Top Producers- 20 Threshold 20 Max 73\n",
      "11297\n",
      "Got Top Producers- 20 Threshold 25 Max 101\n"
     ]
    }
   ],
   "source": [
    "top_producers_5 = top_producers(5)\n",
    "top_producers_10 = top_producers(10)\n",
    "top_producers_15 = top_producers()\n",
    "top_producers_20 = top_producers(20)\n",
    "top_producers_25 = top_producers(25)"
   ]
  },
  {
   "cell_type": "code",
   "execution_count": 15,
   "metadata": {
    "collapsed": false
   },
   "outputs": [
    {
     "name": "stdout",
     "output_type": "stream",
     "text": [
      "11506\n",
      "Prepared Writer ratings\n"
     ]
    }
   ],
   "source": [
    "\n",
    "def prep_writers():\n",
    "    fp = open('data/mechanism_1/writers_score.csv','w')\n",
    "    writer_ratings = {}\n",
    "    writer_ratings_with_count = {}\n",
    "    data_file = file('data/movie_data.csv', 'r')\n",
    "    data = csv.reader(data_file, delimiter=',')\n",
    "    for row in data:\n",
    "        if len(row) > 0:\n",
    "            rating = float(row[1])\n",
    "            n_writer = 7 + int(row[7]) + 1\n",
    "            try:\n",
    "                for index in range(int(row[n_writer])):\n",
    "                    writer_index = index + n_writer + 1\n",
    "                    if row[writer_index] in writer_ratings_with_count:\n",
    "                        writer_ratings_with_count[row[writer_index]] =  (writer_ratings_with_count[row[writer_index]][0] + rating  , writer_ratings_with_count[row[writer_index]][1] + 1)  \n",
    "                    else:\n",
    "                        writer_ratings_with_count[row[writer_index]] = ( rating, 1)\n",
    "            except:\n",
    "                print row[0],len(row),writer_index,row\n",
    "    print len(writer_ratings_with_count.keys())\n",
    "    for key in writer_ratings_with_count.keys():\n",
    "        fp.write(key+COMMA+ str(float(writer_ratings_with_count[key][0])/int(writer_ratings_with_count[key][1]))+NEWLINE)\n",
    "        writer_ratings[key] = float(writer_ratings_with_count[key][0])/int(writer_ratings_with_count[key][1])\n",
    "    fp.close()\n",
    "    print 'Prepared Writer ratings'\n",
    "    return writer_ratings_with_count,writer_ratings\n",
    "writer_ratings_with_count,writer_ratings = prep_writers()"
   ]
  },
  {
   "cell_type": "code",
   "execution_count": 16,
   "metadata": {
    "collapsed": false
   },
   "outputs": [
    {
     "name": "stdout",
     "output_type": "stream",
     "text": [
      "11506 11506\n"
     ]
    }
   ],
   "source": [
    "print len(writer_ratings_with_count),len(writer_ratings)\n",
    "def top_writers(thresh=15):\n",
    "    top_writers=[]\n",
    "    fp = open('data/mechanism_1/top_persons/top_writers_'+str(thresh)+'.csv','w')\n",
    "    desc_ratings = sorted(writer_ratings.items(),key=lambda x:x[1],reverse=True)\n",
    "    print len(desc_ratings)\n",
    "    cnt=0\n",
    "    m=1\n",
    "    for tup in desc_ratings:\n",
    "        m= max(writer_ratings_with_count[tup[0]][1],m)\n",
    "        if writer_ratings_with_count[tup[0]][1] >=thresh:\n",
    "            top_writers.append(tup[0])\n",
    "            fp.write(tup[0]+COMMA+str(tup[1])+COMMA+str(writer_ratings_with_count[tup[0]][1])+NEWLINE)\n",
    "            cnt +=1\n",
    "        if cnt>=20:\n",
    "            break\n",
    "    print 'Got Top Writers-',len(top_writers),'Threshold',thresh,'Max',m\n",
    "    fp.close()\n",
    "    return top_writers"
   ]
  },
  {
   "cell_type": "code",
   "execution_count": 17,
   "metadata": {
    "collapsed": false
   },
   "outputs": [
    {
     "name": "stdout",
     "output_type": "stream",
     "text": [
      "11506\n",
      "Got Top Writers- 20 Threshold 5 Max 14\n",
      "11506\n",
      "Got Top Writers- 20 Threshold 10 Max 26\n",
      "11506\n",
      "Got Top Writers- 10 Threshold 15 Max 27\n",
      "11506\n",
      "Got Top Writers- 5 Threshold 20 Max 27\n",
      "11506\n",
      "Got Top Writers- 4 Threshold 25 Max 27\n"
     ]
    }
   ],
   "source": [
    "top_writers_5 = top_writers(5)\n",
    "top_writers_10 = top_writers(10)\n",
    "top_writers_15 = top_writers()\n",
    "top_writers_20 = top_writers(20)\n",
    "top_writers_25 = top_writers(25)"
   ]
  },
  {
   "cell_type": "code",
   "execution_count": null,
   "metadata": {
    "collapsed": true
   },
   "outputs": [],
   "source": []
  }
 ],
 "metadata": {
  "kernelspec": {
   "display_name": "Python 2",
   "language": "python",
   "name": "python2"
  },
  "language_info": {
   "codemirror_mode": {
    "name": "ipython",
    "version": 2
   },
   "file_extension": ".py",
   "mimetype": "text/x-python",
   "name": "python",
   "nbconvert_exporter": "python",
   "pygments_lexer": "ipython2",
   "version": "2.7.11"
  }
 },
 "nbformat": 4,
 "nbformat_minor": 0
}
