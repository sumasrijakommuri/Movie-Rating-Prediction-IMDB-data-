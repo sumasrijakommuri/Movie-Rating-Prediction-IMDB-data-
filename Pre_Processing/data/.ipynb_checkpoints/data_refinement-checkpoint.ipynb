{
 "cells": [
  {
   "cell_type": "code",
   "execution_count": 3,
   "metadata": {
    "collapsed": true
   },
   "outputs": [],
   "source": [
    "import csv\n",
    "\n",
    "writer_data={}\n",
    "def prepare_writer_data():\n",
    "    for i in range(1,5):\n",
    "        data_file = file('writers_'+str(i)+'.csv','r')\n",
    "        data = csv.reader(data_file, delimiter=',')\n",
    "        for row in data:\n",
    "            writer_data[row[0]]=row\n",
    "    print len(writer_data)"
   ]
  },
  {
   "cell_type": "code",
   "execution_count": 4,
   "metadata": {
    "collapsed": false
   },
   "outputs": [
    {
     "name": "stdout",
     "output_type": "stream",
     "text": [
      "11560\n"
     ]
    }
   ],
   "source": [
    "prepare_writer_data()"
   ]
  },
  {
   "cell_type": "code",
   "execution_count": 5,
   "metadata": {
    "collapsed": true
   },
   "outputs": [],
   "source": [
    "COMMA = ','\n",
    "NEWLINE = '\\n'\n",
    "QUOTE = '\"'\n",
    "def prepare_proper_data():\n",
    "    fp = open('movie_data.csv','w')\n",
    "    data_file = file('movie_data_with_quotes.csv','r')\n",
    "    data = csv.reader(data_file,delimiter=',')\n",
    "    for row in data:\n",
    "        if row[0] in writer_data:\n",
    "            for i in range(len(row)-2):\n",
    "                fp.write(QUOTE+row[i]+QUOTE+COMMA)\n",
    "            writer = writer_data[row[0]]\n",
    "            for i in range(1,len(writer)):\n",
    "                fp.write(QUOTE+writer[i]+QUOTE+COMMA)\n",
    "            fp.write(QUOTE+row[len(row)-1]+QUOTE+NEWLINE)\n",
    "    print 'Prepared New Data'"
   ]
  },
  {
   "cell_type": "code",
   "execution_count": 6,
   "metadata": {
    "collapsed": false
   },
   "outputs": [
    {
     "name": "stdout",
     "output_type": "stream",
     "text": [
      "Prepared New Data\n"
     ]
    }
   ],
   "source": [
    "prepare_proper_data()"
   ]
  },
  {
   "cell_type": "code",
   "execution_count": 19,
   "metadata": {
    "collapsed": true
   },
   "outputs": [],
   "source": [
    "def remove_genres():\n",
    "    data_file = file('movie_data_with_genres.csv','r')\n",
    "    data = csv.reader(data_file,delimiter=',')\n",
    "    fp = open('movie_data.csv','w')\n",
    "    for row in data:\n",
    "        try:\n",
    "            s_genre_index = 13 + 2*int(row[13]) + 1\n",
    "            n_genres = int(row[s_genre_index])\n",
    "            for i in range(len(row)-1):\n",
    "                if i < s_genre_index or i > s_genre_index + n_genres:\n",
    "                    fp.write(QUOTE+row[i]+QUOTE+COMMA)\n",
    "            fp.write(QUOTE+row[len(row)-1]+QUOTE+NEWLINE)\n",
    "        except:\n",
    "            print row[0],'#',s_genre_index,'#',row[s_genre_index]  \n",
    "    print 'Removed Genres'"
   ]
  },
  {
   "cell_type": "code",
   "execution_count": 20,
   "metadata": {
    "collapsed": false
   },
   "outputs": [
    {
     "name": "stdout",
     "output_type": "stream",
     "text": [
      "Removed Genres\n"
     ]
    }
   ],
   "source": [
    "remove_genres()"
   ]
  },
  {
   "cell_type": "code",
   "execution_count": 23,
   "metadata": {
    "collapsed": true
   },
   "outputs": [],
   "source": [
    "def remove_names():\n",
    "    data_file = file('movie_data.csv','r')\n",
    "    data = csv.reader(data_file,delimiter=',')\n",
    "    fp = open('data.csv','w')\n",
    "    for row in data:\n",
    "        fp.write(row[0])\n",
    "        for i in range(len(row)):\n",
    "            try:\n",
    "                val = float(row[i])\n",
    "                fp.write(COMMA+row[i])\n",
    "            except:\n",
    "                pass\n",
    "        fp.write(NEWLINE)\n",
    "    print 'Done removing names'"
   ]
  },
  {
   "cell_type": "code",
   "execution_count": 24,
   "metadata": {
    "collapsed": false
   },
   "outputs": [
    {
     "name": "stdout",
     "output_type": "stream",
     "text": [
      "Done removing names\n"
     ]
    }
   ],
   "source": [
    "remove_names()"
   ]
  },
  {
   "cell_type": "code",
   "execution_count": null,
   "metadata": {
    "collapsed": true
   },
   "outputs": [],
   "source": []
  }
 ],
 "metadata": {
  "kernelspec": {
   "display_name": "Python 2",
   "language": "python",
   "name": "python2"
  },
  "language_info": {
   "codemirror_mode": {
    "name": "ipython",
    "version": 2
   },
   "file_extension": ".py",
   "mimetype": "text/x-python",
   "name": "python",
   "nbconvert_exporter": "python",
   "pygments_lexer": "ipython2",
   "version": "2.7.11"
  }
 },
 "nbformat": 4,
 "nbformat_minor": 0
}
